{
 "cells": [
  {
   "cell_type": "code",
   "execution_count": 264,
   "id": "be242658-1eb3-425d-8c40-eff1cae08151",
   "metadata": {
    "tags": []
   },
   "outputs": [],
   "source": [
    "DATA_PATH = '../Data/Raw/raw_data0_data_scientist.csv'\n",
    "PKL_EXPORT_PATH = \"../data/processed/0_DataCleaned_df.pkl\"\n",
    "CSV_EXPORT_PATH = \"../data/processed/0_DataCleaned_df.csv\""
   ]
  },
  {
   "cell_type": "code",
   "execution_count": 263,
   "id": "906bb37d-386c-4fe9-9b1d-045b35c30d47",
   "metadata": {
    "tags": []
   },
   "outputs": [],
   "source": [
    "# Packages to import\n",
    "import pandas as pd \n",
    "import numpy as np\n",
    "import re\n",
    "import logging\n",
    "import pickle"
   ]
  },
  {
   "cell_type": "code",
   "execution_count": 3,
   "id": "4043e931-f0cf-4e97-83d6-e767e4858d31",
   "metadata": {
    "tags": []
   },
   "outputs": [
    {
     "data": {
      "text/plain": [
       "(1000, 12)"
      ]
     },
     "execution_count": 3,
     "metadata": {},
     "output_type": "execute_result"
    }
   ],
   "source": [
    "# Read data and Print shape\n",
    "raw_df = pd.read_csv(DATA_PATH).set_index('Unnamed: 0').reset_index(drop=True)\n",
    "raw_df.shape"
   ]
  },
  {
   "cell_type": "code",
   "execution_count": 4,
   "id": "43896d6b-9721-4cbd-96fc-a4a5757c4054",
   "metadata": {
    "tags": []
   },
   "outputs": [
    {
     "data": {
      "text/plain": [
       "Job Title                                               Data Scientist\n",
       "Salary Estimate                  Employer Provided Salary:$78K - $184K\n",
       "Job Description      Data science at the National Security Agency (...\n",
       "Rating                                                             3.7\n",
       "Company Name                             National Security Agency\\n3.7\n",
       "Location                                                Fort Meade, MD\n",
       "Size                                                           Unknown\n",
       "Founded                                                           1962\n",
       "Type of ownership                                           Government\n",
       "Industry                                             National Agencies\n",
       "Sector                              Government & Public Administration\n",
       "Revenue                                       Unknown / Non-Applicable\n",
       "Name: 859, dtype: object"
      ]
     },
     "execution_count": 4,
     "metadata": {},
     "output_type": "execute_result"
    }
   ],
   "source": [
    "# Display random answer\n",
    "raw_df.sample(1).iloc[0]"
   ]
  },
  {
   "cell_type": "code",
   "execution_count": 5,
   "id": "dea80e4d-2cfb-45ca-b02e-7d562a70f8b7",
   "metadata": {
    "tags": []
   },
   "outputs": [
    {
     "data": {
      "text/html": [
       "<div>\n",
       "<style scoped>\n",
       "    .dataframe tbody tr th:only-of-type {\n",
       "        vertical-align: middle;\n",
       "    }\n",
       "\n",
       "    .dataframe tbody tr th {\n",
       "        vertical-align: top;\n",
       "    }\n",
       "\n",
       "    .dataframe thead th {\n",
       "        text-align: right;\n",
       "    }\n",
       "</style>\n",
       "<table border=\"1\" class=\"dataframe\">\n",
       "  <thead>\n",
       "    <tr style=\"text-align: right;\">\n",
       "      <th></th>\n",
       "      <th>Job Title</th>\n",
       "      <th>Salary Estimate</th>\n",
       "      <th>Job Description</th>\n",
       "      <th>Rating</th>\n",
       "      <th>Company Name</th>\n",
       "      <th>Location</th>\n",
       "      <th>Size</th>\n",
       "      <th>Founded</th>\n",
       "      <th>Type of ownership</th>\n",
       "      <th>Industry</th>\n",
       "      <th>Sector</th>\n",
       "      <th>Revenue</th>\n",
       "    </tr>\n",
       "  </thead>\n",
       "  <tbody>\n",
       "    <tr>\n",
       "      <th>929</th>\n",
       "      <td>Junior Data Scientist</td>\n",
       "      <td>Employer Provided Salary:$80K - $90K</td>\n",
       "      <td>Fremont, California\\nType: Full-time\\nMin. Exp...</td>\n",
       "      <td>3.5</td>\n",
       "      <td>SoundThinking\\n3.5</td>\n",
       "      <td>Fremont, CA</td>\n",
       "      <td>201 to 500 Employees</td>\n",
       "      <td>1996</td>\n",
       "      <td>Company - Public</td>\n",
       "      <td>Software Development</td>\n",
       "      <td>Information Technology</td>\n",
       "      <td>$25 to $100 million (USD)</td>\n",
       "    </tr>\n",
       "    <tr>\n",
       "      <th>40</th>\n",
       "      <td>Data Scientist</td>\n",
       "      <td>Employer Provided Salary:$70K - $105K</td>\n",
       "      <td>We are recruiting for a Data Scientist to join...</td>\n",
       "      <td>3.5</td>\n",
       "      <td>Denver Health\\n3.5</td>\n",
       "      <td>Denver, CO</td>\n",
       "      <td>5001 to 10000 Employees</td>\n",
       "      <td>1860</td>\n",
       "      <td>Nonprofit Organization</td>\n",
       "      <td>Health Care Services &amp; Hospitals</td>\n",
       "      <td>Healthcare</td>\n",
       "      <td>$100 to $500 million (USD)</td>\n",
       "    </tr>\n",
       "    <tr>\n",
       "      <th>102</th>\n",
       "      <td>Data Scientist</td>\n",
       "      <td>$92K - $125K (Glassdoor est.)</td>\n",
       "      <td>Durham, NC | Austin, TX | Remote | Full Time\\n...</td>\n",
       "      <td>4.2</td>\n",
       "      <td>Hyperspace Ventures\\n4.2</td>\n",
       "      <td>Durham, NC</td>\n",
       "      <td>1 to 50 Employees</td>\n",
       "      <td>2017</td>\n",
       "      <td>Company - Private</td>\n",
       "      <td>Internet &amp; Web Services</td>\n",
       "      <td>Information Technology</td>\n",
       "      <td>Unknown / Non-Applicable</td>\n",
       "    </tr>\n",
       "    <tr>\n",
       "      <th>80</th>\n",
       "      <td>Data Scientist</td>\n",
       "      <td>-1</td>\n",
       "      <td>About Pinterest:\\nMillions of people across th...</td>\n",
       "      <td>3.8</td>\n",
       "      <td>Pinterest\\n3.8</td>\n",
       "      <td>Remote</td>\n",
       "      <td>1001 to 5000 Employees</td>\n",
       "      <td>2010</td>\n",
       "      <td>Company - Public</td>\n",
       "      <td>Internet &amp; Web Services</td>\n",
       "      <td>Information Technology</td>\n",
       "      <td>$100 to $500 million (USD)</td>\n",
       "    </tr>\n",
       "    <tr>\n",
       "      <th>604</th>\n",
       "      <td>Decision Scientist</td>\n",
       "      <td>Employer Provided Salary:$133K - $185K</td>\n",
       "      <td>Instagram’s vision is “to be a place where peo...</td>\n",
       "      <td>3.9</td>\n",
       "      <td>Meta\\n3.9</td>\n",
       "      <td>Remote</td>\n",
       "      <td>10000+ Employees</td>\n",
       "      <td>2004</td>\n",
       "      <td>Company - Public</td>\n",
       "      <td>Internet &amp; Web Services</td>\n",
       "      <td>Information Technology</td>\n",
       "      <td>$10+ billion (USD)</td>\n",
       "    </tr>\n",
       "    <tr>\n",
       "      <th>991</th>\n",
       "      <td>Aspire Tech Program - Data Scientist I</td>\n",
       "      <td>$67K - $96K (Glassdoor est.)</td>\n",
       "      <td>Job Description\\nLexisNexis Legal &amp; Profession...</td>\n",
       "      <td>4.0</td>\n",
       "      <td>RELX\\n4.0</td>\n",
       "      <td>Miamisburg, OH</td>\n",
       "      <td>10000+ Employees</td>\n",
       "      <td>1880</td>\n",
       "      <td>Company - Public</td>\n",
       "      <td>Information Technology Support Services</td>\n",
       "      <td>Information Technology</td>\n",
       "      <td>$10+ billion (USD)</td>\n",
       "    </tr>\n",
       "    <tr>\n",
       "      <th>933</th>\n",
       "      <td>Decision Scientist</td>\n",
       "      <td>Employer Provided Salary:$133K - $185K</td>\n",
       "      <td>Instagram’s vision is “to be a place where peo...</td>\n",
       "      <td>3.9</td>\n",
       "      <td>Meta\\n3.9</td>\n",
       "      <td>Remote</td>\n",
       "      <td>10000+ Employees</td>\n",
       "      <td>2004</td>\n",
       "      <td>Company - Public</td>\n",
       "      <td>Internet &amp; Web Services</td>\n",
       "      <td>Information Technology</td>\n",
       "      <td>$10+ billion (USD)</td>\n",
       "    </tr>\n",
       "    <tr>\n",
       "      <th>853</th>\n",
       "      <td>Jr Data Scientist</td>\n",
       "      <td>$77K - $106K (Glassdoor est.)</td>\n",
       "      <td>Job Description :\\nData Scientist will join a ...</td>\n",
       "      <td>3.9</td>\n",
       "      <td>Veracity Software\\n3.9</td>\n",
       "      <td>Iselin, NJ</td>\n",
       "      <td>51 to 200 Employees</td>\n",
       "      <td>2010</td>\n",
       "      <td>Company - Private</td>\n",
       "      <td>Information Technology Support Services</td>\n",
       "      <td>Information Technology</td>\n",
       "      <td>Unknown / Non-Applicable</td>\n",
       "    </tr>\n",
       "    <tr>\n",
       "      <th>597</th>\n",
       "      <td>Junior Data Scientist/Data Modeler</td>\n",
       "      <td>-1</td>\n",
       "      <td>Overview:\\nLMI is seeking a skilled Data Scien...</td>\n",
       "      <td>4.2</td>\n",
       "      <td>Logistics Management Institute\\n4.2</td>\n",
       "      <td>Remote</td>\n",
       "      <td>1001 to 5000 Employees</td>\n",
       "      <td>1961</td>\n",
       "      <td>Company - Private</td>\n",
       "      <td>Business Consulting</td>\n",
       "      <td>Management &amp; Consulting</td>\n",
       "      <td>$100 to $500 million (USD)</td>\n",
       "    </tr>\n",
       "    <tr>\n",
       "      <th>276</th>\n",
       "      <td>DATA SCIENTIST I</td>\n",
       "      <td>-1</td>\n",
       "      <td>Work with and analyze complex data from variou...</td>\n",
       "      <td>3.0</td>\n",
       "      <td>Frontier Communications\\n3.0</td>\n",
       "      <td>Remote</td>\n",
       "      <td>10000+ Employees</td>\n",
       "      <td>1935</td>\n",
       "      <td>Company - Public</td>\n",
       "      <td>Cable, Internet &amp; Telephone Providers</td>\n",
       "      <td>Telecommunications</td>\n",
       "      <td>$10+ billion (USD)</td>\n",
       "    </tr>\n",
       "  </tbody>\n",
       "</table>\n",
       "</div>"
      ],
      "text/plain": [
       "                                  Job Title  \\\n",
       "929                   Junior Data Scientist   \n",
       "40                           Data Scientist   \n",
       "102                          Data Scientist   \n",
       "80                           Data Scientist   \n",
       "604                      Decision Scientist   \n",
       "991  Aspire Tech Program - Data Scientist I   \n",
       "933                      Decision Scientist   \n",
       "853                       Jr Data Scientist   \n",
       "597      Junior Data Scientist/Data Modeler   \n",
       "276                        DATA SCIENTIST I   \n",
       "\n",
       "                            Salary Estimate  \\\n",
       "929    Employer Provided Salary:$80K - $90K   \n",
       "40    Employer Provided Salary:$70K - $105K   \n",
       "102           $92K - $125K (Glassdoor est.)   \n",
       "80                                       -1   \n",
       "604  Employer Provided Salary:$133K - $185K   \n",
       "991            $67K - $96K (Glassdoor est.)   \n",
       "933  Employer Provided Salary:$133K - $185K   \n",
       "853           $77K - $106K (Glassdoor est.)   \n",
       "597                                      -1   \n",
       "276                                      -1   \n",
       "\n",
       "                                       Job Description  Rating  \\\n",
       "929  Fremont, California\\nType: Full-time\\nMin. Exp...     3.5   \n",
       "40   We are recruiting for a Data Scientist to join...     3.5   \n",
       "102  Durham, NC | Austin, TX | Remote | Full Time\\n...     4.2   \n",
       "80   About Pinterest:\\nMillions of people across th...     3.8   \n",
       "604  Instagram’s vision is “to be a place where peo...     3.9   \n",
       "991  Job Description\\nLexisNexis Legal & Profession...     4.0   \n",
       "933  Instagram’s vision is “to be a place where peo...     3.9   \n",
       "853  Job Description :\\nData Scientist will join a ...     3.9   \n",
       "597  Overview:\\nLMI is seeking a skilled Data Scien...     4.2   \n",
       "276  Work with and analyze complex data from variou...     3.0   \n",
       "\n",
       "                            Company Name        Location  \\\n",
       "929                   SoundThinking\\n3.5     Fremont, CA   \n",
       "40                    Denver Health\\n3.5      Denver, CO   \n",
       "102             Hyperspace Ventures\\n4.2      Durham, NC   \n",
       "80                        Pinterest\\n3.8          Remote   \n",
       "604                            Meta\\n3.9          Remote   \n",
       "991                            RELX\\n4.0  Miamisburg, OH   \n",
       "933                            Meta\\n3.9          Remote   \n",
       "853               Veracity Software\\n3.9      Iselin, NJ   \n",
       "597  Logistics Management Institute\\n4.2          Remote   \n",
       "276         Frontier Communications\\n3.0          Remote   \n",
       "\n",
       "                        Size  Founded       Type of ownership  \\\n",
       "929     201 to 500 Employees     1996        Company - Public   \n",
       "40   5001 to 10000 Employees     1860  Nonprofit Organization   \n",
       "102        1 to 50 Employees     2017       Company - Private   \n",
       "80    1001 to 5000 Employees     2010        Company - Public   \n",
       "604         10000+ Employees     2004        Company - Public   \n",
       "991         10000+ Employees     1880        Company - Public   \n",
       "933         10000+ Employees     2004        Company - Public   \n",
       "853      51 to 200 Employees     2010       Company - Private   \n",
       "597   1001 to 5000 Employees     1961       Company - Private   \n",
       "276         10000+ Employees     1935        Company - Public   \n",
       "\n",
       "                                    Industry                   Sector  \\\n",
       "929                     Software Development   Information Technology   \n",
       "40          Health Care Services & Hospitals               Healthcare   \n",
       "102                  Internet & Web Services   Information Technology   \n",
       "80                   Internet & Web Services   Information Technology   \n",
       "604                  Internet & Web Services   Information Technology   \n",
       "991  Information Technology Support Services   Information Technology   \n",
       "933                  Internet & Web Services   Information Technology   \n",
       "853  Information Technology Support Services   Information Technology   \n",
       "597                      Business Consulting  Management & Consulting   \n",
       "276    Cable, Internet & Telephone Providers       Telecommunications   \n",
       "\n",
       "                        Revenue  \n",
       "929   $25 to $100 million (USD)  \n",
       "40   $100 to $500 million (USD)  \n",
       "102    Unknown / Non-Applicable  \n",
       "80   $100 to $500 million (USD)  \n",
       "604          $10+ billion (USD)  \n",
       "991          $10+ billion (USD)  \n",
       "933          $10+ billion (USD)  \n",
       "853    Unknown / Non-Applicable  \n",
       "597  $100 to $500 million (USD)  \n",
       "276          $10+ billion (USD)  "
      ]
     },
     "execution_count": 5,
     "metadata": {},
     "output_type": "execute_result"
    }
   ],
   "source": [
    "raw_df.sample(10)"
   ]
  },
  {
   "cell_type": "code",
   "execution_count": 6,
   "id": "7f3b286c-70eb-4e06-aa0a-48f032a9a6e5",
   "metadata": {
    "tags": []
   },
   "outputs": [
    {
     "name": "stdout",
     "output_type": "stream",
     "text": [
      "<class 'pandas.core.frame.DataFrame'>\n",
      "RangeIndex: 1000 entries, 0 to 999\n",
      "Data columns (total 12 columns):\n",
      " #   Column             Non-Null Count  Dtype  \n",
      "---  ------             --------------  -----  \n",
      " 0   Job Title          1000 non-null   object \n",
      " 1   Salary Estimate    1000 non-null   object \n",
      " 2   Job Description    1000 non-null   object \n",
      " 3   Rating             1000 non-null   float64\n",
      " 4   Company Name       1000 non-null   object \n",
      " 5   Location           1000 non-null   object \n",
      " 6   Size               1000 non-null   object \n",
      " 7   Founded            1000 non-null   int64  \n",
      " 8   Type of ownership  1000 non-null   object \n",
      " 9   Industry           1000 non-null   object \n",
      " 10  Sector             1000 non-null   object \n",
      " 11  Revenue            1000 non-null   object \n",
      "dtypes: float64(1), int64(1), object(10)\n",
      "memory usage: 93.9+ KB\n"
     ]
    }
   ],
   "source": [
    "raw_df.info()"
   ]
  },
  {
   "cell_type": "markdown",
   "id": "f9984173-beb7-43bf-9ee6-c11427c9b077",
   "metadata": {
    "tags": []
   },
   "source": [
    "# Data Cleaning Process\n",
    "### 1.Parse the Salary Data Column, Remove rows in which salary equal -1 and Remove any Text in the columns ✔️ \n",
    "### 2.Company Name Column, Wee need to remove numbers in the company name ✔️ \n",
    "### 3.Location Column, keep the state abbreviation and Remove the State name ✔️ \n",
    "### 4.Size Column, Remove the Text in this Column \n",
    "### 5.Founded column, Maybe change the Founded year to how old the company is ✔️\n",
    "### 6.Revenue Column, how are we going to interpret thes big numbers, also there unknown values\n",
    "### 7.How are we going to deal with '-1' values in each column\n",
    "### 8.Job Description Column, \n",
    "_____________________________________________________________________________________________________________"
   ]
  },
  {
   "cell_type": "markdown",
   "id": "d4b7d601-971e-490e-b540-798b05e28da3",
   "metadata": {
    "tags": []
   },
   "source": [
    "## 1. Salary Column"
   ]
  },
  {
   "cell_type": "markdown",
   "id": "c977c56b-e8eb-4664-9f98-5d5e1454f375",
   "metadata": {
    "tags": []
   },
   "source": [
    "### 1. Parse the Salary Data Column \n",
    "### 2. Remove rows in which salary equal -1\n",
    "### 3. Remove any Text in the columns\n",
    "### 4. split salary into min and max salary column\n",
    "### 5. calculate the avg salary"
   ]
  },
  {
   "cell_type": "code",
   "execution_count": 7,
   "id": "9b5fccd2-f1c8-4333-a0ee-7dc8ff1623f2",
   "metadata": {
    "tags": []
   },
   "outputs": [
    {
     "data": {
      "text/plain": [
       "222"
      ]
     },
     "execution_count": 7,
     "metadata": {},
     "output_type": "execute_result"
    }
   ],
   "source": [
    "# How many Null values in the salary column\n",
    "len(raw_df[raw_df['Salary Estimate' ] == '-1'])"
   ]
  },
  {
   "cell_type": "code",
   "execution_count": 8,
   "id": "c7237bdb-dae0-4e3e-9567-f54db31bc864",
   "metadata": {
    "tags": []
   },
   "outputs": [],
   "source": [
    "# Remove Columns where Salary == -1\n",
    "raw_df = raw_df[raw_df['Salary Estimate'] != '-1']"
   ]
  },
  {
   "cell_type": "code",
   "execution_count": 9,
   "id": "5145cf1a-591f-4899-b09e-39db5a601eb2",
   "metadata": {
    "tags": []
   },
   "outputs": [
    {
     "name": "stderr",
     "output_type": "stream",
     "text": [
      "C:\\Users\\Ali\\AppData\\Local\\Temp\\ipykernel_14712\\3556237647.py:2: FutureWarning: The default value of regex will change from True to False in a future version.\n",
      "  salary = raw_df['Salary Estimate'].str.replace(r'[^0-9-_]', '')\n"
     ]
    }
   ],
   "source": [
    "# Use Regex to Remove Text in the Salary Column\n",
    "salary = raw_df['Salary Estimate'].str.replace(r'[^0-9-_]', '')"
   ]
  },
  {
   "cell_type": "code",
   "execution_count": 10,
   "id": "f25e50d0-bc86-417b-8226-95c01e6b3e96",
   "metadata": {
    "tags": []
   },
   "outputs": [
    {
     "name": "stdout",
     "output_type": "stream",
     "text": [
      "7000-7500\n",
      "6500-7500\n"
     ]
    }
   ],
   "source": [
    "# The Per hour Columns salary became so big after the dot removed\n",
    "print(salary.loc[52])\n",
    "print(salary.loc[16])"
   ]
  },
  {
   "cell_type": "code",
   "execution_count": 11,
   "id": "81f9c909-27c0-44e2-a040-dc7ae0ffeb9c",
   "metadata": {
    "tags": []
   },
   "outputs": [],
   "source": [
    "# split the salary column into a list \n",
    "list_salary =salary.str.split('-')"
   ]
  },
  {
   "cell_type": "code",
   "execution_count": 12,
   "id": "fff4e503-8080-4b19-86ce-334c8d0d7feb",
   "metadata": {
    "tags": []
   },
   "outputs": [],
   "source": [
    "# Loop through the salary list and check for numbers > 1000 (per hour columns) and divide by 100\n",
    "for s in list_salary:\n",
    "    for i in range(len(s)):\n",
    "        if int(s[i]) > 1000:\n",
    "            s[i] = int(s[i]) / 100"
   ]
  },
  {
   "cell_type": "code",
   "execution_count": 13,
   "id": "8dd121a0-7630-4f02-b213-4b6dd3687eeb",
   "metadata": {
    "tags": []
   },
   "outputs": [
    {
     "name": "stdout",
     "output_type": "stream",
     "text": [
      "[70.0, 75.0]\n",
      "[65.0, 75.0]\n"
     ]
    }
   ],
   "source": [
    "print(list_salary.loc[52])\n",
    "print(list_salary.loc[16])"
   ]
  },
  {
   "cell_type": "code",
   "execution_count": 14,
   "id": "c137ae87-ee9f-44db-a42e-1e1a458d3e78",
   "metadata": {
    "tags": []
   },
   "outputs": [],
   "source": [
    "# Create Two new columns( one for min_salary and one for max_salary)\n",
    "raw_df['min_salary'] = list_salary.apply(lambda x: int(x[0]))\n",
    "# Takes x[0] if list has only one value,\n",
    "raw_df['max_salary'] = list_salary.apply(lambda x: int(x[1]) if len(x)>1 else int(x[0]))"
   ]
  },
  {
   "cell_type": "code",
   "execution_count": 15,
   "id": "6e0a89c7-6c0b-46ae-a93b-15a125460273",
   "metadata": {
    "tags": []
   },
   "outputs": [
    {
     "data": {
      "text/plain": [
       "0      [123, 178]\n",
       "2      [135, 196]\n",
       "3      [102, 148]\n",
       "4       [95, 125]\n",
       "6           [100]\n",
       "          ...    \n",
       "992    [108, 132]\n",
       "993    [133, 185]\n",
       "995    [150, 200]\n",
       "996    [149, 175]\n",
       "998         [183]\n",
       "Name: Salary Estimate, Length: 778, dtype: object"
      ]
     },
     "execution_count": 15,
     "metadata": {},
     "output_type": "execute_result"
    }
   ],
   "source": [
    "list_salary"
   ]
  },
  {
   "cell_type": "code",
   "execution_count": 16,
   "id": "9b9b2ae8-6c1b-4352-8977-35a0f48faaa2",
   "metadata": {
    "tags": []
   },
   "outputs": [],
   "source": [
    "# Evaluate the avg salary\n",
    "raw_df['avg_salary'] = (raw_df.min_salary + raw_df.max_salary) / 2"
   ]
  },
  {
   "cell_type": "markdown",
   "id": "20b90cba-7e73-4196-aa7e-524961157748",
   "metadata": {
    "jp-MarkdownHeadingCollapsed": true,
    "tags": []
   },
   "source": [
    "## 2. Company Name Column"
   ]
  },
  {
   "cell_type": "markdown",
   "id": "6e3c5a51-6031-4ef1-ba7c-2879032c6258",
   "metadata": {},
   "source": [
    "### 1. Remove the trailing Rating from the company name\n",
    "### 2. remove the \\n from the company name"
   ]
  },
  {
   "cell_type": "code",
   "execution_count": 17,
   "id": "f1b852a2-dcb7-4774-bd4d-490033c8c614",
   "metadata": {
    "tags": []
   },
   "outputs": [
    {
     "data": {
      "text/html": [
       "<div>\n",
       "<style scoped>\n",
       "    .dataframe tbody tr th:only-of-type {\n",
       "        vertical-align: middle;\n",
       "    }\n",
       "\n",
       "    .dataframe tbody tr th {\n",
       "        vertical-align: top;\n",
       "    }\n",
       "\n",
       "    .dataframe thead th {\n",
       "        text-align: right;\n",
       "    }\n",
       "</style>\n",
       "<table border=\"1\" class=\"dataframe\">\n",
       "  <thead>\n",
       "    <tr style=\"text-align: right;\">\n",
       "      <th></th>\n",
       "      <th>Rating</th>\n",
       "      <th>Company Name</th>\n",
       "    </tr>\n",
       "  </thead>\n",
       "  <tbody>\n",
       "    <tr>\n",
       "      <th>176</th>\n",
       "      <td>3.7</td>\n",
       "      <td>National Security Agency\\n3.7</td>\n",
       "    </tr>\n",
       "    <tr>\n",
       "      <th>546</th>\n",
       "      <td>3.5</td>\n",
       "      <td>Dataminr\\n3.5</td>\n",
       "    </tr>\n",
       "    <tr>\n",
       "      <th>961</th>\n",
       "      <td>4.0</td>\n",
       "      <td>RELX\\n4.0</td>\n",
       "    </tr>\n",
       "    <tr>\n",
       "      <th>751</th>\n",
       "      <td>3.5</td>\n",
       "      <td>Dataminr\\n3.5</td>\n",
       "    </tr>\n",
       "    <tr>\n",
       "      <th>60</th>\n",
       "      <td>-1.0</td>\n",
       "      <td>DLZP Group</td>\n",
       "    </tr>\n",
       "    <tr>\n",
       "      <th>421</th>\n",
       "      <td>3.9</td>\n",
       "      <td>Meta\\n3.9</td>\n",
       "    </tr>\n",
       "    <tr>\n",
       "      <th>880</th>\n",
       "      <td>4.1</td>\n",
       "      <td>Salesforce\\n4.1</td>\n",
       "    </tr>\n",
       "    <tr>\n",
       "      <th>955</th>\n",
       "      <td>3.9</td>\n",
       "      <td>eimagine\\n3.9</td>\n",
       "    </tr>\n",
       "    <tr>\n",
       "      <th>899</th>\n",
       "      <td>3.5</td>\n",
       "      <td>SoundThinking\\n3.5</td>\n",
       "    </tr>\n",
       "    <tr>\n",
       "      <th>726</th>\n",
       "      <td>4.3</td>\n",
       "      <td>Neuberger Berman\\n4.3</td>\n",
       "    </tr>\n",
       "    <tr>\n",
       "      <th>167</th>\n",
       "      <td>4.1</td>\n",
       "      <td>Visa\\n4.1</td>\n",
       "    </tr>\n",
       "    <tr>\n",
       "      <th>497</th>\n",
       "      <td>4.1</td>\n",
       "      <td>Tencent\\n4.1</td>\n",
       "    </tr>\n",
       "    <tr>\n",
       "      <th>157</th>\n",
       "      <td>4.6</td>\n",
       "      <td>Etsy\\n4.6</td>\n",
       "    </tr>\n",
       "    <tr>\n",
       "      <th>974</th>\n",
       "      <td>3.8</td>\n",
       "      <td>Health Alliance Plan\\n3.8</td>\n",
       "    </tr>\n",
       "    <tr>\n",
       "      <th>535</th>\n",
       "      <td>3.7</td>\n",
       "      <td>Amazon.com Services LLC\\n3.7</td>\n",
       "    </tr>\n",
       "    <tr>\n",
       "      <th>785</th>\n",
       "      <td>3.9</td>\n",
       "      <td>Meta\\n3.9</td>\n",
       "    </tr>\n",
       "    <tr>\n",
       "      <th>484</th>\n",
       "      <td>4.3</td>\n",
       "      <td>Mastercard\\n4.3</td>\n",
       "    </tr>\n",
       "    <tr>\n",
       "      <th>228</th>\n",
       "      <td>4.2</td>\n",
       "      <td>FAST GROWING TREES LLC\\n4.2</td>\n",
       "    </tr>\n",
       "    <tr>\n",
       "      <th>778</th>\n",
       "      <td>3.7</td>\n",
       "      <td>Realtor.com Careers\\n3.7</td>\n",
       "    </tr>\n",
       "    <tr>\n",
       "      <th>529</th>\n",
       "      <td>3.7</td>\n",
       "      <td>National Security Agency\\n3.7</td>\n",
       "    </tr>\n",
       "    <tr>\n",
       "      <th>719</th>\n",
       "      <td>4.1</td>\n",
       "      <td>Arkansas Blue Cross and Blue Shield\\n4.1</td>\n",
       "    </tr>\n",
       "    <tr>\n",
       "      <th>134</th>\n",
       "      <td>3.8</td>\n",
       "      <td>General Dynamics Mission Systems, Inc\\n3.8</td>\n",
       "    </tr>\n",
       "    <tr>\n",
       "      <th>591</th>\n",
       "      <td>4.1</td>\n",
       "      <td>Salesforce\\n4.1</td>\n",
       "    </tr>\n",
       "    <tr>\n",
       "      <th>554</th>\n",
       "      <td>4.0</td>\n",
       "      <td>Cedar Inc\\n4.0</td>\n",
       "    </tr>\n",
       "    <tr>\n",
       "      <th>362</th>\n",
       "      <td>4.8</td>\n",
       "      <td>Notion\\n4.8</td>\n",
       "    </tr>\n",
       "    <tr>\n",
       "      <th>822</th>\n",
       "      <td>3.8</td>\n",
       "      <td>Health Alliance Plan\\n3.8</td>\n",
       "    </tr>\n",
       "    <tr>\n",
       "      <th>429</th>\n",
       "      <td>3.8</td>\n",
       "      <td>Health Alliance Plan\\n3.8</td>\n",
       "    </tr>\n",
       "    <tr>\n",
       "      <th>624</th>\n",
       "      <td>3.5</td>\n",
       "      <td>Discord\\n3.5</td>\n",
       "    </tr>\n",
       "    <tr>\n",
       "      <th>875</th>\n",
       "      <td>4.3</td>\n",
       "      <td>Neuberger Berman\\n4.3</td>\n",
       "    </tr>\n",
       "    <tr>\n",
       "      <th>133</th>\n",
       "      <td>3.7</td>\n",
       "      <td>National Security Agency\\n3.7</td>\n",
       "    </tr>\n",
       "    <tr>\n",
       "      <th>768</th>\n",
       "      <td>4.1</td>\n",
       "      <td>Salesforce\\n4.1</td>\n",
       "    </tr>\n",
       "    <tr>\n",
       "      <th>460</th>\n",
       "      <td>3.6</td>\n",
       "      <td>Stifel, Nicolaus &amp; Co., Inc.\\n3.6</td>\n",
       "    </tr>\n",
       "    <tr>\n",
       "      <th>170</th>\n",
       "      <td>4.2</td>\n",
       "      <td>Hyperspace Ventures\\n4.2</td>\n",
       "    </tr>\n",
       "    <tr>\n",
       "      <th>524</th>\n",
       "      <td>4.0</td>\n",
       "      <td>Cedar Inc\\n4.0</td>\n",
       "    </tr>\n",
       "    <tr>\n",
       "      <th>402</th>\n",
       "      <td>3.1</td>\n",
       "      <td>CVS Health\\n3.1</td>\n",
       "    </tr>\n",
       "    <tr>\n",
       "      <th>297</th>\n",
       "      <td>3.8</td>\n",
       "      <td>General Dynamics Mission Systems, Inc\\n3.8</td>\n",
       "    </tr>\n",
       "    <tr>\n",
       "      <th>963</th>\n",
       "      <td>3.9</td>\n",
       "      <td>Meta\\n3.9</td>\n",
       "    </tr>\n",
       "    <tr>\n",
       "      <th>601</th>\n",
       "      <td>4.0</td>\n",
       "      <td>RELX\\n4.0</td>\n",
       "    </tr>\n",
       "    <tr>\n",
       "      <th>864</th>\n",
       "      <td>-1.0</td>\n",
       "      <td>Juji</td>\n",
       "    </tr>\n",
       "    <tr>\n",
       "      <th>666</th>\n",
       "      <td>4.3</td>\n",
       "      <td>Neuberger Berman\\n4.3</td>\n",
       "    </tr>\n",
       "  </tbody>\n",
       "</table>\n",
       "</div>"
      ],
      "text/plain": [
       "     Rating                                Company Name\n",
       "176     3.7               National Security Agency\\n3.7\n",
       "546     3.5                               Dataminr\\n3.5\n",
       "961     4.0                                   RELX\\n4.0\n",
       "751     3.5                               Dataminr\\n3.5\n",
       "60     -1.0                                  DLZP Group\n",
       "421     3.9                                   Meta\\n3.9\n",
       "880     4.1                             Salesforce\\n4.1\n",
       "955     3.9                               eimagine\\n3.9\n",
       "899     3.5                          SoundThinking\\n3.5\n",
       "726     4.3                       Neuberger Berman\\n4.3\n",
       "167     4.1                                   Visa\\n4.1\n",
       "497     4.1                                Tencent\\n4.1\n",
       "157     4.6                                   Etsy\\n4.6\n",
       "974     3.8                   Health Alliance Plan\\n3.8\n",
       "535     3.7                Amazon.com Services LLC\\n3.7\n",
       "785     3.9                                   Meta\\n3.9\n",
       "484     4.3                             Mastercard\\n4.3\n",
       "228     4.2                 FAST GROWING TREES LLC\\n4.2\n",
       "778     3.7                    Realtor.com Careers\\n3.7\n",
       "529     3.7               National Security Agency\\n3.7\n",
       "719     4.1    Arkansas Blue Cross and Blue Shield\\n4.1\n",
       "134     3.8  General Dynamics Mission Systems, Inc\\n3.8\n",
       "591     4.1                             Salesforce\\n4.1\n",
       "554     4.0                              Cedar Inc\\n4.0\n",
       "362     4.8                                 Notion\\n4.8\n",
       "822     3.8                   Health Alliance Plan\\n3.8\n",
       "429     3.8                   Health Alliance Plan\\n3.8\n",
       "624     3.5                                Discord\\n3.5\n",
       "875     4.3                       Neuberger Berman\\n4.3\n",
       "133     3.7               National Security Agency\\n3.7\n",
       "768     4.1                             Salesforce\\n4.1\n",
       "460     3.6           Stifel, Nicolaus & Co., Inc.\\n3.6\n",
       "170     4.2                    Hyperspace Ventures\\n4.2\n",
       "524     4.0                              Cedar Inc\\n4.0\n",
       "402     3.1                             CVS Health\\n3.1\n",
       "297     3.8  General Dynamics Mission Systems, Inc\\n3.8\n",
       "963     3.9                                   Meta\\n3.9\n",
       "601     4.0                                   RELX\\n4.0\n",
       "864    -1.0                                        Juji\n",
       "666     4.3                       Neuberger Berman\\n4.3"
      ]
     },
     "execution_count": 17,
     "metadata": {},
     "output_type": "execute_result"
    }
   ],
   "source": [
    "# you can see that companies that has -1 Rating, there name is fine\n",
    "# but companies that has a Rating, there name ends with \"\\n3.2\"\n",
    "raw_df[['Rating','Company Name']].sample(40)"
   ]
  },
  {
   "cell_type": "code",
   "execution_count": 90,
   "id": "5c3dabd3-e9f9-48df-aceb-72f3da9963c3",
   "metadata": {
    "tags": []
   },
   "outputs": [],
   "source": [
    "# Remove the Rating and /n from the company name tail\n",
    "raw_df['company_txt'] = raw_df['Company Name'].str.rstrip('987654321.0\\n')"
   ]
  },
  {
   "cell_type": "code",
   "execution_count": 157,
   "id": "48820c2b-d668-4c0b-82aa-f7164995da29",
   "metadata": {
    "tags": []
   },
   "outputs": [
    {
     "data": {
      "text/plain": [
       "Realtor.com Careers            75\n",
       "Cedar Inc                      51\n",
       "CVS Health                     37\n",
       "Salesforce                     31\n",
       "Neuberger Berman               30\n",
       "Meta                           30\n",
       "Mastercard                     29\n",
       "Health Alliance Plan           29\n",
       "Octaura                        28\n",
       "Stifel, Nicolaus & Co., Inc    28\n",
       "Name: company_txt, dtype: int64"
      ]
     },
     "execution_count": 157,
     "metadata": {},
     "output_type": "execute_result"
    }
   ],
   "source": [
    "raw_df['company_txt'].sample(10)\n",
    "len(raw_df['company_txt'].unique())\n",
    "raw_df['company_txt'].value_counts().head(10)"
   ]
  },
  {
   "cell_type": "markdown",
   "id": "8d302955-e9e0-4711-b792-a38f7952ba6c",
   "metadata": {
    "jp-MarkdownHeadingCollapsed": true,
    "tags": []
   },
   "source": [
    "## 3. Company Location Column"
   ]
  },
  {
   "cell_type": "markdown",
   "id": "64ac474a-8cb4-4640-a978-2c31a490010c",
   "metadata": {},
   "source": [
    "### 1. Remove the Name of the States, Keep only the abbreviation\n",
    "### 2. Deal with anomalies ['Texas', 'United States', 'New York State']"
   ]
  },
  {
   "cell_type": "code",
   "execution_count": 94,
   "id": "353247ee-dddb-43ba-9e6e-d7883a2f4b17",
   "metadata": {
    "tags": []
   },
   "outputs": [
    {
     "data": {
      "text/plain": [
       "505          Atlanta, GA\n",
       "528           Iselin, NJ\n",
       "171         New York, NY\n",
       "970    San Francisco, CA\n",
       "308         New York, NY\n",
       "845               Remote\n",
       "566         New York, NY\n",
       "544         O Fallon, MO\n",
       "825         New York, NY\n",
       "482               Remote\n",
       "Name: Location, dtype: object"
      ]
     },
     "execution_count": 94,
     "metadata": {},
     "output_type": "execute_result"
    }
   ],
   "source": [
    "raw_df['Location'].sample(10)"
   ]
  },
  {
   "cell_type": "code",
   "execution_count": 216,
   "id": "6a19334b-d92d-46d5-8a3b-fe0b09bd37f7",
   "metadata": {
    "tags": []
   },
   "outputs": [],
   "source": [
    "# Remove the name of the States, keep the abbreviations\n",
    "raw_df['job_state'] = raw_df['Location'].apply(lambda x: x.split(',')[1] if len(x.split(',')) > 1 else x)"
   ]
  },
  {
   "cell_type": "code",
   "execution_count": 217,
   "id": "7c17e547-7f65-4865-84c5-868d44195e5a",
   "metadata": {
    "tags": []
   },
   "outputs": [
    {
     "data": {
      "text/plain": [
       " NY               215\n",
       " CA               104\n",
       " TX                97\n",
       "Remote             96\n",
       " OH                39\n",
       " MI                30\n",
       " MO                29\n",
       "Texas              28\n",
       " NJ                28\n",
       " MD                22\n",
       " IN                19\n",
       " GA                11\n",
       " AR                11\n",
       " NE                 7\n",
       "United States       7\n",
       " IL                 6\n",
       " NC                 5\n",
       " MN                 5\n",
       " PA                 5\n",
       " VA                 5\n",
       " CO                 3\n",
       "New York State      2\n",
       " KY                 1\n",
       " FL                 1\n",
       " WI                 1\n",
       " CT                 1\n",
       "Name: job_state, dtype: int64"
      ]
     },
     "execution_count": 217,
     "metadata": {},
     "output_type": "execute_result"
    }
   ],
   "source": [
    "# Turns out we have 4 abnormal values [ united States, Texas, Remote, New York State]\n",
    "raw_df['job_state'].value_counts()"
   ]
  },
  {
   "cell_type": "code",
   "execution_count": 218,
   "id": "01d5ed61-6230-4c4f-915c-fd8b0dd15bc6",
   "metadata": {
    "tags": []
   },
   "outputs": [
    {
     "data": {
      "text/html": [
       "<div>\n",
       "<style scoped>\n",
       "    .dataframe tbody tr th:only-of-type {\n",
       "        vertical-align: middle;\n",
       "    }\n",
       "\n",
       "    .dataframe tbody tr th {\n",
       "        vertical-align: top;\n",
       "    }\n",
       "\n",
       "    .dataframe thead th {\n",
       "        text-align: right;\n",
       "    }\n",
       "</style>\n",
       "<table border=\"1\" class=\"dataframe\">\n",
       "  <thead>\n",
       "    <tr style=\"text-align: right;\">\n",
       "      <th></th>\n",
       "      <th>Job Title</th>\n",
       "      <th>Salary Estimate</th>\n",
       "      <th>Job Description</th>\n",
       "      <th>Rating</th>\n",
       "      <th>Company Name</th>\n",
       "      <th>Location</th>\n",
       "      <th>Size</th>\n",
       "      <th>Founded</th>\n",
       "      <th>Type of ownership</th>\n",
       "      <th>Industry</th>\n",
       "      <th>Sector</th>\n",
       "      <th>Revenue</th>\n",
       "      <th>min_salary</th>\n",
       "      <th>max_salary</th>\n",
       "      <th>avg_salary</th>\n",
       "      <th>company_txt</th>\n",
       "      <th>job_state</th>\n",
       "    </tr>\n",
       "  </thead>\n",
       "  <tbody>\n",
       "    <tr>\n",
       "      <th>53</th>\n",
       "      <td>Data Scientist - Product</td>\n",
       "      <td>Employer Provided Salary:$114K - $157K</td>\n",
       "      <td>About Lyra Health\\nLyra is transforming mental...</td>\n",
       "      <td>4.3</td>\n",
       "      <td>Lyra Health\\n4.3</td>\n",
       "      <td>United States</td>\n",
       "      <td>1001 to 5000 Employees</td>\n",
       "      <td>2015</td>\n",
       "      <td>Company - Private</td>\n",
       "      <td>Health Care Services &amp; Hospitals</td>\n",
       "      <td>Healthcare</td>\n",
       "      <td>$100 to $500 million (USD)</td>\n",
       "      <td>114</td>\n",
       "      <td>157</td>\n",
       "      <td>135.5</td>\n",
       "      <td>Lyra Health</td>\n",
       "      <td>United States</td>\n",
       "    </tr>\n",
       "    <tr>\n",
       "      <th>83</th>\n",
       "      <td>Data Scientist - Product</td>\n",
       "      <td>Employer Provided Salary:$114K - $157K</td>\n",
       "      <td>About Lyra Health\\nLyra is transforming mental...</td>\n",
       "      <td>4.3</td>\n",
       "      <td>Lyra Health\\n4.3</td>\n",
       "      <td>United States</td>\n",
       "      <td>1001 to 5000 Employees</td>\n",
       "      <td>2015</td>\n",
       "      <td>Company - Private</td>\n",
       "      <td>Health Care Services &amp; Hospitals</td>\n",
       "      <td>Healthcare</td>\n",
       "      <td>$100 to $500 million (USD)</td>\n",
       "      <td>114</td>\n",
       "      <td>157</td>\n",
       "      <td>135.5</td>\n",
       "      <td>Lyra Health</td>\n",
       "      <td>United States</td>\n",
       "    </tr>\n",
       "    <tr>\n",
       "      <th>160</th>\n",
       "      <td>Data Scientist - Product</td>\n",
       "      <td>Employer Provided Salary:$114K - $157K</td>\n",
       "      <td>About Lyra Health\\nLyra is transforming mental...</td>\n",
       "      <td>4.3</td>\n",
       "      <td>Lyra Health\\n4.3</td>\n",
       "      <td>United States</td>\n",
       "      <td>1001 to 5000 Employees</td>\n",
       "      <td>2015</td>\n",
       "      <td>Company - Private</td>\n",
       "      <td>Health Care Services &amp; Hospitals</td>\n",
       "      <td>Healthcare</td>\n",
       "      <td>$100 to $500 million (USD)</td>\n",
       "      <td>114</td>\n",
       "      <td>157</td>\n",
       "      <td>135.5</td>\n",
       "      <td>Lyra Health</td>\n",
       "      <td>United States</td>\n",
       "    </tr>\n",
       "    <tr>\n",
       "      <th>348</th>\n",
       "      <td>Data Scientist - Product</td>\n",
       "      <td>Employer Provided Salary:$114K - $157K</td>\n",
       "      <td>About Lyra Health\\nLyra is transforming mental...</td>\n",
       "      <td>4.3</td>\n",
       "      <td>Lyra Health\\n4.3</td>\n",
       "      <td>United States</td>\n",
       "      <td>1001 to 5000 Employees</td>\n",
       "      <td>2015</td>\n",
       "      <td>Company - Private</td>\n",
       "      <td>Health Care Services &amp; Hospitals</td>\n",
       "      <td>Healthcare</td>\n",
       "      <td>$100 to $500 million (USD)</td>\n",
       "      <td>114</td>\n",
       "      <td>157</td>\n",
       "      <td>135.5</td>\n",
       "      <td>Lyra Health</td>\n",
       "      <td>United States</td>\n",
       "    </tr>\n",
       "    <tr>\n",
       "      <th>387</th>\n",
       "      <td>Data Scientist - Product</td>\n",
       "      <td>Employer Provided Salary:$114K - $157K</td>\n",
       "      <td>About Lyra Health\\nLyra is transforming mental...</td>\n",
       "      <td>4.3</td>\n",
       "      <td>Lyra Health\\n4.3</td>\n",
       "      <td>United States</td>\n",
       "      <td>1001 to 5000 Employees</td>\n",
       "      <td>2015</td>\n",
       "      <td>Company - Private</td>\n",
       "      <td>Health Care Services &amp; Hospitals</td>\n",
       "      <td>Healthcare</td>\n",
       "      <td>$100 to $500 million (USD)</td>\n",
       "      <td>114</td>\n",
       "      <td>157</td>\n",
       "      <td>135.5</td>\n",
       "      <td>Lyra Health</td>\n",
       "      <td>United States</td>\n",
       "    </tr>\n",
       "    <tr>\n",
       "      <th>415</th>\n",
       "      <td>Data Scientist - Product</td>\n",
       "      <td>Employer Provided Salary:$114K - $157K</td>\n",
       "      <td>About Lyra Health\\nLyra is transforming mental...</td>\n",
       "      <td>4.3</td>\n",
       "      <td>Lyra Health\\n4.3</td>\n",
       "      <td>United States</td>\n",
       "      <td>1001 to 5000 Employees</td>\n",
       "      <td>2015</td>\n",
       "      <td>Company - Private</td>\n",
       "      <td>Health Care Services &amp; Hospitals</td>\n",
       "      <td>Healthcare</td>\n",
       "      <td>$100 to $500 million (USD)</td>\n",
       "      <td>114</td>\n",
       "      <td>157</td>\n",
       "      <td>135.5</td>\n",
       "      <td>Lyra Health</td>\n",
       "      <td>United States</td>\n",
       "    </tr>\n",
       "    <tr>\n",
       "      <th>446</th>\n",
       "      <td>Data Scientist - Product</td>\n",
       "      <td>Employer Provided Salary:$114K - $157K</td>\n",
       "      <td>About Lyra Health\\nLyra is transforming mental...</td>\n",
       "      <td>4.3</td>\n",
       "      <td>Lyra Health\\n4.3</td>\n",
       "      <td>United States</td>\n",
       "      <td>1001 to 5000 Employees</td>\n",
       "      <td>2015</td>\n",
       "      <td>Company - Private</td>\n",
       "      <td>Health Care Services &amp; Hospitals</td>\n",
       "      <td>Healthcare</td>\n",
       "      <td>$100 to $500 million (USD)</td>\n",
       "      <td>114</td>\n",
       "      <td>157</td>\n",
       "      <td>135.5</td>\n",
       "      <td>Lyra Health</td>\n",
       "      <td>United States</td>\n",
       "    </tr>\n",
       "  </tbody>\n",
       "</table>\n",
       "</div>"
      ],
      "text/plain": [
       "                    Job Title                         Salary Estimate  \\\n",
       "53   Data Scientist - Product  Employer Provided Salary:$114K - $157K   \n",
       "83   Data Scientist - Product  Employer Provided Salary:$114K - $157K   \n",
       "160  Data Scientist - Product  Employer Provided Salary:$114K - $157K   \n",
       "348  Data Scientist - Product  Employer Provided Salary:$114K - $157K   \n",
       "387  Data Scientist - Product  Employer Provided Salary:$114K - $157K   \n",
       "415  Data Scientist - Product  Employer Provided Salary:$114K - $157K   \n",
       "446  Data Scientist - Product  Employer Provided Salary:$114K - $157K   \n",
       "\n",
       "                                       Job Description  Rating  \\\n",
       "53   About Lyra Health\\nLyra is transforming mental...     4.3   \n",
       "83   About Lyra Health\\nLyra is transforming mental...     4.3   \n",
       "160  About Lyra Health\\nLyra is transforming mental...     4.3   \n",
       "348  About Lyra Health\\nLyra is transforming mental...     4.3   \n",
       "387  About Lyra Health\\nLyra is transforming mental...     4.3   \n",
       "415  About Lyra Health\\nLyra is transforming mental...     4.3   \n",
       "446  About Lyra Health\\nLyra is transforming mental...     4.3   \n",
       "\n",
       "         Company Name       Location                    Size  Founded  \\\n",
       "53   Lyra Health\\n4.3  United States  1001 to 5000 Employees     2015   \n",
       "83   Lyra Health\\n4.3  United States  1001 to 5000 Employees     2015   \n",
       "160  Lyra Health\\n4.3  United States  1001 to 5000 Employees     2015   \n",
       "348  Lyra Health\\n4.3  United States  1001 to 5000 Employees     2015   \n",
       "387  Lyra Health\\n4.3  United States  1001 to 5000 Employees     2015   \n",
       "415  Lyra Health\\n4.3  United States  1001 to 5000 Employees     2015   \n",
       "446  Lyra Health\\n4.3  United States  1001 to 5000 Employees     2015   \n",
       "\n",
       "     Type of ownership                          Industry      Sector  \\\n",
       "53   Company - Private  Health Care Services & Hospitals  Healthcare   \n",
       "83   Company - Private  Health Care Services & Hospitals  Healthcare   \n",
       "160  Company - Private  Health Care Services & Hospitals  Healthcare   \n",
       "348  Company - Private  Health Care Services & Hospitals  Healthcare   \n",
       "387  Company - Private  Health Care Services & Hospitals  Healthcare   \n",
       "415  Company - Private  Health Care Services & Hospitals  Healthcare   \n",
       "446  Company - Private  Health Care Services & Hospitals  Healthcare   \n",
       "\n",
       "                        Revenue  min_salary  max_salary  avg_salary  \\\n",
       "53   $100 to $500 million (USD)         114         157       135.5   \n",
       "83   $100 to $500 million (USD)         114         157       135.5   \n",
       "160  $100 to $500 million (USD)         114         157       135.5   \n",
       "348  $100 to $500 million (USD)         114         157       135.5   \n",
       "387  $100 to $500 million (USD)         114         157       135.5   \n",
       "415  $100 to $500 million (USD)         114         157       135.5   \n",
       "446  $100 to $500 million (USD)         114         157       135.5   \n",
       "\n",
       "     company_txt      job_state  \n",
       "53   Lyra Health  United States  \n",
       "83   Lyra Health  United States  \n",
       "160  Lyra Health  United States  \n",
       "348  Lyra Health  United States  \n",
       "387  Lyra Health  United States  \n",
       "415  Lyra Health  United States  \n",
       "446  Lyra Health  United States  "
      ]
     },
     "execution_count": 218,
     "metadata": {},
     "output_type": "execute_result"
    }
   ],
   "source": [
    "# Turn out all the 7 united states are in lyra health company , after i did my research; it is located in california(CA)\n",
    "raw_df[raw_df['job_state'] == 'United States']"
   ]
  },
  {
   "cell_type": "code",
   "execution_count": 219,
   "id": "3abce6ac-48dc-47e8-8659-22043119ce15",
   "metadata": {
    "tags": []
   },
   "outputs": [],
   "source": [
    "raw_df['job_state'].replace({'Texas':' TX','New York State' : ' NY', 'United States' : ' CA'}, inplace =True)"
   ]
  },
  {
   "cell_type": "code",
   "execution_count": 220,
   "id": "77518ef4-da0b-4582-ac39-263da0b34247",
   "metadata": {
    "tags": []
   },
   "outputs": [
    {
     "data": {
      "text/plain": [
       " NY       217\n",
       " TX       125\n",
       " CA       111\n",
       "Remote     96\n",
       " OH        39\n",
       " MI        30\n",
       " MO        29\n",
       " NJ        28\n",
       " MD        22\n",
       " IN        19\n",
       " AR        11\n",
       " GA        11\n",
       " NE         7\n",
       " IL         6\n",
       " PA         5\n",
       " MN         5\n",
       " VA         5\n",
       " NC         5\n",
       " CO         3\n",
       " KY         1\n",
       " FL         1\n",
       " WI         1\n",
       " CT         1\n",
       "Name: job_state, dtype: int64"
      ]
     },
     "execution_count": 220,
     "metadata": {},
     "output_type": "execute_result"
    }
   ],
   "source": [
    "raw_df['job_state'].value_counts()"
   ]
  },
  {
   "cell_type": "markdown",
   "id": "51bea4b8-03ce-44c7-8974-43683cd8d4ea",
   "metadata": {
    "jp-MarkdownHeadingCollapsed": true,
    "tags": []
   },
   "source": [
    "## 4. Founded Column"
   ]
  },
  {
   "cell_type": "markdown",
   "id": "487fc2af-c9c6-400f-b3dd-6e8bb1f4f8f0",
   "metadata": {
    "tags": []
   },
   "source": [
    "### 1. get the age of the company instead of the year found\n",
    "### 2. Figure Out where the -1 coming From"
   ]
  },
  {
   "cell_type": "code",
   "execution_count": 241,
   "id": "6679b7ca-ecc2-49eb-b8b3-b66aa70a566e",
   "metadata": {
    "tags": []
   },
   "outputs": [],
   "source": [
    "raw_df['age']= raw_df.Founded.apply(lambda x: x if x < 1 else 2023 - x) "
   ]
  },
  {
   "cell_type": "code",
   "execution_count": 242,
   "id": "e9f37134-caee-4eeb-a47b-96e7a5be11a0",
   "metadata": {
    "tags": []
   },
   "outputs": [
    {
     "data": {
      "text/plain": [
       "49"
      ]
     },
     "execution_count": 242,
     "metadata": {},
     "output_type": "execute_result"
    }
   ],
   "source": [
    "len(raw_df[raw_df['age'] == -1])"
   ]
  },
  {
   "cell_type": "code",
   "execution_count": 250,
   "id": "9957b5e0-d069-4eee-9b78-1e3cb5e8fc30",
   "metadata": {
    "tags": []
   },
   "outputs": [
    {
     "data": {
      "text/html": [
       "<div>\n",
       "<style scoped>\n",
       "    .dataframe tbody tr th:only-of-type {\n",
       "        vertical-align: middle;\n",
       "    }\n",
       "\n",
       "    .dataframe tbody tr th {\n",
       "        vertical-align: top;\n",
       "    }\n",
       "\n",
       "    .dataframe thead th {\n",
       "        text-align: right;\n",
       "    }\n",
       "</style>\n",
       "<table border=\"1\" class=\"dataframe\">\n",
       "  <thead>\n",
       "    <tr style=\"text-align: right;\">\n",
       "      <th></th>\n",
       "      <th>Job Title</th>\n",
       "      <th>Salary Estimate</th>\n",
       "      <th>Job Description</th>\n",
       "      <th>Rating</th>\n",
       "      <th>Company Name</th>\n",
       "      <th>Location</th>\n",
       "      <th>Size</th>\n",
       "      <th>Founded</th>\n",
       "      <th>Type of ownership</th>\n",
       "      <th>Industry</th>\n",
       "      <th>Sector</th>\n",
       "      <th>Revenue</th>\n",
       "      <th>min_salary</th>\n",
       "      <th>max_salary</th>\n",
       "      <th>avg_salary</th>\n",
       "      <th>company_txt</th>\n",
       "      <th>job_state</th>\n",
       "      <th>age</th>\n",
       "    </tr>\n",
       "  </thead>\n",
       "  <tbody>\n",
       "    <tr>\n",
       "      <th>385</th>\n",
       "      <td>Data Scientist</td>\n",
       "      <td>Employer Provided Salary:$110K - $113K</td>\n",
       "      <td>Greetings from KonnectingTree!\\nWe are looking...</td>\n",
       "      <td>-1.0</td>\n",
       "      <td>Konnectingtree</td>\n",
       "      <td>Remote</td>\n",
       "      <td>1 to 50 Employees</td>\n",
       "      <td>-1</td>\n",
       "      <td>Company - Public</td>\n",
       "      <td>-1</td>\n",
       "      <td>-1</td>\n",
       "      <td>Unknown / Non-Applicable</td>\n",
       "      <td>110</td>\n",
       "      <td>113</td>\n",
       "      <td>111.5</td>\n",
       "      <td>Konnectingtree</td>\n",
       "      <td>Remote</td>\n",
       "      <td>-1</td>\n",
       "    </tr>\n",
       "    <tr>\n",
       "      <th>162</th>\n",
       "      <td>Data Scientist</td>\n",
       "      <td>Employer Provided Salary:$125K - $150K</td>\n",
       "      <td>About Blue Water Thinking\\nGuided by our princ...</td>\n",
       "      <td>3.5</td>\n",
       "      <td>Blue Water Thinking\\n3.5</td>\n",
       "      <td>Remote</td>\n",
       "      <td>1 to 50 Employees</td>\n",
       "      <td>-1</td>\n",
       "      <td>Contract</td>\n",
       "      <td>-1</td>\n",
       "      <td>-1</td>\n",
       "      <td>Unknown / Non-Applicable</td>\n",
       "      <td>125</td>\n",
       "      <td>150</td>\n",
       "      <td>137.5</td>\n",
       "      <td>Blue Water Thinking</td>\n",
       "      <td>Remote</td>\n",
       "      <td>-1</td>\n",
       "    </tr>\n",
       "    <tr>\n",
       "      <th>477</th>\n",
       "      <td>Data Scientist</td>\n",
       "      <td>Employer Provided Salary:$110K - $113K</td>\n",
       "      <td>Greetings from KonnectingTree!\\nWe are looking...</td>\n",
       "      <td>-1.0</td>\n",
       "      <td>Konnectingtree</td>\n",
       "      <td>Remote</td>\n",
       "      <td>1 to 50 Employees</td>\n",
       "      <td>-1</td>\n",
       "      <td>Company - Public</td>\n",
       "      <td>-1</td>\n",
       "      <td>-1</td>\n",
       "      <td>Unknown / Non-Applicable</td>\n",
       "      <td>110</td>\n",
       "      <td>113</td>\n",
       "      <td>111.5</td>\n",
       "      <td>Konnectingtree</td>\n",
       "      <td>Remote</td>\n",
       "      <td>-1</td>\n",
       "    </tr>\n",
       "    <tr>\n",
       "      <th>503</th>\n",
       "      <td>Data Scientist</td>\n",
       "      <td>Employer Provided Salary:$110K - $113K</td>\n",
       "      <td>Greetings from KonnectingTree!\\nWe are looking...</td>\n",
       "      <td>-1.0</td>\n",
       "      <td>Konnectingtree</td>\n",
       "      <td>Remote</td>\n",
       "      <td>1 to 50 Employees</td>\n",
       "      <td>-1</td>\n",
       "      <td>Company - Public</td>\n",
       "      <td>-1</td>\n",
       "      <td>-1</td>\n",
       "      <td>Unknown / Non-Applicable</td>\n",
       "      <td>110</td>\n",
       "      <td>113</td>\n",
       "      <td>111.5</td>\n",
       "      <td>Konnectingtree</td>\n",
       "      <td>Remote</td>\n",
       "      <td>-1</td>\n",
       "    </tr>\n",
       "    <tr>\n",
       "      <th>263</th>\n",
       "      <td>AI Data Scientist</td>\n",
       "      <td>Employer Provided Salary:$65.00 - $75.00 Per Hour</td>\n",
       "      <td>Role - AI Data Scientist\\nLocation : Remote\\nD...</td>\n",
       "      <td>-1.0</td>\n",
       "      <td>Vandved Search</td>\n",
       "      <td>Remote</td>\n",
       "      <td>-1</td>\n",
       "      <td>-1</td>\n",
       "      <td>-1</td>\n",
       "      <td>-1</td>\n",
       "      <td>-1</td>\n",
       "      <td>-1</td>\n",
       "      <td>65</td>\n",
       "      <td>75</td>\n",
       "      <td>70.0</td>\n",
       "      <td>Vandved Search</td>\n",
       "      <td>Remote</td>\n",
       "      <td>-1</td>\n",
       "    </tr>\n",
       "  </tbody>\n",
       "</table>\n",
       "</div>"
      ],
      "text/plain": [
       "             Job Title                                    Salary Estimate  \\\n",
       "385     Data Scientist             Employer Provided Salary:$110K - $113K   \n",
       "162     Data Scientist             Employer Provided Salary:$125K - $150K   \n",
       "477     Data Scientist             Employer Provided Salary:$110K - $113K   \n",
       "503     Data Scientist             Employer Provided Salary:$110K - $113K   \n",
       "263  AI Data Scientist  Employer Provided Salary:$65.00 - $75.00 Per Hour   \n",
       "\n",
       "                                       Job Description  Rating  \\\n",
       "385  Greetings from KonnectingTree!\\nWe are looking...    -1.0   \n",
       "162  About Blue Water Thinking\\nGuided by our princ...     3.5   \n",
       "477  Greetings from KonnectingTree!\\nWe are looking...    -1.0   \n",
       "503  Greetings from KonnectingTree!\\nWe are looking...    -1.0   \n",
       "263  Role - AI Data Scientist\\nLocation : Remote\\nD...    -1.0   \n",
       "\n",
       "                 Company Name Location               Size  Founded  \\\n",
       "385            Konnectingtree   Remote  1 to 50 Employees       -1   \n",
       "162  Blue Water Thinking\\n3.5   Remote  1 to 50 Employees       -1   \n",
       "477            Konnectingtree   Remote  1 to 50 Employees       -1   \n",
       "503            Konnectingtree   Remote  1 to 50 Employees       -1   \n",
       "263            Vandved Search   Remote                 -1       -1   \n",
       "\n",
       "    Type of ownership Industry Sector                   Revenue  min_salary  \\\n",
       "385  Company - Public       -1     -1  Unknown / Non-Applicable         110   \n",
       "162          Contract       -1     -1  Unknown / Non-Applicable         125   \n",
       "477  Company - Public       -1     -1  Unknown / Non-Applicable         110   \n",
       "503  Company - Public       -1     -1  Unknown / Non-Applicable         110   \n",
       "263                -1       -1     -1                        -1          65   \n",
       "\n",
       "     max_salary  avg_salary          company_txt job_state  age  \n",
       "385         113       111.5       Konnectingtree    Remote   -1  \n",
       "162         150       137.5  Blue Water Thinking    Remote   -1  \n",
       "477         113       111.5       Konnectingtree    Remote   -1  \n",
       "503         113       111.5       Konnectingtree    Remote   -1  \n",
       "263          75        70.0       Vandved Search    Remote   -1  "
      ]
     },
     "execution_count": 250,
     "metadata": {},
     "output_type": "execute_result"
    }
   ],
   "source": [
    "raw_df[(raw_df['age'] == -1) & (raw_df['job_state'] == 'Remote')].sample(5)"
   ]
  },
  {
   "cell_type": "code",
   "execution_count": 251,
   "id": "6726da16-f9d0-49f1-82ee-6b1b7f40162a",
   "metadata": {
    "tags": []
   },
   "outputs": [
    {
     "data": {
      "text/html": [
       "<div>\n",
       "<style scoped>\n",
       "    .dataframe tbody tr th:only-of-type {\n",
       "        vertical-align: middle;\n",
       "    }\n",
       "\n",
       "    .dataframe tbody tr th {\n",
       "        vertical-align: top;\n",
       "    }\n",
       "\n",
       "    .dataframe thead th {\n",
       "        text-align: right;\n",
       "    }\n",
       "</style>\n",
       "<table border=\"1\" class=\"dataframe\">\n",
       "  <thead>\n",
       "    <tr style=\"text-align: right;\">\n",
       "      <th></th>\n",
       "      <th>Job Title</th>\n",
       "      <th>Salary Estimate</th>\n",
       "      <th>Job Description</th>\n",
       "      <th>Rating</th>\n",
       "      <th>Company Name</th>\n",
       "      <th>Location</th>\n",
       "      <th>Size</th>\n",
       "      <th>Founded</th>\n",
       "      <th>Type of ownership</th>\n",
       "      <th>Industry</th>\n",
       "      <th>Sector</th>\n",
       "      <th>Revenue</th>\n",
       "      <th>min_salary</th>\n",
       "      <th>max_salary</th>\n",
       "      <th>avg_salary</th>\n",
       "      <th>company_txt</th>\n",
       "      <th>job_state</th>\n",
       "      <th>age</th>\n",
       "    </tr>\n",
       "  </thead>\n",
       "  <tbody>\n",
       "    <tr>\n",
       "      <th>324</th>\n",
       "      <td>Artificial Intelligence (AI) Trainer</td>\n",
       "      <td>$102K - $161K (Glassdoor est.)</td>\n",
       "      <td>We are seeking highly motivated and talented A...</td>\n",
       "      <td>-1.0</td>\n",
       "      <td>Juji</td>\n",
       "      <td>San Jose, CA</td>\n",
       "      <td>1 to 50 Employees</td>\n",
       "      <td>-1</td>\n",
       "      <td>Company - Public</td>\n",
       "      <td>-1</td>\n",
       "      <td>-1</td>\n",
       "      <td>Less than $1 million (USD)</td>\n",
       "      <td>102</td>\n",
       "      <td>161</td>\n",
       "      <td>131.5</td>\n",
       "      <td>Juji</td>\n",
       "      <td>CA</td>\n",
       "      <td>-1</td>\n",
       "    </tr>\n",
       "    <tr>\n",
       "      <th>57</th>\n",
       "      <td>Artificial Intelligence (AI) Trainer</td>\n",
       "      <td>$102K - $161K (Glassdoor est.)</td>\n",
       "      <td>We are seeking highly motivated and talented A...</td>\n",
       "      <td>-1.0</td>\n",
       "      <td>Juji</td>\n",
       "      <td>San Jose, CA</td>\n",
       "      <td>1 to 50 Employees</td>\n",
       "      <td>-1</td>\n",
       "      <td>Company - Public</td>\n",
       "      <td>-1</td>\n",
       "      <td>-1</td>\n",
       "      <td>Less than $1 million (USD)</td>\n",
       "      <td>102</td>\n",
       "      <td>161</td>\n",
       "      <td>131.5</td>\n",
       "      <td>Juji</td>\n",
       "      <td>CA</td>\n",
       "      <td>-1</td>\n",
       "    </tr>\n",
       "    <tr>\n",
       "      <th>355</th>\n",
       "      <td>Artificial Intelligence (AI) Trainer</td>\n",
       "      <td>$102K - $161K (Glassdoor est.)</td>\n",
       "      <td>We are seeking highly motivated and talented A...</td>\n",
       "      <td>-1.0</td>\n",
       "      <td>Juji</td>\n",
       "      <td>San Jose, CA</td>\n",
       "      <td>1 to 50 Employees</td>\n",
       "      <td>-1</td>\n",
       "      <td>Company - Public</td>\n",
       "      <td>-1</td>\n",
       "      <td>-1</td>\n",
       "      <td>Less than $1 million (USD)</td>\n",
       "      <td>102</td>\n",
       "      <td>161</td>\n",
       "      <td>131.5</td>\n",
       "      <td>Juji</td>\n",
       "      <td>CA</td>\n",
       "      <td>-1</td>\n",
       "    </tr>\n",
       "    <tr>\n",
       "      <th>119</th>\n",
       "      <td>Artificial Intelligence (AI) Trainer</td>\n",
       "      <td>$102K - $161K (Glassdoor est.)</td>\n",
       "      <td>We are seeking highly motivated and talented A...</td>\n",
       "      <td>-1.0</td>\n",
       "      <td>Juji</td>\n",
       "      <td>San Jose, CA</td>\n",
       "      <td>1 to 50 Employees</td>\n",
       "      <td>-1</td>\n",
       "      <td>Company - Public</td>\n",
       "      <td>-1</td>\n",
       "      <td>-1</td>\n",
       "      <td>Less than $1 million (USD)</td>\n",
       "      <td>102</td>\n",
       "      <td>161</td>\n",
       "      <td>131.5</td>\n",
       "      <td>Juji</td>\n",
       "      <td>CA</td>\n",
       "      <td>-1</td>\n",
       "    </tr>\n",
       "    <tr>\n",
       "      <th>151</th>\n",
       "      <td>Artificial Intelligence (AI) Trainer</td>\n",
       "      <td>$102K - $161K (Glassdoor est.)</td>\n",
       "      <td>We are seeking highly motivated and talented A...</td>\n",
       "      <td>-1.0</td>\n",
       "      <td>Juji</td>\n",
       "      <td>San Jose, CA</td>\n",
       "      <td>1 to 50 Employees</td>\n",
       "      <td>-1</td>\n",
       "      <td>Company - Public</td>\n",
       "      <td>-1</td>\n",
       "      <td>-1</td>\n",
       "      <td>Less than $1 million (USD)</td>\n",
       "      <td>102</td>\n",
       "      <td>161</td>\n",
       "      <td>131.5</td>\n",
       "      <td>Juji</td>\n",
       "      <td>CA</td>\n",
       "      <td>-1</td>\n",
       "    </tr>\n",
       "  </tbody>\n",
       "</table>\n",
       "</div>"
      ],
      "text/plain": [
       "                                Job Title                 Salary Estimate  \\\n",
       "324  Artificial Intelligence (AI) Trainer  $102K - $161K (Glassdoor est.)   \n",
       "57   Artificial Intelligence (AI) Trainer  $102K - $161K (Glassdoor est.)   \n",
       "355  Artificial Intelligence (AI) Trainer  $102K - $161K (Glassdoor est.)   \n",
       "119  Artificial Intelligence (AI) Trainer  $102K - $161K (Glassdoor est.)   \n",
       "151  Artificial Intelligence (AI) Trainer  $102K - $161K (Glassdoor est.)   \n",
       "\n",
       "                                       Job Description  Rating Company Name  \\\n",
       "324  We are seeking highly motivated and talented A...    -1.0         Juji   \n",
       "57   We are seeking highly motivated and talented A...    -1.0         Juji   \n",
       "355  We are seeking highly motivated and talented A...    -1.0         Juji   \n",
       "119  We are seeking highly motivated and talented A...    -1.0         Juji   \n",
       "151  We are seeking highly motivated and talented A...    -1.0         Juji   \n",
       "\n",
       "         Location               Size  Founded Type of ownership Industry  \\\n",
       "324  San Jose, CA  1 to 50 Employees       -1  Company - Public       -1   \n",
       "57   San Jose, CA  1 to 50 Employees       -1  Company - Public       -1   \n",
       "355  San Jose, CA  1 to 50 Employees       -1  Company - Public       -1   \n",
       "119  San Jose, CA  1 to 50 Employees       -1  Company - Public       -1   \n",
       "151  San Jose, CA  1 to 50 Employees       -1  Company - Public       -1   \n",
       "\n",
       "    Sector                     Revenue  min_salary  max_salary  avg_salary  \\\n",
       "324     -1  Less than $1 million (USD)         102         161       131.5   \n",
       "57      -1  Less than $1 million (USD)         102         161       131.5   \n",
       "355     -1  Less than $1 million (USD)         102         161       131.5   \n",
       "119     -1  Less than $1 million (USD)         102         161       131.5   \n",
       "151     -1  Less than $1 million (USD)         102         161       131.5   \n",
       "\n",
       "    company_txt job_state  age  \n",
       "324        Juji        CA   -1  \n",
       "57         Juji        CA   -1  \n",
       "355        Juji        CA   -1  \n",
       "119        Juji        CA   -1  \n",
       "151        Juji        CA   -1  "
      ]
     },
     "execution_count": 251,
     "metadata": {},
     "output_type": "execute_result"
    }
   ],
   "source": [
    "raw_df[(raw_df['age'] == -1) & ~(raw_df['job_state'] == 'Remote')].sample(5)"
   ]
  },
  {
   "cell_type": "code",
   "execution_count": 252,
   "id": "e857e160-7910-415b-98d9-c52dcb3f7550",
   "metadata": {
    "tags": []
   },
   "outputs": [
    {
     "data": {
      "text/plain": [
       "19"
      ]
     },
     "execution_count": 252,
     "metadata": {},
     "output_type": "execute_result"
    }
   ],
   "source": [
    "# 19 out of 49 (-1) coming from remote jobs, remote jobs has no age\n",
    "len(raw_df[(raw_df['age'] == -1) & (raw_df['job_state'] == 'Remote')])"
   ]
  },
  {
   "cell_type": "code",
   "execution_count": 253,
   "id": "a9d209b4-5013-415a-b798-ec35b8d5d57c",
   "metadata": {
    "tags": []
   },
   "outputs": [
    {
     "data": {
      "text/plain": [
       "30"
      ]
     },
     "execution_count": 253,
     "metadata": {},
     "output_type": "execute_result"
    }
   ],
   "source": [
    "len(raw_df[(raw_df['age'] == -1) & ~(raw_df['job_state'] == 'Remote')])"
   ]
  },
  {
   "cell_type": "code",
   "execution_count": 254,
   "id": "60a8749b-cb36-4d85-a000-ec3aef5dff0b",
   "metadata": {
    "tags": []
   },
   "outputs": [
    {
     "data": {
      "text/plain": [
       "18"
      ]
     },
     "execution_count": 254,
     "metadata": {},
     "output_type": "execute_result"
    }
   ],
   "source": [
    "# 18 out of 49 (-1) coming from comoany called Juji\n",
    "len(raw_df[(raw_df['age'] == -1) & (raw_df['company_txt'] == 'Juji')])"
   ]
  },
  {
   "cell_type": "markdown",
   "id": "0697c593-e6d5-4e15-90c2-4ddfeeaf0d27",
   "metadata": {
    "jp-MarkdownHeadingCollapsed": true,
    "tags": []
   },
   "source": [
    "## 5. Description Column"
   ]
  },
  {
   "cell_type": "code",
   "execution_count": 262,
   "id": "87e04a88-2158-48d1-be48-6e73cbf49a49",
   "metadata": {
    "tags": []
   },
   "outputs": [
    {
     "data": {
      "text/plain": [
       "\"At Realtor.com®, we have among the most comprehensive and accurate coverage of real estate listings and the most engaged users across all the online real estate portals. Our mission is to make buying, selling, renting, and living in homes easier and more rewarding for everyone.\\nBuilding your career? Build it better at Realtor.com®. Join us and help change the world of real estate, one home at a time.\\nCome to work for http://Realtor.com ![ A leader in online real estate and backed by industry experience and the News Corp Brand, http://Realtor.com\\nhttp://Realtor.com currently has an opportunity for a Data Scientist, Product Analytics, reporting to the Director of Analytics for Growth Product. http://Realtor.com is in the middle of aggressive strategic growth driven off of newly integrated entities, and continuing our record growth and consumer engagement will be critical to http://Realtor.com 's strategic success in the industry. Specifically, this role's core responsibilities will focus on partnering directly with the major functions of the business to drive consumer engagement, conversion and overall optimization of the consumer's journey for our emerging product and service areas. There is a tremendous opportunity to make a huge impact in a short amount of time!\""
      ]
     },
     "execution_count": 262,
     "metadata": {},
     "output_type": "execute_result"
    }
   ],
   "source": [
    "raw_df['Job Description'][0]"
   ]
  },
  {
   "cell_type": "markdown",
   "id": "7e1c555c-e3c5-4521-82c0-fc30ecc52725",
   "metadata": {
    "tags": []
   },
   "source": [
    "## Export Data to a CSV File and a Pickle File"
   ]
  },
  {
   "cell_type": "code",
   "execution_count": 267,
   "id": "fb4c6554-92a5-4d81-8a85-61b86379ee29",
   "metadata": {
    "tags": []
   },
   "outputs": [],
   "source": [
    "raw_df.to_csv(CSV_EXPORT_PATH, index = False)"
   ]
  },
  {
   "cell_type": "code",
   "execution_count": 270,
   "id": "c75ecb63-0a28-401b-948e-2c8996ccab80",
   "metadata": {
    "tags": []
   },
   "outputs": [],
   "source": [
    "raw_df.to_pickle(PKL_EXPORT_PATH)"
   ]
  }
 ],
 "metadata": {
  "kernelspec": {
   "display_name": "Python 3 (ipykernel)",
   "language": "python",
   "name": "python3"
  },
  "language_info": {
   "codemirror_mode": {
    "name": "ipython",
    "version": 3
   },
   "file_extension": ".py",
   "mimetype": "text/x-python",
   "name": "python",
   "nbconvert_exporter": "python",
   "pygments_lexer": "ipython3",
   "version": "3.11.4"
  }
 },
 "nbformat": 4,
 "nbformat_minor": 5
}
