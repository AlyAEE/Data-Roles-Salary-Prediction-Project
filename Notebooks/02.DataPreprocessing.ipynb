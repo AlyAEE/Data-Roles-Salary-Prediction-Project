{
 "cells": [
  {
   "cell_type": "code",
   "execution_count": 1,
   "id": "be242658-1eb3-425d-8c40-eff1cae08151",
   "metadata": {
    "tags": []
   },
   "outputs": [],
   "source": [
    "DATA_PATH = '../Data/Raw/raw_data0_data_scientist.csv'\n",
    "PKL_EXPORT_PATH = \"../data/processed/0_DataCleaned_df.pkl\"\n",
    "CSV_EXPORT_PATH = \"../data/processed/0_DataCleaned_df.csv\""
   ]
  },
  {
   "cell_type": "code",
   "execution_count": 2,
   "id": "906bb37d-386c-4fe9-9b1d-045b35c30d47",
   "metadata": {
    "tags": []
   },
   "outputs": [],
   "source": [
    "# Packages to import\n",
    "import pandas as pd \n",
    "import numpy as np\n",
    "import re\n",
    "import logging\n",
    "import pickle"
   ]
  },
  {
   "cell_type": "code",
   "execution_count": 3,
   "id": "4043e931-f0cf-4e97-83d6-e767e4858d31",
   "metadata": {
    "tags": []
   },
   "outputs": [
    {
     "data": {
      "text/plain": [
       "(1000, 12)"
      ]
     },
     "execution_count": 3,
     "metadata": {},
     "output_type": "execute_result"
    }
   ],
   "source": [
    "# Read data and Print shape\n",
    "raw_df = pd.read_csv(DATA_PATH).set_index('Unnamed: 0').reset_index(drop=True)\n",
    "raw_df.shape"
   ]
  },
  {
   "cell_type": "code",
   "execution_count": 4,
   "id": "43896d6b-9721-4cbd-96fc-a4a5757c4054",
   "metadata": {
    "tags": []
   },
   "outputs": [
    {
     "data": {
      "text/plain": [
       "Job Title                                       Product Data Scientist\n",
       "Salary Estimate                  Employer Provided Salary:$73K - $176K\n",
       "Job Description      At PayPal (NASDAQ: PYPL), we believe that ever...\n",
       "Rating                                                             4.0\n",
       "Company Name                                               PayPal\\n4.0\n",
       "Location                                                  New York, NY\n",
       "Size                                                  10000+ Employees\n",
       "Founded                                                           1998\n",
       "Type of ownership                                     Company - Public\n",
       "Industry                                       Internet & Web Services\n",
       "Sector                                          Information Technology\n",
       "Revenue                                             $10+ billion (USD)\n",
       "Name: 140, dtype: object"
      ]
     },
     "execution_count": 4,
     "metadata": {},
     "output_type": "execute_result"
    }
   ],
   "source": [
    "# Display random answer\n",
    "raw_df.sample(1).iloc[0]"
   ]
  },
  {
   "cell_type": "code",
   "execution_count": 5,
   "id": "dea80e4d-2cfb-45ca-b02e-7d562a70f8b7",
   "metadata": {
    "tags": []
   },
   "outputs": [
    {
     "data": {
      "text/html": [
       "<div>\n",
       "<style scoped>\n",
       "    .dataframe tbody tr th:only-of-type {\n",
       "        vertical-align: middle;\n",
       "    }\n",
       "\n",
       "    .dataframe tbody tr th {\n",
       "        vertical-align: top;\n",
       "    }\n",
       "\n",
       "    .dataframe thead th {\n",
       "        text-align: right;\n",
       "    }\n",
       "</style>\n",
       "<table border=\"1\" class=\"dataframe\">\n",
       "  <thead>\n",
       "    <tr style=\"text-align: right;\">\n",
       "      <th></th>\n",
       "      <th>Job Title</th>\n",
       "      <th>Salary Estimate</th>\n",
       "      <th>Job Description</th>\n",
       "      <th>Rating</th>\n",
       "      <th>Company Name</th>\n",
       "      <th>Location</th>\n",
       "      <th>Size</th>\n",
       "      <th>Founded</th>\n",
       "      <th>Type of ownership</th>\n",
       "      <th>Industry</th>\n",
       "      <th>Sector</th>\n",
       "      <th>Revenue</th>\n",
       "    </tr>\n",
       "  </thead>\n",
       "  <tbody>\n",
       "    <tr>\n",
       "      <th>14</th>\n",
       "      <td>Data Scientist</td>\n",
       "      <td>Employer Provided Salary:$70K - $140K</td>\n",
       "      <td>Develops, validates and executes algorithms an...</td>\n",
       "      <td>3.1</td>\n",
       "      <td>CVS Health\\n3.1</td>\n",
       "      <td>New York, NY</td>\n",
       "      <td>10000+ Employees</td>\n",
       "      <td>1963</td>\n",
       "      <td>Company - Public</td>\n",
       "      <td>Health Care Services &amp; Hospitals</td>\n",
       "      <td>Healthcare</td>\n",
       "      <td>$10+ billion (USD)</td>\n",
       "    </tr>\n",
       "    <tr>\n",
       "      <th>577</th>\n",
       "      <td>Senior Data Scientist</td>\n",
       "      <td>-1</td>\n",
       "      <td>As the Senior Data Scientist , you will help s...</td>\n",
       "      <td>3.9</td>\n",
       "      <td>Kellogg Company\\n3.9</td>\n",
       "      <td>Battle Creek, MI</td>\n",
       "      <td>10000+ Employees</td>\n",
       "      <td>1906</td>\n",
       "      <td>Company - Public</td>\n",
       "      <td>Food &amp; Beverage Manufacturing</td>\n",
       "      <td>Manufacturing</td>\n",
       "      <td>$10+ billion (USD)</td>\n",
       "    </tr>\n",
       "    <tr>\n",
       "      <th>703</th>\n",
       "      <td>Data Scientist</td>\n",
       "      <td>$89K - $128K (Glassdoor est.)</td>\n",
       "      <td>Responsible for working with business users to...</td>\n",
       "      <td>3.8</td>\n",
       "      <td>Health Alliance Plan\\n3.8</td>\n",
       "      <td>Detroit, MI</td>\n",
       "      <td>1001 to 5000 Employees</td>\n",
       "      <td>1956</td>\n",
       "      <td>Company - Private</td>\n",
       "      <td>Insurance Carriers</td>\n",
       "      <td>Insurance</td>\n",
       "      <td>$1 to $5 billion (USD)</td>\n",
       "    </tr>\n",
       "    <tr>\n",
       "      <th>892</th>\n",
       "      <td>Senior Data Scientist</td>\n",
       "      <td>Employer Provided Salary:$135K - $196K</td>\n",
       "      <td>At Realtor.com®, we have among the most compre...</td>\n",
       "      <td>3.7</td>\n",
       "      <td>Realtor.com Careers\\n3.7</td>\n",
       "      <td>Austin, TX</td>\n",
       "      <td>1001 to 5000 Employees</td>\n",
       "      <td>1993</td>\n",
       "      <td>Company - Private</td>\n",
       "      <td>Computer Hardware Development</td>\n",
       "      <td>Information Technology</td>\n",
       "      <td>Unknown / Non-Applicable</td>\n",
       "    </tr>\n",
       "    <tr>\n",
       "      <th>794</th>\n",
       "      <td>Data Scientist</td>\n",
       "      <td>-1</td>\n",
       "      <td>Marlabs LLC, a Piscataway, NJ-based software a...</td>\n",
       "      <td>3.7</td>\n",
       "      <td>Marlabs Innovations Private Limited\\n3.7</td>\n",
       "      <td>United States</td>\n",
       "      <td>1001 to 5000 Employees</td>\n",
       "      <td>1996</td>\n",
       "      <td>Company - Private</td>\n",
       "      <td>Information Technology Support Services</td>\n",
       "      <td>Information Technology</td>\n",
       "      <td>$100 to $500 million (USD)</td>\n",
       "    </tr>\n",
       "    <tr>\n",
       "      <th>648</th>\n",
       "      <td>Uncapped Games - Data Scientist (All Levels)</td>\n",
       "      <td>Employer Provided Salary:$90K - $242K</td>\n",
       "      <td>Work Mode:\\nOnsite\\nResponsibilities:\\nDescrip...</td>\n",
       "      <td>4.1</td>\n",
       "      <td>Tencent\\n4.1</td>\n",
       "      <td>Los Angeles, CA</td>\n",
       "      <td>10000+ Employees</td>\n",
       "      <td>1998</td>\n",
       "      <td>Company - Public</td>\n",
       "      <td>Internet &amp; Web Services</td>\n",
       "      <td>Information Technology</td>\n",
       "      <td>Unknown / Non-Applicable</td>\n",
       "    </tr>\n",
       "    <tr>\n",
       "      <th>110</th>\n",
       "      <td>Product Data Scientist</td>\n",
       "      <td>Employer Provided Salary:$73K - $176K</td>\n",
       "      <td>At PayPal (NASDAQ: PYPL), we believe that ever...</td>\n",
       "      <td>4.0</td>\n",
       "      <td>PayPal\\n4.0</td>\n",
       "      <td>New York, NY</td>\n",
       "      <td>10000+ Employees</td>\n",
       "      <td>1998</td>\n",
       "      <td>Company - Public</td>\n",
       "      <td>Internet &amp; Web Services</td>\n",
       "      <td>Information Technology</td>\n",
       "      <td>$10+ billion (USD)</td>\n",
       "    </tr>\n",
       "    <tr>\n",
       "      <th>680</th>\n",
       "      <td>Data Scientist</td>\n",
       "      <td>Employer Provided Salary:$150K - $175K</td>\n",
       "      <td>We're on a mission\\nAt Octaura, we continually...</td>\n",
       "      <td>5.0</td>\n",
       "      <td>Octaura\\n5.0</td>\n",
       "      <td>New York, NY</td>\n",
       "      <td>1 to 50 Employees</td>\n",
       "      <td>2022</td>\n",
       "      <td>Company - Private</td>\n",
       "      <td>Financial Transaction Processing</td>\n",
       "      <td>Financial Services</td>\n",
       "      <td>Unknown / Non-Applicable</td>\n",
       "    </tr>\n",
       "    <tr>\n",
       "      <th>266</th>\n",
       "      <td>Data Scientist</td>\n",
       "      <td>Employer Provided Salary:$110K - $113K</td>\n",
       "      <td>Greetings from KonnectingTree!\\nWe are looking...</td>\n",
       "      <td>-1.0</td>\n",
       "      <td>Konnectingtree</td>\n",
       "      <td>Remote</td>\n",
       "      <td>1 to 50 Employees</td>\n",
       "      <td>-1</td>\n",
       "      <td>Company - Public</td>\n",
       "      <td>-1</td>\n",
       "      <td>-1</td>\n",
       "      <td>Unknown / Non-Applicable</td>\n",
       "    </tr>\n",
       "    <tr>\n",
       "      <th>759</th>\n",
       "      <td>Data Scientist I</td>\n",
       "      <td>$95K - $125K (Glassdoor est.)</td>\n",
       "      <td>Our Purpose\\nWe work to connect and power an i...</td>\n",
       "      <td>4.3</td>\n",
       "      <td>Mastercard\\n4.3</td>\n",
       "      <td>O Fallon, MO</td>\n",
       "      <td>10000+ Employees</td>\n",
       "      <td>1966</td>\n",
       "      <td>Company - Public</td>\n",
       "      <td>Financial Transaction Processing</td>\n",
       "      <td>Financial Services</td>\n",
       "      <td>Unknown / Non-Applicable</td>\n",
       "    </tr>\n",
       "  </tbody>\n",
       "</table>\n",
       "</div>"
      ],
      "text/plain": [
       "                                        Job Title  \\\n",
       "14                                 Data Scientist   \n",
       "577                         Senior Data Scientist   \n",
       "703                                Data Scientist   \n",
       "892                         Senior Data Scientist   \n",
       "794                                Data Scientist   \n",
       "648  Uncapped Games - Data Scientist (All Levels)   \n",
       "110                        Product Data Scientist   \n",
       "680                                Data Scientist   \n",
       "266                                Data Scientist   \n",
       "759                              Data Scientist I   \n",
       "\n",
       "                            Salary Estimate  \\\n",
       "14    Employer Provided Salary:$70K - $140K   \n",
       "577                                      -1   \n",
       "703           $89K - $128K (Glassdoor est.)   \n",
       "892  Employer Provided Salary:$135K - $196K   \n",
       "794                                      -1   \n",
       "648   Employer Provided Salary:$90K - $242K   \n",
       "110   Employer Provided Salary:$73K - $176K   \n",
       "680  Employer Provided Salary:$150K - $175K   \n",
       "266  Employer Provided Salary:$110K - $113K   \n",
       "759           $95K - $125K (Glassdoor est.)   \n",
       "\n",
       "                                       Job Description  Rating  \\\n",
       "14   Develops, validates and executes algorithms an...     3.1   \n",
       "577  As the Senior Data Scientist , you will help s...     3.9   \n",
       "703  Responsible for working with business users to...     3.8   \n",
       "892  At Realtor.com®, we have among the most compre...     3.7   \n",
       "794  Marlabs LLC, a Piscataway, NJ-based software a...     3.7   \n",
       "648  Work Mode:\\nOnsite\\nResponsibilities:\\nDescrip...     4.1   \n",
       "110  At PayPal (NASDAQ: PYPL), we believe that ever...     4.0   \n",
       "680  We're on a mission\\nAt Octaura, we continually...     5.0   \n",
       "266  Greetings from KonnectingTree!\\nWe are looking...    -1.0   \n",
       "759  Our Purpose\\nWe work to connect and power an i...     4.3   \n",
       "\n",
       "                                 Company Name          Location  \\\n",
       "14                            CVS Health\\n3.1      New York, NY   \n",
       "577                      Kellogg Company\\n3.9  Battle Creek, MI   \n",
       "703                 Health Alliance Plan\\n3.8       Detroit, MI   \n",
       "892                  Realtor.com Careers\\n3.7        Austin, TX   \n",
       "794  Marlabs Innovations Private Limited\\n3.7     United States   \n",
       "648                              Tencent\\n4.1   Los Angeles, CA   \n",
       "110                               PayPal\\n4.0      New York, NY   \n",
       "680                              Octaura\\n5.0      New York, NY   \n",
       "266                            Konnectingtree            Remote   \n",
       "759                           Mastercard\\n4.3      O Fallon, MO   \n",
       "\n",
       "                       Size  Founded  Type of ownership  \\\n",
       "14         10000+ Employees     1963   Company - Public   \n",
       "577        10000+ Employees     1906   Company - Public   \n",
       "703  1001 to 5000 Employees     1956  Company - Private   \n",
       "892  1001 to 5000 Employees     1993  Company - Private   \n",
       "794  1001 to 5000 Employees     1996  Company - Private   \n",
       "648        10000+ Employees     1998   Company - Public   \n",
       "110        10000+ Employees     1998   Company - Public   \n",
       "680       1 to 50 Employees     2022  Company - Private   \n",
       "266       1 to 50 Employees       -1   Company - Public   \n",
       "759        10000+ Employees     1966   Company - Public   \n",
       "\n",
       "                                    Industry                  Sector  \\\n",
       "14          Health Care Services & Hospitals              Healthcare   \n",
       "577            Food & Beverage Manufacturing           Manufacturing   \n",
       "703                       Insurance Carriers               Insurance   \n",
       "892            Computer Hardware Development  Information Technology   \n",
       "794  Information Technology Support Services  Information Technology   \n",
       "648                  Internet & Web Services  Information Technology   \n",
       "110                  Internet & Web Services  Information Technology   \n",
       "680         Financial Transaction Processing      Financial Services   \n",
       "266                                       -1                      -1   \n",
       "759         Financial Transaction Processing      Financial Services   \n",
       "\n",
       "                        Revenue  \n",
       "14           $10+ billion (USD)  \n",
       "577          $10+ billion (USD)  \n",
       "703      $1 to $5 billion (USD)  \n",
       "892    Unknown / Non-Applicable  \n",
       "794  $100 to $500 million (USD)  \n",
       "648    Unknown / Non-Applicable  \n",
       "110          $10+ billion (USD)  \n",
       "680    Unknown / Non-Applicable  \n",
       "266    Unknown / Non-Applicable  \n",
       "759    Unknown / Non-Applicable  "
      ]
     },
     "execution_count": 5,
     "metadata": {},
     "output_type": "execute_result"
    }
   ],
   "source": [
    "raw_df.sample(10)"
   ]
  },
  {
   "cell_type": "code",
   "execution_count": 6,
   "id": "7f3b286c-70eb-4e06-aa0a-48f032a9a6e5",
   "metadata": {
    "tags": []
   },
   "outputs": [
    {
     "name": "stdout",
     "output_type": "stream",
     "text": [
      "<class 'pandas.core.frame.DataFrame'>\n",
      "RangeIndex: 1000 entries, 0 to 999\n",
      "Data columns (total 12 columns):\n",
      " #   Column             Non-Null Count  Dtype  \n",
      "---  ------             --------------  -----  \n",
      " 0   Job Title          1000 non-null   object \n",
      " 1   Salary Estimate    1000 non-null   object \n",
      " 2   Job Description    1000 non-null   object \n",
      " 3   Rating             1000 non-null   float64\n",
      " 4   Company Name       1000 non-null   object \n",
      " 5   Location           1000 non-null   object \n",
      " 6   Size               1000 non-null   object \n",
      " 7   Founded            1000 non-null   int64  \n",
      " 8   Type of ownership  1000 non-null   object \n",
      " 9   Industry           1000 non-null   object \n",
      " 10  Sector             1000 non-null   object \n",
      " 11  Revenue            1000 non-null   object \n",
      "dtypes: float64(1), int64(1), object(10)\n",
      "memory usage: 93.9+ KB\n"
     ]
    }
   ],
   "source": [
    "raw_df.info()"
   ]
  },
  {
   "cell_type": "markdown",
   "id": "f9984173-beb7-43bf-9ee6-c11427c9b077",
   "metadata": {
    "tags": []
   },
   "source": [
    "# Data Cleaning & preprocessing\n",
    "__________________________________________________________________________________________________________________________________________________\n"
   ]
  },
  {
   "cell_type": "markdown",
   "id": "523501af-dc3b-45e5-852a-d0d8fe3443e4",
   "metadata": {
    "tags": []
   },
   "source": [
    "## 1. Job title Column"
   ]
  },
  {
   "cell_type": "markdown",
   "id": "a9f9806c-3f2a-46f5-b9e4-f579907bc8e9",
   "metadata": {},
   "source": [
    "### 1. Try to classify the job titles in terms of title and seniority\n",
    "### 2. the seniority column has alot of missing values"
   ]
  },
  {
   "cell_type": "code",
   "execution_count": 7,
   "id": "2c36f1b5-f0fd-4c82-9915-2634c1aca677",
   "metadata": {
    "tags": []
   },
   "outputs": [
    {
     "data": {
      "text/plain": [
       "Data Scientist                                      364\n",
       "Senior Data Scientist                               110\n",
       "Decision Scientist                                   57\n",
       "Aspire Tech Program - Data Scientist I               32\n",
       "Data Scientist III (Data Products)                   31\n",
       "Data Scientist, Product Engagement                   30\n",
       "DATA SCIENTIST I                                     29\n",
       "Data Scientist I                                     28\n",
       "Junior Data Scientist/Data Modeler                   28\n",
       "Jr Data Scientist                                    27\n",
       "Data Scientist - Fraud                               25\n",
       "Data Scientist, Product                              24\n",
       "Senior Data Scientist (2 openings)                   22\n",
       "Data Scientist I - Telecommute Opportunity           20\n",
       "Artificial Intelligence (AI) Trainer                 18\n",
       "Data Analyst                                         17\n",
       "Senior Data Scientist, Analytics                     13\n",
       "Senior Data Scientist (Product Analytics)            11\n",
       "Uncapped Games - Data Scientist (All Levels)          9\n",
       "Senior Data Scientist (Data Products)                 9\n",
       "Data Scientist - Artificial Intelligence              8\n",
       "Associate Data Scientist                              7\n",
       "Junior Data Scientist                                 7\n",
       "Data Scientist - Product                              7\n",
       "Data Scientist (REMOTE)                               6\n",
       "Data Scientist Associate I                            6\n",
       "Data Scientist - Remote                               4\n",
       "Data Scientist/Modeler I                              4\n",
       "Junior Scientific Programmer/Data Scientist           4\n",
       "Data Scientist I, Bioinformatics                      3\n",
       "Product Data Scientist                                3\n",
       "Data Scientist I - Neurology (Epilepsy)               3\n",
       "data scientist - multiple openings                    2\n",
       "Jr. Data Scientist, Minerva Analytics                 2\n",
       "Senior Associate, Data Scientist                      2\n",
       "Senior Data Scientist | Product                       2\n",
       "Data Scientist - Cost Analytics                       2\n",
       "Data Scientist, Product Analytics                     2\n",
       "AI Data Scientist                                     2\n",
       "Lead Data Scientist                                   2\n",
       "Data Scientist Engineer                               1\n",
       "Data Scientist, Services                              1\n",
       "Statistical Analyst                                   1\n",
       "Data Mining Analyst                                   1\n",
       "Data Scientist, Bioinformatics                        1\n",
       "Intelligence Data Engineer                            1\n",
       "Staff Data Scientist                                  1\n",
       "Staff Data Scientist - Search & Recommendation        1\n",
       "Data Scientist, Data Services - Remote                1\n",
       "Data Analyst/Scientist US Remote                      1\n",
       "Data Scientist III                                    1\n",
       "Data Scientist 1 Remote                               1\n",
       "Data Scientist I, SPH-Data Sciences in Precision      1\n",
       "Data Scientist, GBG Data Science                      1\n",
       "Scientist III, Data Reviewer                          1\n",
       "Junior Data Science Analyst                           1\n",
       "Remote - Data Scientist                               1\n",
       "Data Scientist I - Hybrid                             1\n",
       "Name: Job Title, dtype: int64"
      ]
     },
     "execution_count": 7,
     "metadata": {},
     "output_type": "execute_result"
    }
   ],
   "source": [
    "raw_df['Job Title'].value_counts()"
   ]
  },
  {
   "cell_type": "code",
   "execution_count": 8,
   "id": "c622ef55-e182-4179-a1cd-40092c653eea",
   "metadata": {
    "tags": []
   },
   "outputs": [],
   "source": [
    "def title_simplifier(title):\n",
    "    if 'data scientist' in title.lower() or 'scientist' in title.lower():\n",
    "        return 'data scientist'\n",
    "    elif 'data analyst' in title.lower() or 'analyst' in title.lower():\n",
    "        return 'data analyst'\n",
    "    elif 'decision scientist' in title.lower():\n",
    "        return 'decision scientist'\n",
    "    elif 'artificial intelligence' in title.lower():\n",
    "        return 'machine learning engineer'\n",
    "    elif 'data engineer' in title.lower():\n",
    "        return 'data engineer'\n",
    "    else:\n",
    "        return 'na'\n",
    "    \n",
    "def seniorty(title):\n",
    "    if 'senior' in title.lower() or 'sr' in title.lower() or 'lead' in title.lower() or 'principal' in title.lower():\n",
    "        return 'senior'\n",
    "    elif 'jr' in title.lower() or 'jr.' in title.lower() or 'junior' in title.lower():\n",
    "        return 'junior'\n",
    "    else:\n",
    "        return 'na'"
   ]
  },
  {
   "cell_type": "code",
   "execution_count": 9,
   "id": "bbda79bd-0988-4132-ba3f-f719d577aac5",
   "metadata": {
    "tags": []
   },
   "outputs": [],
   "source": [
    "raw_df['job_title'] = raw_df['Job Title'].apply(title_simplifier)"
   ]
  },
  {
   "cell_type": "code",
   "execution_count": 10,
   "id": "63e09545-6bdc-4081-b85a-79dbe4516895",
   "metadata": {
    "tags": []
   },
   "outputs": [
    {
     "data": {
      "text/plain": [
       "data scientist               961\n",
       "data analyst                  20\n",
       "machine learning engineer     18\n",
       "data engineer                  1\n",
       "Name: job_title, dtype: int64"
      ]
     },
     "execution_count": 10,
     "metadata": {},
     "output_type": "execute_result"
    }
   ],
   "source": [
    "raw_df.job_title.value_counts()"
   ]
  },
  {
   "cell_type": "code",
   "execution_count": 11,
   "id": "a7c2d034-2fb0-4566-9abf-9291a3c96699",
   "metadata": {
    "tags": []
   },
   "outputs": [],
   "source": [
    "raw_df['seniority'] = raw_df['Job Title'].apply(seniorty)"
   ]
  },
  {
   "cell_type": "code",
   "execution_count": 12,
   "id": "99dd5d1f-be95-4fd8-8084-cc879e9ba0a0",
   "metadata": {
    "tags": []
   },
   "outputs": [
    {
     "data": {
      "text/plain": [
       "na        760\n",
       "senior    171\n",
       "junior     69\n",
       "Name: seniority, dtype: int64"
      ]
     },
     "execution_count": 12,
     "metadata": {},
     "output_type": "execute_result"
    }
   ],
   "source": [
    "# alot of Na in the seniority column\n",
    "raw_df['seniority'].value_counts()"
   ]
  },
  {
   "cell_type": "markdown",
   "id": "d4b7d601-971e-490e-b540-798b05e28da3",
   "metadata": {
    "jp-MarkdownHeadingCollapsed": true,
    "tags": []
   },
   "source": [
    "## 2. Salary Column"
   ]
  },
  {
   "cell_type": "markdown",
   "id": "c977c56b-e8eb-4664-9f98-5d5e1454f375",
   "metadata": {
    "tags": []
   },
   "source": [
    "### 1. Parse the Salary Data Column \n",
    "### 2. Remove rows in which salary equal -1\n",
    "### 3. Remove any Text in the columns\n",
    "### 4. Change Hourly Rate salary to Yearly rate\n",
    "### 5. split salary into min and max salary column\n",
    "### 6. calculate the avg salary"
   ]
  },
  {
   "cell_type": "code",
   "execution_count": 13,
   "id": "9b5fccd2-f1c8-4333-a0ee-7dc8ff1623f2",
   "metadata": {
    "tags": []
   },
   "outputs": [
    {
     "data": {
      "text/plain": [
       "222"
      ]
     },
     "execution_count": 13,
     "metadata": {},
     "output_type": "execute_result"
    }
   ],
   "source": [
    "# How many Null values in the salary column\n",
    "len(raw_df[raw_df['Salary Estimate' ] == '-1'])"
   ]
  },
  {
   "cell_type": "code",
   "execution_count": 14,
   "id": "c7237bdb-dae0-4e3e-9567-f54db31bc864",
   "metadata": {
    "tags": []
   },
   "outputs": [
    {
     "data": {
      "text/plain": [
       "778"
      ]
     },
     "execution_count": 14,
     "metadata": {},
     "output_type": "execute_result"
    }
   ],
   "source": [
    "# Remove Columns where Salary == -1, We Ended up with 778 rows that have salary\n",
    "raw_df = raw_df[raw_df['Salary Estimate'] != '-1']\n",
    "len(raw_df)"
   ]
  },
  {
   "cell_type": "code",
   "execution_count": 15,
   "id": "b96176a4-153d-449f-b4c9-f30b9b1603ca",
   "metadata": {
    "tags": []
   },
   "outputs": [
    {
     "data": {
      "text/plain": [
       "762             $89K - $128K (Glassdoor est.)\n",
       "391    Employer Provided Salary:$133K - $185K\n",
       "451              $67K - $96K (Glassdoor est.)\n",
       "589    Employer Provided Salary:$150K - $175K\n",
       "573    Employer Provided Salary:$150K - $200K\n",
       "161     Employer Provided Salary:$90K - $180K\n",
       "766            Employer Provided Salary:$100K\n",
       "170             $92K - $125K (Glassdoor est.)\n",
       "232    Employer Provided Salary:$180K - $205K\n",
       "548    Employer Provided Salary:$135K - $196K\n",
       "555     Employer Provided Salary:$90K - $242K\n",
       "189    Employer Provided Salary:$180K - $205K\n",
       "830    Employer Provided Salary:$150K - $175K\n",
       "753    Employer Provided Salary:$133K - $185K\n",
       "667     Employer Provided Salary:$70K - $140K\n",
       "415    Employer Provided Salary:$114K - $157K\n",
       "913             $95K - $125K (Glassdoor est.)\n",
       "505             $89K - $122K (Glassdoor est.)\n",
       "295    Employer Provided Salary:$180K - $205K\n",
       "234             $92K - $133K (Glassdoor est.)\n",
       "Name: Salary Estimate, dtype: object"
      ]
     },
     "execution_count": 15,
     "metadata": {},
     "output_type": "execute_result"
    }
   ],
   "source": [
    "raw_df['Salary Estimate'].sample(20)"
   ]
  },
  {
   "cell_type": "code",
   "execution_count": 16,
   "id": "5145cf1a-591f-4899-b09e-39db5a601eb2",
   "metadata": {
    "tags": []
   },
   "outputs": [
    {
     "data": {
      "text/plain": [
       "180    123-178\n",
       "445     78-184\n",
       "900    123-178\n",
       "363     95-125\n",
       "530     89-122\n",
       "103      80-90\n",
       "855        100\n",
       "85     130-146\n",
       "899      80-90\n",
       "91     160-255\n",
       "Name: Salary Estimate, dtype: object"
      ]
     },
     "execution_count": 16,
     "metadata": {},
     "output_type": "execute_result"
    }
   ],
   "source": [
    "# Use Regex to Remove Text in the Salary Column\n",
    "salary = raw_df['Salary Estimate'].str.replace(r'[^0-9-_]', '',regex = True)\n",
    "salary.sample(10)"
   ]
  },
  {
   "cell_type": "code",
   "execution_count": 17,
   "id": "f25e50d0-bc86-417b-8226-95c01e6b3e96",
   "metadata": {
    "tags": []
   },
   "outputs": [
    {
     "name": "stdout",
     "output_type": "stream",
     "text": [
      "7000-7500\n",
      "6500-7500\n",
      "7563\n"
     ]
    }
   ],
   "source": [
    "# The Per hour Columns salary became so big after the dot removed\n",
    "print(salary.loc[52])\n",
    "print(salary.loc[16])\n",
    "print(salary.loc[501])"
   ]
  },
  {
   "cell_type": "code",
   "execution_count": 18,
   "id": "81f9c909-27c0-44e2-a040-dc7ae0ffeb9c",
   "metadata": {
    "tags": []
   },
   "outputs": [],
   "source": [
    "# split the salary column into a list \n",
    "list_salary =salary.str.split('-')"
   ]
  },
  {
   "cell_type": "code",
   "execution_count": 19,
   "id": "fff4e503-8080-4b19-86ce-334c8d0d7feb",
   "metadata": {
    "tags": []
   },
   "outputs": [],
   "source": [
    "# We need to change the per hour salary to per year\n",
    "# per year rate = no. * 1.8 / 1000\n",
    "#Loop through the salary list and check for numbers > 1000 (per hour columns) and divide by 100\n",
    "for s in list_salary:\n",
    "    for i in range(len(s)):\n",
    "        if int(s[i]) > 1000:\n",
    "            s[i] = (int(s[i]) * 1.8)/ 100"
   ]
  },
  {
   "cell_type": "code",
   "execution_count": 20,
   "id": "8dd121a0-7630-4f02-b213-4b6dd3687eeb",
   "metadata": {
    "tags": []
   },
   "outputs": [
    {
     "name": "stdout",
     "output_type": "stream",
     "text": [
      "[126.0, 135.0]\n",
      "[117.0, 135.0]\n",
      "[136.134]\n"
     ]
    }
   ],
   "source": [
    "print(list_salary.loc[52])\n",
    "print(list_salary.loc[16])\n",
    "print(list_salary.loc[501])"
   ]
  },
  {
   "cell_type": "code",
   "execution_count": 21,
   "id": "c137ae87-ee9f-44db-a42e-1e1a458d3e78",
   "metadata": {
    "tags": []
   },
   "outputs": [],
   "source": [
    "# Create Two new columns( one for min_salary and one for max_salary)\n",
    "raw_df['min_salary'] = list_salary.apply(lambda x: int(x[0]))\n",
    "# Takes x[0] if list has only one value,\n",
    "raw_df['max_salary'] = list_salary.apply(lambda x: int(x[1]) if len(x)>1 else int(x[0]))"
   ]
  },
  {
   "cell_type": "code",
   "execution_count": 22,
   "id": "6e0a89c7-6c0b-46ae-a93b-15a125460273",
   "metadata": {
    "tags": []
   },
   "outputs": [
    {
     "data": {
      "text/plain": [
       "0      [123, 178]\n",
       "2      [135, 196]\n",
       "3      [102, 148]\n",
       "4       [95, 125]\n",
       "6           [100]\n",
       "          ...    \n",
       "992    [108, 132]\n",
       "993    [133, 185]\n",
       "995    [150, 200]\n",
       "996    [149, 175]\n",
       "998         [183]\n",
       "Name: Salary Estimate, Length: 778, dtype: object"
      ]
     },
     "execution_count": 22,
     "metadata": {},
     "output_type": "execute_result"
    }
   ],
   "source": [
    "list_salary"
   ]
  },
  {
   "cell_type": "code",
   "execution_count": 23,
   "id": "9b9b2ae8-6c1b-4352-8977-35a0f48faaa2",
   "metadata": {
    "tags": []
   },
   "outputs": [],
   "source": [
    "# Evaluate the avg salary\n",
    "raw_df['avg_salary'] = (raw_df.min_salary + raw_df.max_salary) / 2"
   ]
  },
  {
   "cell_type": "markdown",
   "id": "0697c593-e6d5-4e15-90c2-4ddfeeaf0d27",
   "metadata": {
    "jp-MarkdownHeadingCollapsed": true,
    "tags": []
   },
   "source": [
    "## 3. Description Column"
   ]
  },
  {
   "cell_type": "markdown",
   "id": "41270343-a7f2-4d1e-bd06-29d7199eafa7",
   "metadata": {},
   "source": [
    "### 1. Create a new column call Desc_length, contain no3. of characters in each job description"
   ]
  },
  {
   "cell_type": "code",
   "execution_count": 24,
   "id": "87e04a88-2158-48d1-be48-6e73cbf49a49",
   "metadata": {
    "tags": []
   },
   "outputs": [
    {
     "data": {
      "text/plain": [
       "\"At Realtor.com®, we have among the most comprehensive and accurate coverage of real estate listings and the most engaged users across all the online real estate portals. Our mission is to make buying, selling, renting, and living in homes easier and more rewarding for everyone.\\nBuilding your career? Build it better at Realtor.com®. Join us and help change the world of real estate, one home at a time.\\nCome to work for http://Realtor.com ![ A leader in online real estate and backed by industry experience and the News Corp Brand, http://Realtor.com\\nhttp://Realtor.com currently has an opportunity for a Data Scientist, Product Analytics, reporting to the Director of Analytics for Growth Product. http://Realtor.com is in the middle of aggressive strategic growth driven off of newly integrated entities, and continuing our record growth and consumer engagement will be critical to http://Realtor.com 's strategic success in the industry. Specifically, this role's core responsibilities will focus on partnering directly with the major functions of the business to drive consumer engagement, conversion and overall optimization of the consumer's journey for our emerging product and service areas. There is a tremendous opportunity to make a huge impact in a short amount of time!\""
      ]
     },
     "execution_count": 24,
     "metadata": {},
     "output_type": "execute_result"
    }
   ],
   "source": [
    "raw_df['Job Description'][0]"
   ]
  },
  {
   "cell_type": "code",
   "execution_count": 25,
   "id": "acee3391-9aa4-471c-a581-0e82ff64553a",
   "metadata": {
    "tags": []
   },
   "outputs": [
    {
     "data": {
      "text/plain": [
       "0      1283\n",
       "2      1202\n",
       "3      1206\n",
       "4      3064\n",
       "6       783\n",
       "       ... \n",
       "992    1305\n",
       "993    1540\n",
       "995    1884\n",
       "996     874\n",
       "998     544\n",
       "Name: desc_len, Length: 778, dtype: int64"
      ]
     },
     "execution_count": 25,
     "metadata": {},
     "output_type": "execute_result"
    }
   ],
   "source": [
    "raw_df['desc_len'] = raw_df['Job Description'].apply(lambda x: len(x))\n",
    "raw_df['desc_len']"
   ]
  },
  {
   "cell_type": "markdown",
   "id": "b0180ded-3bc9-46e3-a1bd-645ad3a3f4c2",
   "metadata": {
    "jp-MarkdownHeadingCollapsed": true,
    "tags": []
   },
   "source": [
    "## 4. Rating Column"
   ]
  },
  {
   "cell_type": "code",
   "execution_count": null,
   "id": "f8a3c0c7-d40d-4d6f-868e-bd23f92e2a71",
   "metadata": {},
   "outputs": [],
   "source": []
  },
  {
   "cell_type": "markdown",
   "id": "20b90cba-7e73-4196-aa7e-524961157748",
   "metadata": {
    "jp-MarkdownHeadingCollapsed": true,
    "tags": []
   },
   "source": [
    "## 5. Company Name Column"
   ]
  },
  {
   "cell_type": "markdown",
   "id": "6e3c5a51-6031-4ef1-ba7c-2879032c6258",
   "metadata": {},
   "source": [
    "### 1. Remove the trailing Rating from the company name\n",
    "### 2. remove the \\n from the company name"
   ]
  },
  {
   "cell_type": "code",
   "execution_count": 26,
   "id": "f1b852a2-dcb7-4774-bd4d-490033c8c614",
   "metadata": {
    "tags": []
   },
   "outputs": [
    {
     "data": {
      "text/html": [
       "<div>\n",
       "<style scoped>\n",
       "    .dataframe tbody tr th:only-of-type {\n",
       "        vertical-align: middle;\n",
       "    }\n",
       "\n",
       "    .dataframe tbody tr th {\n",
       "        vertical-align: top;\n",
       "    }\n",
       "\n",
       "    .dataframe thead th {\n",
       "        text-align: right;\n",
       "    }\n",
       "</style>\n",
       "<table border=\"1\" class=\"dataframe\">\n",
       "  <thead>\n",
       "    <tr style=\"text-align: right;\">\n",
       "      <th></th>\n",
       "      <th>Rating</th>\n",
       "      <th>Company Name</th>\n",
       "    </tr>\n",
       "  </thead>\n",
       "  <tbody>\n",
       "    <tr>\n",
       "      <th>878</th>\n",
       "      <td>4.4</td>\n",
       "      <td>SAP\\n4.4</td>\n",
       "    </tr>\n",
       "    <tr>\n",
       "      <th>868</th>\n",
       "      <td>4.6</td>\n",
       "      <td>Etsy\\n4.6</td>\n",
       "    </tr>\n",
       "    <tr>\n",
       "      <th>563</th>\n",
       "      <td>4.1</td>\n",
       "      <td>Visa\\n4.1</td>\n",
       "    </tr>\n",
       "    <tr>\n",
       "      <th>781</th>\n",
       "      <td>3.5</td>\n",
       "      <td>Dataminr\\n3.5</td>\n",
       "    </tr>\n",
       "    <tr>\n",
       "      <th>336</th>\n",
       "      <td>4.8</td>\n",
       "      <td>Notion\\n4.8</td>\n",
       "    </tr>\n",
       "    <tr>\n",
       "      <th>814</th>\n",
       "      <td>4.0</td>\n",
       "      <td>Cedar Inc\\n4.0</td>\n",
       "    </tr>\n",
       "    <tr>\n",
       "      <th>872</th>\n",
       "      <td>3.5</td>\n",
       "      <td>Dataminr\\n3.5</td>\n",
       "    </tr>\n",
       "    <tr>\n",
       "      <th>893</th>\n",
       "      <td>4.0</td>\n",
       "      <td>Cedar Inc\\n4.0</td>\n",
       "    </tr>\n",
       "    <tr>\n",
       "      <th>820</th>\n",
       "      <td>4.8</td>\n",
       "      <td>Notion\\n4.8</td>\n",
       "    </tr>\n",
       "    <tr>\n",
       "      <th>218</th>\n",
       "      <td>4.3</td>\n",
       "      <td>Mastercard\\n4.3</td>\n",
       "    </tr>\n",
       "    <tr>\n",
       "      <th>958</th>\n",
       "      <td>4.2</td>\n",
       "      <td>current\\n4.2</td>\n",
       "    </tr>\n",
       "    <tr>\n",
       "      <th>903</th>\n",
       "      <td>3.9</td>\n",
       "      <td>Meta\\n3.9</td>\n",
       "    </tr>\n",
       "    <tr>\n",
       "      <th>897</th>\n",
       "      <td>3.1</td>\n",
       "      <td>CVS Health\\n3.1</td>\n",
       "    </tr>\n",
       "    <tr>\n",
       "      <th>242</th>\n",
       "      <td>4.0</td>\n",
       "      <td>Cedar Inc\\n4.0</td>\n",
       "    </tr>\n",
       "    <tr>\n",
       "      <th>243</th>\n",
       "      <td>4.3</td>\n",
       "      <td>Neuberger Berman\\n4.3</td>\n",
       "    </tr>\n",
       "    <tr>\n",
       "      <th>852</th>\n",
       "      <td>3.8</td>\n",
       "      <td>Health Alliance Plan\\n3.8</td>\n",
       "    </tr>\n",
       "    <tr>\n",
       "      <th>478</th>\n",
       "      <td>4.1</td>\n",
       "      <td>Visa\\n4.1</td>\n",
       "    </tr>\n",
       "    <tr>\n",
       "      <th>132</th>\n",
       "      <td>3.2</td>\n",
       "      <td>WALGREENS\\n3.2</td>\n",
       "    </tr>\n",
       "    <tr>\n",
       "      <th>895</th>\n",
       "      <td>3.9</td>\n",
       "      <td>eimagine\\n3.9</td>\n",
       "    </tr>\n",
       "    <tr>\n",
       "      <th>474</th>\n",
       "      <td>4.2</td>\n",
       "      <td>FAST GROWING TREES LLC\\n4.2</td>\n",
       "    </tr>\n",
       "    <tr>\n",
       "      <th>568</th>\n",
       "      <td>3.5</td>\n",
       "      <td>Discord\\n3.5</td>\n",
       "    </tr>\n",
       "    <tr>\n",
       "      <th>100</th>\n",
       "      <td>4.1</td>\n",
       "      <td>Visa\\n4.1</td>\n",
       "    </tr>\n",
       "    <tr>\n",
       "      <th>764</th>\n",
       "      <td>4.4</td>\n",
       "      <td>SAP\\n4.4</td>\n",
       "    </tr>\n",
       "    <tr>\n",
       "      <th>359</th>\n",
       "      <td>4.2</td>\n",
       "      <td>current\\n4.2</td>\n",
       "    </tr>\n",
       "    <tr>\n",
       "      <th>752</th>\n",
       "      <td>4.0</td>\n",
       "      <td>RELX\\n4.0</td>\n",
       "    </tr>\n",
       "    <tr>\n",
       "      <th>892</th>\n",
       "      <td>3.7</td>\n",
       "      <td>Realtor.com Careers\\n3.7</td>\n",
       "    </tr>\n",
       "    <tr>\n",
       "      <th>237</th>\n",
       "      <td>3.8</td>\n",
       "      <td>UTHealth - Houston\\n3.8</td>\n",
       "    </tr>\n",
       "    <tr>\n",
       "      <th>778</th>\n",
       "      <td>3.7</td>\n",
       "      <td>Realtor.com Careers\\n3.7</td>\n",
       "    </tr>\n",
       "    <tr>\n",
       "      <th>168</th>\n",
       "      <td>3.9</td>\n",
       "      <td>Facebook App\\n3.9</td>\n",
       "    </tr>\n",
       "    <tr>\n",
       "      <th>800</th>\n",
       "      <td>5.0</td>\n",
       "      <td>Octaura\\n5.0</td>\n",
       "    </tr>\n",
       "    <tr>\n",
       "      <th>860</th>\n",
       "      <td>5.0</td>\n",
       "      <td>Octaura\\n5.0</td>\n",
       "    </tr>\n",
       "    <tr>\n",
       "      <th>990</th>\n",
       "      <td>3.7</td>\n",
       "      <td>Realtor.com Careers\\n3.7</td>\n",
       "    </tr>\n",
       "    <tr>\n",
       "      <th>224</th>\n",
       "      <td>3.1</td>\n",
       "      <td>CVS Health\\n3.1</td>\n",
       "    </tr>\n",
       "    <tr>\n",
       "      <th>171</th>\n",
       "      <td>3.1</td>\n",
       "      <td>CVS Health\\n3.1</td>\n",
       "    </tr>\n",
       "    <tr>\n",
       "      <th>241</th>\n",
       "      <td>3.9</td>\n",
       "      <td>Meta\\n3.9</td>\n",
       "    </tr>\n",
       "    <tr>\n",
       "      <th>906</th>\n",
       "      <td>4.0</td>\n",
       "      <td>Cedar Inc\\n4.0</td>\n",
       "    </tr>\n",
       "    <tr>\n",
       "      <th>930</th>\n",
       "      <td>3.7</td>\n",
       "      <td>Realtor.com Careers\\n3.7</td>\n",
       "    </tr>\n",
       "    <tr>\n",
       "      <th>622</th>\n",
       "      <td>3.7</td>\n",
       "      <td>National Security Agency\\n3.7</td>\n",
       "    </tr>\n",
       "    <tr>\n",
       "      <th>894</th>\n",
       "      <td>3.7</td>\n",
       "      <td>Realtor.com Careers\\n3.7</td>\n",
       "    </tr>\n",
       "    <tr>\n",
       "      <th>405</th>\n",
       "      <td>3.7</td>\n",
       "      <td>Realtor.com Careers\\n3.7</td>\n",
       "    </tr>\n",
       "  </tbody>\n",
       "</table>\n",
       "</div>"
      ],
      "text/plain": [
       "     Rating                   Company Name\n",
       "878     4.4                       SAP\\n4.4\n",
       "868     4.6                      Etsy\\n4.6\n",
       "563     4.1                      Visa\\n4.1\n",
       "781     3.5                  Dataminr\\n3.5\n",
       "336     4.8                    Notion\\n4.8\n",
       "814     4.0                 Cedar Inc\\n4.0\n",
       "872     3.5                  Dataminr\\n3.5\n",
       "893     4.0                 Cedar Inc\\n4.0\n",
       "820     4.8                    Notion\\n4.8\n",
       "218     4.3                Mastercard\\n4.3\n",
       "958     4.2                   current\\n4.2\n",
       "903     3.9                      Meta\\n3.9\n",
       "897     3.1                CVS Health\\n3.1\n",
       "242     4.0                 Cedar Inc\\n4.0\n",
       "243     4.3          Neuberger Berman\\n4.3\n",
       "852     3.8      Health Alliance Plan\\n3.8\n",
       "478     4.1                      Visa\\n4.1\n",
       "132     3.2                 WALGREENS\\n3.2\n",
       "895     3.9                  eimagine\\n3.9\n",
       "474     4.2    FAST GROWING TREES LLC\\n4.2\n",
       "568     3.5                   Discord\\n3.5\n",
       "100     4.1                      Visa\\n4.1\n",
       "764     4.4                       SAP\\n4.4\n",
       "359     4.2                   current\\n4.2\n",
       "752     4.0                      RELX\\n4.0\n",
       "892     3.7       Realtor.com Careers\\n3.7\n",
       "237     3.8        UTHealth - Houston\\n3.8\n",
       "778     3.7       Realtor.com Careers\\n3.7\n",
       "168     3.9              Facebook App\\n3.9\n",
       "800     5.0                   Octaura\\n5.0\n",
       "860     5.0                   Octaura\\n5.0\n",
       "990     3.7       Realtor.com Careers\\n3.7\n",
       "224     3.1                CVS Health\\n3.1\n",
       "171     3.1                CVS Health\\n3.1\n",
       "241     3.9                      Meta\\n3.9\n",
       "906     4.0                 Cedar Inc\\n4.0\n",
       "930     3.7       Realtor.com Careers\\n3.7\n",
       "622     3.7  National Security Agency\\n3.7\n",
       "894     3.7       Realtor.com Careers\\n3.7\n",
       "405     3.7       Realtor.com Careers\\n3.7"
      ]
     },
     "execution_count": 26,
     "metadata": {},
     "output_type": "execute_result"
    }
   ],
   "source": [
    "# you can see that companies that has -1 Rating, there name is fine\n",
    "# but companies that has a Rating, there name ends with \"\\n3.2\"\n",
    "raw_df[['Rating','Company Name']].sample(40)"
   ]
  },
  {
   "cell_type": "code",
   "execution_count": 27,
   "id": "5c3dabd3-e9f9-48df-aceb-72f3da9963c3",
   "metadata": {
    "tags": []
   },
   "outputs": [],
   "source": [
    "# Remove the Rating and /n from the company name tail\n",
    "raw_df['company_name'] = raw_df['Company Name'].str.replace(r'\\n([0-9]\\.[0-9])','',regex = True)"
   ]
  },
  {
   "cell_type": "code",
   "execution_count": 28,
   "id": "48820c2b-d668-4c0b-82aa-f7164995da29",
   "metadata": {
    "tags": []
   },
   "outputs": [
    {
     "data": {
      "text/plain": [
       "Realtor.com Careers                      75\n",
       "Cedar Inc                                51\n",
       "CVS Health                               37\n",
       "Salesforce                               31\n",
       "Neuberger Berman                         30\n",
       "Meta                                     30\n",
       "Mastercard                               29\n",
       "Health Alliance Plan                     29\n",
       "Octaura                                  28\n",
       "Stifel, Nicolaus & Co., Inc.             28\n",
       "RELX                                     28\n",
       "Veracity Software                        27\n",
       "Notion                                   24\n",
       "current                                  22\n",
       "National Security Agency                 21\n",
       "Dataminr                                 20\n",
       "eimagine                                 19\n",
       "Juji                                     18\n",
       "FAST GROWING TREES LLC                   17\n",
       "Etsy                                     16\n",
       "Discord                                  13\n",
       "Arkansas Blue Cross and Blue Shield      11\n",
       "Visa                                     11\n",
       "SAP                                      11\n",
       "Tencent                                  10\n",
       "Konnectingtree                            9\n",
       "Noble Drilling Services Inc.              8\n",
       "Great West Casualty Company               7\n",
       "Lyra Health                               7\n",
       "SoundThinking                             7\n",
       "General Dynamics Mission Systems, Inc     6\n",
       "Hyperspace Ventures                       5\n",
       "UT Southwestern                           4\n",
       "Cadent                                    4\n",
       "University of Minnesota                   4\n",
       "LexisNexis                                4\n",
       "Battelle                                  4\n",
       "PayPal                                    3\n",
       "WALGREENS                                 3\n",
       "DLZP Group                                3\n",
       "Bio-Rad Laboratories, Inc.                3\n",
       "UTHealth - Houston                        3\n",
       "Facebook App                              2\n",
       "Wise Equation Solutions                   2\n",
       "Ramp Financial                            2\n",
       "BAE Systems                               2\n",
       "Moveworks.ai                              2\n",
       "Blue Water Thinking                       2\n",
       "New York Life Insurance Co                2\n",
       "Goodwill                                  2\n",
       "Amazon.com Services LLC                   2\n",
       "ShyftLabs                                 2\n",
       "Vandved Search                            2\n",
       "Fabrx Space                               2\n",
       "Ascend Analytics, LLC                     2\n",
       "Hilton Grand Vacations                    1\n",
       "80 Acres Farms                            1\n",
       "Cal-Tex Protective Coatings, Inc.         1\n",
       "Knowesis                                  1\n",
       "Amneal Pharmaceuticals                    1\n",
       "Name: company_name, dtype: int64"
      ]
     },
     "execution_count": 28,
     "metadata": {},
     "output_type": "execute_result"
    }
   ],
   "source": [
    "len(raw_df['company_name'].unique())\n",
    "raw_df['company_name'].value_counts().head(60)"
   ]
  },
  {
   "cell_type": "markdown",
   "id": "8d302955-e9e0-4711-b792-a38f7952ba6c",
   "metadata": {
    "jp-MarkdownHeadingCollapsed": true,
    "tags": []
   },
   "source": [
    "## 6. Company Location Column"
   ]
  },
  {
   "cell_type": "markdown",
   "id": "64ac474a-8cb4-4640-a978-2c31a490010c",
   "metadata": {
    "tags": []
   },
   "source": [
    "### 1. Remove the Name of the States, Keep only the abbreviation\n",
    "### 2. Deal with anomalies ['Texas', 'United States', 'New York State']"
   ]
  },
  {
   "cell_type": "code",
   "execution_count": 29,
   "id": "353247ee-dddb-43ba-9e6e-d7883a2f4b17",
   "metadata": {
    "tags": []
   },
   "outputs": [
    {
     "data": {
      "text/plain": [
       "0             Austin, TX\n",
       "241               Remote\n",
       "786         New York, NY\n",
       "906         New York, NY\n",
       "581         New York, NY\n",
       "972           Iselin, NJ\n",
       "76          Columbus, OH\n",
       "392         New York, NY\n",
       "559                Texas\n",
       "706        Palo Alto, CA\n",
       "583         New York, NY\n",
       "77          Columbus, OH\n",
       "604               Remote\n",
       "415        United States\n",
       "601       Miamisburg, OH\n",
       "901       Miamisburg, OH\n",
       "327           Austin, TX\n",
       "247           Austin, TX\n",
       "778           Austin, TX\n",
       "492         New York, NY\n",
       "563          Atlanta, GA\n",
       "694         New York, NY\n",
       "318           Iselin, NJ\n",
       "372           Iselin, NJ\n",
       "516          Detroit, MI\n",
       "651         New York, NY\n",
       "891         New York, NY\n",
       "460         New York, NY\n",
       "173      Minneapolis, MN\n",
       "485               Remote\n",
       "512               Remote\n",
       "905         New York, NY\n",
       "762          Detroit, MI\n",
       "302       Miamisburg, OH\n",
       "410               Remote\n",
       "623           Austin, TX\n",
       "505          Atlanta, GA\n",
       "423       Miamisburg, OH\n",
       "570           Austin, TX\n",
       "544         O Fallon, MO\n",
       "932               Remote\n",
       "404           Austin, TX\n",
       "12                Remote\n",
       "19          Hamilton, OH\n",
       "454         New York, NY\n",
       "562               Remote\n",
       "718           Austin, TX\n",
       "83         United States\n",
       "852          Detroit, MI\n",
       "364       Miamisburg, OH\n",
       "208     Indianapolis, IN\n",
       "632               Remote\n",
       "933               Remote\n",
       "683               Remote\n",
       "816         New York, NY\n",
       "912           Iselin, NJ\n",
       "328               Remote\n",
       "218         O Fallon, MO\n",
       "960           Austin, TX\n",
       "591    San Francisco, CA\n",
       "Name: Location, dtype: object"
      ]
     },
     "execution_count": 29,
     "metadata": {},
     "output_type": "execute_result"
    }
   ],
   "source": [
    "raw_df['Location'].sample(60)"
   ]
  },
  {
   "cell_type": "code",
   "execution_count": 30,
   "id": "6a19334b-d92d-46d5-8a3b-fe0b09bd37f7",
   "metadata": {
    "tags": []
   },
   "outputs": [],
   "source": [
    "# Remove the name of the States, keep the abbreviations\n",
    "raw_df['job_state'] = raw_df['Location'].apply(lambda x: x.split(',')[1] if len(x.split(',')) > 1 else x)\n",
    "raw_df['job_state'] = raw_df['job_state'].str.strip()"
   ]
  },
  {
   "cell_type": "code",
   "execution_count": 31,
   "id": "7c17e547-7f65-4865-84c5-868d44195e5a",
   "metadata": {
    "tags": []
   },
   "outputs": [
    {
     "data": {
      "text/plain": [
       "NY                215\n",
       "CA                104\n",
       "TX                 97\n",
       "Remote             96\n",
       "OH                 39\n",
       "MI                 30\n",
       "MO                 29\n",
       "Texas              28\n",
       "NJ                 28\n",
       "MD                 22\n",
       "IN                 19\n",
       "GA                 11\n",
       "AR                 11\n",
       "NE                  7\n",
       "United States       7\n",
       "IL                  6\n",
       "NC                  5\n",
       "MN                  5\n",
       "PA                  5\n",
       "VA                  5\n",
       "CO                  3\n",
       "New York State      2\n",
       "KY                  1\n",
       "FL                  1\n",
       "WI                  1\n",
       "CT                  1\n",
       "Name: job_state, dtype: int64"
      ]
     },
     "execution_count": 31,
     "metadata": {},
     "output_type": "execute_result"
    }
   ],
   "source": [
    "# Turns out we have 4 abnormal values [ united States, Texas, Remote, New York State]\n",
    "raw_df['job_state'].value_counts()"
   ]
  },
  {
   "cell_type": "code",
   "execution_count": 32,
   "id": "01d5ed61-6230-4c4f-915c-fd8b0dd15bc6",
   "metadata": {
    "tags": []
   },
   "outputs": [
    {
     "data": {
      "text/html": [
       "<div>\n",
       "<style scoped>\n",
       "    .dataframe tbody tr th:only-of-type {\n",
       "        vertical-align: middle;\n",
       "    }\n",
       "\n",
       "    .dataframe tbody tr th {\n",
       "        vertical-align: top;\n",
       "    }\n",
       "\n",
       "    .dataframe thead th {\n",
       "        text-align: right;\n",
       "    }\n",
       "</style>\n",
       "<table border=\"1\" class=\"dataframe\">\n",
       "  <thead>\n",
       "    <tr style=\"text-align: right;\">\n",
       "      <th></th>\n",
       "      <th>Job Title</th>\n",
       "      <th>Salary Estimate</th>\n",
       "      <th>Job Description</th>\n",
       "      <th>Rating</th>\n",
       "      <th>Company Name</th>\n",
       "      <th>Location</th>\n",
       "      <th>Size</th>\n",
       "      <th>Founded</th>\n",
       "      <th>Type of ownership</th>\n",
       "      <th>Industry</th>\n",
       "      <th>Sector</th>\n",
       "      <th>Revenue</th>\n",
       "      <th>job_title</th>\n",
       "      <th>seniority</th>\n",
       "      <th>min_salary</th>\n",
       "      <th>max_salary</th>\n",
       "      <th>avg_salary</th>\n",
       "      <th>desc_len</th>\n",
       "      <th>company_name</th>\n",
       "      <th>job_state</th>\n",
       "    </tr>\n",
       "  </thead>\n",
       "  <tbody>\n",
       "    <tr>\n",
       "      <th>53</th>\n",
       "      <td>Data Scientist - Product</td>\n",
       "      <td>Employer Provided Salary:$114K - $157K</td>\n",
       "      <td>About Lyra Health\\nLyra is transforming mental...</td>\n",
       "      <td>4.3</td>\n",
       "      <td>Lyra Health\\n4.3</td>\n",
       "      <td>United States</td>\n",
       "      <td>1001 to 5000 Employees</td>\n",
       "      <td>2015</td>\n",
       "      <td>Company - Private</td>\n",
       "      <td>Health Care Services &amp; Hospitals</td>\n",
       "      <td>Healthcare</td>\n",
       "      <td>$100 to $500 million (USD)</td>\n",
       "      <td>data scientist</td>\n",
       "      <td>na</td>\n",
       "      <td>114</td>\n",
       "      <td>157</td>\n",
       "      <td>135.5</td>\n",
       "      <td>985</td>\n",
       "      <td>Lyra Health</td>\n",
       "      <td>United States</td>\n",
       "    </tr>\n",
       "    <tr>\n",
       "      <th>83</th>\n",
       "      <td>Data Scientist - Product</td>\n",
       "      <td>Employer Provided Salary:$114K - $157K</td>\n",
       "      <td>About Lyra Health\\nLyra is transforming mental...</td>\n",
       "      <td>4.3</td>\n",
       "      <td>Lyra Health\\n4.3</td>\n",
       "      <td>United States</td>\n",
       "      <td>1001 to 5000 Employees</td>\n",
       "      <td>2015</td>\n",
       "      <td>Company - Private</td>\n",
       "      <td>Health Care Services &amp; Hospitals</td>\n",
       "      <td>Healthcare</td>\n",
       "      <td>$100 to $500 million (USD)</td>\n",
       "      <td>data scientist</td>\n",
       "      <td>na</td>\n",
       "      <td>114</td>\n",
       "      <td>157</td>\n",
       "      <td>135.5</td>\n",
       "      <td>985</td>\n",
       "      <td>Lyra Health</td>\n",
       "      <td>United States</td>\n",
       "    </tr>\n",
       "    <tr>\n",
       "      <th>160</th>\n",
       "      <td>Data Scientist - Product</td>\n",
       "      <td>Employer Provided Salary:$114K - $157K</td>\n",
       "      <td>About Lyra Health\\nLyra is transforming mental...</td>\n",
       "      <td>4.3</td>\n",
       "      <td>Lyra Health\\n4.3</td>\n",
       "      <td>United States</td>\n",
       "      <td>1001 to 5000 Employees</td>\n",
       "      <td>2015</td>\n",
       "      <td>Company - Private</td>\n",
       "      <td>Health Care Services &amp; Hospitals</td>\n",
       "      <td>Healthcare</td>\n",
       "      <td>$100 to $500 million (USD)</td>\n",
       "      <td>data scientist</td>\n",
       "      <td>na</td>\n",
       "      <td>114</td>\n",
       "      <td>157</td>\n",
       "      <td>135.5</td>\n",
       "      <td>985</td>\n",
       "      <td>Lyra Health</td>\n",
       "      <td>United States</td>\n",
       "    </tr>\n",
       "    <tr>\n",
       "      <th>348</th>\n",
       "      <td>Data Scientist - Product</td>\n",
       "      <td>Employer Provided Salary:$114K - $157K</td>\n",
       "      <td>About Lyra Health\\nLyra is transforming mental...</td>\n",
       "      <td>4.3</td>\n",
       "      <td>Lyra Health\\n4.3</td>\n",
       "      <td>United States</td>\n",
       "      <td>1001 to 5000 Employees</td>\n",
       "      <td>2015</td>\n",
       "      <td>Company - Private</td>\n",
       "      <td>Health Care Services &amp; Hospitals</td>\n",
       "      <td>Healthcare</td>\n",
       "      <td>$100 to $500 million (USD)</td>\n",
       "      <td>data scientist</td>\n",
       "      <td>na</td>\n",
       "      <td>114</td>\n",
       "      <td>157</td>\n",
       "      <td>135.5</td>\n",
       "      <td>985</td>\n",
       "      <td>Lyra Health</td>\n",
       "      <td>United States</td>\n",
       "    </tr>\n",
       "    <tr>\n",
       "      <th>387</th>\n",
       "      <td>Data Scientist - Product</td>\n",
       "      <td>Employer Provided Salary:$114K - $157K</td>\n",
       "      <td>About Lyra Health\\nLyra is transforming mental...</td>\n",
       "      <td>4.3</td>\n",
       "      <td>Lyra Health\\n4.3</td>\n",
       "      <td>United States</td>\n",
       "      <td>1001 to 5000 Employees</td>\n",
       "      <td>2015</td>\n",
       "      <td>Company - Private</td>\n",
       "      <td>Health Care Services &amp; Hospitals</td>\n",
       "      <td>Healthcare</td>\n",
       "      <td>$100 to $500 million (USD)</td>\n",
       "      <td>data scientist</td>\n",
       "      <td>na</td>\n",
       "      <td>114</td>\n",
       "      <td>157</td>\n",
       "      <td>135.5</td>\n",
       "      <td>985</td>\n",
       "      <td>Lyra Health</td>\n",
       "      <td>United States</td>\n",
       "    </tr>\n",
       "    <tr>\n",
       "      <th>415</th>\n",
       "      <td>Data Scientist - Product</td>\n",
       "      <td>Employer Provided Salary:$114K - $157K</td>\n",
       "      <td>About Lyra Health\\nLyra is transforming mental...</td>\n",
       "      <td>4.3</td>\n",
       "      <td>Lyra Health\\n4.3</td>\n",
       "      <td>United States</td>\n",
       "      <td>1001 to 5000 Employees</td>\n",
       "      <td>2015</td>\n",
       "      <td>Company - Private</td>\n",
       "      <td>Health Care Services &amp; Hospitals</td>\n",
       "      <td>Healthcare</td>\n",
       "      <td>$100 to $500 million (USD)</td>\n",
       "      <td>data scientist</td>\n",
       "      <td>na</td>\n",
       "      <td>114</td>\n",
       "      <td>157</td>\n",
       "      <td>135.5</td>\n",
       "      <td>985</td>\n",
       "      <td>Lyra Health</td>\n",
       "      <td>United States</td>\n",
       "    </tr>\n",
       "    <tr>\n",
       "      <th>446</th>\n",
       "      <td>Data Scientist - Product</td>\n",
       "      <td>Employer Provided Salary:$114K - $157K</td>\n",
       "      <td>About Lyra Health\\nLyra is transforming mental...</td>\n",
       "      <td>4.3</td>\n",
       "      <td>Lyra Health\\n4.3</td>\n",
       "      <td>United States</td>\n",
       "      <td>1001 to 5000 Employees</td>\n",
       "      <td>2015</td>\n",
       "      <td>Company - Private</td>\n",
       "      <td>Health Care Services &amp; Hospitals</td>\n",
       "      <td>Healthcare</td>\n",
       "      <td>$100 to $500 million (USD)</td>\n",
       "      <td>data scientist</td>\n",
       "      <td>na</td>\n",
       "      <td>114</td>\n",
       "      <td>157</td>\n",
       "      <td>135.5</td>\n",
       "      <td>985</td>\n",
       "      <td>Lyra Health</td>\n",
       "      <td>United States</td>\n",
       "    </tr>\n",
       "  </tbody>\n",
       "</table>\n",
       "</div>"
      ],
      "text/plain": [
       "                    Job Title                         Salary Estimate  \\\n",
       "53   Data Scientist - Product  Employer Provided Salary:$114K - $157K   \n",
       "83   Data Scientist - Product  Employer Provided Salary:$114K - $157K   \n",
       "160  Data Scientist - Product  Employer Provided Salary:$114K - $157K   \n",
       "348  Data Scientist - Product  Employer Provided Salary:$114K - $157K   \n",
       "387  Data Scientist - Product  Employer Provided Salary:$114K - $157K   \n",
       "415  Data Scientist - Product  Employer Provided Salary:$114K - $157K   \n",
       "446  Data Scientist - Product  Employer Provided Salary:$114K - $157K   \n",
       "\n",
       "                                       Job Description  Rating  \\\n",
       "53   About Lyra Health\\nLyra is transforming mental...     4.3   \n",
       "83   About Lyra Health\\nLyra is transforming mental...     4.3   \n",
       "160  About Lyra Health\\nLyra is transforming mental...     4.3   \n",
       "348  About Lyra Health\\nLyra is transforming mental...     4.3   \n",
       "387  About Lyra Health\\nLyra is transforming mental...     4.3   \n",
       "415  About Lyra Health\\nLyra is transforming mental...     4.3   \n",
       "446  About Lyra Health\\nLyra is transforming mental...     4.3   \n",
       "\n",
       "         Company Name       Location                    Size  Founded  \\\n",
       "53   Lyra Health\\n4.3  United States  1001 to 5000 Employees     2015   \n",
       "83   Lyra Health\\n4.3  United States  1001 to 5000 Employees     2015   \n",
       "160  Lyra Health\\n4.3  United States  1001 to 5000 Employees     2015   \n",
       "348  Lyra Health\\n4.3  United States  1001 to 5000 Employees     2015   \n",
       "387  Lyra Health\\n4.3  United States  1001 to 5000 Employees     2015   \n",
       "415  Lyra Health\\n4.3  United States  1001 to 5000 Employees     2015   \n",
       "446  Lyra Health\\n4.3  United States  1001 to 5000 Employees     2015   \n",
       "\n",
       "     Type of ownership                          Industry      Sector  \\\n",
       "53   Company - Private  Health Care Services & Hospitals  Healthcare   \n",
       "83   Company - Private  Health Care Services & Hospitals  Healthcare   \n",
       "160  Company - Private  Health Care Services & Hospitals  Healthcare   \n",
       "348  Company - Private  Health Care Services & Hospitals  Healthcare   \n",
       "387  Company - Private  Health Care Services & Hospitals  Healthcare   \n",
       "415  Company - Private  Health Care Services & Hospitals  Healthcare   \n",
       "446  Company - Private  Health Care Services & Hospitals  Healthcare   \n",
       "\n",
       "                        Revenue       job_title seniority  min_salary  \\\n",
       "53   $100 to $500 million (USD)  data scientist        na         114   \n",
       "83   $100 to $500 million (USD)  data scientist        na         114   \n",
       "160  $100 to $500 million (USD)  data scientist        na         114   \n",
       "348  $100 to $500 million (USD)  data scientist        na         114   \n",
       "387  $100 to $500 million (USD)  data scientist        na         114   \n",
       "415  $100 to $500 million (USD)  data scientist        na         114   \n",
       "446  $100 to $500 million (USD)  data scientist        na         114   \n",
       "\n",
       "     max_salary  avg_salary  desc_len company_name      job_state  \n",
       "53          157       135.5       985  Lyra Health  United States  \n",
       "83          157       135.5       985  Lyra Health  United States  \n",
       "160         157       135.5       985  Lyra Health  United States  \n",
       "348         157       135.5       985  Lyra Health  United States  \n",
       "387         157       135.5       985  Lyra Health  United States  \n",
       "415         157       135.5       985  Lyra Health  United States  \n",
       "446         157       135.5       985  Lyra Health  United States  "
      ]
     },
     "execution_count": 32,
     "metadata": {},
     "output_type": "execute_result"
    }
   ],
   "source": [
    "# Turn out all the 7 united states are in lyra health company , after i did my research; it is located in california(CA)\n",
    "raw_df[raw_df['job_state'] == 'United States']"
   ]
  },
  {
   "cell_type": "code",
   "execution_count": 33,
   "id": "3abce6ac-48dc-47e8-8659-22043119ce15",
   "metadata": {
    "tags": []
   },
   "outputs": [],
   "source": [
    "raw_df['job_state'].replace({'Texas':'TX','New York State' : 'NY', 'United States' : 'CA'}, inplace =True)"
   ]
  },
  {
   "cell_type": "code",
   "execution_count": 34,
   "id": "77518ef4-da0b-4582-ac39-263da0b34247",
   "metadata": {
    "tags": []
   },
   "outputs": [
    {
     "data": {
      "text/plain": [
       "NY        217\n",
       "TX        125\n",
       "CA        111\n",
       "Remote     96\n",
       "OH         39\n",
       "MI         30\n",
       "MO         29\n",
       "NJ         28\n",
       "MD         22\n",
       "IN         19\n",
       "AR         11\n",
       "GA         11\n",
       "NE          7\n",
       "IL          6\n",
       "PA          5\n",
       "MN          5\n",
       "VA          5\n",
       "NC          5\n",
       "CO          3\n",
       "KY          1\n",
       "FL          1\n",
       "WI          1\n",
       "CT          1\n",
       "Name: job_state, dtype: int64"
      ]
     },
     "execution_count": 34,
     "metadata": {},
     "output_type": "execute_result"
    }
   ],
   "source": [
    "raw_df['job_state'].value_counts()"
   ]
  },
  {
   "cell_type": "markdown",
   "id": "9fd74426-fc57-460e-947e-2b610acafeef",
   "metadata": {
    "jp-MarkdownHeadingCollapsed": true,
    "tags": []
   },
   "source": [
    "## 7. Company Size Column"
   ]
  },
  {
   "cell_type": "code",
   "execution_count": 35,
   "id": "9cffbde4-06a5-4b64-a823-48d5c3d30521",
   "metadata": {
    "tags": []
   },
   "outputs": [
    {
     "data": {
      "text/plain": [
       "10000+ Employees           219\n",
       "1001 to 5000 Employees     193\n",
       "1 to 50 Employees          107\n",
       "51 to 200 Employees        105\n",
       "5001 to 10000 Employees     41\n",
       "201 to 500 Employees        39\n",
       "501 to 1000 Employees       36\n",
       "Unknown                     31\n",
       "-1                           7\n",
       "Name: Size, dtype: int64"
      ]
     },
     "execution_count": 35,
     "metadata": {},
     "output_type": "execute_result"
    }
   ],
   "source": [
    "raw_df['Size'].value_counts()"
   ]
  },
  {
   "cell_type": "code",
   "execution_count": 36,
   "id": "2a81a3aa-a597-4446-9bb2-8196539764fd",
   "metadata": {
    "tags": []
   },
   "outputs": [
    {
     "data": {
      "text/plain": [
       "National Security Agency    21\n",
       "University of Minnesota      4\n",
       "Fabrx Space                  2\n",
       "Goodwill                     2\n",
       "80 Acres Farms               1\n",
       "Vetro Tech Inc               1\n",
       "Name: company_name, dtype: int64"
      ]
     },
     "execution_count": 36,
     "metadata": {},
     "output_type": "execute_result"
    }
   ],
   "source": [
    "# National Security Agency \n",
    "raw_df.loc[raw_df['Size'] == 'Unknown', 'company_name'].value_counts()"
   ]
  },
  {
   "cell_type": "code",
   "execution_count": 37,
   "id": "44eb947f-7a5c-4009-a718-ae6df2beeea0",
   "metadata": {
    "tags": []
   },
   "outputs": [
    {
     "data": {
      "text/plain": [
       "DLZP Group        3\n",
       "Vandved Search    2\n",
       "NewLimit          1\n",
       "Slesha inc        1\n",
       "Name: company_name, dtype: int64"
      ]
     },
     "execution_count": 37,
     "metadata": {},
     "output_type": "execute_result"
    }
   ],
   "source": [
    "raw_df.loc[raw_df['Size'] == '-1', 'company_name'].value_counts()"
   ]
  },
  {
   "cell_type": "code",
   "execution_count": 38,
   "id": "a8acfeb5-ee8a-4ca8-954c-09a93504918e",
   "metadata": {
    "tags": []
   },
   "outputs": [],
   "source": [
    "# change national security agency and university of minnesota to 10000+ employess\n",
    "raw_df.loc[raw_df['company_name'] == 'National Security Agency', 'Size'] = '10000+ Employees'"
   ]
  },
  {
   "cell_type": "code",
   "execution_count": 39,
   "id": "754c36ed-87af-41a5-bf4c-f4b345db441e",
   "metadata": {
    "tags": []
   },
   "outputs": [],
   "source": [
    "raw_df.loc[raw_df['company_name'] == 'University of Minnesota', 'Size'] = '10000+ Employees'"
   ]
  },
  {
   "cell_type": "code",
   "execution_count": 40,
   "id": "f92be5e9-af8f-4b7c-9c00-dca5d2ee5a27",
   "metadata": {
    "tags": []
   },
   "outputs": [],
   "source": [
    "# turn the unknowns to -1\n",
    "raw_df.loc[raw_df['Size'] == 'Unknown', 'Size']= '-1'"
   ]
  },
  {
   "cell_type": "code",
   "execution_count": 41,
   "id": "f0076108-35a0-4e02-a527-884ca01ab87a",
   "metadata": {
    "tags": []
   },
   "outputs": [
    {
     "data": {
      "text/plain": [
       "DLZP Group        3\n",
       "Vandved Search    2\n",
       "Fabrx Space       2\n",
       "Goodwill          2\n",
       "NewLimit          1\n",
       "80 Acres Farms    1\n",
       "Slesha inc        1\n",
       "Vetro Tech Inc    1\n",
       "Name: company_name, dtype: int64"
      ]
     },
     "execution_count": 41,
     "metadata": {},
     "output_type": "execute_result"
    }
   ],
   "source": [
    "raw_df.loc[raw_df['Size'] == '-1', 'company_name'].value_counts()"
   ]
  },
  {
   "cell_type": "code",
   "execution_count": 42,
   "id": "9039fb8f-d9e3-446c-a4de-010d9931c1b7",
   "metadata": {
    "tags": []
   },
   "outputs": [
    {
     "data": {
      "text/plain": [
       "10000+ Employees           244\n",
       "1001 to 5000 Employees     193\n",
       "1 to 50 Employees          107\n",
       "51 to 200 Employees        105\n",
       "5001 to 10000 Employees     41\n",
       "201 to 500 Employees        39\n",
       "501 to 1000 Employees       36\n",
       "-1                          13\n",
       "Name: Size, dtype: int64"
      ]
     },
     "execution_count": 42,
     "metadata": {},
     "output_type": "execute_result"
    }
   ],
   "source": [
    "raw_df['Size'].value_counts(sort = True)"
   ]
  },
  {
   "cell_type": "markdown",
   "id": "51bea4b8-03ce-44c7-8974-43683cd8d4ea",
   "metadata": {
    "jp-MarkdownHeadingCollapsed": true,
    "tags": []
   },
   "source": [
    "## 8. Founded Column"
   ]
  },
  {
   "cell_type": "markdown",
   "id": "487fc2af-c9c6-400f-b3dd-6e8bb1f4f8f0",
   "metadata": {
    "tags": []
   },
   "source": [
    "### 1. get the age of the company instead of the year found\n",
    "### 2. Figure Out where the -1 values coming From \n",
    "### 3. Search for the Founded year for the companies that have alot of appearances in the df and replace the values"
   ]
  },
  {
   "cell_type": "code",
   "execution_count": 43,
   "id": "6679b7ca-ecc2-49eb-b8b3-b66aa70a566e",
   "metadata": {
    "tags": []
   },
   "outputs": [],
   "source": [
    "raw_df['age']= raw_df.Founded.apply(lambda x: x if x < 1 else 2023 - x) "
   ]
  },
  {
   "cell_type": "code",
   "execution_count": 44,
   "id": "e9f37134-caee-4eeb-a47b-96e7a5be11a0",
   "metadata": {
    "tags": []
   },
   "outputs": [
    {
     "data": {
      "text/plain": [
       "49"
      ]
     },
     "execution_count": 44,
     "metadata": {},
     "output_type": "execute_result"
    }
   ],
   "source": [
    "len(raw_df[raw_df['age'] == -1])"
   ]
  },
  {
   "cell_type": "code",
   "execution_count": 45,
   "id": "9957b5e0-d069-4eee-9b78-1e3cb5e8fc30",
   "metadata": {
    "tags": []
   },
   "outputs": [
    {
     "data": {
      "text/html": [
       "<div>\n",
       "<style scoped>\n",
       "    .dataframe tbody tr th:only-of-type {\n",
       "        vertical-align: middle;\n",
       "    }\n",
       "\n",
       "    .dataframe tbody tr th {\n",
       "        vertical-align: top;\n",
       "    }\n",
       "\n",
       "    .dataframe thead th {\n",
       "        text-align: right;\n",
       "    }\n",
       "</style>\n",
       "<table border=\"1\" class=\"dataframe\">\n",
       "  <thead>\n",
       "    <tr style=\"text-align: right;\">\n",
       "      <th></th>\n",
       "      <th>Job Title</th>\n",
       "      <th>Salary Estimate</th>\n",
       "      <th>Job Description</th>\n",
       "      <th>Rating</th>\n",
       "      <th>Company Name</th>\n",
       "      <th>Location</th>\n",
       "      <th>Size</th>\n",
       "      <th>Founded</th>\n",
       "      <th>Type of ownership</th>\n",
       "      <th>Industry</th>\n",
       "      <th>...</th>\n",
       "      <th>Revenue</th>\n",
       "      <th>job_title</th>\n",
       "      <th>seniority</th>\n",
       "      <th>min_salary</th>\n",
       "      <th>max_salary</th>\n",
       "      <th>avg_salary</th>\n",
       "      <th>desc_len</th>\n",
       "      <th>company_name</th>\n",
       "      <th>job_state</th>\n",
       "      <th>age</th>\n",
       "    </tr>\n",
       "  </thead>\n",
       "  <tbody>\n",
       "    <tr>\n",
       "      <th>16</th>\n",
       "      <td>AI Data Scientist</td>\n",
       "      <td>Employer Provided Salary:$65.00 - $75.00 Per Hour</td>\n",
       "      <td>Role - AI Data Scientist\\nLocation : Remote\\nD...</td>\n",
       "      <td>-1.0</td>\n",
       "      <td>Vandved Search</td>\n",
       "      <td>Remote</td>\n",
       "      <td>-1</td>\n",
       "      <td>-1</td>\n",
       "      <td>-1</td>\n",
       "      <td>-1</td>\n",
       "      <td>...</td>\n",
       "      <td>-1</td>\n",
       "      <td>data scientist</td>\n",
       "      <td>na</td>\n",
       "      <td>117</td>\n",
       "      <td>135</td>\n",
       "      <td>126.0</td>\n",
       "      <td>570</td>\n",
       "      <td>Vandved Search</td>\n",
       "      <td>Remote</td>\n",
       "      <td>-1</td>\n",
       "    </tr>\n",
       "    <tr>\n",
       "      <th>60</th>\n",
       "      <td>Data Scientist - Remote</td>\n",
       "      <td>Employer Provided Salary:$80K - $110K</td>\n",
       "      <td>Data Scientist\\nJob Overview\\nWe are looking f...</td>\n",
       "      <td>-1.0</td>\n",
       "      <td>DLZP Group</td>\n",
       "      <td>Remote</td>\n",
       "      <td>-1</td>\n",
       "      <td>-1</td>\n",
       "      <td>-1</td>\n",
       "      <td>-1</td>\n",
       "      <td>...</td>\n",
       "      <td>-1</td>\n",
       "      <td>data scientist</td>\n",
       "      <td>na</td>\n",
       "      <td>80</td>\n",
       "      <td>110</td>\n",
       "      <td>95.0</td>\n",
       "      <td>912</td>\n",
       "      <td>DLZP Group</td>\n",
       "      <td>Remote</td>\n",
       "      <td>-1</td>\n",
       "    </tr>\n",
       "    <tr>\n",
       "      <th>266</th>\n",
       "      <td>Data Scientist</td>\n",
       "      <td>Employer Provided Salary:$110K - $113K</td>\n",
       "      <td>Greetings from KonnectingTree!\\nWe are looking...</td>\n",
       "      <td>-1.0</td>\n",
       "      <td>Konnectingtree</td>\n",
       "      <td>Remote</td>\n",
       "      <td>1 to 50 Employees</td>\n",
       "      <td>-1</td>\n",
       "      <td>Company - Public</td>\n",
       "      <td>-1</td>\n",
       "      <td>...</td>\n",
       "      <td>Unknown / Non-Applicable</td>\n",
       "      <td>data scientist</td>\n",
       "      <td>na</td>\n",
       "      <td>110</td>\n",
       "      <td>113</td>\n",
       "      <td>111.5</td>\n",
       "      <td>516</td>\n",
       "      <td>Konnectingtree</td>\n",
       "      <td>Remote</td>\n",
       "      <td>-1</td>\n",
       "    </tr>\n",
       "    <tr>\n",
       "      <th>52</th>\n",
       "      <td>Data Scientist</td>\n",
       "      <td>Employer Provided Salary:$70.00 - $75.00 Per Hour</td>\n",
       "      <td>6 month contract to hire with Walmart Inc.\\nJo...</td>\n",
       "      <td>-1.0</td>\n",
       "      <td>Slesha inc</td>\n",
       "      <td>Remote</td>\n",
       "      <td>-1</td>\n",
       "      <td>-1</td>\n",
       "      <td>-1</td>\n",
       "      <td>-1</td>\n",
       "      <td>...</td>\n",
       "      <td>-1</td>\n",
       "      <td>data scientist</td>\n",
       "      <td>na</td>\n",
       "      <td>126</td>\n",
       "      <td>135</td>\n",
       "      <td>130.5</td>\n",
       "      <td>538</td>\n",
       "      <td>Slesha inc</td>\n",
       "      <td>Remote</td>\n",
       "      <td>-1</td>\n",
       "    </tr>\n",
       "    <tr>\n",
       "      <th>263</th>\n",
       "      <td>AI Data Scientist</td>\n",
       "      <td>Employer Provided Salary:$65.00 - $75.00 Per Hour</td>\n",
       "      <td>Role - AI Data Scientist\\nLocation : Remote\\nD...</td>\n",
       "      <td>-1.0</td>\n",
       "      <td>Vandved Search</td>\n",
       "      <td>Remote</td>\n",
       "      <td>-1</td>\n",
       "      <td>-1</td>\n",
       "      <td>-1</td>\n",
       "      <td>-1</td>\n",
       "      <td>...</td>\n",
       "      <td>-1</td>\n",
       "      <td>data scientist</td>\n",
       "      <td>na</td>\n",
       "      <td>117</td>\n",
       "      <td>135</td>\n",
       "      <td>126.0</td>\n",
       "      <td>570</td>\n",
       "      <td>Vandved Search</td>\n",
       "      <td>Remote</td>\n",
       "      <td>-1</td>\n",
       "    </tr>\n",
       "  </tbody>\n",
       "</table>\n",
       "<p>5 rows × 21 columns</p>\n",
       "</div>"
      ],
      "text/plain": [
       "                   Job Title  \\\n",
       "16         AI Data Scientist   \n",
       "60   Data Scientist - Remote   \n",
       "266           Data Scientist   \n",
       "52            Data Scientist   \n",
       "263        AI Data Scientist   \n",
       "\n",
       "                                       Salary Estimate  \\\n",
       "16   Employer Provided Salary:$65.00 - $75.00 Per Hour   \n",
       "60               Employer Provided Salary:$80K - $110K   \n",
       "266             Employer Provided Salary:$110K - $113K   \n",
       "52   Employer Provided Salary:$70.00 - $75.00 Per Hour   \n",
       "263  Employer Provided Salary:$65.00 - $75.00 Per Hour   \n",
       "\n",
       "                                       Job Description  Rating  \\\n",
       "16   Role - AI Data Scientist\\nLocation : Remote\\nD...    -1.0   \n",
       "60   Data Scientist\\nJob Overview\\nWe are looking f...    -1.0   \n",
       "266  Greetings from KonnectingTree!\\nWe are looking...    -1.0   \n",
       "52   6 month contract to hire with Walmart Inc.\\nJo...    -1.0   \n",
       "263  Role - AI Data Scientist\\nLocation : Remote\\nD...    -1.0   \n",
       "\n",
       "       Company Name Location               Size  Founded Type of ownership  \\\n",
       "16   Vandved Search   Remote                 -1       -1                -1   \n",
       "60       DLZP Group   Remote                 -1       -1                -1   \n",
       "266  Konnectingtree   Remote  1 to 50 Employees       -1  Company - Public   \n",
       "52       Slesha inc   Remote                 -1       -1                -1   \n",
       "263  Vandved Search   Remote                 -1       -1                -1   \n",
       "\n",
       "    Industry  ...                   Revenue       job_title seniority  \\\n",
       "16        -1  ...                        -1  data scientist        na   \n",
       "60        -1  ...                        -1  data scientist        na   \n",
       "266       -1  ...  Unknown / Non-Applicable  data scientist        na   \n",
       "52        -1  ...                        -1  data scientist        na   \n",
       "263       -1  ...                        -1  data scientist        na   \n",
       "\n",
       "    min_salary  max_salary  avg_salary  desc_len    company_name job_state age  \n",
       "16         117         135       126.0       570  Vandved Search    Remote  -1  \n",
       "60          80         110        95.0       912      DLZP Group    Remote  -1  \n",
       "266        110         113       111.5       516  Konnectingtree    Remote  -1  \n",
       "52         126         135       130.5       538      Slesha inc    Remote  -1  \n",
       "263        117         135       126.0       570  Vandved Search    Remote  -1  \n",
       "\n",
       "[5 rows x 21 columns]"
      ]
     },
     "execution_count": 45,
     "metadata": {},
     "output_type": "execute_result"
    }
   ],
   "source": [
    "raw_df[(raw_df['age'] == -1) & (raw_df['job_state'] == 'Remote')].sample(5)"
   ]
  },
  {
   "cell_type": "code",
   "execution_count": 46,
   "id": "6726da16-f9d0-49f1-82ee-6b1b7f40162a",
   "metadata": {
    "tags": []
   },
   "outputs": [
    {
     "data": {
      "text/html": [
       "<div>\n",
       "<style scoped>\n",
       "    .dataframe tbody tr th:only-of-type {\n",
       "        vertical-align: middle;\n",
       "    }\n",
       "\n",
       "    .dataframe tbody tr th {\n",
       "        vertical-align: top;\n",
       "    }\n",
       "\n",
       "    .dataframe thead th {\n",
       "        text-align: right;\n",
       "    }\n",
       "</style>\n",
       "<table border=\"1\" class=\"dataframe\">\n",
       "  <thead>\n",
       "    <tr style=\"text-align: right;\">\n",
       "      <th></th>\n",
       "      <th>Job Title</th>\n",
       "      <th>Salary Estimate</th>\n",
       "      <th>Job Description</th>\n",
       "      <th>Rating</th>\n",
       "      <th>Company Name</th>\n",
       "      <th>Location</th>\n",
       "      <th>Size</th>\n",
       "      <th>Founded</th>\n",
       "      <th>Type of ownership</th>\n",
       "      <th>Industry</th>\n",
       "      <th>...</th>\n",
       "      <th>Revenue</th>\n",
       "      <th>job_title</th>\n",
       "      <th>seniority</th>\n",
       "      <th>min_salary</th>\n",
       "      <th>max_salary</th>\n",
       "      <th>avg_salary</th>\n",
       "      <th>desc_len</th>\n",
       "      <th>company_name</th>\n",
       "      <th>job_state</th>\n",
       "      <th>age</th>\n",
       "    </tr>\n",
       "  </thead>\n",
       "  <tbody>\n",
       "    <tr>\n",
       "      <th>358</th>\n",
       "      <td>Associate Data Scientist</td>\n",
       "      <td>$94K - $128K (Glassdoor est.)</td>\n",
       "      <td>Cadent powers the evolution of TV brand advert...</td>\n",
       "      <td>3.4</td>\n",
       "      <td>Cadent\\n3.4</td>\n",
       "      <td>Philadelphia, PA</td>\n",
       "      <td>201 to 500 Employees</td>\n",
       "      <td>-1</td>\n",
       "      <td>Company - Private</td>\n",
       "      <td>Advertising &amp; Public Relations</td>\n",
       "      <td>...</td>\n",
       "      <td>Unknown / Non-Applicable</td>\n",
       "      <td>data scientist</td>\n",
       "      <td>na</td>\n",
       "      <td>94</td>\n",
       "      <td>128</td>\n",
       "      <td>111.0</td>\n",
       "      <td>1153</td>\n",
       "      <td>Cadent</td>\n",
       "      <td>PA</td>\n",
       "      <td>-1</td>\n",
       "    </tr>\n",
       "    <tr>\n",
       "      <th>17</th>\n",
       "      <td>Data Scientist, Bioinformatics</td>\n",
       "      <td>Employer Provided Salary:$125K - $170K</td>\n",
       "      <td>About NewLimit\\nNewLimit is a biotechnology co...</td>\n",
       "      <td>-1.0</td>\n",
       "      <td>NewLimit</td>\n",
       "      <td>South San Francisco, CA</td>\n",
       "      <td>-1</td>\n",
       "      <td>-1</td>\n",
       "      <td>-1</td>\n",
       "      <td>-1</td>\n",
       "      <td>...</td>\n",
       "      <td>-1</td>\n",
       "      <td>data scientist</td>\n",
       "      <td>na</td>\n",
       "      <td>125</td>\n",
       "      <td>170</td>\n",
       "      <td>147.5</td>\n",
       "      <td>800</td>\n",
       "      <td>NewLimit</td>\n",
       "      <td>CA</td>\n",
       "      <td>-1</td>\n",
       "    </tr>\n",
       "    <tr>\n",
       "      <th>804</th>\n",
       "      <td>Artificial Intelligence (AI) Trainer</td>\n",
       "      <td>$102K - $161K (Glassdoor est.)</td>\n",
       "      <td>We are seeking highly motivated and talented A...</td>\n",
       "      <td>-1.0</td>\n",
       "      <td>Juji</td>\n",
       "      <td>San Jose, CA</td>\n",
       "      <td>1 to 50 Employees</td>\n",
       "      <td>-1</td>\n",
       "      <td>Company - Public</td>\n",
       "      <td>-1</td>\n",
       "      <td>...</td>\n",
       "      <td>Less than $1 million (USD)</td>\n",
       "      <td>machine learning engineer</td>\n",
       "      <td>na</td>\n",
       "      <td>102</td>\n",
       "      <td>161</td>\n",
       "      <td>131.5</td>\n",
       "      <td>732</td>\n",
       "      <td>Juji</td>\n",
       "      <td>CA</td>\n",
       "      <td>-1</td>\n",
       "    </tr>\n",
       "    <tr>\n",
       "      <th>717</th>\n",
       "      <td>Artificial Intelligence (AI) Trainer</td>\n",
       "      <td>$102K - $161K (Glassdoor est.)</td>\n",
       "      <td>We are seeking highly motivated and talented A...</td>\n",
       "      <td>-1.0</td>\n",
       "      <td>Juji</td>\n",
       "      <td>San Jose, CA</td>\n",
       "      <td>1 to 50 Employees</td>\n",
       "      <td>-1</td>\n",
       "      <td>Company - Public</td>\n",
       "      <td>-1</td>\n",
       "      <td>...</td>\n",
       "      <td>Less than $1 million (USD)</td>\n",
       "      <td>machine learning engineer</td>\n",
       "      <td>na</td>\n",
       "      <td>102</td>\n",
       "      <td>161</td>\n",
       "      <td>131.5</td>\n",
       "      <td>732</td>\n",
       "      <td>Juji</td>\n",
       "      <td>CA</td>\n",
       "      <td>-1</td>\n",
       "    </tr>\n",
       "    <tr>\n",
       "      <th>355</th>\n",
       "      <td>Artificial Intelligence (AI) Trainer</td>\n",
       "      <td>$102K - $161K (Glassdoor est.)</td>\n",
       "      <td>We are seeking highly motivated and talented A...</td>\n",
       "      <td>-1.0</td>\n",
       "      <td>Juji</td>\n",
       "      <td>San Jose, CA</td>\n",
       "      <td>1 to 50 Employees</td>\n",
       "      <td>-1</td>\n",
       "      <td>Company - Public</td>\n",
       "      <td>-1</td>\n",
       "      <td>...</td>\n",
       "      <td>Less than $1 million (USD)</td>\n",
       "      <td>machine learning engineer</td>\n",
       "      <td>na</td>\n",
       "      <td>102</td>\n",
       "      <td>161</td>\n",
       "      <td>131.5</td>\n",
       "      <td>732</td>\n",
       "      <td>Juji</td>\n",
       "      <td>CA</td>\n",
       "      <td>-1</td>\n",
       "    </tr>\n",
       "  </tbody>\n",
       "</table>\n",
       "<p>5 rows × 21 columns</p>\n",
       "</div>"
      ],
      "text/plain": [
       "                                Job Title  \\\n",
       "358              Associate Data Scientist   \n",
       "17         Data Scientist, Bioinformatics   \n",
       "804  Artificial Intelligence (AI) Trainer   \n",
       "717  Artificial Intelligence (AI) Trainer   \n",
       "355  Artificial Intelligence (AI) Trainer   \n",
       "\n",
       "                            Salary Estimate  \\\n",
       "358           $94K - $128K (Glassdoor est.)   \n",
       "17   Employer Provided Salary:$125K - $170K   \n",
       "804          $102K - $161K (Glassdoor est.)   \n",
       "717          $102K - $161K (Glassdoor est.)   \n",
       "355          $102K - $161K (Glassdoor est.)   \n",
       "\n",
       "                                       Job Description  Rating Company Name  \\\n",
       "358  Cadent powers the evolution of TV brand advert...     3.4  Cadent\\n3.4   \n",
       "17   About NewLimit\\nNewLimit is a biotechnology co...    -1.0     NewLimit   \n",
       "804  We are seeking highly motivated and talented A...    -1.0         Juji   \n",
       "717  We are seeking highly motivated and talented A...    -1.0         Juji   \n",
       "355  We are seeking highly motivated and talented A...    -1.0         Juji   \n",
       "\n",
       "                    Location                  Size  Founded  \\\n",
       "358         Philadelphia, PA  201 to 500 Employees       -1   \n",
       "17   South San Francisco, CA                    -1       -1   \n",
       "804             San Jose, CA     1 to 50 Employees       -1   \n",
       "717             San Jose, CA     1 to 50 Employees       -1   \n",
       "355             San Jose, CA     1 to 50 Employees       -1   \n",
       "\n",
       "     Type of ownership                        Industry  ...  \\\n",
       "358  Company - Private  Advertising & Public Relations  ...   \n",
       "17                  -1                              -1  ...   \n",
       "804   Company - Public                              -1  ...   \n",
       "717   Company - Public                              -1  ...   \n",
       "355   Company - Public                              -1  ...   \n",
       "\n",
       "                        Revenue                  job_title seniority  \\\n",
       "358    Unknown / Non-Applicable             data scientist        na   \n",
       "17                           -1             data scientist        na   \n",
       "804  Less than $1 million (USD)  machine learning engineer        na   \n",
       "717  Less than $1 million (USD)  machine learning engineer        na   \n",
       "355  Less than $1 million (USD)  machine learning engineer        na   \n",
       "\n",
       "    min_salary  max_salary  avg_salary  desc_len  company_name job_state age  \n",
       "358         94         128       111.0      1153        Cadent        PA  -1  \n",
       "17         125         170       147.5       800      NewLimit        CA  -1  \n",
       "804        102         161       131.5       732          Juji        CA  -1  \n",
       "717        102         161       131.5       732          Juji        CA  -1  \n",
       "355        102         161       131.5       732          Juji        CA  -1  \n",
       "\n",
       "[5 rows x 21 columns]"
      ]
     },
     "execution_count": 46,
     "metadata": {},
     "output_type": "execute_result"
    }
   ],
   "source": [
    "raw_df[(raw_df['age'] == -1) & ~(raw_df['job_state'] == 'Remote')].sample(5)"
   ]
  },
  {
   "cell_type": "code",
   "execution_count": 47,
   "id": "e857e160-7910-415b-98d9-c52dcb3f7550",
   "metadata": {
    "tags": []
   },
   "outputs": [
    {
     "data": {
      "text/plain": [
       "19"
      ]
     },
     "execution_count": 47,
     "metadata": {},
     "output_type": "execute_result"
    }
   ],
   "source": [
    "# 19 out of 49 (-1) coming from remote jobs, remote jobs has no age\n",
    "len(raw_df[(raw_df['age'] == -1) & (raw_df['job_state'] == 'Remote')])"
   ]
  },
  {
   "cell_type": "code",
   "execution_count": 48,
   "id": "a9d209b4-5013-415a-b798-ec35b8d5d57c",
   "metadata": {
    "tags": []
   },
   "outputs": [
    {
     "data": {
      "text/plain": [
       "30"
      ]
     },
     "execution_count": 48,
     "metadata": {},
     "output_type": "execute_result"
    }
   ],
   "source": [
    "len(raw_df[(raw_df['age'] == -1) & ~(raw_df['job_state'] == 'Remote')])"
   ]
  },
  {
   "cell_type": "code",
   "execution_count": 49,
   "id": "60a8749b-cb36-4d85-a000-ec3aef5dff0b",
   "metadata": {
    "tags": []
   },
   "outputs": [
    {
     "data": {
      "text/plain": [
       "18"
      ]
     },
     "execution_count": 49,
     "metadata": {},
     "output_type": "execute_result"
    }
   ],
   "source": [
    "# 18 out of 49 (-1) coming from comoany called Juji`\n",
    "len(raw_df[(raw_df['age'] == -1) & (raw_df['company_name'] == 'Juji')])"
   ]
  },
  {
   "cell_type": "code",
   "execution_count": 50,
   "id": "03d441b7-ddf7-479f-a7a4-5a83a95f3b07",
   "metadata": {
    "tags": []
   },
   "outputs": [],
   "source": [
    "# Turns out Juji Company was founded in 2014, so we can change the age to 9 years\n",
    "raw_df.loc[raw_df['company_name'] == 'Juji', 'age'] = 9"
   ]
  },
  {
   "cell_type": "code",
   "execution_count": 51,
   "id": "b01f64a1-b285-4364-a3e6-c0ef2efe1c19",
   "metadata": {
    "tags": []
   },
   "outputs": [],
   "source": [
    "# there is 9 (-1) coming from Konnecting Tree company, which was founded in 2016, which is 7 years\n",
    "raw_df.loc[raw_df['company_name'] == 'Konnectingtree', 'age'] = 7"
   ]
  },
  {
   "cell_type": "code",
   "execution_count": 52,
   "id": "60cf9db6-da45-4e7b-8b9c-6273e8aead18",
   "metadata": {
    "tags": []
   },
   "outputs": [],
   "source": [
    "# there is 4 (-1) coming from Cadent Company, which was founded in 2016, which is 7 years\n",
    "raw_df.loc[raw_df['company_name'] == 'Cadent', 'age'] = 7"
   ]
  },
  {
   "cell_type": "code",
   "execution_count": 53,
   "id": "6d6b2a33-14b8-4374-9856-6e92b0f1aa2b",
   "metadata": {
    "tags": []
   },
   "outputs": [
    {
     "data": {
      "text/plain": [
       "18"
      ]
     },
     "execution_count": 53,
     "metadata": {},
     "output_type": "execute_result"
    }
   ],
   "source": [
    "# we went from 49 (-1) to 18\n",
    "len(raw_df[(raw_df['age'] == -1)])"
   ]
  },
  {
   "cell_type": "code",
   "execution_count": 54,
   "id": "e9340763-c35d-403a-aac4-7afde045ec50",
   "metadata": {
    "tags": []
   },
   "outputs": [
    {
     "data": {
      "text/plain": [
       " 7      90\n",
       " 30     75\n",
       " 8      42\n",
       " 60     37\n",
       " 67     36\n",
       " 24     34\n",
       " 18     34\n",
       " 25     32\n",
       " 19     32\n",
       " 84     30\n",
       " 57     29\n",
       " 1      28\n",
       " 143    28\n",
       " 133    28\n",
       " 13     27\n",
       " 61     21\n",
       " 14     20\n",
       " 9      18\n",
       "-1      18\n",
       " 51     14\n",
       " 65     11\n",
       " 75     11\n",
       " 71      9\n",
       " 38      8\n",
       " 27      8\n",
       " 6       7\n",
       " 172     4\n",
       " 205     4\n",
       " 94      4\n",
       " 80      4\n",
       " 20      3\n",
       " 122     3\n",
       " 12      2\n",
       " 178     2\n",
       " 17      2\n",
       " 29      2\n",
       " 4       2\n",
       " 10      2\n",
       " 31      1\n",
       " 78      1\n",
       " 131     1\n",
       " 322     1\n",
       " 44      1\n",
       " 21      1\n",
       " 163     1\n",
       " 95      1\n",
       " 108     1\n",
       " 120     1\n",
       " 187     1\n",
       " 52      1\n",
       " 34      1\n",
       " 16      1\n",
       " 46      1\n",
       " 33      1\n",
       " 40      1\n",
       "Name: age, dtype: int64"
      ]
     },
     "execution_count": 54,
     "metadata": {},
     "output_type": "execute_result"
    }
   ],
   "source": [
    "raw_df['age'].value_counts(sort=True)"
   ]
  },
  {
   "cell_type": "code",
   "execution_count": 55,
   "id": "53e09668-6e66-4e21-aa11-af9047e02702",
   "metadata": {
    "tags": []
   },
   "outputs": [
    {
     "data": {
      "text/plain": [
       "DLZP Group             3\n",
       "Vandved Search         2\n",
       "ShyftLabs              2\n",
       "Fabrx Space            2\n",
       "Goodwill               2\n",
       "Blue Water Thinking    2\n",
       "NewLimit               1\n",
       "80 Acres Farms         1\n",
       "Cilable                1\n",
       "Slesha inc             1\n",
       "Vetro Tech Inc         1\n",
       "Name: company_name, dtype: int64"
      ]
     },
     "execution_count": 55,
     "metadata": {},
     "output_type": "execute_result"
    }
   ],
   "source": [
    "raw_df.loc[raw_df['age'] == -1 , 'company_name'].value_counts()"
   ]
  },
  {
   "cell_type": "markdown",
   "id": "f4cf0563-009f-4226-9d7b-7e34369d182f",
   "metadata": {
    "jp-MarkdownHeadingCollapsed": true,
    "tags": []
   },
   "source": [
    "## 9.Type of ownership"
   ]
  },
  {
   "cell_type": "code",
   "execution_count": 56,
   "id": "b896ed4d-87c3-43b2-b8dc-0d9ad53a2f87",
   "metadata": {},
   "outputs": [
    {
     "data": {
      "text/plain": [
       "Company - Private                 379\n",
       "Company - Public                  339\n",
       "Government                         21\n",
       "Subsidiary or Business Segment      9\n",
       "Nonprofit Organization              8\n",
       "-1                                  7\n",
       "College / University                7\n",
       "Hospital                            4\n",
       "Unknown                             2\n",
       "Contract                            2\n",
       "Name: Type of ownership, dtype: int64"
      ]
     },
     "execution_count": 56,
     "metadata": {},
     "output_type": "execute_result"
    }
   ],
   "source": [
    "raw_df['Type of ownership'].value_counts()"
   ]
  },
  {
   "cell_type": "code",
   "execution_count": 57,
   "id": "256ade4d-c59e-445b-9051-3328412b85fd",
   "metadata": {
    "tags": []
   },
   "outputs": [],
   "source": [
    "raw_df.loc[raw_df['Type of ownership'] == '-1', 'Type of ownership'] = '-1'"
   ]
  },
  {
   "cell_type": "code",
   "execution_count": 58,
   "id": "4a3a1daf-183f-4b83-a234-933834e476f8",
   "metadata": {
    "tags": []
   },
   "outputs": [],
   "source": [
    "raw_df.loc[raw_df['Type of ownership'] == 'Unknown', 'Type of ownership'] = '-1'"
   ]
  },
  {
   "cell_type": "code",
   "execution_count": 59,
   "id": "40b8c62f-abbc-43a5-bee5-b9a835efdf4b",
   "metadata": {
    "tags": []
   },
   "outputs": [],
   "source": [
    "raw_df.loc[raw_df['Type of ownership'] == 'Contract', 'Type of ownership'] = '-1'"
   ]
  },
  {
   "cell_type": "code",
   "execution_count": 60,
   "id": "937b8a38-ca2c-4378-a235-3d7d3c8ad996",
   "metadata": {
    "tags": []
   },
   "outputs": [
    {
     "data": {
      "text/plain": [
       "Company - Private                 379\n",
       "Company - Public                  339\n",
       "Government                         21\n",
       "-1                                 11\n",
       "Subsidiary or Business Segment      9\n",
       "Nonprofit Organization              8\n",
       "College / University                7\n",
       "Hospital                            4\n",
       "Name: Type of ownership, dtype: int64"
      ]
     },
     "execution_count": 60,
     "metadata": {},
     "output_type": "execute_result"
    }
   ],
   "source": [
    "raw_df['Type of ownership'].value_counts()"
   ]
  },
  {
   "cell_type": "code",
   "execution_count": 61,
   "id": "eff13c62-ce7b-45b5-9980-a9d0e8bc40e2",
   "metadata": {
    "tags": []
   },
   "outputs": [
    {
     "data": {
      "text/html": [
       "<div>\n",
       "<style scoped>\n",
       "    .dataframe tbody tr th:only-of-type {\n",
       "        vertical-align: middle;\n",
       "    }\n",
       "\n",
       "    .dataframe tbody tr th {\n",
       "        vertical-align: top;\n",
       "    }\n",
       "\n",
       "    .dataframe thead th {\n",
       "        text-align: right;\n",
       "    }\n",
       "</style>\n",
       "<table border=\"1\" class=\"dataframe\">\n",
       "  <thead>\n",
       "    <tr style=\"text-align: right;\">\n",
       "      <th></th>\n",
       "      <th>Job Title</th>\n",
       "      <th>Salary Estimate</th>\n",
       "      <th>Job Description</th>\n",
       "      <th>Rating</th>\n",
       "      <th>Company Name</th>\n",
       "      <th>Location</th>\n",
       "      <th>Size</th>\n",
       "      <th>Founded</th>\n",
       "      <th>Type of ownership</th>\n",
       "      <th>Industry</th>\n",
       "      <th>...</th>\n",
       "      <th>Revenue</th>\n",
       "      <th>job_title</th>\n",
       "      <th>seniority</th>\n",
       "      <th>min_salary</th>\n",
       "      <th>max_salary</th>\n",
       "      <th>avg_salary</th>\n",
       "      <th>desc_len</th>\n",
       "      <th>company_name</th>\n",
       "      <th>job_state</th>\n",
       "      <th>age</th>\n",
       "    </tr>\n",
       "  </thead>\n",
       "  <tbody>\n",
       "    <tr>\n",
       "      <th>38</th>\n",
       "      <td>Data Scientist</td>\n",
       "      <td>$94K - $124K (Glassdoor est.)</td>\n",
       "      <td>Overview\\nTrissential is a trusted partner for...</td>\n",
       "      <td>4.1</td>\n",
       "      <td>Trissential\\n4.1</td>\n",
       "      <td>Minneapolis, MN</td>\n",
       "      <td>201 to 500 Employees</td>\n",
       "      <td>2003</td>\n",
       "      <td>Subsidiary or Business Segment</td>\n",
       "      <td>Business Consulting</td>\n",
       "      <td>...</td>\n",
       "      <td>$25 to $100 million (USD)</td>\n",
       "      <td>data scientist</td>\n",
       "      <td>na</td>\n",
       "      <td>94</td>\n",
       "      <td>124</td>\n",
       "      <td>109.0</td>\n",
       "      <td>629</td>\n",
       "      <td>Trissential</td>\n",
       "      <td>MN</td>\n",
       "      <td>20</td>\n",
       "    </tr>\n",
       "    <tr>\n",
       "      <th>70</th>\n",
       "      <td>Data Scientist - Remote</td>\n",
       "      <td>Employer Provided Salary:$120K - $180K</td>\n",
       "      <td>Clearance Level Other Category Data Science Lo...</td>\n",
       "      <td>4.0</td>\n",
       "      <td>General Dynamics Information Technology\\n4.0</td>\n",
       "      <td>Falls Church, VA</td>\n",
       "      <td>10000+ Employees</td>\n",
       "      <td>1996</td>\n",
       "      <td>Subsidiary or Business Segment</td>\n",
       "      <td>Information Technology Support Services</td>\n",
       "      <td>...</td>\n",
       "      <td>$10+ billion (USD)</td>\n",
       "      <td>data scientist</td>\n",
       "      <td>na</td>\n",
       "      <td>120</td>\n",
       "      <td>180</td>\n",
       "      <td>150.0</td>\n",
       "      <td>990</td>\n",
       "      <td>General Dynamics Information Technology</td>\n",
       "      <td>VA</td>\n",
       "      <td>27</td>\n",
       "    </tr>\n",
       "    <tr>\n",
       "      <th>94</th>\n",
       "      <td>Data Scientist (REMOTE)</td>\n",
       "      <td>Employer Provided Salary:$120K - $133K</td>\n",
       "      <td>Basic Qualifications :\\nRequires a Bachelor’s ...</td>\n",
       "      <td>3.8</td>\n",
       "      <td>General Dynamics Mission Systems, Inc\\n3.8</td>\n",
       "      <td>Remote</td>\n",
       "      <td>10000+ Employees</td>\n",
       "      <td>1952</td>\n",
       "      <td>Subsidiary or Business Segment</td>\n",
       "      <td>Aerospace &amp; Defense</td>\n",
       "      <td>...</td>\n",
       "      <td>$1 to $5 billion (USD)</td>\n",
       "      <td>data scientist</td>\n",
       "      <td>na</td>\n",
       "      <td>120</td>\n",
       "      <td>133</td>\n",
       "      <td>126.5</td>\n",
       "      <td>1001</td>\n",
       "      <td>General Dynamics Mission Systems, Inc</td>\n",
       "      <td>Remote</td>\n",
       "      <td>71</td>\n",
       "    </tr>\n",
       "    <tr>\n",
       "      <th>134</th>\n",
       "      <td>Data Scientist (REMOTE)</td>\n",
       "      <td>Employer Provided Salary:$120K - $133K</td>\n",
       "      <td>Basic Qualifications :\\nRequires a Bachelor’s ...</td>\n",
       "      <td>3.8</td>\n",
       "      <td>General Dynamics Mission Systems, Inc\\n3.8</td>\n",
       "      <td>Remote</td>\n",
       "      <td>10000+ Employees</td>\n",
       "      <td>1952</td>\n",
       "      <td>Subsidiary or Business Segment</td>\n",
       "      <td>Aerospace &amp; Defense</td>\n",
       "      <td>...</td>\n",
       "      <td>$1 to $5 billion (USD)</td>\n",
       "      <td>data scientist</td>\n",
       "      <td>na</td>\n",
       "      <td>120</td>\n",
       "      <td>133</td>\n",
       "      <td>126.5</td>\n",
       "      <td>1001</td>\n",
       "      <td>General Dynamics Mission Systems, Inc</td>\n",
       "      <td>Remote</td>\n",
       "      <td>71</td>\n",
       "    </tr>\n",
       "    <tr>\n",
       "      <th>154</th>\n",
       "      <td>Data Scientist (REMOTE)</td>\n",
       "      <td>Employer Provided Salary:$120K - $133K</td>\n",
       "      <td>Basic Qualifications :\\nRequires a Bachelor’s ...</td>\n",
       "      <td>3.8</td>\n",
       "      <td>General Dynamics Mission Systems, Inc\\n3.8</td>\n",
       "      <td>Remote</td>\n",
       "      <td>10000+ Employees</td>\n",
       "      <td>1952</td>\n",
       "      <td>Subsidiary or Business Segment</td>\n",
       "      <td>Aerospace &amp; Defense</td>\n",
       "      <td>...</td>\n",
       "      <td>$1 to $5 billion (USD)</td>\n",
       "      <td>data scientist</td>\n",
       "      <td>na</td>\n",
       "      <td>120</td>\n",
       "      <td>133</td>\n",
       "      <td>126.5</td>\n",
       "      <td>1001</td>\n",
       "      <td>General Dynamics Mission Systems, Inc</td>\n",
       "      <td>Remote</td>\n",
       "      <td>71</td>\n",
       "    </tr>\n",
       "    <tr>\n",
       "      <th>178</th>\n",
       "      <td>Staff Data Scientist</td>\n",
       "      <td>Employer Provided Salary:$112K - $207K</td>\n",
       "      <td>Job Title:\\nStaff Data Scientist - Activision ...</td>\n",
       "      <td>3.4</td>\n",
       "      <td>Activision\\n3.4</td>\n",
       "      <td>San Francisco, CA</td>\n",
       "      <td>1001 to 5000 Employees</td>\n",
       "      <td>1979</td>\n",
       "      <td>Subsidiary or Business Segment</td>\n",
       "      <td>Video Game Publishing</td>\n",
       "      <td>...</td>\n",
       "      <td>$500 million to $1 billion (USD)</td>\n",
       "      <td>data scientist</td>\n",
       "      <td>na</td>\n",
       "      <td>112</td>\n",
       "      <td>207</td>\n",
       "      <td>159.5</td>\n",
       "      <td>1000</td>\n",
       "      <td>Activision</td>\n",
       "      <td>CA</td>\n",
       "      <td>44</td>\n",
       "    </tr>\n",
       "    <tr>\n",
       "      <th>200</th>\n",
       "      <td>Data Scientist (REMOTE)</td>\n",
       "      <td>Employer Provided Salary:$120K - $133K</td>\n",
       "      <td>Basic Qualifications :\\nRequires a Bachelor’s ...</td>\n",
       "      <td>3.8</td>\n",
       "      <td>General Dynamics Mission Systems, Inc\\n3.8</td>\n",
       "      <td>Remote</td>\n",
       "      <td>10000+ Employees</td>\n",
       "      <td>1952</td>\n",
       "      <td>Subsidiary or Business Segment</td>\n",
       "      <td>Aerospace &amp; Defense</td>\n",
       "      <td>...</td>\n",
       "      <td>$1 to $5 billion (USD)</td>\n",
       "      <td>data scientist</td>\n",
       "      <td>na</td>\n",
       "      <td>120</td>\n",
       "      <td>133</td>\n",
       "      <td>126.5</td>\n",
       "      <td>1001</td>\n",
       "      <td>General Dynamics Mission Systems, Inc</td>\n",
       "      <td>Remote</td>\n",
       "      <td>71</td>\n",
       "    </tr>\n",
       "    <tr>\n",
       "      <th>297</th>\n",
       "      <td>Data Scientist (REMOTE)</td>\n",
       "      <td>Employer Provided Salary:$120K - $133K</td>\n",
       "      <td>Basic Qualifications :\\nRequires a Bachelor’s ...</td>\n",
       "      <td>3.8</td>\n",
       "      <td>General Dynamics Mission Systems, Inc\\n3.8</td>\n",
       "      <td>Remote</td>\n",
       "      <td>10000+ Employees</td>\n",
       "      <td>1952</td>\n",
       "      <td>Subsidiary or Business Segment</td>\n",
       "      <td>Aerospace &amp; Defense</td>\n",
       "      <td>...</td>\n",
       "      <td>$1 to $5 billion (USD)</td>\n",
       "      <td>data scientist</td>\n",
       "      <td>na</td>\n",
       "      <td>120</td>\n",
       "      <td>133</td>\n",
       "      <td>126.5</td>\n",
       "      <td>1001</td>\n",
       "      <td>General Dynamics Mission Systems, Inc</td>\n",
       "      <td>Remote</td>\n",
       "      <td>71</td>\n",
       "    </tr>\n",
       "    <tr>\n",
       "      <th>328</th>\n",
       "      <td>Data Scientist (REMOTE)</td>\n",
       "      <td>Employer Provided Salary:$120K - $133K</td>\n",
       "      <td>Basic Qualifications :\\nRequires a Bachelor’s ...</td>\n",
       "      <td>3.8</td>\n",
       "      <td>General Dynamics Mission Systems, Inc\\n3.8</td>\n",
       "      <td>Remote</td>\n",
       "      <td>10000+ Employees</td>\n",
       "      <td>1952</td>\n",
       "      <td>Subsidiary or Business Segment</td>\n",
       "      <td>Aerospace &amp; Defense</td>\n",
       "      <td>...</td>\n",
       "      <td>$1 to $5 billion (USD)</td>\n",
       "      <td>data scientist</td>\n",
       "      <td>na</td>\n",
       "      <td>120</td>\n",
       "      <td>133</td>\n",
       "      <td>126.5</td>\n",
       "      <td>1001</td>\n",
       "      <td>General Dynamics Mission Systems, Inc</td>\n",
       "      <td>Remote</td>\n",
       "      <td>71</td>\n",
       "    </tr>\n",
       "  </tbody>\n",
       "</table>\n",
       "<p>9 rows × 21 columns</p>\n",
       "</div>"
      ],
      "text/plain": [
       "                   Job Title                         Salary Estimate  \\\n",
       "38            Data Scientist           $94K - $124K (Glassdoor est.)   \n",
       "70   Data Scientist - Remote  Employer Provided Salary:$120K - $180K   \n",
       "94   Data Scientist (REMOTE)  Employer Provided Salary:$120K - $133K   \n",
       "134  Data Scientist (REMOTE)  Employer Provided Salary:$120K - $133K   \n",
       "154  Data Scientist (REMOTE)  Employer Provided Salary:$120K - $133K   \n",
       "178     Staff Data Scientist  Employer Provided Salary:$112K - $207K   \n",
       "200  Data Scientist (REMOTE)  Employer Provided Salary:$120K - $133K   \n",
       "297  Data Scientist (REMOTE)  Employer Provided Salary:$120K - $133K   \n",
       "328  Data Scientist (REMOTE)  Employer Provided Salary:$120K - $133K   \n",
       "\n",
       "                                       Job Description  Rating  \\\n",
       "38   Overview\\nTrissential is a trusted partner for...     4.1   \n",
       "70   Clearance Level Other Category Data Science Lo...     4.0   \n",
       "94   Basic Qualifications :\\nRequires a Bachelor’s ...     3.8   \n",
       "134  Basic Qualifications :\\nRequires a Bachelor’s ...     3.8   \n",
       "154  Basic Qualifications :\\nRequires a Bachelor’s ...     3.8   \n",
       "178  Job Title:\\nStaff Data Scientist - Activision ...     3.4   \n",
       "200  Basic Qualifications :\\nRequires a Bachelor’s ...     3.8   \n",
       "297  Basic Qualifications :\\nRequires a Bachelor’s ...     3.8   \n",
       "328  Basic Qualifications :\\nRequires a Bachelor’s ...     3.8   \n",
       "\n",
       "                                     Company Name           Location  \\\n",
       "38                               Trissential\\n4.1    Minneapolis, MN   \n",
       "70   General Dynamics Information Technology\\n4.0   Falls Church, VA   \n",
       "94     General Dynamics Mission Systems, Inc\\n3.8             Remote   \n",
       "134    General Dynamics Mission Systems, Inc\\n3.8             Remote   \n",
       "154    General Dynamics Mission Systems, Inc\\n3.8             Remote   \n",
       "178                               Activision\\n3.4  San Francisco, CA   \n",
       "200    General Dynamics Mission Systems, Inc\\n3.8             Remote   \n",
       "297    General Dynamics Mission Systems, Inc\\n3.8             Remote   \n",
       "328    General Dynamics Mission Systems, Inc\\n3.8             Remote   \n",
       "\n",
       "                       Size  Founded               Type of ownership  \\\n",
       "38     201 to 500 Employees     2003  Subsidiary or Business Segment   \n",
       "70         10000+ Employees     1996  Subsidiary or Business Segment   \n",
       "94         10000+ Employees     1952  Subsidiary or Business Segment   \n",
       "134        10000+ Employees     1952  Subsidiary or Business Segment   \n",
       "154        10000+ Employees     1952  Subsidiary or Business Segment   \n",
       "178  1001 to 5000 Employees     1979  Subsidiary or Business Segment   \n",
       "200        10000+ Employees     1952  Subsidiary or Business Segment   \n",
       "297        10000+ Employees     1952  Subsidiary or Business Segment   \n",
       "328        10000+ Employees     1952  Subsidiary or Business Segment   \n",
       "\n",
       "                                    Industry  ...  \\\n",
       "38                       Business Consulting  ...   \n",
       "70   Information Technology Support Services  ...   \n",
       "94                       Aerospace & Defense  ...   \n",
       "134                      Aerospace & Defense  ...   \n",
       "154                      Aerospace & Defense  ...   \n",
       "178                    Video Game Publishing  ...   \n",
       "200                      Aerospace & Defense  ...   \n",
       "297                      Aerospace & Defense  ...   \n",
       "328                      Aerospace & Defense  ...   \n",
       "\n",
       "                              Revenue       job_title seniority min_salary  \\\n",
       "38          $25 to $100 million (USD)  data scientist        na         94   \n",
       "70                 $10+ billion (USD)  data scientist        na        120   \n",
       "94             $1 to $5 billion (USD)  data scientist        na        120   \n",
       "134            $1 to $5 billion (USD)  data scientist        na        120   \n",
       "154            $1 to $5 billion (USD)  data scientist        na        120   \n",
       "178  $500 million to $1 billion (USD)  data scientist        na        112   \n",
       "200            $1 to $5 billion (USD)  data scientist        na        120   \n",
       "297            $1 to $5 billion (USD)  data scientist        na        120   \n",
       "328            $1 to $5 billion (USD)  data scientist        na        120   \n",
       "\n",
       "     max_salary  avg_salary  desc_len  \\\n",
       "38          124       109.0       629   \n",
       "70          180       150.0       990   \n",
       "94          133       126.5      1001   \n",
       "134         133       126.5      1001   \n",
       "154         133       126.5      1001   \n",
       "178         207       159.5      1000   \n",
       "200         133       126.5      1001   \n",
       "297         133       126.5      1001   \n",
       "328         133       126.5      1001   \n",
       "\n",
       "                                company_name job_state age  \n",
       "38                               Trissential        MN  20  \n",
       "70   General Dynamics Information Technology        VA  27  \n",
       "94     General Dynamics Mission Systems, Inc    Remote  71  \n",
       "134    General Dynamics Mission Systems, Inc    Remote  71  \n",
       "154    General Dynamics Mission Systems, Inc    Remote  71  \n",
       "178                               Activision        CA  44  \n",
       "200    General Dynamics Mission Systems, Inc    Remote  71  \n",
       "297    General Dynamics Mission Systems, Inc    Remote  71  \n",
       "328    General Dynamics Mission Systems, Inc    Remote  71  \n",
       "\n",
       "[9 rows x 21 columns]"
      ]
     },
     "execution_count": 61,
     "metadata": {},
     "output_type": "execute_result"
    }
   ],
   "source": [
    "raw_df[raw_df['Type of ownership'] == 'Subsidiary or Business Segment']"
   ]
  },
  {
   "cell_type": "code",
   "execution_count": 62,
   "id": "bfc0ffb0-852a-4116-95a1-b3506c810d4b",
   "metadata": {
    "tags": []
   },
   "outputs": [],
   "source": [
    " raw_df.loc[raw_df['Type of ownership'] == 'Subsidiary or Business Segment', 'Type of ownership'] = 'Company - Private'"
   ]
  },
  {
   "cell_type": "code",
   "execution_count": 63,
   "id": "0fec06fd-9f9a-416a-8bd8-2ac0a5c9a11c",
   "metadata": {
    "tags": []
   },
   "outputs": [
    {
     "data": {
      "text/plain": [
       "Company - Private         388\n",
       "Company - Public          339\n",
       "Government                 21\n",
       "-1                         11\n",
       "Nonprofit Organization      8\n",
       "College / University        7\n",
       "Hospital                    4\n",
       "Name: Type of ownership, dtype: int64"
      ]
     },
     "execution_count": 63,
     "metadata": {},
     "output_type": "execute_result"
    }
   ],
   "source": [
    "raw_df['Type of ownership'].value_counts()"
   ]
  },
  {
   "cell_type": "code",
   "execution_count": 84,
   "id": "68aeac00-83f1-490e-b1ea-c5e17f31986a",
   "metadata": {
    "tags": []
   },
   "outputs": [
    {
     "data": {
      "text/html": [
       "<div>\n",
       "<style scoped>\n",
       "    .dataframe tbody tr th:only-of-type {\n",
       "        vertical-align: middle;\n",
       "    }\n",
       "\n",
       "    .dataframe tbody tr th {\n",
       "        vertical-align: top;\n",
       "    }\n",
       "\n",
       "    .dataframe thead th {\n",
       "        text-align: right;\n",
       "    }\n",
       "</style>\n",
       "<table border=\"1\" class=\"dataframe\">\n",
       "  <thead>\n",
       "    <tr style=\"text-align: right;\">\n",
       "      <th></th>\n",
       "      <th>Job Title</th>\n",
       "      <th>Salary Estimate</th>\n",
       "      <th>Job Description</th>\n",
       "      <th>Rating</th>\n",
       "      <th>Company Name</th>\n",
       "      <th>Location</th>\n",
       "      <th>Size</th>\n",
       "      <th>Founded</th>\n",
       "      <th>Type of ownership</th>\n",
       "      <th>Industry</th>\n",
       "      <th>...</th>\n",
       "      <th>Revenue</th>\n",
       "      <th>job_title</th>\n",
       "      <th>seniority</th>\n",
       "      <th>min_salary</th>\n",
       "      <th>max_salary</th>\n",
       "      <th>avg_salary</th>\n",
       "      <th>desc_len</th>\n",
       "      <th>company_name</th>\n",
       "      <th>job_state</th>\n",
       "      <th>age</th>\n",
       "    </tr>\n",
       "  </thead>\n",
       "  <tbody>\n",
       "    <tr>\n",
       "      <th>16</th>\n",
       "      <td>AI Data Scientist</td>\n",
       "      <td>Employer Provided Salary:$65.00 - $75.00 Per Hour</td>\n",
       "      <td>Role - AI Data Scientist\\nLocation : Remote\\nD...</td>\n",
       "      <td>-1.0</td>\n",
       "      <td>Vandved Search</td>\n",
       "      <td>Remote</td>\n",
       "      <td>-1</td>\n",
       "      <td>-1</td>\n",
       "      <td>-1</td>\n",
       "      <td>-1</td>\n",
       "      <td>...</td>\n",
       "      <td>-1</td>\n",
       "      <td>data scientist</td>\n",
       "      <td>na</td>\n",
       "      <td>117</td>\n",
       "      <td>135</td>\n",
       "      <td>126.0</td>\n",
       "      <td>570</td>\n",
       "      <td>Vandved Search</td>\n",
       "      <td>Remote</td>\n",
       "      <td>-1</td>\n",
       "    </tr>\n",
       "    <tr>\n",
       "      <th>17</th>\n",
       "      <td>Data Scientist, Bioinformatics</td>\n",
       "      <td>Employer Provided Salary:$125K - $170K</td>\n",
       "      <td>About NewLimit\\nNewLimit is a biotechnology co...</td>\n",
       "      <td>-1.0</td>\n",
       "      <td>NewLimit</td>\n",
       "      <td>South San Francisco, CA</td>\n",
       "      <td>-1</td>\n",
       "      <td>-1</td>\n",
       "      <td>-1</td>\n",
       "      <td>-1</td>\n",
       "      <td>...</td>\n",
       "      <td>-1</td>\n",
       "      <td>data scientist</td>\n",
       "      <td>na</td>\n",
       "      <td>125</td>\n",
       "      <td>170</td>\n",
       "      <td>147.5</td>\n",
       "      <td>800</td>\n",
       "      <td>NewLimit</td>\n",
       "      <td>CA</td>\n",
       "      <td>-1</td>\n",
       "    </tr>\n",
       "    <tr>\n",
       "      <th>30</th>\n",
       "      <td>Data Scientist - Remote</td>\n",
       "      <td>Employer Provided Salary:$80K - $110K</td>\n",
       "      <td>Data Scientist\\nJob Overview\\nWe are looking f...</td>\n",
       "      <td>-1.0</td>\n",
       "      <td>DLZP Group</td>\n",
       "      <td>Remote</td>\n",
       "      <td>-1</td>\n",
       "      <td>-1</td>\n",
       "      <td>-1</td>\n",
       "      <td>-1</td>\n",
       "      <td>...</td>\n",
       "      <td>-1</td>\n",
       "      <td>data scientist</td>\n",
       "      <td>na</td>\n",
       "      <td>80</td>\n",
       "      <td>110</td>\n",
       "      <td>95.0</td>\n",
       "      <td>912</td>\n",
       "      <td>DLZP Group</td>\n",
       "      <td>Remote</td>\n",
       "      <td>-1</td>\n",
       "    </tr>\n",
       "    <tr>\n",
       "      <th>52</th>\n",
       "      <td>Data Scientist</td>\n",
       "      <td>Employer Provided Salary:$70.00 - $75.00 Per Hour</td>\n",
       "      <td>6 month contract to hire with Walmart Inc.\\nJo...</td>\n",
       "      <td>-1.0</td>\n",
       "      <td>Slesha inc</td>\n",
       "      <td>Remote</td>\n",
       "      <td>-1</td>\n",
       "      <td>-1</td>\n",
       "      <td>-1</td>\n",
       "      <td>-1</td>\n",
       "      <td>...</td>\n",
       "      <td>-1</td>\n",
       "      <td>data scientist</td>\n",
       "      <td>na</td>\n",
       "      <td>126</td>\n",
       "      <td>135</td>\n",
       "      <td>130.5</td>\n",
       "      <td>538</td>\n",
       "      <td>Slesha inc</td>\n",
       "      <td>Remote</td>\n",
       "      <td>-1</td>\n",
       "    </tr>\n",
       "    <tr>\n",
       "      <th>60</th>\n",
       "      <td>Data Scientist - Remote</td>\n",
       "      <td>Employer Provided Salary:$80K - $110K</td>\n",
       "      <td>Data Scientist\\nJob Overview\\nWe are looking f...</td>\n",
       "      <td>-1.0</td>\n",
       "      <td>DLZP Group</td>\n",
       "      <td>Remote</td>\n",
       "      <td>-1</td>\n",
       "      <td>-1</td>\n",
       "      <td>-1</td>\n",
       "      <td>-1</td>\n",
       "      <td>...</td>\n",
       "      <td>-1</td>\n",
       "      <td>data scientist</td>\n",
       "      <td>na</td>\n",
       "      <td>80</td>\n",
       "      <td>110</td>\n",
       "      <td>95.0</td>\n",
       "      <td>912</td>\n",
       "      <td>DLZP Group</td>\n",
       "      <td>Remote</td>\n",
       "      <td>-1</td>\n",
       "    </tr>\n",
       "    <tr>\n",
       "      <th>87</th>\n",
       "      <td>Data Scientist</td>\n",
       "      <td>$92K - $135K (Glassdoor est.)</td>\n",
       "      <td>Must live or plan to relocate to NY\\n\\nThe Dat...</td>\n",
       "      <td>3.3</td>\n",
       "      <td>Goodwill\\n3.3</td>\n",
       "      <td>Rochester, NY</td>\n",
       "      <td>-1</td>\n",
       "      <td>-1</td>\n",
       "      <td>-1</td>\n",
       "      <td>-1</td>\n",
       "      <td>...</td>\n",
       "      <td>Unknown / Non-Applicable</td>\n",
       "      <td>data scientist</td>\n",
       "      <td>na</td>\n",
       "      <td>92</td>\n",
       "      <td>135</td>\n",
       "      <td>113.5</td>\n",
       "      <td>770</td>\n",
       "      <td>Goodwill</td>\n",
       "      <td>NY</td>\n",
       "      <td>-1</td>\n",
       "    </tr>\n",
       "    <tr>\n",
       "      <th>88</th>\n",
       "      <td>Data Scientist</td>\n",
       "      <td>Employer Provided Salary:$125K - $150K</td>\n",
       "      <td>About Blue Water Thinking\\nGuided by our princ...</td>\n",
       "      <td>3.5</td>\n",
       "      <td>Blue Water Thinking\\n3.5</td>\n",
       "      <td>Remote</td>\n",
       "      <td>1 to 50 Employees</td>\n",
       "      <td>-1</td>\n",
       "      <td>-1</td>\n",
       "      <td>-1</td>\n",
       "      <td>...</td>\n",
       "      <td>Unknown / Non-Applicable</td>\n",
       "      <td>data scientist</td>\n",
       "      <td>na</td>\n",
       "      <td>125</td>\n",
       "      <td>150</td>\n",
       "      <td>137.5</td>\n",
       "      <td>712</td>\n",
       "      <td>Blue Water Thinking</td>\n",
       "      <td>Remote</td>\n",
       "      <td>-1</td>\n",
       "    </tr>\n",
       "    <tr>\n",
       "      <th>107</th>\n",
       "      <td>Data Scientist</td>\n",
       "      <td>$92K - $135K (Glassdoor est.)</td>\n",
       "      <td>Must live or plan to relocate to NY\\n\\nThe Dat...</td>\n",
       "      <td>3.3</td>\n",
       "      <td>Goodwill\\n3.3</td>\n",
       "      <td>Rochester, NY</td>\n",
       "      <td>-1</td>\n",
       "      <td>-1</td>\n",
       "      <td>-1</td>\n",
       "      <td>-1</td>\n",
       "      <td>...</td>\n",
       "      <td>Unknown / Non-Applicable</td>\n",
       "      <td>data scientist</td>\n",
       "      <td>na</td>\n",
       "      <td>92</td>\n",
       "      <td>135</td>\n",
       "      <td>113.5</td>\n",
       "      <td>770</td>\n",
       "      <td>Goodwill</td>\n",
       "      <td>NY</td>\n",
       "      <td>-1</td>\n",
       "    </tr>\n",
       "    <tr>\n",
       "      <th>138</th>\n",
       "      <td>Data Scientist - Remote</td>\n",
       "      <td>Employer Provided Salary:$80K - $110K</td>\n",
       "      <td>Data Scientist\\nJob Overview\\nWe are looking f...</td>\n",
       "      <td>-1.0</td>\n",
       "      <td>DLZP Group</td>\n",
       "      <td>Remote</td>\n",
       "      <td>-1</td>\n",
       "      <td>-1</td>\n",
       "      <td>-1</td>\n",
       "      <td>-1</td>\n",
       "      <td>...</td>\n",
       "      <td>-1</td>\n",
       "      <td>data scientist</td>\n",
       "      <td>na</td>\n",
       "      <td>80</td>\n",
       "      <td>110</td>\n",
       "      <td>95.0</td>\n",
       "      <td>912</td>\n",
       "      <td>DLZP Group</td>\n",
       "      <td>Remote</td>\n",
       "      <td>-1</td>\n",
       "    </tr>\n",
       "    <tr>\n",
       "      <th>162</th>\n",
       "      <td>Data Scientist</td>\n",
       "      <td>Employer Provided Salary:$125K - $150K</td>\n",
       "      <td>About Blue Water Thinking\\nGuided by our princ...</td>\n",
       "      <td>3.5</td>\n",
       "      <td>Blue Water Thinking\\n3.5</td>\n",
       "      <td>Remote</td>\n",
       "      <td>1 to 50 Employees</td>\n",
       "      <td>-1</td>\n",
       "      <td>-1</td>\n",
       "      <td>-1</td>\n",
       "      <td>...</td>\n",
       "      <td>Unknown / Non-Applicable</td>\n",
       "      <td>data scientist</td>\n",
       "      <td>na</td>\n",
       "      <td>125</td>\n",
       "      <td>150</td>\n",
       "      <td>137.5</td>\n",
       "      <td>712</td>\n",
       "      <td>Blue Water Thinking</td>\n",
       "      <td>Remote</td>\n",
       "      <td>-1</td>\n",
       "    </tr>\n",
       "    <tr>\n",
       "      <th>263</th>\n",
       "      <td>AI Data Scientist</td>\n",
       "      <td>Employer Provided Salary:$65.00 - $75.00 Per Hour</td>\n",
       "      <td>Role - AI Data Scientist\\nLocation : Remote\\nD...</td>\n",
       "      <td>-1.0</td>\n",
       "      <td>Vandved Search</td>\n",
       "      <td>Remote</td>\n",
       "      <td>-1</td>\n",
       "      <td>-1</td>\n",
       "      <td>-1</td>\n",
       "      <td>-1</td>\n",
       "      <td>...</td>\n",
       "      <td>-1</td>\n",
       "      <td>data scientist</td>\n",
       "      <td>na</td>\n",
       "      <td>117</td>\n",
       "      <td>135</td>\n",
       "      <td>126.0</td>\n",
       "      <td>570</td>\n",
       "      <td>Vandved Search</td>\n",
       "      <td>Remote</td>\n",
       "      <td>-1</td>\n",
       "    </tr>\n",
       "  </tbody>\n",
       "</table>\n",
       "<p>11 rows × 21 columns</p>\n",
       "</div>"
      ],
      "text/plain": [
       "                          Job Title  \\\n",
       "16                AI Data Scientist   \n",
       "17   Data Scientist, Bioinformatics   \n",
       "30          Data Scientist - Remote   \n",
       "52                   Data Scientist   \n",
       "60          Data Scientist - Remote   \n",
       "87                   Data Scientist   \n",
       "88                   Data Scientist   \n",
       "107                  Data Scientist   \n",
       "138         Data Scientist - Remote   \n",
       "162                  Data Scientist   \n",
       "263               AI Data Scientist   \n",
       "\n",
       "                                       Salary Estimate  \\\n",
       "16   Employer Provided Salary:$65.00 - $75.00 Per Hour   \n",
       "17              Employer Provided Salary:$125K - $170K   \n",
       "30               Employer Provided Salary:$80K - $110K   \n",
       "52   Employer Provided Salary:$70.00 - $75.00 Per Hour   \n",
       "60               Employer Provided Salary:$80K - $110K   \n",
       "87                       $92K - $135K (Glassdoor est.)   \n",
       "88              Employer Provided Salary:$125K - $150K   \n",
       "107                      $92K - $135K (Glassdoor est.)   \n",
       "138              Employer Provided Salary:$80K - $110K   \n",
       "162             Employer Provided Salary:$125K - $150K   \n",
       "263  Employer Provided Salary:$65.00 - $75.00 Per Hour   \n",
       "\n",
       "                                       Job Description  Rating  \\\n",
       "16   Role - AI Data Scientist\\nLocation : Remote\\nD...    -1.0   \n",
       "17   About NewLimit\\nNewLimit is a biotechnology co...    -1.0   \n",
       "30   Data Scientist\\nJob Overview\\nWe are looking f...    -1.0   \n",
       "52   6 month contract to hire with Walmart Inc.\\nJo...    -1.0   \n",
       "60   Data Scientist\\nJob Overview\\nWe are looking f...    -1.0   \n",
       "87   Must live or plan to relocate to NY\\n\\nThe Dat...     3.3   \n",
       "88   About Blue Water Thinking\\nGuided by our princ...     3.5   \n",
       "107  Must live or plan to relocate to NY\\n\\nThe Dat...     3.3   \n",
       "138  Data Scientist\\nJob Overview\\nWe are looking f...    -1.0   \n",
       "162  About Blue Water Thinking\\nGuided by our princ...     3.5   \n",
       "263  Role - AI Data Scientist\\nLocation : Remote\\nD...    -1.0   \n",
       "\n",
       "                 Company Name                 Location               Size  \\\n",
       "16             Vandved Search                   Remote                 -1   \n",
       "17                   NewLimit  South San Francisco, CA                 -1   \n",
       "30                 DLZP Group                   Remote                 -1   \n",
       "52                 Slesha inc                   Remote                 -1   \n",
       "60                 DLZP Group                   Remote                 -1   \n",
       "87              Goodwill\\n3.3            Rochester, NY                 -1   \n",
       "88   Blue Water Thinking\\n3.5                   Remote  1 to 50 Employees   \n",
       "107             Goodwill\\n3.3            Rochester, NY                 -1   \n",
       "138                DLZP Group                   Remote                 -1   \n",
       "162  Blue Water Thinking\\n3.5                   Remote  1 to 50 Employees   \n",
       "263            Vandved Search                   Remote                 -1   \n",
       "\n",
       "     Founded Type of ownership Industry  ...                   Revenue  \\\n",
       "16        -1                -1       -1  ...                        -1   \n",
       "17        -1                -1       -1  ...                        -1   \n",
       "30        -1                -1       -1  ...                        -1   \n",
       "52        -1                -1       -1  ...                        -1   \n",
       "60        -1                -1       -1  ...                        -1   \n",
       "87        -1                -1       -1  ...  Unknown / Non-Applicable   \n",
       "88        -1                -1       -1  ...  Unknown / Non-Applicable   \n",
       "107       -1                -1       -1  ...  Unknown / Non-Applicable   \n",
       "138       -1                -1       -1  ...                        -1   \n",
       "162       -1                -1       -1  ...  Unknown / Non-Applicable   \n",
       "263       -1                -1       -1  ...                        -1   \n",
       "\n",
       "          job_title seniority min_salary  max_salary  avg_salary  desc_len  \\\n",
       "16   data scientist        na        117         135       126.0       570   \n",
       "17   data scientist        na        125         170       147.5       800   \n",
       "30   data scientist        na         80         110        95.0       912   \n",
       "52   data scientist        na        126         135       130.5       538   \n",
       "60   data scientist        na         80         110        95.0       912   \n",
       "87   data scientist        na         92         135       113.5       770   \n",
       "88   data scientist        na        125         150       137.5       712   \n",
       "107  data scientist        na         92         135       113.5       770   \n",
       "138  data scientist        na         80         110        95.0       912   \n",
       "162  data scientist        na        125         150       137.5       712   \n",
       "263  data scientist        na        117         135       126.0       570   \n",
       "\n",
       "            company_name job_state age  \n",
       "16        Vandved Search    Remote  -1  \n",
       "17              NewLimit        CA  -1  \n",
       "30            DLZP Group    Remote  -1  \n",
       "52            Slesha inc    Remote  -1  \n",
       "60            DLZP Group    Remote  -1  \n",
       "87              Goodwill        NY  -1  \n",
       "88   Blue Water Thinking    Remote  -1  \n",
       "107             Goodwill        NY  -1  \n",
       "138           DLZP Group    Remote  -1  \n",
       "162  Blue Water Thinking    Remote  -1  \n",
       "263       Vandved Search    Remote  -1  \n",
       "\n",
       "[11 rows x 21 columns]"
      ]
     },
     "execution_count": 84,
     "metadata": {},
     "output_type": "execute_result"
    }
   ],
   "source": [
    "raw_df[raw_df['Type of ownership'] == '-1']"
   ]
  },
  {
   "cell_type": "markdown",
   "id": "8cfe43c9-4371-463f-a90e-503d49a066ff",
   "metadata": {
    "jp-MarkdownHeadingCollapsed": true,
    "tags": []
   },
   "source": [
    "## 10. Industry Column"
   ]
  },
  {
   "cell_type": "code",
   "execution_count": 65,
   "id": "0acee732-1129-4f4e-8880-f62e22aa6232",
   "metadata": {
    "tags": []
   },
   "outputs": [
    {
     "data": {
      "text/plain": [
       "Internet & Web Services                    136\n",
       "Information Technology Support Services     91\n",
       "Computer Hardware Development               79\n",
       "Enterprise Software & Network Solutions     68\n",
       "Financial Transaction Processing            60\n",
       "Investment & Asset Management               58\n",
       "Health Care Services & Hospitals            53\n",
       "Insurance Carriers                          48\n",
       "-1                                          43\n",
       "Banking & Lending                           22\n",
       "National Agencies                           21\n",
       "Home Furniture & Housewares Stores          17\n",
       "Other Retail Stores                         16\n",
       "Energy & Utilities                           9\n",
       "Aerospace & Defense                          8\n",
       "Colleges & Universities                      8\n",
       "Software Development                         8\n",
       "Business Consulting                          6\n",
       "Biotech & Pharmaceuticals                    4\n",
       "Research & Development                       4\n",
       "Advertising & Public Relations               4\n",
       "Drug & Health Stores                         3\n",
       "Hotels & Resorts                             2\n",
       "Telecommunications Services                  2\n",
       "Insurance Agencies & Brokerages              2\n",
       "Architectural & Engineering Services         1\n",
       "Crop Production                              1\n",
       "Staffing & Subcontracting                    1\n",
       "Chemical Manufacturing                       1\n",
       "Wholesale                                    1\n",
       "Video Game Publishing                        1\n",
       "Name: Industry, dtype: int64"
      ]
     },
     "execution_count": 65,
     "metadata": {},
     "output_type": "execute_result"
    }
   ],
   "source": [
    "raw_df['Industry'].value_counts()"
   ]
  },
  {
   "cell_type": "code",
   "execution_count": 66,
   "id": "9a684d23-ce94-4e6f-830d-6d78fb18fd53",
   "metadata": {
    "tags": []
   },
   "outputs": [
    {
     "data": {
      "text/plain": [
       "Juji                   18\n",
       "Konnectingtree          9\n",
       "DLZP Group              3\n",
       "Vandved Search          2\n",
       "ShyftLabs               2\n",
       "Fabrx Space             2\n",
       "Goodwill                2\n",
       "Blue Water Thinking     2\n",
       "NewLimit                1\n",
       "Cilable                 1\n",
       "Slesha inc              1\n",
       "Name: company_name, dtype: int64"
      ]
     },
     "execution_count": 66,
     "metadata": {},
     "output_type": "execute_result"
    }
   ],
   "source": [
    "raw_df.loc[raw_df['Industry'] == '-1', 'company_name'].value_counts()"
   ]
  },
  {
   "cell_type": "code",
   "execution_count": 67,
   "id": "75789d4b-b4a4-4aba-b64a-a43f77f9e499",
   "metadata": {
    "tags": []
   },
   "outputs": [],
   "source": [
    "raw_df.loc[raw_df['company_name'] == 'Juji', 'Industry'] = 'Information Technology Support Services'"
   ]
  },
  {
   "cell_type": "code",
   "execution_count": 68,
   "id": "bda4adfa-f526-4dfc-83f3-682928482c20",
   "metadata": {
    "tags": []
   },
   "outputs": [],
   "source": [
    "raw_df.loc[raw_df['company_name'] == 'Konnectingtree', 'Industry'] = 'Information Technology Support Services'"
   ]
  },
  {
   "cell_type": "code",
   "execution_count": 69,
   "id": "bd9d5d91-1184-4f27-8a30-2dab777b157b",
   "metadata": {
    "tags": []
   },
   "outputs": [
    {
     "data": {
      "text/plain": [
       "DLZP Group             3\n",
       "Vandved Search         2\n",
       "ShyftLabs              2\n",
       "Fabrx Space            2\n",
       "Goodwill               2\n",
       "Blue Water Thinking    2\n",
       "NewLimit               1\n",
       "Cilable                1\n",
       "Slesha inc             1\n",
       "Name: company_name, dtype: int64"
      ]
     },
     "execution_count": 69,
     "metadata": {},
     "output_type": "execute_result"
    }
   ],
   "source": [
    "raw_df.loc[raw_df['Industry'] == '-1', 'company_name'].value_counts()"
   ]
  },
  {
   "cell_type": "code",
   "execution_count": 70,
   "id": "9ffe52b0-1b2d-4cea-b000-47365fb8cf60",
   "metadata": {
    "tags": []
   },
   "outputs": [
    {
     "data": {
      "text/plain": [
       "16"
      ]
     },
     "execution_count": 70,
     "metadata": {},
     "output_type": "execute_result"
    }
   ],
   "source": [
    "len(raw_df.loc[raw_df['Industry'] == '-1', 'company_name'])"
   ]
  },
  {
   "cell_type": "markdown",
   "id": "8556ebf2-ccea-4d34-a3d0-9d6c2b2038f9",
   "metadata": {
    "jp-MarkdownHeadingCollapsed": true,
    "tags": []
   },
   "source": [
    "## 11. Sector Column"
   ]
  },
  {
   "cell_type": "code",
   "execution_count": 71,
   "id": "4b3293b3-9678-46ed-a876-92bf61058b0a",
   "metadata": {
    "tags": []
   },
   "outputs": [
    {
     "data": {
      "text/plain": [
       "Information Technology                         382\n",
       "Financial Services                             140\n",
       "Healthcare                                      53\n",
       "Insurance                                       50\n",
       "-1                                              43\n",
       "Retail & Wholesale                              37\n",
       "Government & Public Administration              21\n",
       "Management & Consulting                         10\n",
       "Energy, Mining & Utilities                       9\n",
       "Education                                        8\n",
       "Aerospace & Defense                              8\n",
       "Media & Communication                            5\n",
       "Pharmaceutical & Biotechnology                   4\n",
       "Telecommunications                               2\n",
       "Hotels & Travel Accommodation                    2\n",
       "Agriculture                                      1\n",
       "Manufacturing                                    1\n",
       "Construction, Repair & Maintenance Services      1\n",
       "Human Resources & Staffing                       1\n",
       "Name: Sector, dtype: int64"
      ]
     },
     "execution_count": 71,
     "metadata": {},
     "output_type": "execute_result"
    }
   ],
   "source": [
    "raw_df['Sector'].value_counts()"
   ]
  },
  {
   "cell_type": "code",
   "execution_count": 72,
   "id": "ebd1152a-4776-46d4-8dfa-c8ab506640b9",
   "metadata": {
    "tags": []
   },
   "outputs": [
    {
     "data": {
      "text/plain": [
       "Juji                   18\n",
       "Konnectingtree          9\n",
       "DLZP Group              3\n",
       "Vandved Search          2\n",
       "ShyftLabs               2\n",
       "Fabrx Space             2\n",
       "Goodwill                2\n",
       "Blue Water Thinking     2\n",
       "NewLimit                1\n",
       "Cilable                 1\n",
       "Slesha inc              1\n",
       "Name: company_name, dtype: int64"
      ]
     },
     "execution_count": 72,
     "metadata": {},
     "output_type": "execute_result"
    }
   ],
   "source": [
    "raw_df.loc[raw_df['Sector'] == '-1', 'company_name'].value_counts()"
   ]
  },
  {
   "cell_type": "code",
   "execution_count": 73,
   "id": "61099968-9237-4f57-97d3-a944485b624e",
   "metadata": {
    "tags": []
   },
   "outputs": [],
   "source": [
    "raw_df.loc[raw_df['company_name'] == 'Juji' , 'Sector'] = 'Information Technology'"
   ]
  },
  {
   "cell_type": "code",
   "execution_count": 74,
   "id": "a98447ac-8f4f-4afd-83ed-062ab419387d",
   "metadata": {
    "tags": []
   },
   "outputs": [],
   "source": [
    "raw_df.loc[raw_df['company_name'] == 'Konnectingtree' , 'Sector'] = 'Information Technology'"
   ]
  },
  {
   "cell_type": "code",
   "execution_count": 75,
   "id": "5edf2ae4-1c12-40c2-9890-af1fa855a37d",
   "metadata": {
    "tags": []
   },
   "outputs": [
    {
     "data": {
      "text/plain": [
       "DLZP Group             3\n",
       "Vandved Search         2\n",
       "ShyftLabs              2\n",
       "Fabrx Space            2\n",
       "Goodwill               2\n",
       "Blue Water Thinking    2\n",
       "NewLimit               1\n",
       "Cilable                1\n",
       "Slesha inc             1\n",
       "Name: company_name, dtype: int64"
      ]
     },
     "execution_count": 75,
     "metadata": {},
     "output_type": "execute_result"
    }
   ],
   "source": [
    "raw_df.loc[raw_df['Sector'] == '-1', 'company_name'].value_counts()"
   ]
  },
  {
   "cell_type": "code",
   "execution_count": 76,
   "id": "9a0392e5-3533-4fd4-b364-bfeb19c80b91",
   "metadata": {
    "tags": []
   },
   "outputs": [
    {
     "data": {
      "text/plain": [
       "9"
      ]
     },
     "execution_count": 76,
     "metadata": {},
     "output_type": "execute_result"
    }
   ],
   "source": [
    "len(raw_df.loc[raw_df['Sector'] == '-1', 'company_name'].value_counts())"
   ]
  },
  {
   "cell_type": "markdown",
   "id": "c8ef7f2c-da2f-44cb-81f0-2c0a9a5df1e3",
   "metadata": {
    "jp-MarkdownHeadingCollapsed": true,
    "tags": []
   },
   "source": [
    "## 12. Revenue Column"
   ]
  },
  {
   "cell_type": "code",
   "execution_count": 85,
   "id": "56a524ff-fe7f-49fb-9958-b0d853f144ed",
   "metadata": {
    "tags": []
   },
   "outputs": [
    {
     "data": {
      "text/plain": [
       "Unknown / Non-Applicable            368\n",
       "$10+ billion (USD)                  166\n",
       "$1 to $5 billion (USD)              145\n",
       "$25 to $100 million (USD)            23\n",
       "$1 to $5 million (USD)               20\n",
       "Less than $1 million (USD)           19\n",
       "$500 million to $1 billion (USD)     11\n",
       "$100 to $500 million (USD)            9\n",
       "-1                                    7\n",
       "$5 to $10 billion (USD)               7\n",
       "$5 to $25 million (USD)               3\n",
       "Name: Revenue, dtype: int64"
      ]
     },
     "execution_count": 85,
     "metadata": {},
     "output_type": "execute_result"
    }
   ],
   "source": [
    "raw_df['Revenue'].value_counts()"
   ]
  },
  {
   "cell_type": "code",
   "execution_count": 87,
   "id": "648579b3-10ac-4d2c-a43c-31f27019c720",
   "metadata": {
    "tags": []
   },
   "outputs": [
    {
     "data": {
      "text/html": [
       "<div>\n",
       "<style scoped>\n",
       "    .dataframe tbody tr th:only-of-type {\n",
       "        vertical-align: middle;\n",
       "    }\n",
       "\n",
       "    .dataframe tbody tr th {\n",
       "        vertical-align: top;\n",
       "    }\n",
       "\n",
       "    .dataframe thead th {\n",
       "        text-align: right;\n",
       "    }\n",
       "</style>\n",
       "<table border=\"1\" class=\"dataframe\">\n",
       "  <thead>\n",
       "    <tr style=\"text-align: right;\">\n",
       "      <th></th>\n",
       "      <th>Job Title</th>\n",
       "      <th>Salary Estimate</th>\n",
       "      <th>Job Description</th>\n",
       "      <th>Rating</th>\n",
       "      <th>Company Name</th>\n",
       "      <th>Location</th>\n",
       "      <th>Size</th>\n",
       "      <th>Founded</th>\n",
       "      <th>Type of ownership</th>\n",
       "      <th>Industry</th>\n",
       "      <th>...</th>\n",
       "      <th>Revenue</th>\n",
       "      <th>job_title</th>\n",
       "      <th>seniority</th>\n",
       "      <th>min_salary</th>\n",
       "      <th>max_salary</th>\n",
       "      <th>avg_salary</th>\n",
       "      <th>desc_len</th>\n",
       "      <th>company_name</th>\n",
       "      <th>job_state</th>\n",
       "      <th>age</th>\n",
       "    </tr>\n",
       "  </thead>\n",
       "  <tbody>\n",
       "    <tr>\n",
       "      <th>16</th>\n",
       "      <td>AI Data Scientist</td>\n",
       "      <td>Employer Provided Salary:$65.00 - $75.00 Per Hour</td>\n",
       "      <td>Role - AI Data Scientist\\nLocation : Remote\\nD...</td>\n",
       "      <td>-1.0</td>\n",
       "      <td>Vandved Search</td>\n",
       "      <td>Remote</td>\n",
       "      <td>-1</td>\n",
       "      <td>-1</td>\n",
       "      <td>-1</td>\n",
       "      <td>-1</td>\n",
       "      <td>...</td>\n",
       "      <td>-1</td>\n",
       "      <td>data scientist</td>\n",
       "      <td>na</td>\n",
       "      <td>117</td>\n",
       "      <td>135</td>\n",
       "      <td>126.0</td>\n",
       "      <td>570</td>\n",
       "      <td>Vandved Search</td>\n",
       "      <td>Remote</td>\n",
       "      <td>-1</td>\n",
       "    </tr>\n",
       "    <tr>\n",
       "      <th>17</th>\n",
       "      <td>Data Scientist, Bioinformatics</td>\n",
       "      <td>Employer Provided Salary:$125K - $170K</td>\n",
       "      <td>About NewLimit\\nNewLimit is a biotechnology co...</td>\n",
       "      <td>-1.0</td>\n",
       "      <td>NewLimit</td>\n",
       "      <td>South San Francisco, CA</td>\n",
       "      <td>-1</td>\n",
       "      <td>-1</td>\n",
       "      <td>-1</td>\n",
       "      <td>-1</td>\n",
       "      <td>...</td>\n",
       "      <td>-1</td>\n",
       "      <td>data scientist</td>\n",
       "      <td>na</td>\n",
       "      <td>125</td>\n",
       "      <td>170</td>\n",
       "      <td>147.5</td>\n",
       "      <td>800</td>\n",
       "      <td>NewLimit</td>\n",
       "      <td>CA</td>\n",
       "      <td>-1</td>\n",
       "    </tr>\n",
       "    <tr>\n",
       "      <th>30</th>\n",
       "      <td>Data Scientist - Remote</td>\n",
       "      <td>Employer Provided Salary:$80K - $110K</td>\n",
       "      <td>Data Scientist\\nJob Overview\\nWe are looking f...</td>\n",
       "      <td>-1.0</td>\n",
       "      <td>DLZP Group</td>\n",
       "      <td>Remote</td>\n",
       "      <td>-1</td>\n",
       "      <td>-1</td>\n",
       "      <td>-1</td>\n",
       "      <td>-1</td>\n",
       "      <td>...</td>\n",
       "      <td>-1</td>\n",
       "      <td>data scientist</td>\n",
       "      <td>na</td>\n",
       "      <td>80</td>\n",
       "      <td>110</td>\n",
       "      <td>95.0</td>\n",
       "      <td>912</td>\n",
       "      <td>DLZP Group</td>\n",
       "      <td>Remote</td>\n",
       "      <td>-1</td>\n",
       "    </tr>\n",
       "    <tr>\n",
       "      <th>52</th>\n",
       "      <td>Data Scientist</td>\n",
       "      <td>Employer Provided Salary:$70.00 - $75.00 Per Hour</td>\n",
       "      <td>6 month contract to hire with Walmart Inc.\\nJo...</td>\n",
       "      <td>-1.0</td>\n",
       "      <td>Slesha inc</td>\n",
       "      <td>Remote</td>\n",
       "      <td>-1</td>\n",
       "      <td>-1</td>\n",
       "      <td>-1</td>\n",
       "      <td>-1</td>\n",
       "      <td>...</td>\n",
       "      <td>-1</td>\n",
       "      <td>data scientist</td>\n",
       "      <td>na</td>\n",
       "      <td>126</td>\n",
       "      <td>135</td>\n",
       "      <td>130.5</td>\n",
       "      <td>538</td>\n",
       "      <td>Slesha inc</td>\n",
       "      <td>Remote</td>\n",
       "      <td>-1</td>\n",
       "    </tr>\n",
       "    <tr>\n",
       "      <th>60</th>\n",
       "      <td>Data Scientist - Remote</td>\n",
       "      <td>Employer Provided Salary:$80K - $110K</td>\n",
       "      <td>Data Scientist\\nJob Overview\\nWe are looking f...</td>\n",
       "      <td>-1.0</td>\n",
       "      <td>DLZP Group</td>\n",
       "      <td>Remote</td>\n",
       "      <td>-1</td>\n",
       "      <td>-1</td>\n",
       "      <td>-1</td>\n",
       "      <td>-1</td>\n",
       "      <td>...</td>\n",
       "      <td>-1</td>\n",
       "      <td>data scientist</td>\n",
       "      <td>na</td>\n",
       "      <td>80</td>\n",
       "      <td>110</td>\n",
       "      <td>95.0</td>\n",
       "      <td>912</td>\n",
       "      <td>DLZP Group</td>\n",
       "      <td>Remote</td>\n",
       "      <td>-1</td>\n",
       "    </tr>\n",
       "    <tr>\n",
       "      <th>138</th>\n",
       "      <td>Data Scientist - Remote</td>\n",
       "      <td>Employer Provided Salary:$80K - $110K</td>\n",
       "      <td>Data Scientist\\nJob Overview\\nWe are looking f...</td>\n",
       "      <td>-1.0</td>\n",
       "      <td>DLZP Group</td>\n",
       "      <td>Remote</td>\n",
       "      <td>-1</td>\n",
       "      <td>-1</td>\n",
       "      <td>-1</td>\n",
       "      <td>-1</td>\n",
       "      <td>...</td>\n",
       "      <td>-1</td>\n",
       "      <td>data scientist</td>\n",
       "      <td>na</td>\n",
       "      <td>80</td>\n",
       "      <td>110</td>\n",
       "      <td>95.0</td>\n",
       "      <td>912</td>\n",
       "      <td>DLZP Group</td>\n",
       "      <td>Remote</td>\n",
       "      <td>-1</td>\n",
       "    </tr>\n",
       "    <tr>\n",
       "      <th>263</th>\n",
       "      <td>AI Data Scientist</td>\n",
       "      <td>Employer Provided Salary:$65.00 - $75.00 Per Hour</td>\n",
       "      <td>Role - AI Data Scientist\\nLocation : Remote\\nD...</td>\n",
       "      <td>-1.0</td>\n",
       "      <td>Vandved Search</td>\n",
       "      <td>Remote</td>\n",
       "      <td>-1</td>\n",
       "      <td>-1</td>\n",
       "      <td>-1</td>\n",
       "      <td>-1</td>\n",
       "      <td>...</td>\n",
       "      <td>-1</td>\n",
       "      <td>data scientist</td>\n",
       "      <td>na</td>\n",
       "      <td>117</td>\n",
       "      <td>135</td>\n",
       "      <td>126.0</td>\n",
       "      <td>570</td>\n",
       "      <td>Vandved Search</td>\n",
       "      <td>Remote</td>\n",
       "      <td>-1</td>\n",
       "    </tr>\n",
       "  </tbody>\n",
       "</table>\n",
       "<p>7 rows × 21 columns</p>\n",
       "</div>"
      ],
      "text/plain": [
       "                          Job Title  \\\n",
       "16                AI Data Scientist   \n",
       "17   Data Scientist, Bioinformatics   \n",
       "30          Data Scientist - Remote   \n",
       "52                   Data Scientist   \n",
       "60          Data Scientist - Remote   \n",
       "138         Data Scientist - Remote   \n",
       "263               AI Data Scientist   \n",
       "\n",
       "                                       Salary Estimate  \\\n",
       "16   Employer Provided Salary:$65.00 - $75.00 Per Hour   \n",
       "17              Employer Provided Salary:$125K - $170K   \n",
       "30               Employer Provided Salary:$80K - $110K   \n",
       "52   Employer Provided Salary:$70.00 - $75.00 Per Hour   \n",
       "60               Employer Provided Salary:$80K - $110K   \n",
       "138              Employer Provided Salary:$80K - $110K   \n",
       "263  Employer Provided Salary:$65.00 - $75.00 Per Hour   \n",
       "\n",
       "                                       Job Description  Rating  \\\n",
       "16   Role - AI Data Scientist\\nLocation : Remote\\nD...    -1.0   \n",
       "17   About NewLimit\\nNewLimit is a biotechnology co...    -1.0   \n",
       "30   Data Scientist\\nJob Overview\\nWe are looking f...    -1.0   \n",
       "52   6 month contract to hire with Walmart Inc.\\nJo...    -1.0   \n",
       "60   Data Scientist\\nJob Overview\\nWe are looking f...    -1.0   \n",
       "138  Data Scientist\\nJob Overview\\nWe are looking f...    -1.0   \n",
       "263  Role - AI Data Scientist\\nLocation : Remote\\nD...    -1.0   \n",
       "\n",
       "       Company Name                 Location Size  Founded Type of ownership  \\\n",
       "16   Vandved Search                   Remote   -1       -1                -1   \n",
       "17         NewLimit  South San Francisco, CA   -1       -1                -1   \n",
       "30       DLZP Group                   Remote   -1       -1                -1   \n",
       "52       Slesha inc                   Remote   -1       -1                -1   \n",
       "60       DLZP Group                   Remote   -1       -1                -1   \n",
       "138      DLZP Group                   Remote   -1       -1                -1   \n",
       "263  Vandved Search                   Remote   -1       -1                -1   \n",
       "\n",
       "    Industry  ... Revenue       job_title seniority min_salary  max_salary  \\\n",
       "16        -1  ...      -1  data scientist        na        117         135   \n",
       "17        -1  ...      -1  data scientist        na        125         170   \n",
       "30        -1  ...      -1  data scientist        na         80         110   \n",
       "52        -1  ...      -1  data scientist        na        126         135   \n",
       "60        -1  ...      -1  data scientist        na         80         110   \n",
       "138       -1  ...      -1  data scientist        na         80         110   \n",
       "263       -1  ...      -1  data scientist        na        117         135   \n",
       "\n",
       "     avg_salary  desc_len    company_name job_state age  \n",
       "16        126.0       570  Vandved Search    Remote  -1  \n",
       "17        147.5       800        NewLimit        CA  -1  \n",
       "30         95.0       912      DLZP Group    Remote  -1  \n",
       "52        130.5       538      Slesha inc    Remote  -1  \n",
       "60         95.0       912      DLZP Group    Remote  -1  \n",
       "138        95.0       912      DLZP Group    Remote  -1  \n",
       "263       126.0       570  Vandved Search    Remote  -1  \n",
       "\n",
       "[7 rows x 21 columns]"
      ]
     },
     "execution_count": 87,
     "metadata": {},
     "output_type": "execute_result"
    }
   ],
   "source": [
    "raw_df[raw_df['Revenue'] == '-1']"
   ]
  },
  {
   "cell_type": "code",
   "execution_count": 90,
   "id": "9a393f3c-1119-4564-a580-b999ecf1e32a",
   "metadata": {
    "tags": []
   },
   "outputs": [
    {
     "data": {
      "text/plain": [
       "Realtor.com Careers                  75\n",
       "Cedar Inc                            51\n",
       "Mastercard                           29\n",
       "Octaura                              28\n",
       "Veracity Software                    27\n",
       "Notion                               24\n",
       "current                              22\n",
       "National Security Agency             21\n",
       "Dataminr                             20\n",
       "FAST GROWING TREES LLC               17\n",
       "Tencent                              10\n",
       "Konnectingtree                        9\n",
       "Hyperspace Ventures                   5\n",
       "University of Minnesota               4\n",
       "Cadent                                4\n",
       "ShyftLabs                             2\n",
       "Ascend Analytics, LLC                 2\n",
       "Moveworks.ai                          2\n",
       "Ramp Financial                        2\n",
       "Goodwill                              2\n",
       "Blue Water Thinking                   2\n",
       "Fabrx Space                           2\n",
       "Hilton Grand Vacations                1\n",
       "Faire                                 1\n",
       "80 Acres Farms                        1\n",
       "Cal-Tex Protective Coatings, Inc.     1\n",
       "DevCare Solutions                     1\n",
       "Vetro Tech Inc                        1\n",
       "Cilable                               1\n",
       "Evolve Vacation Rentals               1\n",
       "Name: company_name, dtype: int64"
      ]
     },
     "execution_count": 90,
     "metadata": {},
     "output_type": "execute_result"
    }
   ],
   "source": [
    "raw_df.loc[raw_df['Revenue'] == 'Unknown / Non-Applicable', 'company_name'].value_counts()"
   ]
  },
  {
   "cell_type": "markdown",
   "id": "8f6084d8-d36d-435e-8fa8-fb8cbd844ca9",
   "metadata": {
    "jp-MarkdownHeadingCollapsed": true,
    "tags": []
   },
   "source": [
    "## Data Cleaning and Preprocessing Notes"
   ]
  },
  {
   "cell_type": "markdown",
   "id": "07c5dcda-0c65-4148-839c-d72b3e819270",
   "metadata": {},
   "source": [
    "### 1. Job Title column ✔️\n",
    "    a. classify the job titles in terms of title and seniority ✔️\n",
    "    b. the seniority column has alot of missing values , maybe figure out how to deal with this later or drop it 🛠\n",
    "### 2. SalaryColumn ✔️\n",
    "    a. Remove rows in which salary equal -1 ✔️\n",
    "    b. Remove any Text in the columns  ✔️\n",
    "    c. Change Hourly rate salaries to Yearly rat ✔️\n",
    "    d. Create Three new columns min, max, avg salary✔️\n",
    "### 3.Job Description Column ✔️\n",
    "    a. Create a desc_length column contains the length of characters in the job Description, to see if their a correlation between the job description length and salary ✔️\n",
    "    b. maybe we try to preprocess the descriptions, try to get new insights 🛠\n",
    "### 4. Rating Column\n",
    "    a. Deal with missing Rating values(-1) 🛠\n",
    "### 5. Company Name Column ✔️ \n",
    "    a. Remove the rating in the company name tail ✔️\n",
    "    b. Remove the '\\n' text in the company name tail ✔️\n",
    "### 6. Company Location Column✔️ \n",
    "    a. keep the state abbreviation only✔️  \n",
    "    b. deal with the anomalies['texas', 'newyork state', 'united states'] ✔️ \n",
    "### 7. Company Size Column\n",
    "    a. Deal with most of missing values in the size Column ✔️ \n",
    "    b. maybe change this column to categories 🛠\n",
    "    c. what will we do with the remaining 13 missing values 🛠\n",
    "### 8.Founded column\n",
    "    a. change the Founded year to how old the company is ✔️\n",
    "    b. deal with the missing values ✔️\n",
    "    c. how are gonna deal with the remaining 18 missing values 🛠\n",
    "    c. maybe we need to turn this column into categories of age 🛠\n",
    "### 9. Type of ownership column\n",
    "    a. Convert subsidiary or busniess segment to company private✔️\n",
    "    b. convert all missing values to -1✔️\n",
    "    c. deal with missing values and turn into categories🛠\n",
    "### 10. Industry Column\n",
    "    a. changed Juji and Konnecting Tree values from -1 to it support services✔️\n",
    "    b. deal with the remaining 16 missing values🛠\n",
    "### 11. Sector Column\n",
    "    a. changed Juji and Konnecting Tree values from -1 to it support services✔️\n",
    "    b. deal with the remaining 9 missing values🛠\n",
    "### 12.Revenue Column\n",
    "    a. there 375 missing values in the Revenus column🛠\n",
    "    b. How r we gonna deal with that🛠"
   ]
  },
  {
   "cell_type": "markdown",
   "id": "7e1c555c-e3c5-4521-82c0-fc30ecc52725",
   "metadata": {
    "tags": []
   },
   "source": [
    "## Export Data to a CSV File and a Pickle File"
   ]
  },
  {
   "cell_type": "code",
   "execution_count": 91,
   "id": "00c4248b-e739-4009-92ee-cd12269d146d",
   "metadata": {
    "tags": []
   },
   "outputs": [
    {
     "data": {
      "text/html": [
       "<div>\n",
       "<style scoped>\n",
       "    .dataframe tbody tr th:only-of-type {\n",
       "        vertical-align: middle;\n",
       "    }\n",
       "\n",
       "    .dataframe tbody tr th {\n",
       "        vertical-align: top;\n",
       "    }\n",
       "\n",
       "    .dataframe thead th {\n",
       "        text-align: right;\n",
       "    }\n",
       "</style>\n",
       "<table border=\"1\" class=\"dataframe\">\n",
       "  <thead>\n",
       "    <tr style=\"text-align: right;\">\n",
       "      <th></th>\n",
       "      <th>Job Title</th>\n",
       "      <th>Salary Estimate</th>\n",
       "      <th>Job Description</th>\n",
       "      <th>Rating</th>\n",
       "      <th>Company Name</th>\n",
       "      <th>Location</th>\n",
       "      <th>Size</th>\n",
       "      <th>Founded</th>\n",
       "      <th>Type of ownership</th>\n",
       "      <th>Industry</th>\n",
       "      <th>...</th>\n",
       "      <th>Revenue</th>\n",
       "      <th>job_title</th>\n",
       "      <th>seniority</th>\n",
       "      <th>min_salary</th>\n",
       "      <th>max_salary</th>\n",
       "      <th>avg_salary</th>\n",
       "      <th>desc_len</th>\n",
       "      <th>company_name</th>\n",
       "      <th>job_state</th>\n",
       "      <th>age</th>\n",
       "    </tr>\n",
       "  </thead>\n",
       "  <tbody>\n",
       "    <tr>\n",
       "      <th>0</th>\n",
       "      <td>Data Scientist, Product Engagement</td>\n",
       "      <td>Employer Provided Salary:$123K - $178K</td>\n",
       "      <td>At Realtor.com®, we have among the most compre...</td>\n",
       "      <td>3.7</td>\n",
       "      <td>Realtor.com Careers\\n3.7</td>\n",
       "      <td>Austin, TX</td>\n",
       "      <td>1001 to 5000 Employees</td>\n",
       "      <td>1993</td>\n",
       "      <td>Company - Private</td>\n",
       "      <td>Computer Hardware Development</td>\n",
       "      <td>...</td>\n",
       "      <td>Unknown / Non-Applicable</td>\n",
       "      <td>data scientist</td>\n",
       "      <td>na</td>\n",
       "      <td>123</td>\n",
       "      <td>178</td>\n",
       "      <td>150.5</td>\n",
       "      <td>1283</td>\n",
       "      <td>Realtor.com Careers</td>\n",
       "      <td>TX</td>\n",
       "      <td>30</td>\n",
       "    </tr>\n",
       "    <tr>\n",
       "      <th>2</th>\n",
       "      <td>Senior Data Scientist</td>\n",
       "      <td>Employer Provided Salary:$135K - $196K</td>\n",
       "      <td>At Realtor.com®, we have among the most compre...</td>\n",
       "      <td>3.7</td>\n",
       "      <td>Realtor.com Careers\\n3.7</td>\n",
       "      <td>Austin, TX</td>\n",
       "      <td>1001 to 5000 Employees</td>\n",
       "      <td>1993</td>\n",
       "      <td>Company - Private</td>\n",
       "      <td>Computer Hardware Development</td>\n",
       "      <td>...</td>\n",
       "      <td>Unknown / Non-Applicable</td>\n",
       "      <td>data scientist</td>\n",
       "      <td>senior</td>\n",
       "      <td>135</td>\n",
       "      <td>196</td>\n",
       "      <td>165.5</td>\n",
       "      <td>1202</td>\n",
       "      <td>Realtor.com Careers</td>\n",
       "      <td>TX</td>\n",
       "      <td>30</td>\n",
       "    </tr>\n",
       "    <tr>\n",
       "      <th>3</th>\n",
       "      <td>Data Analyst</td>\n",
       "      <td>Employer Provided Salary:$102K - $148K</td>\n",
       "      <td>At Realtor.com®, we have among the most compre...</td>\n",
       "      <td>3.7</td>\n",
       "      <td>Realtor.com Careers\\n3.7</td>\n",
       "      <td>Austin, TX</td>\n",
       "      <td>1001 to 5000 Employees</td>\n",
       "      <td>1993</td>\n",
       "      <td>Company - Private</td>\n",
       "      <td>Computer Hardware Development</td>\n",
       "      <td>...</td>\n",
       "      <td>Unknown / Non-Applicable</td>\n",
       "      <td>data analyst</td>\n",
       "      <td>na</td>\n",
       "      <td>102</td>\n",
       "      <td>148</td>\n",
       "      <td>125.0</td>\n",
       "      <td>1206</td>\n",
       "      <td>Realtor.com Careers</td>\n",
       "      <td>TX</td>\n",
       "      <td>30</td>\n",
       "    </tr>\n",
       "    <tr>\n",
       "      <th>4</th>\n",
       "      <td>Data Scientist I</td>\n",
       "      <td>$95K - $125K (Glassdoor est.)</td>\n",
       "      <td>Our Purpose\\nWe work to connect and power an i...</td>\n",
       "      <td>4.3</td>\n",
       "      <td>Mastercard\\n4.3</td>\n",
       "      <td>O Fallon, MO</td>\n",
       "      <td>10000+ Employees</td>\n",
       "      <td>1966</td>\n",
       "      <td>Company - Public</td>\n",
       "      <td>Financial Transaction Processing</td>\n",
       "      <td>...</td>\n",
       "      <td>Unknown / Non-Applicable</td>\n",
       "      <td>data scientist</td>\n",
       "      <td>na</td>\n",
       "      <td>95</td>\n",
       "      <td>125</td>\n",
       "      <td>110.0</td>\n",
       "      <td>3064</td>\n",
       "      <td>Mastercard</td>\n",
       "      <td>MO</td>\n",
       "      <td>57</td>\n",
       "    </tr>\n",
       "    <tr>\n",
       "      <th>6</th>\n",
       "      <td>Data Scientist</td>\n",
       "      <td>Employer Provided Salary:$100K</td>\n",
       "      <td>The Data Scientist will use analytical, statis...</td>\n",
       "      <td>3.6</td>\n",
       "      <td>Stifel, Nicolaus &amp; Co., Inc.\\n3.6</td>\n",
       "      <td>New York, NY</td>\n",
       "      <td>5001 to 10000 Employees</td>\n",
       "      <td>1890</td>\n",
       "      <td>Company - Public</td>\n",
       "      <td>Investment &amp; Asset Management</td>\n",
       "      <td>...</td>\n",
       "      <td>$1 to $5 billion (USD)</td>\n",
       "      <td>data scientist</td>\n",
       "      <td>na</td>\n",
       "      <td>100</td>\n",
       "      <td>100</td>\n",
       "      <td>100.0</td>\n",
       "      <td>783</td>\n",
       "      <td>Stifel, Nicolaus &amp; Co., Inc.</td>\n",
       "      <td>NY</td>\n",
       "      <td>133</td>\n",
       "    </tr>\n",
       "  </tbody>\n",
       "</table>\n",
       "<p>5 rows × 21 columns</p>\n",
       "</div>"
      ],
      "text/plain": [
       "                            Job Title                         Salary Estimate  \\\n",
       "0  Data Scientist, Product Engagement  Employer Provided Salary:$123K - $178K   \n",
       "2               Senior Data Scientist  Employer Provided Salary:$135K - $196K   \n",
       "3                        Data Analyst  Employer Provided Salary:$102K - $148K   \n",
       "4                    Data Scientist I           $95K - $125K (Glassdoor est.)   \n",
       "6                      Data Scientist          Employer Provided Salary:$100K   \n",
       "\n",
       "                                     Job Description  Rating  \\\n",
       "0  At Realtor.com®, we have among the most compre...     3.7   \n",
       "2  At Realtor.com®, we have among the most compre...     3.7   \n",
       "3  At Realtor.com®, we have among the most compre...     3.7   \n",
       "4  Our Purpose\\nWe work to connect and power an i...     4.3   \n",
       "6  The Data Scientist will use analytical, statis...     3.6   \n",
       "\n",
       "                        Company Name      Location                     Size  \\\n",
       "0           Realtor.com Careers\\n3.7    Austin, TX   1001 to 5000 Employees   \n",
       "2           Realtor.com Careers\\n3.7    Austin, TX   1001 to 5000 Employees   \n",
       "3           Realtor.com Careers\\n3.7    Austin, TX   1001 to 5000 Employees   \n",
       "4                    Mastercard\\n4.3  O Fallon, MO         10000+ Employees   \n",
       "6  Stifel, Nicolaus & Co., Inc.\\n3.6  New York, NY  5001 to 10000 Employees   \n",
       "\n",
       "   Founded  Type of ownership                          Industry  ...  \\\n",
       "0     1993  Company - Private     Computer Hardware Development  ...   \n",
       "2     1993  Company - Private     Computer Hardware Development  ...   \n",
       "3     1993  Company - Private     Computer Hardware Development  ...   \n",
       "4     1966   Company - Public  Financial Transaction Processing  ...   \n",
       "6     1890   Company - Public     Investment & Asset Management  ...   \n",
       "\n",
       "                    Revenue       job_title seniority min_salary  max_salary  \\\n",
       "0  Unknown / Non-Applicable  data scientist        na        123         178   \n",
       "2  Unknown / Non-Applicable  data scientist    senior        135         196   \n",
       "3  Unknown / Non-Applicable    data analyst        na        102         148   \n",
       "4  Unknown / Non-Applicable  data scientist        na         95         125   \n",
       "6    $1 to $5 billion (USD)  data scientist        na        100         100   \n",
       "\n",
       "   avg_salary  desc_len                  company_name job_state  age  \n",
       "0       150.5      1283           Realtor.com Careers        TX   30  \n",
       "2       165.5      1202           Realtor.com Careers        TX   30  \n",
       "3       125.0      1206           Realtor.com Careers        TX   30  \n",
       "4       110.0      3064                    Mastercard        MO   57  \n",
       "6       100.0       783  Stifel, Nicolaus & Co., Inc.        NY  133  \n",
       "\n",
       "[5 rows x 21 columns]"
      ]
     },
     "execution_count": 91,
     "metadata": {},
     "output_type": "execute_result"
    }
   ],
   "source": [
    "raw_df.head()"
   ]
  },
  {
   "cell_type": "code",
   "execution_count": 95,
   "id": "3f9b7be5-e132-4d8a-9290-46587b38a89d",
   "metadata": {
    "tags": []
   },
   "outputs": [
    {
     "name": "stdout",
     "output_type": "stream",
     "text": [
      "<class 'pandas.core.frame.DataFrame'>\n",
      "Int64Index: 778 entries, 0 to 998\n",
      "Data columns (total 21 columns):\n",
      " #   Column             Non-Null Count  Dtype  \n",
      "---  ------             --------------  -----  \n",
      " 0   Job Title          778 non-null    object \n",
      " 1   Salary Estimate    778 non-null    object \n",
      " 2   Job Description    778 non-null    object \n",
      " 3   Rating             778 non-null    float64\n",
      " 4   Company Name       778 non-null    object \n",
      " 5   Location           778 non-null    object \n",
      " 6   Size               778 non-null    object \n",
      " 7   Founded            778 non-null    int64  \n",
      " 8   Type of ownership  778 non-null    object \n",
      " 9   Industry           778 non-null    object \n",
      " 10  Sector             778 non-null    object \n",
      " 11  Revenue            778 non-null    object \n",
      " 12  job_title          778 non-null    object \n",
      " 13  seniority          778 non-null    object \n",
      " 14  min_salary         778 non-null    int64  \n",
      " 15  max_salary         778 non-null    int64  \n",
      " 16  avg_salary         778 non-null    float64\n",
      " 17  desc_len           778 non-null    int64  \n",
      " 18  company_name       778 non-null    object \n",
      " 19  job_state          778 non-null    object \n",
      " 20  age                778 non-null    int64  \n",
      "dtypes: float64(2), int64(5), object(14)\n",
      "memory usage: 149.9+ KB\n"
     ]
    }
   ],
   "source": [
    "raw_df.info()"
   ]
  },
  {
   "cell_type": "code",
   "execution_count": 93,
   "id": "fb4c6554-92a5-4d81-8a85-61b86379ee29",
   "metadata": {
    "tags": []
   },
   "outputs": [],
   "source": [
    "raw_df.to_csv(CSV_EXPORT_PATH, index = False)"
   ]
  },
  {
   "cell_type": "code",
   "execution_count": 94,
   "id": "c75ecb63-0a28-401b-948e-2c8996ccab80",
   "metadata": {
    "tags": []
   },
   "outputs": [],
   "source": [
    "raw_df.to_pickle(PKL_EXPORT_PATH)"
   ]
  },
  {
   "cell_type": "code",
   "execution_count": null,
   "id": "e9239a71-e0b7-45de-a5c8-bc0e15e2eb9b",
   "metadata": {},
   "outputs": [],
   "source": []
  }
 ],
 "metadata": {
  "kernelspec": {
   "display_name": "Python 3 (ipykernel)",
   "language": "python",
   "name": "python3"
  },
  "language_info": {
   "codemirror_mode": {
    "name": "ipython",
    "version": 3
   },
   "file_extension": ".py",
   "mimetype": "text/x-python",
   "name": "python",
   "nbconvert_exporter": "python",
   "pygments_lexer": "ipython3",
   "version": "3.11.4"
  }
 },
 "nbformat": 4,
 "nbformat_minor": 5
}
