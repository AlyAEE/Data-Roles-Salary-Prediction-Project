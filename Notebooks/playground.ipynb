{
 "cells": [
  {
   "cell_type": "code",
   "execution_count": null,
   "id": "5a33318e-5e44-408c-87fb-395fad70db2a",
   "metadata": {},
   "outputs": [],
   "source": [
    "# Get CSV files list from a folder\n",
    "csv_files = glob.glob(DATA_PATH + \"/*\")\n",
    "# load the dataframes and concatenate them\n",
    "raw_df = pd.concat(map(pd.read_csv, csv_files))\n",
    "raw_df = raw_df.set_index('Unnamed: 0').reset_index(drop=True)\n",
    "raw_df.shape"
   ]
  },
  {
   "cell_type": "code",
   "execution_count": null,
   "id": "4eede67b-f12b-4bb1-98e7-ff013762b278",
   "metadata": {},
   "outputs": [],
   "source": [
    "import pandas as pd\n",
    "test = pd.read_csv('../Data/Processed/0_DataCleaned_df.csv')\n",
    "test.head()"
   ]
  },
  {
   "cell_type": "code",
   "execution_count": null,
   "id": "55a76709-abca-4934-9921-280e97a38e5e",
   "metadata": {},
   "outputs": [],
   "source": [
    "import numpy as np"
   ]
  },
  {
   "cell_type": "code",
   "execution_count": null,
   "id": "df6d8094-d95f-44bd-bb5c-ce186ca279a5",
   "metadata": {},
   "outputs": [
    {
     "data": {
      "text/plain": [
       "Meta                         17\n",
       "DSMH LLC                      9\n",
       "PayPal                        9\n",
       "Disney                        7\n",
       "Notion                        7\n",
       "                             ..\n",
       "Invisible Technologies        1\n",
       "BJ Services                   1\n",
       "Cybotic System                1\n",
       "Infosys                       1\n",
       "Toyota Research Institute     1\n",
       "Name: company_name, Length: 874, dtype: int64"
      ]
     },
     "execution_count": 3,
     "metadata": {},
     "output_type": "execute_result"
    }
   ],
   "source": [
    "test['company_name'].value_counts()"
   ]
  },
  {
   "cell_type": "code",
   "execution_count": null,
   "id": "8cfc4ef8-dbee-46e1-b002-23f452a4e9df",
   "metadata": {},
   "outputs": [],
   "source": [
    "test['comp_count'] = test.groupby('company_name')['company_name'].transform('count')"
   ]
  },
  {
   "cell_type": "code",
   "execution_count": null,
   "id": "1fa31e8f-40cc-4cdb-ad76-90e13759d578",
   "metadata": {},
   "outputs": [],
   "source": [
    "test['companyname'] = np.where(test['comp_count'] >= 3, test['company_name'], np.nan)"
   ]
  },
  {
   "cell_type": "code",
   "execution_count": null,
   "id": "5e735f2d-e836-465b-98c7-55a0dd1ec902",
   "metadata": {},
   "outputs": [],
   "source": [
    "test['statecount'] = test.groupby('job_state')['job_state'].transform('count')"
   ]
  },
  {
   "cell_type": "code",
   "execution_count": null,
   "id": "270cce8b-509a-4e45-9684-acd45340b504",
   "metadata": {},
   "outputs": [],
   "source": [
    "test['jobstate'] = np.where(test['statecount'] >= 3, test['job_state'], np.nan)"
   ]
  },
  {
   "cell_type": "code",
   "execution_count": null,
   "id": "480029b8-9f75-4c41-a69a-39e19fa9e7c3",
   "metadata": {},
   "outputs": [],
   "source": [
    "test['indcount'] = test.groupby('Industry')['Industry'].transform('count')"
   ]
  },
  {
   "cell_type": "code",
   "execution_count": null,
   "id": "e1daab23-d139-44e3-8608-6de0e67e5d42",
   "metadata": {},
   "outputs": [],
   "source": [
    "test['industry'] = np.where(test['indcount'] >= 4, test['Industry'], np.nan)"
   ]
  },
  {
   "cell_type": "code",
   "execution_count": null,
   "id": "5ffe6d88-e1bd-4dbe-b71f-533ce0529107",
   "metadata": {},
   "outputs": [],
   "source": [
    "test.replace(to_replace={-1: np.NAN,'-1':np.NAN},inplace=True) "
   ]
  },
  {
   "cell_type": "code",
   "execution_count": null,
   "id": "a578a376-1e7a-45d4-83eb-a2aab5fd5dc4",
   "metadata": {},
   "outputs": [
    {
     "data": {
      "text/plain": [
       "Information Technology Support Services    128\n",
       "Internet & Web Services                     87\n",
       "Enterprise Software & Network Solutions     83\n",
       "Health Care Services & Hospitals            83\n",
       "Computer Hardware Development               68\n",
       "Business Consulting                         40\n",
       "Banking & Lending                           33\n",
       "Software Development                        32\n",
       "Biotech & Pharmaceuticals                   28\n",
       "Insurance Carriers                          26\n",
       "Investment & Asset Management               22\n",
       "Advertising & Public Relations              22\n",
       "Energy & Utilities                          21\n",
       "Financial Transaction Processing            18\n",
       "Consumer Product Manufacturing              18\n",
       "Aerospace & Defense                         15\n",
       "Colleges & Universities                     12\n",
       "Film Production                             11\n",
       "HR Consulting                               11\n",
       "Food & Beverage Manufacturing               10\n",
       "Civic & Social Services                      9\n",
       "Transportation Equipment Manufacturing       9\n",
       "Staffing & Subcontracting                    8\n",
       "Other Retail Stores                          8\n",
       "Insurance Agencies & Brokerages              8\n",
       "Machinery Manufacturing                      7\n",
       "Telecommunications Services                  7\n",
       "Construction                                 7\n",
       "National Agencies                            7\n",
       "Architectural & Engineering Services         7\n",
       "Research & Development                       7\n",
       "Shipping & Trucking                          6\n",
       "Wholesale                                    6\n",
       "Video Game Publishing                        6\n",
       "Hotels & Resorts                             6\n",
       "Department, Clothing & Shoe Stores           6\n",
       "Primary & Secondary Schools                  5\n",
       "Electronics Manufacturing                    5\n",
       "Home Furniture & Housewares Stores           5\n",
       "Real Estate                                  4\n",
       "Taxi & Car Services                          4\n",
       "Publishing                                   4\n",
       "Education & Training Services                4\n",
       "Legal                                        4\n",
       "Chemical Manufacturing                       4\n",
       "Accounting & Tax                             4\n",
       "Drug & Health Stores                         4\n",
       "Name: industry, dtype: int64"
      ]
     },
     "execution_count": 25,
     "metadata": {},
     "output_type": "execute_result"
    }
   ],
   "source": [
    "test['industry'].value_counts().head(60)"
   ]
  },
  {
   "cell_type": "code",
   "execution_count": null,
   "id": "4c87a227-a159-4460-b3c5-4a7669f3a1be",
   "metadata": {},
   "outputs": [
    {
     "name": "stdout",
     "output_type": "stream",
     "text": [
      "<class 'pandas.core.frame.DataFrame'>\n",
      "RangeIndex: 1217 entries, 0 to 1216\n",
      "Data columns (total 32 columns):\n",
      " #   Column             Non-Null Count  Dtype  \n",
      "---  ------             --------------  -----  \n",
      " 0   Job Title          1217 non-null   object \n",
      " 1   Salary Estimate    1217 non-null   object \n",
      " 2   Job Description    1217 non-null   object \n",
      " 3   Rating             1041 non-null   float64\n",
      " 4   Company Name       1217 non-null   object \n",
      " 5   Location           1217 non-null   object \n",
      " 6   Size               1052 non-null   object \n",
      " 7   Founded            869 non-null    float64\n",
      " 8   Type of ownership  1126 non-null   object \n",
      " 9   Industry           978 non-null    object \n",
      " 10  Sector             978 non-null    object \n",
      " 11  Revenue            680 non-null    object \n",
      " 12  hourly             1217 non-null   int64  \n",
      " 13  employer_provided  1217 non-null   int64  \n",
      " 14  min_salary         1217 non-null   int64  \n",
      " 15  max_salary         1217 non-null   int64  \n",
      " 16  avg_salary         1217 non-null   float64\n",
      " 17  job_title          1217 non-null   object \n",
      " 18  seniority          1217 non-null   object \n",
      " 19  desc_len           1217 non-null   int64  \n",
      " 20  tools              1217 non-null   int64  \n",
      " 21  techs              1217 non-null   int64  \n",
      " 22  education          1217 non-null   int64  \n",
      " 23  company_name       1217 non-null   object \n",
      " 24  job_state          1217 non-null   object \n",
      " 25  age                869 non-null    float64\n",
      " 26  comp_count         1217 non-null   int64  \n",
      " 27  companyname        270 non-null    object \n",
      " 28  statecount         1217 non-null   int64  \n",
      " 29  jobstate           1202 non-null   object \n",
      " 30  indcount           978 non-null    float64\n",
      " 31  industry           929 non-null    object \n",
      "dtypes: float64(5), int64(10), object(17)\n",
      "memory usage: 304.4+ KB\n"
     ]
    }
   ],
   "source": [
    "test.info()"
   ]
  },
  {
   "cell_type": "code",
   "execution_count": null,
   "id": "90aad8f3-0415-44dc-981e-4a24a18a8dba",
   "metadata": {},
   "outputs": [],
   "source": [
    "test = test.drop(columns=['indcount','statecount','comp_count','job_state','company_name','Industry'],axis = 1)"
   ]
  },
  {
   "cell_type": "code",
   "execution_count": null,
   "id": "90513826-196e-4932-b7b2-625a39de78b2",
   "metadata": {},
   "outputs": [
    {
     "name": "stdout",
     "output_type": "stream",
     "text": [
      "<class 'pandas.core.frame.DataFrame'>\n",
      "RangeIndex: 1217 entries, 0 to 1216\n",
      "Data columns (total 26 columns):\n",
      " #   Column             Non-Null Count  Dtype  \n",
      "---  ------             --------------  -----  \n",
      " 0   Job Title          1217 non-null   object \n",
      " 1   Salary Estimate    1217 non-null   object \n",
      " 2   Job Description    1217 non-null   object \n",
      " 3   Rating             1041 non-null   float64\n",
      " 4   Company Name       1217 non-null   object \n",
      " 5   Location           1217 non-null   object \n",
      " 6   Size               1052 non-null   object \n",
      " 7   Founded            869 non-null    float64\n",
      " 8   Type of ownership  1126 non-null   object \n",
      " 9   Sector             978 non-null    object \n",
      " 10  Revenue            680 non-null    object \n",
      " 11  hourly             1217 non-null   int64  \n",
      " 12  employer_provided  1217 non-null   int64  \n",
      " 13  min_salary         1217 non-null   int64  \n",
      " 14  max_salary         1217 non-null   int64  \n",
      " 15  avg_salary         1217 non-null   float64\n",
      " 16  job_title          1217 non-null   object \n",
      " 17  seniority          1217 non-null   object \n",
      " 18  desc_len           1217 non-null   int64  \n",
      " 19  tools              1217 non-null   int64  \n",
      " 20  techs              1217 non-null   int64  \n",
      " 21  education          1217 non-null   int64  \n",
      " 22  age                869 non-null    float64\n",
      " 23  companyname        270 non-null    object \n",
      " 24  jobstate           1202 non-null   object \n",
      " 25  industry           929 non-null    object \n",
      "dtypes: float64(4), int64(8), object(14)\n",
      "memory usage: 247.3+ KB\n"
     ]
    }
   ],
   "source": [
    "test.info()"
   ]
  },
  {
   "cell_type": "markdown",
   "id": "fc7310e2-b2df-4cf2-9698-5dc4ed773b06",
   "metadata": {
    "tags": []
   },
   "source": [
    "#### a. onehot, simpleimputer, stdscaler"
   ]
  },
  {
   "cell_type": "code",
   "execution_count": 20,
   "id": "fe9b05e6-0dc8-43bb-ad62-4d2922c74252",
   "metadata": {
    "tags": []
   },
   "outputs": [],
   "source": [
    "# I had to do onehotencoding before splitting the data, because we have too many categories, it will raise error\n",
    "# when transforming the test set\n",
    "\n",
    "df_dummy = pd.get_dummies(df_model)\n",
    "df_dummy['avg_salaries_cat'] = pd.cut(df_dummy['avg_salary'], bins=[0.,75,100,135,170,np.inf],\n",
    "                                      labels=[0,1,2,3,4])\n",
    "split = StratifiedShuffleSplit(n_splits =1, test_size =0.2, random_state=42)\n",
    "for train_index, test_index in split.split(df_dummy,df_dummy['avg_salaries_cat']):\n",
    "    strat_train_set_dum = df_dummy.loc[train_index]\n",
    "    strat_test_set_dum = df_dummy.loc[test_index]\n",
    "\n",
    "# drop the avg_salaries_cat so the data is back to its original state\n",
    "for strat_set in (strat_train_set_dum,strat_test_set_dum,df_dummy):\n",
    "    strat_set.drop(\"avg_salaries_cat\",axis = 1, inplace=True)"
   ]
  },
  {
   "cell_type": "code",
   "execution_count": 22,
   "id": "eddc2418-b515-4e1c-8904-04cbd951754f",
   "metadata": {
    "tags": []
   },
   "outputs": [
    {
     "data": {
      "text/html": [
       "<div>\n",
       "<style scoped>\n",
       "    .dataframe tbody tr th:only-of-type {\n",
       "        vertical-align: middle;\n",
       "    }\n",
       "\n",
       "    .dataframe tbody tr th {\n",
       "        vertical-align: top;\n",
       "    }\n",
       "\n",
       "    .dataframe thead th {\n",
       "        text-align: right;\n",
       "    }\n",
       "</style>\n",
       "<table border=\"1\" class=\"dataframe\">\n",
       "  <thead>\n",
       "    <tr style=\"text-align: right;\">\n",
       "      <th></th>\n",
       "      <th>avg_salary</th>\n",
       "      <th>Rating</th>\n",
       "      <th>age</th>\n",
       "      <th>tools</th>\n",
       "      <th>techs</th>\n",
       "      <th>education</th>\n",
       "      <th>desc_len</th>\n",
       "      <th>hourly</th>\n",
       "      <th>employer_provided</th>\n",
       "      <th>Size_-1</th>\n",
       "      <th>...</th>\n",
       "      <th>company_name_eTek IT Services, Inc.</th>\n",
       "      <th>company_name_eimagine</th>\n",
       "      <th>company_name_fairlife, LLC</th>\n",
       "      <th>company_name_gointellects</th>\n",
       "      <th>company_name_iSpot.tv</th>\n",
       "      <th>company_name_inAssist</th>\n",
       "      <th>company_name_kea</th>\n",
       "      <th>company_name_keasis Inc</th>\n",
       "      <th>company_name_shaped.ai Inc.</th>\n",
       "      <th>company_name_zettalogix.Inc</th>\n",
       "    </tr>\n",
       "  </thead>\n",
       "  <tbody>\n",
       "    <tr>\n",
       "      <th>0</th>\n",
       "      <td>187.5</td>\n",
       "      <td>3.7</td>\n",
       "      <td>10</td>\n",
       "      <td>3</td>\n",
       "      <td>2</td>\n",
       "      <td>2</td>\n",
       "      <td>3144</td>\n",
       "      <td>0</td>\n",
       "      <td>1</td>\n",
       "      <td>0</td>\n",
       "      <td>...</td>\n",
       "      <td>0</td>\n",
       "      <td>0</td>\n",
       "      <td>0</td>\n",
       "      <td>0</td>\n",
       "      <td>0</td>\n",
       "      <td>0</td>\n",
       "      <td>0</td>\n",
       "      <td>0</td>\n",
       "      <td>0</td>\n",
       "      <td>0</td>\n",
       "    </tr>\n",
       "    <tr>\n",
       "      <th>1</th>\n",
       "      <td>136.0</td>\n",
       "      <td>4.3</td>\n",
       "      <td>16</td>\n",
       "      <td>3</td>\n",
       "      <td>6</td>\n",
       "      <td>0</td>\n",
       "      <td>8120</td>\n",
       "      <td>0</td>\n",
       "      <td>1</td>\n",
       "      <td>0</td>\n",
       "      <td>...</td>\n",
       "      <td>0</td>\n",
       "      <td>0</td>\n",
       "      <td>0</td>\n",
       "      <td>0</td>\n",
       "      <td>0</td>\n",
       "      <td>0</td>\n",
       "      <td>0</td>\n",
       "      <td>0</td>\n",
       "      <td>0</td>\n",
       "      <td>0</td>\n",
       "    </tr>\n",
       "    <tr>\n",
       "      <th>2</th>\n",
       "      <td>100.0</td>\n",
       "      <td>-1.0</td>\n",
       "      <td>-1</td>\n",
       "      <td>4</td>\n",
       "      <td>2</td>\n",
       "      <td>0</td>\n",
       "      <td>1338</td>\n",
       "      <td>0</td>\n",
       "      <td>1</td>\n",
       "      <td>1</td>\n",
       "      <td>...</td>\n",
       "      <td>0</td>\n",
       "      <td>0</td>\n",
       "      <td>0</td>\n",
       "      <td>0</td>\n",
       "      <td>0</td>\n",
       "      <td>0</td>\n",
       "      <td>0</td>\n",
       "      <td>0</td>\n",
       "      <td>0</td>\n",
       "      <td>0</td>\n",
       "    </tr>\n",
       "    <tr>\n",
       "      <th>3</th>\n",
       "      <td>98.0</td>\n",
       "      <td>4.2</td>\n",
       "      <td>217</td>\n",
       "      <td>7</td>\n",
       "      <td>7</td>\n",
       "      <td>1</td>\n",
       "      <td>5372</td>\n",
       "      <td>0</td>\n",
       "      <td>1</td>\n",
       "      <td>0</td>\n",
       "      <td>...</td>\n",
       "      <td>0</td>\n",
       "      <td>0</td>\n",
       "      <td>0</td>\n",
       "      <td>0</td>\n",
       "      <td>0</td>\n",
       "      <td>0</td>\n",
       "      <td>0</td>\n",
       "      <td>0</td>\n",
       "      <td>0</td>\n",
       "      <td>0</td>\n",
       "    </tr>\n",
       "    <tr>\n",
       "      <th>4</th>\n",
       "      <td>117.0</td>\n",
       "      <td>4.6</td>\n",
       "      <td>-1</td>\n",
       "      <td>3</td>\n",
       "      <td>0</td>\n",
       "      <td>0</td>\n",
       "      <td>828</td>\n",
       "      <td>1</td>\n",
       "      <td>1</td>\n",
       "      <td>0</td>\n",
       "      <td>...</td>\n",
       "      <td>0</td>\n",
       "      <td>0</td>\n",
       "      <td>0</td>\n",
       "      <td>0</td>\n",
       "      <td>0</td>\n",
       "      <td>0</td>\n",
       "      <td>0</td>\n",
       "      <td>0</td>\n",
       "      <td>0</td>\n",
       "      <td>0</td>\n",
       "    </tr>\n",
       "    <tr>\n",
       "      <th>...</th>\n",
       "      <td>...</td>\n",
       "      <td>...</td>\n",
       "      <td>...</td>\n",
       "      <td>...</td>\n",
       "      <td>...</td>\n",
       "      <td>...</td>\n",
       "      <td>...</td>\n",
       "      <td>...</td>\n",
       "      <td>...</td>\n",
       "      <td>...</td>\n",
       "      <td>...</td>\n",
       "      <td>...</td>\n",
       "      <td>...</td>\n",
       "      <td>...</td>\n",
       "      <td>...</td>\n",
       "      <td>...</td>\n",
       "      <td>...</td>\n",
       "      <td>...</td>\n",
       "      <td>...</td>\n",
       "      <td>...</td>\n",
       "      <td>...</td>\n",
       "    </tr>\n",
       "    <tr>\n",
       "      <th>1212</th>\n",
       "      <td>121.0</td>\n",
       "      <td>3.9</td>\n",
       "      <td>94</td>\n",
       "      <td>5</td>\n",
       "      <td>5</td>\n",
       "      <td>2</td>\n",
       "      <td>6439</td>\n",
       "      <td>0</td>\n",
       "      <td>0</td>\n",
       "      <td>0</td>\n",
       "      <td>...</td>\n",
       "      <td>0</td>\n",
       "      <td>0</td>\n",
       "      <td>0</td>\n",
       "      <td>0</td>\n",
       "      <td>0</td>\n",
       "      <td>0</td>\n",
       "      <td>0</td>\n",
       "      <td>0</td>\n",
       "      <td>0</td>\n",
       "      <td>0</td>\n",
       "    </tr>\n",
       "    <tr>\n",
       "      <th>1213</th>\n",
       "      <td>167.0</td>\n",
       "      <td>3.9</td>\n",
       "      <td>12</td>\n",
       "      <td>3</td>\n",
       "      <td>5</td>\n",
       "      <td>1</td>\n",
       "      <td>3769</td>\n",
       "      <td>0</td>\n",
       "      <td>1</td>\n",
       "      <td>0</td>\n",
       "      <td>...</td>\n",
       "      <td>0</td>\n",
       "      <td>0</td>\n",
       "      <td>0</td>\n",
       "      <td>0</td>\n",
       "      <td>0</td>\n",
       "      <td>0</td>\n",
       "      <td>0</td>\n",
       "      <td>0</td>\n",
       "      <td>0</td>\n",
       "      <td>0</td>\n",
       "    </tr>\n",
       "    <tr>\n",
       "      <th>1214</th>\n",
       "      <td>159.0</td>\n",
       "      <td>3.9</td>\n",
       "      <td>100</td>\n",
       "      <td>2</td>\n",
       "      <td>3</td>\n",
       "      <td>2</td>\n",
       "      <td>2988</td>\n",
       "      <td>0</td>\n",
       "      <td>1</td>\n",
       "      <td>0</td>\n",
       "      <td>...</td>\n",
       "      <td>0</td>\n",
       "      <td>0</td>\n",
       "      <td>0</td>\n",
       "      <td>0</td>\n",
       "      <td>0</td>\n",
       "      <td>0</td>\n",
       "      <td>0</td>\n",
       "      <td>0</td>\n",
       "      <td>0</td>\n",
       "      <td>0</td>\n",
       "    </tr>\n",
       "    <tr>\n",
       "      <th>1215</th>\n",
       "      <td>221.5</td>\n",
       "      <td>3.2</td>\n",
       "      <td>12</td>\n",
       "      <td>2</td>\n",
       "      <td>4</td>\n",
       "      <td>0</td>\n",
       "      <td>7039</td>\n",
       "      <td>0</td>\n",
       "      <td>1</td>\n",
       "      <td>0</td>\n",
       "      <td>...</td>\n",
       "      <td>0</td>\n",
       "      <td>0</td>\n",
       "      <td>0</td>\n",
       "      <td>0</td>\n",
       "      <td>0</td>\n",
       "      <td>0</td>\n",
       "      <td>0</td>\n",
       "      <td>0</td>\n",
       "      <td>0</td>\n",
       "      <td>0</td>\n",
       "    </tr>\n",
       "    <tr>\n",
       "      <th>1216</th>\n",
       "      <td>165.5</td>\n",
       "      <td>3.9</td>\n",
       "      <td>25</td>\n",
       "      <td>8</td>\n",
       "      <td>5</td>\n",
       "      <td>1</td>\n",
       "      <td>8046</td>\n",
       "      <td>0</td>\n",
       "      <td>1</td>\n",
       "      <td>0</td>\n",
       "      <td>...</td>\n",
       "      <td>0</td>\n",
       "      <td>0</td>\n",
       "      <td>0</td>\n",
       "      <td>0</td>\n",
       "      <td>0</td>\n",
       "      <td>0</td>\n",
       "      <td>0</td>\n",
       "      <td>0</td>\n",
       "      <td>0</td>\n",
       "      <td>0</td>\n",
       "    </tr>\n",
       "  </tbody>\n",
       "</table>\n",
       "<p>1217 rows × 1065 columns</p>\n",
       "</div>"
      ],
      "text/plain": [
       "      avg_salary  Rating  age  tools  techs  education  desc_len  hourly  \\\n",
       "0          187.5     3.7   10      3      2          2      3144       0   \n",
       "1          136.0     4.3   16      3      6          0      8120       0   \n",
       "2          100.0    -1.0   -1      4      2          0      1338       0   \n",
       "3           98.0     4.2  217      7      7          1      5372       0   \n",
       "4          117.0     4.6   -1      3      0          0       828       1   \n",
       "...          ...     ...  ...    ...    ...        ...       ...     ...   \n",
       "1212       121.0     3.9   94      5      5          2      6439       0   \n",
       "1213       167.0     3.9   12      3      5          1      3769       0   \n",
       "1214       159.0     3.9  100      2      3          2      2988       0   \n",
       "1215       221.5     3.2   12      2      4          0      7039       0   \n",
       "1216       165.5     3.9   25      8      5          1      8046       0   \n",
       "\n",
       "      employer_provided  Size_-1  ...  company_name_eTek IT Services, Inc.  \\\n",
       "0                     1        0  ...                                    0   \n",
       "1                     1        0  ...                                    0   \n",
       "2                     1        1  ...                                    0   \n",
       "3                     1        0  ...                                    0   \n",
       "4                     1        0  ...                                    0   \n",
       "...                 ...      ...  ...                                  ...   \n",
       "1212                  0        0  ...                                    0   \n",
       "1213                  1        0  ...                                    0   \n",
       "1214                  1        0  ...                                    0   \n",
       "1215                  1        0  ...                                    0   \n",
       "1216                  1        0  ...                                    0   \n",
       "\n",
       "      company_name_eimagine  company_name_fairlife, LLC  \\\n",
       "0                         0                           0   \n",
       "1                         0                           0   \n",
       "2                         0                           0   \n",
       "3                         0                           0   \n",
       "4                         0                           0   \n",
       "...                     ...                         ...   \n",
       "1212                      0                           0   \n",
       "1213                      0                           0   \n",
       "1214                      0                           0   \n",
       "1215                      0                           0   \n",
       "1216                      0                           0   \n",
       "\n",
       "      company_name_gointellects  company_name_iSpot.tv  company_name_inAssist  \\\n",
       "0                             0                      0                      0   \n",
       "1                             0                      0                      0   \n",
       "2                             0                      0                      0   \n",
       "3                             0                      0                      0   \n",
       "4                             0                      0                      0   \n",
       "...                         ...                    ...                    ...   \n",
       "1212                          0                      0                      0   \n",
       "1213                          0                      0                      0   \n",
       "1214                          0                      0                      0   \n",
       "1215                          0                      0                      0   \n",
       "1216                          0                      0                      0   \n",
       "\n",
       "      company_name_kea  company_name_keasis Inc  company_name_shaped.ai Inc.  \\\n",
       "0                    0                        0                            0   \n",
       "1                    0                        0                            0   \n",
       "2                    0                        0                            0   \n",
       "3                    0                        0                            0   \n",
       "4                    0                        0                            0   \n",
       "...                ...                      ...                          ...   \n",
       "1212                 0                        0                            0   \n",
       "1213                 0                        0                            0   \n",
       "1214                 0                        0                            0   \n",
       "1215                 0                        0                            0   \n",
       "1216                 0                        0                            0   \n",
       "\n",
       "      company_name_zettalogix.Inc  \n",
       "0                               0  \n",
       "1                               0  \n",
       "2                               0  \n",
       "3                               0  \n",
       "4                               0  \n",
       "...                           ...  \n",
       "1212                            0  \n",
       "1213                            0  \n",
       "1214                            0  \n",
       "1215                            0  \n",
       "1216                            0  \n",
       "\n",
       "[1217 rows x 1065 columns]"
      ]
     },
     "execution_count": 22,
     "metadata": {},
     "output_type": "execute_result"
    }
   ],
   "source": [
    "df_dummy"
   ]
  },
  {
   "cell_type": "code",
   "execution_count": 24,
   "id": "0778c55d-b660-4ff1-8eae-eb813930576d",
   "metadata": {},
   "outputs": [],
   "source": [
    "x_train_dum = strat_train_set_dum.drop(\"avg_salary\",axis=1)\n",
    "y_train_dum = strat_train_set_dum['avg_salary'].copy()\n",
    "\n",
    "num_attribs_dum = list(num_cols.columns)\n",
    "cat_attribs_dum = list(x_train_dum.iloc[:,8:])"
   ]
  },
  {
   "cell_type": "code",
   "execution_count": null,
   "id": "c448741c-946c-46b3-81e9-640963fc672e",
   "metadata": {},
   "outputs": [],
   "source": [
    "from sklearn.pipeline import Pipeline\n",
    "from sklearn.compose import ColumnTransformer\n",
    "from sklearn.preprocessing import OneHotEncoder, MinMaxScaler, StandardScaler\n",
    "from sklearn.impute import SimpleImputer\n",
    "\n",
    "num_pipeline = Pipeline([\n",
    "    ('imputer',SimpleImputer(missing_values=[np.NaN,-1,'-1'],strategy=\"mean\")),\n",
    "    ('min_max_scaler', MinMaxScaler()),\n",
    "])\n",
    "\n",
    "# full_pipeline = ColumnTransformer([\n",
    "#     (\"num\", num_pipeline , num_attribs),\n",
    "#     (\"cat\", OneHotEncoder(handle_unknown = \"ignore\"), cat_attribs),\n",
    "# ])\n",
    "\n",
    "model_prepared = num_pipeline.fit_transform(x_train_dum)"
   ]
  },
  {
   "cell_type": "code",
   "execution_count": 26,
   "id": "51144028-1eae-424d-b18f-10b3f39cfadc",
   "metadata": {
    "tags": []
   },
   "outputs": [
    {
     "data": {
      "text/plain": [
       "array([[0.86666667, 0.21907216, 0.2       , ..., 0.        , 0.        ,\n",
       "        0.        ],\n",
       "       [0.76666667, 0.        , 0.2       , ..., 0.        , 0.        ,\n",
       "        0.        ],\n",
       "       [0.91666667, 0.        , 0.1       , ..., 0.        , 0.        ,\n",
       "        0.        ],\n",
       "       ...,\n",
       "       [0.55      , 0.        , 0.1       , ..., 0.        , 0.        ,\n",
       "        0.        ],\n",
       "       [0.83333333, 0.29639175, 0.1       , ..., 0.        , 0.        ,\n",
       "        0.        ],\n",
       "       [0.83333333, 0.06958763, 0.3       , ..., 0.        , 0.        ,\n",
       "        0.        ]])"
      ]
     },
     "execution_count": 26,
     "metadata": {},
     "output_type": "execute_result"
    }
   ],
   "source": [
    "model_prepared"
   ]
  },
  {
   "cell_type": "code",
   "execution_count": null,
   "id": "5a645899-8240-4a7c-ace4-eb94d4466fe8",
   "metadata": {},
   "outputs": [],
   "source": []
  },
  {
   "cell_type": "markdown",
   "id": "c639e3da-ba88-4594-b193-e70d04570e2b",
   "metadata": {
    "jp-MarkdownHeadingCollapsed": true,
    "tags": []
   },
   "source": [
    "### Imputation using KNN neighbors + feature scaling"
   ]
  },
  {
   "cell_type": "code",
   "execution_count": 19,
   "id": "bb3aaaf9-410f-4dbe-a317-6f42b2bd4ee3",
   "metadata": {
    "tags": []
   },
   "outputs": [],
   "source": [
    "cat_cols_copy = cat_cols.copy()\n",
    "num_cols_copy = num_cols.copy()"
   ]
  },
  {
   "cell_type": "code",
   "execution_count": 20,
   "id": "0a4a6386-b525-430b-b654-7d892f1f6a63",
   "metadata": {
    "tags": []
   },
   "outputs": [],
   "source": [
    "cat_cols_copy.replace(to_replace=['-1'],value=np.NAN,inplace=True)"
   ]
  },
  {
   "cell_type": "code",
   "execution_count": 21,
   "id": "15c55c89-a44b-4880-aa16-218fd9899fc0",
   "metadata": {
    "tags": []
   },
   "outputs": [],
   "source": [
    "num_cols_copy.replace(to_replace=[-1],value=np.NAN,inplace=True)"
   ]
  },
  {
   "cell_type": "code",
   "execution_count": 22,
   "id": "636285df-ea5f-4fdf-af1b-479adc5a3c1b",
   "metadata": {
    "tags": []
   },
   "outputs": [
    {
     "name": "stdout",
     "output_type": "stream",
     "text": [
      "<class 'pandas.core.frame.DataFrame'>\n",
      "RangeIndex: 973 entries, 0 to 972\n",
      "Data columns (total 9 columns):\n",
      " #   Column             Non-Null Count  Dtype \n",
      "---  ------             --------------  ----- \n",
      " 0   Size               847 non-null    object\n",
      " 1   Type of ownership  907 non-null    object\n",
      " 2   Industry           794 non-null    object\n",
      " 3   Sector             794 non-null    object\n",
      " 4   Revenue            549 non-null    object\n",
      " 5   job_title          973 non-null    object\n",
      " 6   job_state          973 non-null    object\n",
      " 7   seniority          973 non-null    object\n",
      " 8   company_name       973 non-null    object\n",
      "dtypes: object(9)\n",
      "memory usage: 68.5+ KB\n"
     ]
    }
   ],
   "source": [
    "cat_cols_copy.info()"
   ]
  },
  {
   "cell_type": "code",
   "execution_count": 23,
   "id": "1b4936cf-a044-41a4-92d4-98b372fdd9a9",
   "metadata": {
    "tags": []
   },
   "outputs": [
    {
     "name": "stdout",
     "output_type": "stream",
     "text": [
      "<class 'pandas.core.frame.DataFrame'>\n",
      "RangeIndex: 973 entries, 0 to 972\n",
      "Data columns (total 8 columns):\n",
      " #   Column             Non-Null Count  Dtype  \n",
      "---  ------             --------------  -----  \n",
      " 0   Rating             843 non-null    float64\n",
      " 1   age                706 non-null    float64\n",
      " 2   tools              973 non-null    int64  \n",
      " 3   techs              973 non-null    int64  \n",
      " 4   education          973 non-null    int64  \n",
      " 5   desc_len           973 non-null    int64  \n",
      " 6   hourly             973 non-null    int64  \n",
      " 7   employer_provided  973 non-null    int64  \n",
      "dtypes: float64(2), int64(6)\n",
      "memory usage: 60.9 KB\n"
     ]
    }
   ],
   "source": [
    "num_cols_copy.info()"
   ]
  },
  {
   "cell_type": "code",
   "execution_count": 36,
   "id": "b1b67421-4361-40a0-a2e8-8124aa4022dd",
   "metadata": {
    "tags": []
   },
   "outputs": [],
   "source": [
    "# To perform KNN imputation, we need to normalize the input data and perform One Hot Encoding to categorical variables\n",
    "from sklearn.preprocessing import StandardScaler\n",
    "from sklearn.preprocessing import MinMaxScaler\n",
    "cat_dummies = pd.get_dummies(cat_cols_copy, drop_first = True)\n",
    "df_copy= pd.concat([num_cols_copy, cat_dummies], axis = 1)\n",
    "\n",
    "scaler = MinMaxScaler()\n",
    "# scaler = StandardScaler()\n",
    "minmaxscaler = pd.DataFrame(scaler.fit_transform(df_copy), columns = df_copy.columns)\n",
    "\n",
    "from sklearn.impute import KNNImputer\n",
    "imputer = KNNImputer(n_neighbors = 3)\n",
    "knn_imputed_df = pd.DataFrame(imputer.fit_transform(minmaxscaler),columns = df_copy.columns)"
   ]
  },
  {
   "cell_type": "code",
   "execution_count": 37,
   "id": "53173d4c-192e-4201-9e94-f177a8e9274f",
   "metadata": {
    "tags": []
   },
   "outputs": [
    {
     "data": {
      "text/html": [
       "<div>\n",
       "<style scoped>\n",
       "    .dataframe tbody tr th:only-of-type {\n",
       "        vertical-align: middle;\n",
       "    }\n",
       "\n",
       "    .dataframe tbody tr th {\n",
       "        vertical-align: top;\n",
       "    }\n",
       "\n",
       "    .dataframe thead th {\n",
       "        text-align: right;\n",
       "    }\n",
       "</style>\n",
       "<table border=\"1\" class=\"dataframe\">\n",
       "  <thead>\n",
       "    <tr style=\"text-align: right;\">\n",
       "      <th></th>\n",
       "      <th>Rating</th>\n",
       "      <th>age</th>\n",
       "      <th>tools</th>\n",
       "      <th>techs</th>\n",
       "      <th>education</th>\n",
       "      <th>desc_len</th>\n",
       "      <th>hourly</th>\n",
       "      <th>employer_provided</th>\n",
       "      <th>Size_10000+ Employees</th>\n",
       "      <th>Size_1001 to 5000 Employees</th>\n",
       "      <th>...</th>\n",
       "      <th>company_name_eTek IT Services, Inc.</th>\n",
       "      <th>company_name_eimagine</th>\n",
       "      <th>company_name_fairlife, LLC</th>\n",
       "      <th>company_name_gointellects</th>\n",
       "      <th>company_name_iSpot.tv</th>\n",
       "      <th>company_name_inAssist</th>\n",
       "      <th>company_name_kea</th>\n",
       "      <th>company_name_keasis Inc</th>\n",
       "      <th>company_name_shaped.ai Inc.</th>\n",
       "      <th>company_name_zettalogix.Inc</th>\n",
       "    </tr>\n",
       "  </thead>\n",
       "  <tbody>\n",
       "    <tr>\n",
       "      <th>0</th>\n",
       "      <td>0.800</td>\n",
       "      <td>0.215026</td>\n",
       "      <td>0.2</td>\n",
       "      <td>0.222222</td>\n",
       "      <td>0.000000</td>\n",
       "      <td>0.062626</td>\n",
       "      <td>0.0</td>\n",
       "      <td>0.0</td>\n",
       "      <td>1.0</td>\n",
       "      <td>0.0</td>\n",
       "      <td>...</td>\n",
       "      <td>0.0</td>\n",
       "      <td>0.0</td>\n",
       "      <td>0.0</td>\n",
       "      <td>0.0</td>\n",
       "      <td>0.0</td>\n",
       "      <td>0.0</td>\n",
       "      <td>0.0</td>\n",
       "      <td>0.0</td>\n",
       "      <td>0.0</td>\n",
       "      <td>0.0</td>\n",
       "    </tr>\n",
       "    <tr>\n",
       "      <th>1</th>\n",
       "      <td>0.650</td>\n",
       "      <td>0.050086</td>\n",
       "      <td>0.2</td>\n",
       "      <td>0.333333</td>\n",
       "      <td>0.666667</td>\n",
       "      <td>0.380393</td>\n",
       "      <td>0.0</td>\n",
       "      <td>0.0</td>\n",
       "      <td>0.0</td>\n",
       "      <td>0.0</td>\n",
       "      <td>...</td>\n",
       "      <td>0.0</td>\n",
       "      <td>0.0</td>\n",
       "      <td>0.0</td>\n",
       "      <td>0.0</td>\n",
       "      <td>0.0</td>\n",
       "      <td>0.0</td>\n",
       "      <td>0.0</td>\n",
       "      <td>0.0</td>\n",
       "      <td>0.0</td>\n",
       "      <td>0.0</td>\n",
       "    </tr>\n",
       "    <tr>\n",
       "      <th>2</th>\n",
       "      <td>0.875</td>\n",
       "      <td>0.044905</td>\n",
       "      <td>0.1</td>\n",
       "      <td>0.000000</td>\n",
       "      <td>0.000000</td>\n",
       "      <td>0.064559</td>\n",
       "      <td>0.0</td>\n",
       "      <td>0.0</td>\n",
       "      <td>0.0</td>\n",
       "      <td>0.0</td>\n",
       "      <td>...</td>\n",
       "      <td>0.0</td>\n",
       "      <td>0.0</td>\n",
       "      <td>0.0</td>\n",
       "      <td>0.0</td>\n",
       "      <td>0.0</td>\n",
       "      <td>0.0</td>\n",
       "      <td>0.0</td>\n",
       "      <td>0.0</td>\n",
       "      <td>0.0</td>\n",
       "      <td>0.0</td>\n",
       "    </tr>\n",
       "    <tr>\n",
       "      <th>3</th>\n",
       "      <td>0.775</td>\n",
       "      <td>0.139896</td>\n",
       "      <td>0.2</td>\n",
       "      <td>0.444444</td>\n",
       "      <td>0.000000</td>\n",
       "      <td>0.192825</td>\n",
       "      <td>0.0</td>\n",
       "      <td>1.0</td>\n",
       "      <td>1.0</td>\n",
       "      <td>0.0</td>\n",
       "      <td>...</td>\n",
       "      <td>0.0</td>\n",
       "      <td>0.0</td>\n",
       "      <td>0.0</td>\n",
       "      <td>0.0</td>\n",
       "      <td>0.0</td>\n",
       "      <td>0.0</td>\n",
       "      <td>0.0</td>\n",
       "      <td>0.0</td>\n",
       "      <td>0.0</td>\n",
       "      <td>0.0</td>\n",
       "    </tr>\n",
       "    <tr>\n",
       "      <th>4</th>\n",
       "      <td>0.725</td>\n",
       "      <td>0.041451</td>\n",
       "      <td>0.5</td>\n",
       "      <td>0.444444</td>\n",
       "      <td>0.000000</td>\n",
       "      <td>0.215556</td>\n",
       "      <td>0.0</td>\n",
       "      <td>1.0</td>\n",
       "      <td>0.0</td>\n",
       "      <td>1.0</td>\n",
       "      <td>...</td>\n",
       "      <td>0.0</td>\n",
       "      <td>0.0</td>\n",
       "      <td>0.0</td>\n",
       "      <td>0.0</td>\n",
       "      <td>0.0</td>\n",
       "      <td>0.0</td>\n",
       "      <td>0.0</td>\n",
       "      <td>0.0</td>\n",
       "      <td>0.0</td>\n",
       "      <td>0.0</td>\n",
       "    </tr>\n",
       "    <tr>\n",
       "      <th>...</th>\n",
       "      <td>...</td>\n",
       "      <td>...</td>\n",
       "      <td>...</td>\n",
       "      <td>...</td>\n",
       "      <td>...</td>\n",
       "      <td>...</td>\n",
       "      <td>...</td>\n",
       "      <td>...</td>\n",
       "      <td>...</td>\n",
       "      <td>...</td>\n",
       "      <td>...</td>\n",
       "      <td>...</td>\n",
       "      <td>...</td>\n",
       "      <td>...</td>\n",
       "      <td>...</td>\n",
       "      <td>...</td>\n",
       "      <td>...</td>\n",
       "      <td>...</td>\n",
       "      <td>...</td>\n",
       "      <td>...</td>\n",
       "      <td>...</td>\n",
       "    </tr>\n",
       "    <tr>\n",
       "      <th>968</th>\n",
       "      <td>0.800</td>\n",
       "      <td>0.116580</td>\n",
       "      <td>0.1</td>\n",
       "      <td>0.111111</td>\n",
       "      <td>0.000000</td>\n",
       "      <td>0.080795</td>\n",
       "      <td>0.0</td>\n",
       "      <td>1.0</td>\n",
       "      <td>0.0</td>\n",
       "      <td>1.0</td>\n",
       "      <td>...</td>\n",
       "      <td>0.0</td>\n",
       "      <td>0.0</td>\n",
       "      <td>0.0</td>\n",
       "      <td>0.0</td>\n",
       "      <td>0.0</td>\n",
       "      <td>0.0</td>\n",
       "      <td>0.0</td>\n",
       "      <td>0.0</td>\n",
       "      <td>0.0</td>\n",
       "      <td>0.0</td>\n",
       "    </tr>\n",
       "    <tr>\n",
       "      <th>969</th>\n",
       "      <td>0.700</td>\n",
       "      <td>0.300518</td>\n",
       "      <td>0.1</td>\n",
       "      <td>0.000000</td>\n",
       "      <td>0.000000</td>\n",
       "      <td>0.014226</td>\n",
       "      <td>0.0</td>\n",
       "      <td>1.0</td>\n",
       "      <td>1.0</td>\n",
       "      <td>0.0</td>\n",
       "      <td>...</td>\n",
       "      <td>0.0</td>\n",
       "      <td>0.0</td>\n",
       "      <td>0.0</td>\n",
       "      <td>0.0</td>\n",
       "      <td>0.0</td>\n",
       "      <td>0.0</td>\n",
       "      <td>0.0</td>\n",
       "      <td>0.0</td>\n",
       "      <td>0.0</td>\n",
       "      <td>0.0</td>\n",
       "    </tr>\n",
       "    <tr>\n",
       "      <th>970</th>\n",
       "      <td>0.325</td>\n",
       "      <td>0.028497</td>\n",
       "      <td>0.1</td>\n",
       "      <td>0.111111</td>\n",
       "      <td>0.000000</td>\n",
       "      <td>0.044688</td>\n",
       "      <td>0.0</td>\n",
       "      <td>1.0</td>\n",
       "      <td>0.0</td>\n",
       "      <td>0.0</td>\n",
       "      <td>...</td>\n",
       "      <td>0.0</td>\n",
       "      <td>0.0</td>\n",
       "      <td>0.0</td>\n",
       "      <td>0.0</td>\n",
       "      <td>0.0</td>\n",
       "      <td>0.0</td>\n",
       "      <td>0.0</td>\n",
       "      <td>0.0</td>\n",
       "      <td>0.0</td>\n",
       "      <td>0.0</td>\n",
       "    </tr>\n",
       "    <tr>\n",
       "      <th>971</th>\n",
       "      <td>0.750</td>\n",
       "      <td>0.292746</td>\n",
       "      <td>0.1</td>\n",
       "      <td>0.111111</td>\n",
       "      <td>0.000000</td>\n",
       "      <td>0.059146</td>\n",
       "      <td>0.0</td>\n",
       "      <td>0.0</td>\n",
       "      <td>1.0</td>\n",
       "      <td>0.0</td>\n",
       "      <td>...</td>\n",
       "      <td>0.0</td>\n",
       "      <td>0.0</td>\n",
       "      <td>0.0</td>\n",
       "      <td>0.0</td>\n",
       "      <td>0.0</td>\n",
       "      <td>0.0</td>\n",
       "      <td>0.0</td>\n",
       "      <td>0.0</td>\n",
       "      <td>0.0</td>\n",
       "      <td>0.0</td>\n",
       "    </tr>\n",
       "    <tr>\n",
       "      <th>972</th>\n",
       "      <td>0.750</td>\n",
       "      <td>0.064767</td>\n",
       "      <td>0.3</td>\n",
       "      <td>0.222222</td>\n",
       "      <td>0.333333</td>\n",
       "      <td>0.310190</td>\n",
       "      <td>0.0</td>\n",
       "      <td>0.0</td>\n",
       "      <td>0.0</td>\n",
       "      <td>1.0</td>\n",
       "      <td>...</td>\n",
       "      <td>0.0</td>\n",
       "      <td>0.0</td>\n",
       "      <td>0.0</td>\n",
       "      <td>0.0</td>\n",
       "      <td>0.0</td>\n",
       "      <td>0.0</td>\n",
       "      <td>0.0</td>\n",
       "      <td>0.0</td>\n",
       "      <td>0.0</td>\n",
       "      <td>0.0</td>\n",
       "    </tr>\n",
       "  </tbody>\n",
       "</table>\n",
       "<p>973 rows × 913 columns</p>\n",
       "</div>"
      ],
      "text/plain": [
       "     Rating       age  tools     techs  education  desc_len  hourly  \\\n",
       "0     0.800  0.215026    0.2  0.222222   0.000000  0.062626     0.0   \n",
       "1     0.650  0.050086    0.2  0.333333   0.666667  0.380393     0.0   \n",
       "2     0.875  0.044905    0.1  0.000000   0.000000  0.064559     0.0   \n",
       "3     0.775  0.139896    0.2  0.444444   0.000000  0.192825     0.0   \n",
       "4     0.725  0.041451    0.5  0.444444   0.000000  0.215556     0.0   \n",
       "..      ...       ...    ...       ...        ...       ...     ...   \n",
       "968   0.800  0.116580    0.1  0.111111   0.000000  0.080795     0.0   \n",
       "969   0.700  0.300518    0.1  0.000000   0.000000  0.014226     0.0   \n",
       "970   0.325  0.028497    0.1  0.111111   0.000000  0.044688     0.0   \n",
       "971   0.750  0.292746    0.1  0.111111   0.000000  0.059146     0.0   \n",
       "972   0.750  0.064767    0.3  0.222222   0.333333  0.310190     0.0   \n",
       "\n",
       "     employer_provided  Size_10000+ Employees  Size_1001 to 5000 Employees  \\\n",
       "0                  0.0                    1.0                          0.0   \n",
       "1                  0.0                    0.0                          0.0   \n",
       "2                  0.0                    0.0                          0.0   \n",
       "3                  1.0                    1.0                          0.0   \n",
       "4                  1.0                    0.0                          1.0   \n",
       "..                 ...                    ...                          ...   \n",
       "968                1.0                    0.0                          1.0   \n",
       "969                1.0                    1.0                          0.0   \n",
       "970                1.0                    0.0                          0.0   \n",
       "971                0.0                    1.0                          0.0   \n",
       "972                0.0                    0.0                          1.0   \n",
       "\n",
       "     ...  company_name_eTek IT Services, Inc.  company_name_eimagine  \\\n",
       "0    ...                                  0.0                    0.0   \n",
       "1    ...                                  0.0                    0.0   \n",
       "2    ...                                  0.0                    0.0   \n",
       "3    ...                                  0.0                    0.0   \n",
       "4    ...                                  0.0                    0.0   \n",
       "..   ...                                  ...                    ...   \n",
       "968  ...                                  0.0                    0.0   \n",
       "969  ...                                  0.0                    0.0   \n",
       "970  ...                                  0.0                    0.0   \n",
       "971  ...                                  0.0                    0.0   \n",
       "972  ...                                  0.0                    0.0   \n",
       "\n",
       "     company_name_fairlife, LLC  company_name_gointellects  \\\n",
       "0                           0.0                        0.0   \n",
       "1                           0.0                        0.0   \n",
       "2                           0.0                        0.0   \n",
       "3                           0.0                        0.0   \n",
       "4                           0.0                        0.0   \n",
       "..                          ...                        ...   \n",
       "968                         0.0                        0.0   \n",
       "969                         0.0                        0.0   \n",
       "970                         0.0                        0.0   \n",
       "971                         0.0                        0.0   \n",
       "972                         0.0                        0.0   \n",
       "\n",
       "     company_name_iSpot.tv  company_name_inAssist  company_name_kea  \\\n",
       "0                      0.0                    0.0               0.0   \n",
       "1                      0.0                    0.0               0.0   \n",
       "2                      0.0                    0.0               0.0   \n",
       "3                      0.0                    0.0               0.0   \n",
       "4                      0.0                    0.0               0.0   \n",
       "..                     ...                    ...               ...   \n",
       "968                    0.0                    0.0               0.0   \n",
       "969                    0.0                    0.0               0.0   \n",
       "970                    0.0                    0.0               0.0   \n",
       "971                    0.0                    0.0               0.0   \n",
       "972                    0.0                    0.0               0.0   \n",
       "\n",
       "     company_name_keasis Inc  company_name_shaped.ai Inc.  \\\n",
       "0                        0.0                          0.0   \n",
       "1                        0.0                          0.0   \n",
       "2                        0.0                          0.0   \n",
       "3                        0.0                          0.0   \n",
       "4                        0.0                          0.0   \n",
       "..                       ...                          ...   \n",
       "968                      0.0                          0.0   \n",
       "969                      0.0                          0.0   \n",
       "970                      0.0                          0.0   \n",
       "971                      0.0                          0.0   \n",
       "972                      0.0                          0.0   \n",
       "\n",
       "     company_name_zettalogix.Inc  \n",
       "0                            0.0  \n",
       "1                            0.0  \n",
       "2                            0.0  \n",
       "3                            0.0  \n",
       "4                            0.0  \n",
       "..                           ...  \n",
       "968                          0.0  \n",
       "969                          0.0  \n",
       "970                          0.0  \n",
       "971                          0.0  \n",
       "972                          0.0  \n",
       "\n",
       "[973 rows x 913 columns]"
      ]
     },
     "execution_count": 37,
     "metadata": {},
     "output_type": "execute_result"
    }
   ],
   "source": [
    "knn_imputed_df"
   ]
  },
  {
   "cell_type": "markdown",
   "id": "7926a76e-e038-4624-a5d8-960383b8d12f",
   "metadata": {
    "jp-MarkdownHeadingCollapsed": true,
    "tags": []
   },
   "source": [
    "### we will perform imputation by keeping the percentage of each category in the population constant even after imputation"
   ]
  },
  {
   "cell_type": "code",
   "execution_count": 164,
   "id": "93e6d302-e947-42b3-ba45-8785e6165537",
   "metadata": {
    "tags": []
   },
   "outputs": [],
   "source": [
    "cat_cols_test=cat_cols.copy()"
   ]
  },
  {
   "cell_type": "code",
   "execution_count": 165,
   "id": "681d4216-f38e-49dd-b901-de92255978df",
   "metadata": {
    "tags": []
   },
   "outputs": [],
   "source": [
    "#Revenue Column\n",
    "cat_cols_test['Revenue'].replace(to_replace=['-1'],value=np.NAN,inplace=True)"
   ]
  },
  {
   "cell_type": "code",
   "execution_count": 166,
   "id": "3e05d1d6-d901-45d7-aaee-dec3b584619f",
   "metadata": {
    "tags": []
   },
   "outputs": [],
   "source": [
    "test = pd.DataFrame(cat_cols_test.Revenue.values.tolist()).stack().value_counts()"
   ]
  },
  {
   "cell_type": "code",
   "execution_count": 167,
   "id": "9424f283-46a3-428c-83db-af2112a8a974",
   "metadata": {
    "tags": []
   },
   "outputs": [],
   "source": [
    "cat_cols_test = replace_cat_list(cat_cols_test,'Revenue',test.index)"
   ]
  },
  {
   "cell_type": "code",
   "execution_count": 168,
   "id": "b58e657c-ab1c-49c3-8787-d7d98a9c7889",
   "metadata": {
    "tags": []
   },
   "outputs": [],
   "source": [
    "# type of Ownership Column\n",
    "cat_cols_test['Type of ownership'].replace(to_replace=['-1'],value=np.NAN,inplace=True)"
   ]
  },
  {
   "cell_type": "code",
   "execution_count": 169,
   "id": "d4ceb3a8-0384-4980-9946-9ffcc354aeb2",
   "metadata": {
    "tags": []
   },
   "outputs": [],
   "source": [
    "test = pd.DataFrame(cat_cols_test['Type of ownership'].values.tolist()).stack().value_counts()"
   ]
  },
  {
   "cell_type": "code",
   "execution_count": 170,
   "id": "13c6849e-e62a-41a2-826f-f944c149429b",
   "metadata": {
    "tags": []
   },
   "outputs": [],
   "source": [
    "cat_cols_test = replace_cat_list(cat_cols_test,'Type of ownership',test.index)"
   ]
  },
  {
   "cell_type": "code",
   "execution_count": 171,
   "id": "7eab788e-c6c3-4871-8fc8-4d279aa00190",
   "metadata": {
    "tags": []
   },
   "outputs": [],
   "source": [
    "# Industry Column\n",
    "cat_cols_test['Industry'].replace(to_replace=['-1'],value=np.NAN,inplace=True)"
   ]
  },
  {
   "cell_type": "code",
   "execution_count": 172,
   "id": "1539daa7-e3c2-488d-8521-196926106545",
   "metadata": {
    "tags": []
   },
   "outputs": [],
   "source": [
    "test = pd.DataFrame(cat_cols_test.Industry.values.tolist()).stack().value_counts()"
   ]
  },
  {
   "cell_type": "code",
   "execution_count": 173,
   "id": "bf407660-33d4-4955-ac1d-fc4a2a360186",
   "metadata": {
    "tags": []
   },
   "outputs": [],
   "source": [
    "cat_cols_test = replace_cat_list(cat_cols_test,'Industry',test.index)"
   ]
  },
  {
   "cell_type": "code",
   "execution_count": 174,
   "id": "0e0a1ab5-9fd1-42bb-b47f-d08279eafd48",
   "metadata": {
    "tags": []
   },
   "outputs": [],
   "source": [
    "# Sector column\n",
    "cat_cols_test['Sector'].replace(to_replace=['-1'],value=np.NAN,inplace=True)"
   ]
  },
  {
   "cell_type": "code",
   "execution_count": 175,
   "id": "6a3ef1eb-d08b-419a-b8bb-85724f5cbebb",
   "metadata": {
    "tags": []
   },
   "outputs": [],
   "source": [
    "test = pd.DataFrame(cat_cols_test.Sector.values.tolist()).stack().value_counts()"
   ]
  },
  {
   "cell_type": "code",
   "execution_count": 176,
   "id": "743dc821-172d-418f-bab0-ccae75b42149",
   "metadata": {
    "tags": []
   },
   "outputs": [],
   "source": [
    "cat_cols_test = replace_cat_list(cat_cols_test,'Sector',test.index)"
   ]
  },
  {
   "cell_type": "code",
   "execution_count": 177,
   "id": "51a5e2b4-139a-4412-8db0-efbd333fd234",
   "metadata": {
    "tags": []
   },
   "outputs": [],
   "source": [
    "# Size Column\n",
    "cat_cols_test['Size'].replace(to_replace=['-1'],value=np.NAN,inplace=True)"
   ]
  },
  {
   "cell_type": "code",
   "execution_count": 178,
   "id": "026f04af-f458-4b81-af0e-f1e8d2cefb7a",
   "metadata": {
    "tags": []
   },
   "outputs": [],
   "source": [
    "test = pd.DataFrame(cat_cols_test.Size.values.tolist()).stack().value_counts()"
   ]
  },
  {
   "cell_type": "code",
   "execution_count": 179,
   "id": "0253b05b-a885-4aa7-9b41-91a0c2c753ae",
   "metadata": {
    "tags": []
   },
   "outputs": [],
   "source": [
    "cat_cols_test = replace_cat_list(cat_cols_test,'Size',test.index)"
   ]
  },
  {
   "cell_type": "markdown",
   "id": "63e263e6-918c-4d0f-8e01-f44d2424927a",
   "metadata": {
    "jp-MarkdownHeadingCollapsed": true,
    "tags": []
   },
   "source": [
    "### we will perform imputation by keeping the percentage of each category in the population constant even after imputation"
   ]
  },
  {
   "cell_type": "code",
   "execution_count": 154,
   "id": "83374da1-adf0-4a76-a852-481198bcf321",
   "metadata": {
    "tags": []
   },
   "outputs": [],
   "source": [
    "def replace_cat_list(df,col,cat_list):\n",
    "    count_cat_dict_initial = {'Total_cat':0}\n",
    "    for cat in cat_list:\n",
    "        count_cat_dict_initial[cat] = df.loc[df[col]==cat,col].count()\n",
    "        count_cat_dict_initial['Total_cat'] = count_cat_dict_initial.get('Total_cat') + count_cat_dict_initial[cat]\n",
    "    count_cat_dict_initial['Total'] = len(df[col])\n",
    "    count_cat_dict_final = {'Total_cat':0}\n",
    "    for cat in cat_list[:-1]:\n",
    "        count_cat_dict_final[cat] = math.ceil((count_cat_dict_initial.get(cat)/count_cat_dict_initial.get('Total_cat'))*count_cat_dict_initial.get('Total'))\n",
    "        count_cat_dict_final['Total_cat'] = count_cat_dict_final.get('Total_cat') + count_cat_dict_final[cat]\n",
    "    count_cat_dict_final[cat_list[-1]] = count_cat_dict_initial['Total'] - count_cat_dict_final['Total_cat']\n",
    "    fill_dict = {}\n",
    "    for cat in cat_list:\n",
    "        fill_dict[cat] = count_cat_dict_final[cat] - count_cat_dict_initial[cat]\n",
    "    for cat in cat_list[:]:\n",
    "        for i in range(fill_dict.get(cat)):\n",
    "            null_index= list(df.loc[pd.isna(df[col]),:].index)\n",
    "            if len(null_index) != 0:\n",
    "                df.loc[null_index.pop(0),col] = cat\n",
    "            else:\n",
    "                 break\n",
    "    return df"
   ]
  },
  {
   "cell_type": "code",
   "execution_count": 155,
   "id": "e523026b-425a-4a55-8c09-a5b9f5d34abf",
   "metadata": {
    "tags": []
   },
   "outputs": [],
   "source": [
    "num_cols_test = num_cols.copy()"
   ]
  },
  {
   "cell_type": "code",
   "execution_count": 156,
   "id": "c2ef92b8-4d23-45d1-8d34-699b91040be2",
   "metadata": {
    "tags": []
   },
   "outputs": [],
   "source": [
    "num_cols_test.replace(to_replace=[-1],value=np.NAN,inplace=True)"
   ]
  },
  {
   "cell_type": "code",
   "execution_count": 157,
   "id": "c92a70b9-8f61-4313-856a-5644abe1b6f6",
   "metadata": {
    "tags": []
   },
   "outputs": [],
   "source": [
    "test = pd.DataFrame(num_cols_test.Rating.values.tolist()).stack().value_counts()"
   ]
  },
  {
   "cell_type": "code",
   "execution_count": 158,
   "id": "cbb81faf-a56c-4bee-ba46-676ed5557762",
   "metadata": {
    "tags": []
   },
   "outputs": [
    {
     "data": {
      "text/plain": [
       "Float64Index([3.9, 3.7, 4.0, 3.8, 4.2, 4.1, 4.3, 5.0, 3.6, 4.4, 3.5, 3.4, 4.5,\n",
       "              3.3, 4.6, 3.2, 4.9, 3.1, 4.7, 3.0, 2.9, 4.8, 2.6, 2.7, 2.8, 2.0,\n",
       "              2.4, 2.3, 1.0, 2.5],\n",
       "             dtype='float64')"
      ]
     },
     "execution_count": 158,
     "metadata": {},
     "output_type": "execute_result"
    }
   ],
   "source": [
    "test.index"
   ]
  },
  {
   "cell_type": "code",
   "execution_count": 159,
   "id": "cde76527-c7d9-4de9-a17e-c90fb6150faf",
   "metadata": {},
   "outputs": [],
   "source": [
    "num_cols_test = replace_cat_list(num_cols_test,'Rating',test.index)"
   ]
  },
  {
   "cell_type": "code",
   "execution_count": 160,
   "id": "a66485b9-7d51-4404-bb32-aef5fceee2b1",
   "metadata": {
    "tags": []
   },
   "outputs": [],
   "source": [
    "test = pd.DataFrame(num_cols_test.age.values.tolist()).stack().value_counts()"
   ]
  },
  {
   "cell_type": "code",
   "execution_count": 161,
   "id": "647cb553-7962-4833-b77d-586aa3907e5f",
   "metadata": {},
   "outputs": [
    {
     "data": {
      "text/plain": [
       "Float64Index([  8.0,   7.0,  19.0,   6.0,  25.0,  17.0,  24.0,  12.0,  11.0,\n",
       "               20.0,\n",
       "              ...\n",
       "              212.0, 147.0,  83.0, 120.0, 104.0, 162.0, 151.0, 187.0, 322.0,\n",
       "              159.0],\n",
       "             dtype='float64', length=134)"
      ]
     },
     "execution_count": 161,
     "metadata": {},
     "output_type": "execute_result"
    }
   ],
   "source": [
    "test.index"
   ]
  },
  {
   "cell_type": "code",
   "execution_count": 162,
   "id": "4193de0b-4d16-4d48-97b1-7adc1b371ddf",
   "metadata": {
    "tags": []
   },
   "outputs": [],
   "source": [
    "num_cols_test = replace_cat_list(num_cols_test,'age',test.index)"
   ]
  },
  {
   "cell_type": "code",
   "execution_count": 163,
   "id": "58c1d4ee-3c92-4e10-a2b0-d7493efe4053",
   "metadata": {
    "tags": []
   },
   "outputs": [
    {
     "name": "stdout",
     "output_type": "stream",
     "text": [
      "<class 'pandas.core.frame.DataFrame'>\n",
      "RangeIndex: 973 entries, 0 to 972\n",
      "Data columns (total 8 columns):\n",
      " #   Column             Non-Null Count  Dtype  \n",
      "---  ------             --------------  -----  \n",
      " 0   Rating             973 non-null    float64\n",
      " 1   age                973 non-null    float64\n",
      " 2   tools              973 non-null    int64  \n",
      " 3   techs              973 non-null    int64  \n",
      " 4   education          973 non-null    int64  \n",
      " 5   desc_len           973 non-null    int64  \n",
      " 6   hourly             973 non-null    int64  \n",
      " 7   employer_provided  973 non-null    int64  \n",
      "dtypes: float64(2), int64(6)\n",
      "memory usage: 60.9 KB\n"
     ]
    }
   ],
   "source": [
    "num_cols_test.info()"
   ]
  },
  {
   "cell_type": "markdown",
   "id": "b8058f69-8854-4846-9834-738dc6613230",
   "metadata": {
    "tags": []
   },
   "source": [
    "### perform imputation using SimpleImputer for numerical columns"
   ]
  },
  {
   "cell_type": "code",
   "execution_count": 113,
   "id": "69bb5ab8-bb08-4ce7-8e09-13a162c3c5c8",
   "metadata": {
    "jp-MarkdownHeadingCollapsed": true,
    "tags": []
   },
   "outputs": [],
   "source": [
    "import numpy as np\n",
    "\n",
    "# Importing the SimpleImputer class\n",
    "from sklearn.impute import SimpleImputer\n",
    "imputer = SimpleImputer(missing_values = -1,strategy ='mean')\n",
    "\n",
    "imputer = imputer.fit(num_cols)\n",
    "X = imputer.transform(num_cols)"
   ]
  },
  {
   "cell_type": "code",
   "execution_count": 114,
   "id": "54371348-d25b-4c3b-a94f-946ef10de4b5",
   "metadata": {
    "tags": []
   },
   "outputs": [
    {
     "data": {
      "text/plain": [
       "array([3.93534994e+00, 4.10552408e+01, 2.68139774e+00, 2.81397739e+00,\n",
       "       6.16649538e-01, 3.06520966e+03, 1.61356629e-01, 6.48509764e-01])"
      ]
     },
     "execution_count": 114,
     "metadata": {},
     "output_type": "execute_result"
    }
   ],
   "source": [
    "imputer.statistics_"
   ]
  },
  {
   "cell_type": "code",
   "execution_count": 115,
   "id": "65e77766-e83c-4ce8-9e76-64e0a5d1327c",
   "metadata": {
    "tags": []
   },
   "outputs": [],
   "source": [
    "num_cols_imputed= pd.DataFrame(X,columns=num_cols.columns,index=num_cols.index)"
   ]
  },
  {
   "cell_type": "markdown",
   "id": "16292692-5c7a-4ef8-8e41-71411156ea30",
   "metadata": {},
   "source": [
    "## using median instead of mean in a soft voting "
   ]
  },
  {
   "cell_type": "code",
   "execution_count": null,
   "id": "0143d502-9e43-4c96-b508-d68d9cffca0b",
   "metadata": {},
   "outputs": [],
   "source": [
    "import numpy as np\n",
    "from sklearn.ensemble import VotingRegressor\n",
    "\n",
    "# Define a custom function that returns the median along axis 1\n",
    "def median_voting(estimators, X):\n",
    "    # Get the predicted probabilities or scores from each estimator\n",
    "    predictions = np.asarray([est.predict(X) for est in estimators])\n",
    "    # Return the median along axis 1\n",
    "    return np.median(predictions, axis=0)\n",
    "\n",
    "# Define the base regressors\n",
    "reg1 = ...\n",
    "reg2 = ...\n",
    "reg3 = ...\n",
    "\n",
    "# Define the soft voting regressor with median voting\n",
    "voting_reg = VotingRegressor(estimators=[(\"reg1\", reg1), (\"reg2\", reg2), (\"reg3\", reg3)])\n",
    "# Set the voting method to the custom function\n",
    "voting_reg.voting = median_voting\n",
    "\n",
    "# Fit and predict\n",
    "voting_reg.fit(X_train, y_train)\n",
    "y_pred = voting_reg.predict(X_test)"
   ]
  },
  {
   "cell_type": "markdown",
   "id": "01ad360d-a5cf-47d2-9067-48cbded87dc1",
   "metadata": {},
   "source": [
    "## use a Pipeline for each model, where you apply the transformation and then the model in sequence. This way, you can avoid data leakage and ensure that each model gets the appropriate input. You can then use a VotingClassifier to combine the predictions from each Pipeline."
   ]
  },
  {
   "cell_type": "code",
   "execution_count": null,
   "id": "a38b11cf-96cc-4f08-98cd-4eeb702b2804",
   "metadata": {},
   "outputs": [],
   "source": [
    "from sklearn.pipeline import Pipeline\n",
    "from sklearn.ensemble import VotingClassifier\n",
    "from sklearn.svm import SVC\n",
    "from sklearn.ensemble import RandomForestClassifier\n",
    "from sklearn.linear_model import Lasso\n",
    "\n",
    "# Define the transformations for each model\n",
    "svm_transform = ... # some transformation for SVM\n",
    "rf_transform = ... # some transformation for Random Forest\n",
    "lasso_transform = ... # some transformation for Lasso\n",
    "\n",
    "# Define the models\n",
    "svm_model = SVC()\n",
    "rf_model = RandomForestClassifier()\n",
    "lasso_model = Lasso()\n",
    "\n",
    "# Define the pipelines\n",
    "svm_pipeline = Pipeline([(\"transform\", svm_transform), (\"model\", svm_model)])\n",
    "rf_pipeline = Pipeline([(\"transform\", rf_transform), (\"model\", rf_model)])\n",
    "lasso_pipeline = Pipeline([(\"transform\", lasso_transform), (\"model\", lasso_model)])\n",
    "\n",
    "# Define the voting classifier\n",
    "voting_clf = VotingClassifier(estimators=[(\"svm\", svm_pipeline), (\"rf\", rf_pipeline), (\"lasso\", lasso_pipeline)])\n",
    "\n",
    "# Fit and predict\n",
    "voting_clf.fit(X_train, y_train)\n",
    "y_pred = voting_clf.predict(X_test)"
   ]
  }
 ],
 "metadata": {
  "kernelspec": {
   "display_name": "Python 3 (ipykernel)",
   "language": "python",
   "name": "python3"
  },
  "language_info": {
   "codemirror_mode": {
    "name": "ipython",
    "version": 3
   },
   "file_extension": ".py",
   "mimetype": "text/x-python",
   "name": "python",
   "nbconvert_exporter": "python",
   "pygments_lexer": "ipython3",
   "version": "3.11.4"
  }
 },
 "nbformat": 4,
 "nbformat_minor": 5
}
