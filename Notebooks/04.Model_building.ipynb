{
 "cells": [
  {
   "cell_type": "code",
   "execution_count": 73,
   "id": "68f7ac3f-bc8e-4c0f-987c-35a861225693",
   "metadata": {
    "tags": []
   },
   "outputs": [],
   "source": [
    "# Constants\n",
    "DATA_PATH = '../Data/Processed/0_DataCleaned_df.csv'\n",
    "DATA_PATH_PKL = '../Data/Processed/0_DataCleaned_df.pkl'\n",
    "LOG_PATH = \"../Models/\"\n",
    "LOG_MODEL_PKL   =  \"model.pkl\""
   ]
  },
  {
   "cell_type": "code",
   "execution_count": 2,
   "id": "b973bc58-87eb-479a-a006-963076636e83",
   "metadata": {
    "tags": []
   },
   "outputs": [],
   "source": [
    "import pandas as pd\n",
    "import numpy as np\n",
    "import matplotlib.pyplot as plt\n",
    "import math"
   ]
  },
  {
   "cell_type": "code",
   "execution_count": 3,
   "id": "93da1128-bb20-4cab-8d2e-c0064b4ed691",
   "metadata": {
    "tags": []
   },
   "outputs": [
    {
     "data": {
      "text/html": [
       "<div>\n",
       "<style scoped>\n",
       "    .dataframe tbody tr th:only-of-type {\n",
       "        vertical-align: middle;\n",
       "    }\n",
       "\n",
       "    .dataframe tbody tr th {\n",
       "        vertical-align: top;\n",
       "    }\n",
       "\n",
       "    .dataframe thead th {\n",
       "        text-align: right;\n",
       "    }\n",
       "</style>\n",
       "<table border=\"1\" class=\"dataframe\">\n",
       "  <thead>\n",
       "    <tr style=\"text-align: right;\">\n",
       "      <th></th>\n",
       "      <th>Job Title</th>\n",
       "      <th>Salary Estimate</th>\n",
       "      <th>Job Description</th>\n",
       "      <th>Rating</th>\n",
       "      <th>Company Name</th>\n",
       "      <th>Location</th>\n",
       "      <th>Size</th>\n",
       "      <th>Founded</th>\n",
       "      <th>Type of ownership</th>\n",
       "      <th>Industry</th>\n",
       "      <th>...</th>\n",
       "      <th>avg_salary</th>\n",
       "      <th>job_title</th>\n",
       "      <th>seniority</th>\n",
       "      <th>desc_len</th>\n",
       "      <th>tools</th>\n",
       "      <th>techs</th>\n",
       "      <th>education</th>\n",
       "      <th>company_name</th>\n",
       "      <th>job_state</th>\n",
       "      <th>age</th>\n",
       "    </tr>\n",
       "  </thead>\n",
       "  <tbody>\n",
       "    <tr>\n",
       "      <th>0</th>\n",
       "      <td>Data Engineer</td>\n",
       "      <td>Employer Provided Salary:$175K - $200K</td>\n",
       "      <td>At Expa we're dedicated to being the best plac...</td>\n",
       "      <td>3.7</td>\n",
       "      <td>Expa\\n3.7</td>\n",
       "      <td>Los Angeles, CA</td>\n",
       "      <td>1 to 50 Employees</td>\n",
       "      <td>2013</td>\n",
       "      <td>Company - Private</td>\n",
       "      <td>Business Consulting</td>\n",
       "      <td>...</td>\n",
       "      <td>187.5</td>\n",
       "      <td>data engineer</td>\n",
       "      <td>na</td>\n",
       "      <td>3144</td>\n",
       "      <td>3</td>\n",
       "      <td>2</td>\n",
       "      <td>2</td>\n",
       "      <td>Expa</td>\n",
       "      <td>California-CA</td>\n",
       "      <td>10</td>\n",
       "    </tr>\n",
       "    <tr>\n",
       "      <th>1</th>\n",
       "      <td>Data Scientist/Data Engineer - Economic Research</td>\n",
       "      <td>Employer Provided Salary:$121K - $151K</td>\n",
       "      <td>Why Glassdoor?\\nOur mission is to help people ...</td>\n",
       "      <td>4.3</td>\n",
       "      <td>Glassdoor\\n4.3</td>\n",
       "      <td>Chicago, IL</td>\n",
       "      <td>501 to 1000 Employees</td>\n",
       "      <td>2007</td>\n",
       "      <td>Company - Private</td>\n",
       "      <td>Internet &amp; Web Services</td>\n",
       "      <td>...</td>\n",
       "      <td>136.0</td>\n",
       "      <td>data scientist</td>\n",
       "      <td>na</td>\n",
       "      <td>8120</td>\n",
       "      <td>3</td>\n",
       "      <td>6</td>\n",
       "      <td>0</td>\n",
       "      <td>Glassdoor</td>\n",
       "      <td>Illinois-IL</td>\n",
       "      <td>16</td>\n",
       "    </tr>\n",
       "    <tr>\n",
       "      <th>2</th>\n",
       "      <td>Data Scientist</td>\n",
       "      <td>Employer Provided Salary:$60K - $140K</td>\n",
       "      <td>We are looking for junior, mid-level or senior...</td>\n",
       "      <td>-1.0</td>\n",
       "      <td>Tech brothers infoservices</td>\n",
       "      <td>Remote</td>\n",
       "      <td>-1</td>\n",
       "      <td>-1</td>\n",
       "      <td>Company - Public</td>\n",
       "      <td>-1</td>\n",
       "      <td>...</td>\n",
       "      <td>100.0</td>\n",
       "      <td>data scientist</td>\n",
       "      <td>na</td>\n",
       "      <td>1338</td>\n",
       "      <td>4</td>\n",
       "      <td>2</td>\n",
       "      <td>0</td>\n",
       "      <td>Tech brothers infoservices</td>\n",
       "      <td>Remote</td>\n",
       "      <td>-1</td>\n",
       "    </tr>\n",
       "    <tr>\n",
       "      <th>3</th>\n",
       "      <td>Data Scientist</td>\n",
       "      <td>Employer Provided Salary:$79K - $117K</td>\n",
       "      <td>No Relocation Assistance Offered\\n# 154742 - P...</td>\n",
       "      <td>4.2</td>\n",
       "      <td>Colgate-Palmolive\\n4.2</td>\n",
       "      <td>Piscataway, NJ</td>\n",
       "      <td>10000+ Employees</td>\n",
       "      <td>1806</td>\n",
       "      <td>Company - Public</td>\n",
       "      <td>Consumer Product Manufacturing</td>\n",
       "      <td>...</td>\n",
       "      <td>98.0</td>\n",
       "      <td>data scientist</td>\n",
       "      <td>na</td>\n",
       "      <td>5372</td>\n",
       "      <td>7</td>\n",
       "      <td>7</td>\n",
       "      <td>1</td>\n",
       "      <td>Colgate-Palmolive</td>\n",
       "      <td>New Jersey-NJ</td>\n",
       "      <td>217</td>\n",
       "    </tr>\n",
       "    <tr>\n",
       "      <th>4</th>\n",
       "      <td>Sr. Business Data Analyst</td>\n",
       "      <td>Employer Provided Salary:$60.00 - $70.00 Per Hour</td>\n",
       "      <td>Business Analysis Skills\\nGood Data analysis S...</td>\n",
       "      <td>4.6</td>\n",
       "      <td>CTI Consulting\\n4.6</td>\n",
       "      <td>Deerfield Beach, FL</td>\n",
       "      <td>1 to 50 Employees</td>\n",
       "      <td>-1</td>\n",
       "      <td>Company - Private</td>\n",
       "      <td>-1</td>\n",
       "      <td>...</td>\n",
       "      <td>117.0</td>\n",
       "      <td>data analyst</td>\n",
       "      <td>senior</td>\n",
       "      <td>828</td>\n",
       "      <td>3</td>\n",
       "      <td>0</td>\n",
       "      <td>0</td>\n",
       "      <td>CTI Consulting</td>\n",
       "      <td>Florida-FL</td>\n",
       "      <td>-1</td>\n",
       "    </tr>\n",
       "  </tbody>\n",
       "</table>\n",
       "<p>5 rows × 26 columns</p>\n",
       "</div>"
      ],
      "text/plain": [
       "                                          Job Title  \\\n",
       "0                                     Data Engineer   \n",
       "1  Data Scientist/Data Engineer - Economic Research   \n",
       "2                                    Data Scientist   \n",
       "3                                    Data Scientist   \n",
       "4                         Sr. Business Data Analyst   \n",
       "\n",
       "                                     Salary Estimate  \\\n",
       "0             Employer Provided Salary:$175K - $200K   \n",
       "1             Employer Provided Salary:$121K - $151K   \n",
       "2              Employer Provided Salary:$60K - $140K   \n",
       "3              Employer Provided Salary:$79K - $117K   \n",
       "4  Employer Provided Salary:$60.00 - $70.00 Per Hour   \n",
       "\n",
       "                                     Job Description  Rating  \\\n",
       "0  At Expa we're dedicated to being the best plac...     3.7   \n",
       "1  Why Glassdoor?\\nOur mission is to help people ...     4.3   \n",
       "2  We are looking for junior, mid-level or senior...    -1.0   \n",
       "3  No Relocation Assistance Offered\\n# 154742 - P...     4.2   \n",
       "4  Business Analysis Skills\\nGood Data analysis S...     4.6   \n",
       "\n",
       "                 Company Name             Location                   Size  \\\n",
       "0                   Expa\\n3.7      Los Angeles, CA      1 to 50 Employees   \n",
       "1              Glassdoor\\n4.3          Chicago, IL  501 to 1000 Employees   \n",
       "2  Tech brothers infoservices               Remote                     -1   \n",
       "3      Colgate-Palmolive\\n4.2       Piscataway, NJ       10000+ Employees   \n",
       "4         CTI Consulting\\n4.6  Deerfield Beach, FL      1 to 50 Employees   \n",
       "\n",
       "   Founded  Type of ownership                        Industry  ... avg_salary  \\\n",
       "0     2013  Company - Private             Business Consulting  ...      187.5   \n",
       "1     2007  Company - Private         Internet & Web Services  ...      136.0   \n",
       "2       -1   Company - Public                              -1  ...      100.0   \n",
       "3     1806   Company - Public  Consumer Product Manufacturing  ...       98.0   \n",
       "4       -1  Company - Private                              -1  ...      117.0   \n",
       "\n",
       "        job_title  seniority  desc_len  tools  techs  education  \\\n",
       "0   data engineer         na      3144      3      2          2   \n",
       "1  data scientist         na      8120      3      6          0   \n",
       "2  data scientist         na      1338      4      2          0   \n",
       "3  data scientist         na      5372      7      7          1   \n",
       "4    data analyst     senior       828      3      0          0   \n",
       "\n",
       "                 company_name      job_state  age  \n",
       "0                        Expa  California-CA   10  \n",
       "1                   Glassdoor    Illinois-IL   16  \n",
       "2  Tech brothers infoservices         Remote   -1  \n",
       "3           Colgate-Palmolive  New Jersey-NJ  217  \n",
       "4              CTI Consulting     Florida-FL   -1  \n",
       "\n",
       "[5 rows x 26 columns]"
      ]
     },
     "execution_count": 3,
     "metadata": {},
     "output_type": "execute_result"
    }
   ],
   "source": [
    "df = pd.read_csv(DATA_PATH)\n",
    "df.head()"
   ]
  },
  {
   "cell_type": "code",
   "execution_count": 4,
   "id": "717cdb32-e7d2-4a6e-9d55-2d9b079b64c0",
   "metadata": {
    "tags": []
   },
   "outputs": [
    {
     "data": {
      "text/plain": [
       "Index(['Job Title', 'Salary Estimate', 'Job Description', 'Rating',\n",
       "       'Company Name', 'Location', 'Size', 'Founded', 'Type of ownership',\n",
       "       'Industry', 'Sector', 'Revenue', 'hourly', 'employer_provided',\n",
       "       'min_salary', 'max_salary', 'avg_salary', 'job_title', 'seniority',\n",
       "       'desc_len', 'tools', 'techs', 'education', 'company_name', 'job_state',\n",
       "       'age'],\n",
       "      dtype='object')"
      ]
     },
     "execution_count": 4,
     "metadata": {},
     "output_type": "execute_result"
    }
   ],
   "source": [
    "df.columns"
   ]
  },
  {
   "cell_type": "code",
   "execution_count": 5,
   "id": "6f038a3b-b9a7-46e8-a12f-7e9003c8b1f8",
   "metadata": {
    "tags": []
   },
   "outputs": [
    {
     "data": {
      "text/html": [
       "<div>\n",
       "<style scoped>\n",
       "    .dataframe tbody tr th:only-of-type {\n",
       "        vertical-align: middle;\n",
       "    }\n",
       "\n",
       "    .dataframe tbody tr th {\n",
       "        vertical-align: top;\n",
       "    }\n",
       "\n",
       "    .dataframe thead th {\n",
       "        text-align: right;\n",
       "    }\n",
       "</style>\n",
       "<table border=\"1\" class=\"dataframe\">\n",
       "  <thead>\n",
       "    <tr style=\"text-align: right;\">\n",
       "      <th></th>\n",
       "      <th>avg_salary</th>\n",
       "      <th>Rating</th>\n",
       "      <th>Size</th>\n",
       "      <th>Type of ownership</th>\n",
       "      <th>Industry</th>\n",
       "      <th>Sector</th>\n",
       "      <th>Revenue</th>\n",
       "      <th>job_title</th>\n",
       "      <th>job_state</th>\n",
       "      <th>age</th>\n",
       "      <th>tools</th>\n",
       "      <th>techs</th>\n",
       "      <th>education</th>\n",
       "      <th>seniority</th>\n",
       "      <th>desc_len</th>\n",
       "      <th>company_name</th>\n",
       "      <th>hourly</th>\n",
       "      <th>employer_provided</th>\n",
       "    </tr>\n",
       "  </thead>\n",
       "  <tbody>\n",
       "    <tr>\n",
       "      <th>0</th>\n",
       "      <td>187.5</td>\n",
       "      <td>3.7</td>\n",
       "      <td>1 to 50 Employees</td>\n",
       "      <td>Company - Private</td>\n",
       "      <td>Business Consulting</td>\n",
       "      <td>Management &amp; Consulting</td>\n",
       "      <td>-1</td>\n",
       "      <td>data engineer</td>\n",
       "      <td>California-CA</td>\n",
       "      <td>10</td>\n",
       "      <td>3</td>\n",
       "      <td>2</td>\n",
       "      <td>2</td>\n",
       "      <td>na</td>\n",
       "      <td>3144</td>\n",
       "      <td>Expa</td>\n",
       "      <td>0</td>\n",
       "      <td>1</td>\n",
       "    </tr>\n",
       "    <tr>\n",
       "      <th>1</th>\n",
       "      <td>136.0</td>\n",
       "      <td>4.3</td>\n",
       "      <td>501 to 1000 Employees</td>\n",
       "      <td>Company - Private</td>\n",
       "      <td>Internet &amp; Web Services</td>\n",
       "      <td>Information Technology</td>\n",
       "      <td>-1</td>\n",
       "      <td>data scientist</td>\n",
       "      <td>Illinois-IL</td>\n",
       "      <td>16</td>\n",
       "      <td>3</td>\n",
       "      <td>6</td>\n",
       "      <td>0</td>\n",
       "      <td>na</td>\n",
       "      <td>8120</td>\n",
       "      <td>Glassdoor</td>\n",
       "      <td>0</td>\n",
       "      <td>1</td>\n",
       "    </tr>\n",
       "    <tr>\n",
       "      <th>2</th>\n",
       "      <td>100.0</td>\n",
       "      <td>-1.0</td>\n",
       "      <td>-1</td>\n",
       "      <td>Company - Public</td>\n",
       "      <td>-1</td>\n",
       "      <td>-1</td>\n",
       "      <td>-1</td>\n",
       "      <td>data scientist</td>\n",
       "      <td>Remote</td>\n",
       "      <td>-1</td>\n",
       "      <td>4</td>\n",
       "      <td>2</td>\n",
       "      <td>0</td>\n",
       "      <td>na</td>\n",
       "      <td>1338</td>\n",
       "      <td>Tech brothers infoservices</td>\n",
       "      <td>0</td>\n",
       "      <td>1</td>\n",
       "    </tr>\n",
       "    <tr>\n",
       "      <th>3</th>\n",
       "      <td>98.0</td>\n",
       "      <td>4.2</td>\n",
       "      <td>10000+ Employees</td>\n",
       "      <td>Company - Public</td>\n",
       "      <td>Consumer Product Manufacturing</td>\n",
       "      <td>Manufacturing</td>\n",
       "      <td>$10+ billion (USD)</td>\n",
       "      <td>data scientist</td>\n",
       "      <td>New Jersey-NJ</td>\n",
       "      <td>217</td>\n",
       "      <td>7</td>\n",
       "      <td>7</td>\n",
       "      <td>1</td>\n",
       "      <td>na</td>\n",
       "      <td>5372</td>\n",
       "      <td>Colgate-Palmolive</td>\n",
       "      <td>0</td>\n",
       "      <td>1</td>\n",
       "    </tr>\n",
       "    <tr>\n",
       "      <th>4</th>\n",
       "      <td>117.0</td>\n",
       "      <td>4.6</td>\n",
       "      <td>1 to 50 Employees</td>\n",
       "      <td>Company - Private</td>\n",
       "      <td>-1</td>\n",
       "      <td>-1</td>\n",
       "      <td>$1 to $5 million (USD)</td>\n",
       "      <td>data analyst</td>\n",
       "      <td>Florida-FL</td>\n",
       "      <td>-1</td>\n",
       "      <td>3</td>\n",
       "      <td>0</td>\n",
       "      <td>0</td>\n",
       "      <td>senior</td>\n",
       "      <td>828</td>\n",
       "      <td>CTI Consulting</td>\n",
       "      <td>1</td>\n",
       "      <td>1</td>\n",
       "    </tr>\n",
       "    <tr>\n",
       "      <th>...</th>\n",
       "      <td>...</td>\n",
       "      <td>...</td>\n",
       "      <td>...</td>\n",
       "      <td>...</td>\n",
       "      <td>...</td>\n",
       "      <td>...</td>\n",
       "      <td>...</td>\n",
       "      <td>...</td>\n",
       "      <td>...</td>\n",
       "      <td>...</td>\n",
       "      <td>...</td>\n",
       "      <td>...</td>\n",
       "      <td>...</td>\n",
       "      <td>...</td>\n",
       "      <td>...</td>\n",
       "      <td>...</td>\n",
       "      <td>...</td>\n",
       "      <td>...</td>\n",
       "    </tr>\n",
       "    <tr>\n",
       "      <th>1212</th>\n",
       "      <td>121.0</td>\n",
       "      <td>3.9</td>\n",
       "      <td>1001 to 5000 Employees</td>\n",
       "      <td>Nonprofit Organization</td>\n",
       "      <td>Research &amp; Development</td>\n",
       "      <td>Management &amp; Consulting</td>\n",
       "      <td>$5 to $10 billion (USD)</td>\n",
       "      <td>data scientist</td>\n",
       "      <td>Ohio-OH</td>\n",
       "      <td>94</td>\n",
       "      <td>5</td>\n",
       "      <td>5</td>\n",
       "      <td>2</td>\n",
       "      <td>na</td>\n",
       "      <td>6439</td>\n",
       "      <td>Battelle</td>\n",
       "      <td>0</td>\n",
       "      <td>0</td>\n",
       "    </tr>\n",
       "    <tr>\n",
       "      <th>1213</th>\n",
       "      <td>167.0</td>\n",
       "      <td>3.9</td>\n",
       "      <td>1001 to 5000 Employees</td>\n",
       "      <td>Company - Public</td>\n",
       "      <td>Information Technology Support Services</td>\n",
       "      <td>Information Technology</td>\n",
       "      <td>$1 to $5 billion (USD)</td>\n",
       "      <td>machine learning engineer</td>\n",
       "      <td>California-CA</td>\n",
       "      <td>12</td>\n",
       "      <td>3</td>\n",
       "      <td>5</td>\n",
       "      <td>1</td>\n",
       "      <td>na</td>\n",
       "      <td>3769</td>\n",
       "      <td>Zoom Video Communications, Inc.</td>\n",
       "      <td>0</td>\n",
       "      <td>1</td>\n",
       "    </tr>\n",
       "    <tr>\n",
       "      <th>1214</th>\n",
       "      <td>159.0</td>\n",
       "      <td>3.9</td>\n",
       "      <td>10000+ Employees</td>\n",
       "      <td>Company - Public</td>\n",
       "      <td>Film Production</td>\n",
       "      <td>Media &amp; Communication</td>\n",
       "      <td>$10+ billion (USD)</td>\n",
       "      <td>machine learning engineer</td>\n",
       "      <td>California-CA</td>\n",
       "      <td>100</td>\n",
       "      <td>2</td>\n",
       "      <td>3</td>\n",
       "      <td>2</td>\n",
       "      <td>senior</td>\n",
       "      <td>2988</td>\n",
       "      <td>Disney</td>\n",
       "      <td>0</td>\n",
       "      <td>1</td>\n",
       "    </tr>\n",
       "    <tr>\n",
       "      <th>1215</th>\n",
       "      <td>221.5</td>\n",
       "      <td>3.2</td>\n",
       "      <td>10000+ Employees</td>\n",
       "      <td>Company - Public</td>\n",
       "      <td>Other Retail Stores</td>\n",
       "      <td>Retail &amp; Wholesale</td>\n",
       "      <td>$1 to $5 billion (USD)</td>\n",
       "      <td>data scientist</td>\n",
       "      <td>Remote</td>\n",
       "      <td>12</td>\n",
       "      <td>2</td>\n",
       "      <td>4</td>\n",
       "      <td>0</td>\n",
       "      <td>na</td>\n",
       "      <td>7039</td>\n",
       "      <td>Stitch Fix</td>\n",
       "      <td>0</td>\n",
       "      <td>1</td>\n",
       "    </tr>\n",
       "    <tr>\n",
       "      <th>1216</th>\n",
       "      <td>165.5</td>\n",
       "      <td>3.9</td>\n",
       "      <td>10000+ Employees</td>\n",
       "      <td>Company - Public</td>\n",
       "      <td>Internet &amp; Web Services</td>\n",
       "      <td>Information Technology</td>\n",
       "      <td>$10+ billion (USD)</td>\n",
       "      <td>machine learning engineer</td>\n",
       "      <td>California-CA</td>\n",
       "      <td>25</td>\n",
       "      <td>8</td>\n",
       "      <td>5</td>\n",
       "      <td>1</td>\n",
       "      <td>na</td>\n",
       "      <td>8046</td>\n",
       "      <td>TikTok</td>\n",
       "      <td>0</td>\n",
       "      <td>1</td>\n",
       "    </tr>\n",
       "  </tbody>\n",
       "</table>\n",
       "<p>1217 rows × 18 columns</p>\n",
       "</div>"
      ],
      "text/plain": [
       "      avg_salary  Rating                    Size       Type of ownership  \\\n",
       "0          187.5     3.7       1 to 50 Employees       Company - Private   \n",
       "1          136.0     4.3   501 to 1000 Employees       Company - Private   \n",
       "2          100.0    -1.0                      -1        Company - Public   \n",
       "3           98.0     4.2        10000+ Employees        Company - Public   \n",
       "4          117.0     4.6       1 to 50 Employees       Company - Private   \n",
       "...          ...     ...                     ...                     ...   \n",
       "1212       121.0     3.9  1001 to 5000 Employees  Nonprofit Organization   \n",
       "1213       167.0     3.9  1001 to 5000 Employees        Company - Public   \n",
       "1214       159.0     3.9        10000+ Employees        Company - Public   \n",
       "1215       221.5     3.2        10000+ Employees        Company - Public   \n",
       "1216       165.5     3.9        10000+ Employees        Company - Public   \n",
       "\n",
       "                                     Industry                   Sector  \\\n",
       "0                         Business Consulting  Management & Consulting   \n",
       "1                     Internet & Web Services   Information Technology   \n",
       "2                                          -1                       -1   \n",
       "3              Consumer Product Manufacturing            Manufacturing   \n",
       "4                                          -1                       -1   \n",
       "...                                       ...                      ...   \n",
       "1212                   Research & Development  Management & Consulting   \n",
       "1213  Information Technology Support Services   Information Technology   \n",
       "1214                          Film Production    Media & Communication   \n",
       "1215                      Other Retail Stores       Retail & Wholesale   \n",
       "1216                  Internet & Web Services   Information Technology   \n",
       "\n",
       "                      Revenue                  job_title      job_state  age  \\\n",
       "0                          -1              data engineer  California-CA   10   \n",
       "1                          -1             data scientist    Illinois-IL   16   \n",
       "2                          -1             data scientist         Remote   -1   \n",
       "3          $10+ billion (USD)             data scientist  New Jersey-NJ  217   \n",
       "4      $1 to $5 million (USD)               data analyst     Florida-FL   -1   \n",
       "...                       ...                        ...            ...  ...   \n",
       "1212  $5 to $10 billion (USD)             data scientist        Ohio-OH   94   \n",
       "1213   $1 to $5 billion (USD)  machine learning engineer  California-CA   12   \n",
       "1214       $10+ billion (USD)  machine learning engineer  California-CA  100   \n",
       "1215   $1 to $5 billion (USD)             data scientist         Remote   12   \n",
       "1216       $10+ billion (USD)  machine learning engineer  California-CA   25   \n",
       "\n",
       "      tools  techs  education seniority  desc_len  \\\n",
       "0         3      2          2        na      3144   \n",
       "1         3      6          0        na      8120   \n",
       "2         4      2          0        na      1338   \n",
       "3         7      7          1        na      5372   \n",
       "4         3      0          0    senior       828   \n",
       "...     ...    ...        ...       ...       ...   \n",
       "1212      5      5          2        na      6439   \n",
       "1213      3      5          1        na      3769   \n",
       "1214      2      3          2    senior      2988   \n",
       "1215      2      4          0        na      7039   \n",
       "1216      8      5          1        na      8046   \n",
       "\n",
       "                         company_name  hourly  employer_provided  \n",
       "0                                Expa       0                  1  \n",
       "1                           Glassdoor       0                  1  \n",
       "2          Tech brothers infoservices       0                  1  \n",
       "3                   Colgate-Palmolive       0                  1  \n",
       "4                      CTI Consulting       1                  1  \n",
       "...                               ...     ...                ...  \n",
       "1212                         Battelle       0                  0  \n",
       "1213  Zoom Video Communications, Inc.       0                  1  \n",
       "1214                           Disney       0                  1  \n",
       "1215                       Stitch Fix       0                  1  \n",
       "1216                           TikTok       0                  1  \n",
       "\n",
       "[1217 rows x 18 columns]"
      ]
     },
     "execution_count": 5,
     "metadata": {},
     "output_type": "execute_result"
    }
   ],
   "source": [
    "df_model = df[['avg_salary','Rating','Size','Type of ownership','Industry','Sector','Revenue','job_title',\n",
    "               'job_state','age','tools','techs','education','seniority','desc_len','company_name','hourly','employer_provided']]\n",
    "df_model"
   ]
  },
  {
   "cell_type": "markdown",
   "id": "b8ff7fb6-00d4-42ba-9f56-6cae90335694",
   "metadata": {
    "tags": []
   },
   "source": [
    "## 1.Select a Performance Measure"
   ]
  },
  {
   "cell_type": "markdown",
   "id": "d5ea9e3a-ab1d-4742-b7ef-b1ebfa62fb90",
   "metadata": {
    "tags": []
   },
   "source": [
    "### Even though RMSE is the preferred performance measure for regression tasks\n",
    "### since we are going to treat all errors equally, we have a small training dataset and we may have many outliers\n",
    "### then we will go with MAE"
   ]
  },
  {
   "attachments": {
    "fe62211b-01e9-4813-a6eb-8e2325856bb9.png": {
     "image/png": "[encoded data removed]"
    }
   },
   "cell_type": "markdown",
   "id": "b92facfc-e1a0-41e2-9cef-6f9d6984e04d",
   "metadata": {},
   "source": [
    "![download.png](attachment:fe62211b-01e9-4813-a6eb-8e2325856bb9.png)"
   ]
  },
  {
   "cell_type": "code",
   "execution_count": 6,
   "id": "55132c6a-d60b-4468-a480-3d173151cacd",
   "metadata": {
    "tags": []
   },
   "outputs": [
    {
     "name": "stdout",
     "output_type": "stream",
     "text": [
      "<class 'pandas.core.frame.DataFrame'>\n",
      "RangeIndex: 1217 entries, 0 to 1216\n",
      "Data columns (total 18 columns):\n",
      " #   Column             Non-Null Count  Dtype  \n",
      "---  ------             --------------  -----  \n",
      " 0   avg_salary         1217 non-null   float64\n",
      " 1   Rating             1217 non-null   float64\n",
      " 2   Size               1217 non-null   object \n",
      " 3   Type of ownership  1217 non-null   object \n",
      " 4   Industry           1217 non-null   object \n",
      " 5   Sector             1217 non-null   object \n",
      " 6   Revenue            1217 non-null   object \n",
      " 7   job_title          1217 non-null   object \n",
      " 8   job_state          1217 non-null   object \n",
      " 9   age                1217 non-null   int64  \n",
      " 10  tools              1217 non-null   int64  \n",
      " 11  techs              1217 non-null   int64  \n",
      " 12  education          1217 non-null   int64  \n",
      " 13  seniority          1217 non-null   object \n",
      " 14  desc_len           1217 non-null   int64  \n",
      " 15  company_name       1217 non-null   object \n",
      " 16  hourly             1217 non-null   int64  \n",
      " 17  employer_provided  1217 non-null   int64  \n",
      "dtypes: float64(2), int64(7), object(9)\n",
      "memory usage: 171.3+ KB\n"
     ]
    }
   ],
   "source": [
    "df_model.info()"
   ]
  },
  {
   "cell_type": "code",
   "execution_count": 7,
   "id": "613bbe89-0630-47d7-ac84-1915f62a3f42",
   "metadata": {
    "tags": []
   },
   "outputs": [
    {
     "data": {
      "text/html": [
       "<div>\n",
       "<style scoped>\n",
       "    .dataframe tbody tr th:only-of-type {\n",
       "        vertical-align: middle;\n",
       "    }\n",
       "\n",
       "    .dataframe tbody tr th {\n",
       "        vertical-align: top;\n",
       "    }\n",
       "\n",
       "    .dataframe thead th {\n",
       "        text-align: right;\n",
       "    }\n",
       "</style>\n",
       "<table border=\"1\" class=\"dataframe\">\n",
       "  <thead>\n",
       "    <tr style=\"text-align: right;\">\n",
       "      <th></th>\n",
       "      <th>avg_salary</th>\n",
       "      <th>Rating</th>\n",
       "      <th>age</th>\n",
       "      <th>tools</th>\n",
       "      <th>techs</th>\n",
       "      <th>education</th>\n",
       "      <th>desc_len</th>\n",
       "      <th>hourly</th>\n",
       "      <th>employer_provided</th>\n",
       "    </tr>\n",
       "  </thead>\n",
       "  <tbody>\n",
       "    <tr>\n",
       "      <th>count</th>\n",
       "      <td>1217.000000</td>\n",
       "      <td>1217.000000</td>\n",
       "      <td>1217.000000</td>\n",
       "      <td>1217.000000</td>\n",
       "      <td>1217.000000</td>\n",
       "      <td>1217.000000</td>\n",
       "      <td>1217.000000</td>\n",
       "      <td>1217.000000</td>\n",
       "      <td>1217.000000</td>\n",
       "    </tr>\n",
       "    <tr>\n",
       "      <th>mean</th>\n",
       "      <td>118.848809</td>\n",
       "      <td>3.232703</td>\n",
       "      <td>29.178307</td>\n",
       "      <td>2.654067</td>\n",
       "      <td>2.760887</td>\n",
       "      <td>0.590797</td>\n",
       "      <td>3013.184881</td>\n",
       "      <td>0.166804</td>\n",
       "      <td>0.649137</td>\n",
       "    </tr>\n",
       "    <tr>\n",
       "      <th>std</th>\n",
       "      <td>44.431452</td>\n",
       "      <td>1.815979</td>\n",
       "      <td>44.575301</td>\n",
       "      <td>1.741842</td>\n",
       "      <td>1.820800</td>\n",
       "      <td>0.781265</td>\n",
       "      <td>2224.944589</td>\n",
       "      <td>0.372954</td>\n",
       "      <td>0.477436</td>\n",
       "    </tr>\n",
       "    <tr>\n",
       "      <th>min</th>\n",
       "      <td>6.000000</td>\n",
       "      <td>-1.000000</td>\n",
       "      <td>-1.000000</td>\n",
       "      <td>0.000000</td>\n",
       "      <td>0.000000</td>\n",
       "      <td>0.000000</td>\n",
       "      <td>64.000000</td>\n",
       "      <td>0.000000</td>\n",
       "      <td>0.000000</td>\n",
       "    </tr>\n",
       "    <tr>\n",
       "      <th>25%</th>\n",
       "      <td>88.000000</td>\n",
       "      <td>3.400000</td>\n",
       "      <td>-1.000000</td>\n",
       "      <td>1.000000</td>\n",
       "      <td>1.000000</td>\n",
       "      <td>0.000000</td>\n",
       "      <td>1025.000000</td>\n",
       "      <td>0.000000</td>\n",
       "      <td>0.000000</td>\n",
       "    </tr>\n",
       "    <tr>\n",
       "      <th>50%</th>\n",
       "      <td>110.000000</td>\n",
       "      <td>3.900000</td>\n",
       "      <td>14.000000</td>\n",
       "      <td>2.000000</td>\n",
       "      <td>2.000000</td>\n",
       "      <td>0.000000</td>\n",
       "      <td>2646.000000</td>\n",
       "      <td>0.000000</td>\n",
       "      <td>1.000000</td>\n",
       "    </tr>\n",
       "    <tr>\n",
       "      <th>75%</th>\n",
       "      <td>141.500000</td>\n",
       "      <td>4.200000</td>\n",
       "      <td>34.000000</td>\n",
       "      <td>4.000000</td>\n",
       "      <td>4.000000</td>\n",
       "      <td>1.000000</td>\n",
       "      <td>4552.000000</td>\n",
       "      <td>0.000000</td>\n",
       "      <td>1.000000</td>\n",
       "    </tr>\n",
       "    <tr>\n",
       "      <th>max</th>\n",
       "      <td>336.500000</td>\n",
       "      <td>5.000000</td>\n",
       "      <td>387.000000</td>\n",
       "      <td>10.000000</td>\n",
       "      <td>9.000000</td>\n",
       "      <td>4.000000</td>\n",
       "      <td>15935.000000</td>\n",
       "      <td>1.000000</td>\n",
       "      <td>1.000000</td>\n",
       "    </tr>\n",
       "  </tbody>\n",
       "</table>\n",
       "</div>"
      ],
      "text/plain": [
       "        avg_salary       Rating          age        tools        techs  \\\n",
       "count  1217.000000  1217.000000  1217.000000  1217.000000  1217.000000   \n",
       "mean    118.848809     3.232703    29.178307     2.654067     2.760887   \n",
       "std      44.431452     1.815979    44.575301     1.741842     1.820800   \n",
       "min       6.000000    -1.000000    -1.000000     0.000000     0.000000   \n",
       "25%      88.000000     3.400000    -1.000000     1.000000     1.000000   \n",
       "50%     110.000000     3.900000    14.000000     2.000000     2.000000   \n",
       "75%     141.500000     4.200000    34.000000     4.000000     4.000000   \n",
       "max     336.500000     5.000000   387.000000    10.000000     9.000000   \n",
       "\n",
       "         education      desc_len       hourly  employer_provided  \n",
       "count  1217.000000   1217.000000  1217.000000        1217.000000  \n",
       "mean      0.590797   3013.184881     0.166804           0.649137  \n",
       "std       0.781265   2224.944589     0.372954           0.477436  \n",
       "min       0.000000     64.000000     0.000000           0.000000  \n",
       "25%       0.000000   1025.000000     0.000000           0.000000  \n",
       "50%       0.000000   2646.000000     0.000000           1.000000  \n",
       "75%       1.000000   4552.000000     0.000000           1.000000  \n",
       "max       4.000000  15935.000000     1.000000           1.000000  "
      ]
     },
     "execution_count": 7,
     "metadata": {},
     "output_type": "execute_result"
    }
   ],
   "source": [
    "df_model.describe()"
   ]
  },
  {
   "cell_type": "code",
   "execution_count": 8,
   "id": "8f27d7d9-5da2-4db3-b75b-40dab00e31d1",
   "metadata": {
    "tags": []
   },
   "outputs": [
    {
     "data": {
      "image/png": "[encoded data removed]",
      "text/plain": [
       "<Figure size 2000x1500 with 9 Axes>"
      ]
     },
     "metadata": {},
     "output_type": "display_data"
    }
   ],
   "source": [
    "df_model.hist(bins=50,figsize=(20,15))\n",
    "plt.show()"
   ]
  },
  {
   "cell_type": "code",
   "execution_count": 9,
   "id": "43d0623d-276e-49d0-9cb1-d4dfbfd2441c",
   "metadata": {
    "tags": []
   },
   "outputs": [],
   "source": [
    "corr_matrix = df_model.corr(numeric_only=True)"
   ]
  },
  {
   "cell_type": "code",
   "execution_count": 10,
   "id": "8e737fcd-3aef-4576-9774-fd082e27c5fb",
   "metadata": {
    "tags": []
   },
   "outputs": [
    {
     "data": {
      "text/plain": [
       "avg_salary           1.000000\n",
       "employer_provided    0.274816\n",
       "techs                0.200833\n",
       "desc_len             0.174798\n",
       "tools                0.135537\n",
       "Rating               0.065093\n",
       "education            0.022855\n",
       "age                 -0.076513\n",
       "hourly              -0.170758\n",
       "Name: avg_salary, dtype: float64"
      ]
     },
     "execution_count": 10,
     "metadata": {},
     "output_type": "execute_result"
    }
   ],
   "source": [
    "corr_matrix['avg_salary'].sort_values(ascending=False).head(60)"
   ]
  },
  {
   "cell_type": "code",
   "execution_count": 11,
   "id": "3cf6cecb-5a9b-412a-a7f9-6a015fe06eab",
   "metadata": {
    "tags": []
   },
   "outputs": [
    {
     "name": "stdout",
     "output_type": "stream",
     "text": [
      "<class 'pandas.core.frame.DataFrame'>\n",
      "RangeIndex: 1217 entries, 0 to 1216\n",
      "Data columns (total 18 columns):\n",
      " #   Column             Non-Null Count  Dtype  \n",
      "---  ------             --------------  -----  \n",
      " 0   avg_salary         1217 non-null   float64\n",
      " 1   Rating             1217 non-null   float64\n",
      " 2   Size               1217 non-null   object \n",
      " 3   Type of ownership  1217 non-null   object \n",
      " 4   Industry           1217 non-null   object \n",
      " 5   Sector             1217 non-null   object \n",
      " 6   Revenue            1217 non-null   object \n",
      " 7   job_title          1217 non-null   object \n",
      " 8   job_state          1217 non-null   object \n",
      " 9   age                1217 non-null   int64  \n",
      " 10  tools              1217 non-null   int64  \n",
      " 11  techs              1217 non-null   int64  \n",
      " 12  education          1217 non-null   int64  \n",
      " 13  seniority          1217 non-null   object \n",
      " 14  desc_len           1217 non-null   int64  \n",
      " 15  company_name       1217 non-null   object \n",
      " 16  hourly             1217 non-null   int64  \n",
      " 17  employer_provided  1217 non-null   int64  \n",
      "dtypes: float64(2), int64(7), object(9)\n",
      "memory usage: 171.3+ KB\n"
     ]
    }
   ],
   "source": [
    "df_model.info()"
   ]
  },
  {
   "cell_type": "markdown",
   "id": "53c0425f-fc9b-4c3f-9a07-f359ca8b7f36",
   "metadata": {
    "tags": []
   },
   "source": [
    "## 2.Create a Test Set"
   ]
  },
  {
   "cell_type": "markdown",
   "id": "33e3a0ee-b0d9-4e73-bbdb-0b949f4fac10",
   "metadata": {
    "tags": []
   },
   "source": [
    "### we need to create a test set before we start to avoid data leakage or data snooping\n",
    "### since our dataset is very small about 1200 and to ensure the test set is representative of the whole dataset\n",
    "### to avoid sampling bias, we will use stratified sampling"
   ]
  },
  {
   "cell_type": "markdown",
   "id": "c5d308b5-16f4-4229-9693-686a2be2e60d",
   "metadata": {},
   "source": [
    "### we need to ensure that the test set is representative of the various categories of avg_salaries in the whole dataset\n",
    "### we will create a column of avg salaries categories ['<75k','<100k','<135k','<170k','<350k']"
   ]
  },
  {
   "cell_type": "code",
   "execution_count": 12,
   "id": "d2c4bdb8-3c9e-4a8b-8fec-7d3e9c271324",
   "metadata": {
    "tags": []
   },
   "outputs": [],
   "source": [
    "df_model =df_model.copy()\n",
    "df_model['avg_salaries_cat'] = pd.cut(df_model['avg_salary'], bins=[0.,75,100,135,170,np.inf],\n",
    "                                      labels=[0,1,2,3,4])"
   ]
  },
  {
   "cell_type": "code",
   "execution_count": 13,
   "id": "eef63ab6-88b0-4d29-8c36-b35590902ffc",
   "metadata": {
    "tags": []
   },
   "outputs": [
    {
     "data": {
      "text/plain": [
       "<Axes: >"
      ]
     },
     "execution_count": 13,
     "metadata": {},
     "output_type": "execute_result"
    },
    {
     "data": {
      "image/png": "[encoded data removed]",
      "text/plain": [
       "<Figure size 640x480 with 1 Axes>"
      ]
     },
     "metadata": {},
     "output_type": "display_data"
    }
   ],
   "source": [
    "df_model['avg_salaries_cat'].hist()\n",
    "#['<75k','<100k','<135k','<170k','<350k']"
   ]
  },
  {
   "cell_type": "code",
   "execution_count": 14,
   "id": "fb377eba-b599-49c3-b25c-bdd5f812e172",
   "metadata": {
    "tags": []
   },
   "outputs": [],
   "source": [
    "from sklearn.model_selection import StratifiedShuffleSplit\n",
    "split = StratifiedShuffleSplit(n_splits =1, test_size =0.2, random_state=42)\n",
    "for train_index, test_index in split.split(df_model,df_model['avg_salaries_cat']):\n",
    "    strat_train_set = df_model.loc[train_index]\n",
    "    strat_test_set = df_model.loc[test_index]"
   ]
  },
  {
   "cell_type": "code",
   "execution_count": 15,
   "id": "9094dd72-6ea8-417b-99d0-dda7d406086b",
   "metadata": {
    "tags": []
   },
   "outputs": [
    {
     "data": {
      "text/plain": [
       "2    0.315574\n",
       "1    0.262295\n",
       "3    0.155738\n",
       "0    0.135246\n",
       "4    0.131148\n",
       "Name: avg_salaries_cat, dtype: float64"
      ]
     },
     "execution_count": 15,
     "metadata": {},
     "output_type": "execute_result"
    }
   ],
   "source": [
    "strat_test_set['avg_salaries_cat'].value_counts() / len(strat_test_set)"
   ]
  },
  {
   "cell_type": "code",
   "execution_count": 16,
   "id": "23b91e2e-cc3c-4b6a-953e-bce83aed4c41",
   "metadata": {
    "tags": []
   },
   "outputs": [
    {
     "data": {
      "text/plain": [
       "2    0.315519\n",
       "1    0.261048\n",
       "3    0.153135\n",
       "0    0.136691\n",
       "4    0.133607\n",
       "Name: avg_salaries_cat, dtype: float64"
      ]
     },
     "execution_count": 16,
     "metadata": {},
     "output_type": "execute_result"
    }
   ],
   "source": [
    "strat_train_set['avg_salaries_cat'].value_counts() / len(strat_train_set)"
   ]
  },
  {
   "cell_type": "markdown",
   "id": "3846a5ee-c9d2-462d-b78c-280b5cc274d8",
   "metadata": {
    "tags": []
   },
   "source": [
    "### you will notice that every categories is represented equally in both the train set and test set"
   ]
  },
  {
   "cell_type": "code",
   "execution_count": 17,
   "id": "f2570810-1eb0-4114-874d-50f1f4d9f3db",
   "metadata": {
    "tags": []
   },
   "outputs": [],
   "source": [
    "# drop the avg_salaries_cat so the data is back to its original state\n",
    "for strat_set in (strat_train_set,strat_test_set,df_model):\n",
    "    strat_set.drop(\"avg_salaries_cat\",axis = 1, inplace=True)"
   ]
  },
  {
   "cell_type": "markdown",
   "id": "83e422e7-3500-4617-ac98-7a78db93d172",
   "metadata": {
    "tags": []
   },
   "source": [
    "### Get Numerical and Categorical Columns Names"
   ]
  },
  {
   "cell_type": "code",
   "execution_count": 18,
   "id": "76fc0233-ad23-4bac-9795-6655b44a1970",
   "metadata": {
    "tags": []
   },
   "outputs": [],
   "source": [
    "# split the training set into a numerical and categorical columns\n",
    "num_cols = strat_train_set[['Rating','age','tools','techs','education','desc_len','hourly','employer_provided']].reset_index(drop = True)\n",
    "cat_cols = strat_train_set.drop(columns=['avg_salary','Rating','age','tools','techs','education','desc_len',\n",
    "                                         'hourly','employer_provided'], axis =1).reset_index(drop=True)\n"
   ]
  },
  {
   "cell_type": "markdown",
   "id": "ed2c578a-0590-4dde-a353-3d93c6d2b1ae",
   "metadata": {
    "tags": []
   },
   "source": [
    "## 3.Feature Scaling"
   ]
  },
  {
   "cell_type": "code",
   "execution_count": null,
   "id": "498ec152-cd85-4a1e-b1b8-07962ee94f45",
   "metadata": {
    "tags": []
   },
   "outputs": [],
   "source": [
    "# using minmax scaler\n",
    "from sklearn.preprocessing import StandardScaler, MinMaxScaler\n",
    "min_max = MinMaxScaler()\n",
    "num_cols_min_max = min_max.fit_transform(num_cols_test)"
   ]
  },
  {
   "cell_type": "code",
   "execution_count": null,
   "id": "b3f90bd1-3fc3-4b00-8691-3685478f9338",
   "metadata": {
    "tags": []
   },
   "outputs": [],
   "source": [
    "num_cols_min_max_df= pd.DataFrame(num_cols_min_max,columns=num_cols_imputed.columns,index=num_cols_imputed.index)"
   ]
  },
  {
   "cell_type": "code",
   "execution_count": null,
   "id": "36d38f6b-df93-4a6b-9c9f-ca64d2f0bfc2",
   "metadata": {
    "tags": []
   },
   "outputs": [],
   "source": [
    "# using standard scaler\n",
    "from sklearn.preprocessing import StandardScaler\n",
    "std_scaler = StandardScaler()\n",
    "num_cols_std = std_scaler.fit_transform(num_cols_test)"
   ]
  },
  {
   "cell_type": "code",
   "execution_count": null,
   "id": "71fa6e01-c097-48e9-86ae-8d53a365a978",
   "metadata": {
    "tags": []
   },
   "outputs": [],
   "source": [
    "num_cols_std_df= pd.DataFrame(num_cols_std,columns=num_cols_imputed.columns,index=num_cols_imputed.index)"
   ]
  },
  {
   "cell_type": "markdown",
   "id": "7fd52266-a573-4cd4-abd9-004e52790bd8",
   "metadata": {
    "tags": []
   },
   "source": [
    "## 4. Transformation Pipelines"
   ]
  },
  {
   "cell_type": "code",
   "execution_count": 19,
   "id": "17c20a94-d742-49f0-8c1c-5990442fd45f",
   "metadata": {
    "tags": []
   },
   "outputs": [],
   "source": [
    "# I had to do onehotencoding before splitting the data, because we have too many categories, it will raise error\n",
    "# when transforming the test set\n",
    "df_model_null = df_model.copy()\n",
    "df_model_null.replace(to_replace={-1: np.NAN,'-1':np.NAN},inplace=True) \n",
    "df_dummy_null = pd.get_dummies(df_model_null,dummy_na=True)"
   ]
  },
  {
   "cell_type": "code",
   "execution_count": 20,
   "id": "c081a7ce-6d22-4776-bbfd-83c012063e96",
   "metadata": {
    "tags": []
   },
   "outputs": [],
   "source": [
    "df_dummy_null['avg_salaries_cat'] = pd.cut(df_dummy_null['avg_salary'], bins=[0.,75,100,135,170,np.inf],\n",
    "                                      labels=[0,1,2,3,4])\n",
    "split = StratifiedShuffleSplit(n_splits =1, test_size =0.2, random_state=42)\n",
    "for train_index, test_index in split.split(df_dummy_null,df_dummy_null['avg_salaries_cat']):\n",
    "    strat_train_set_dum_null = df_dummy_null.loc[train_index]\n",
    "    strat_test_set_dum_null = df_dummy_null.loc[test_index]"
   ]
  },
  {
   "cell_type": "code",
   "execution_count": 21,
   "id": "7aeb6127-2af4-4213-a8a4-a88718b48eaa",
   "metadata": {
    "tags": []
   },
   "outputs": [],
   "source": [
    "# drop the avg_salaries_cat so the data is back to its original state\n",
    "for strat_set in (strat_train_set_dum_null,strat_test_set_dum_null,df_dummy_null):\n",
    "    strat_set.drop(\"avg_salaries_cat\",axis = 1, inplace=True)"
   ]
  },
  {
   "cell_type": "code",
   "execution_count": 22,
   "id": "c55bce19-2802-4111-b05d-7052e5c2ea1a",
   "metadata": {
    "tags": []
   },
   "outputs": [],
   "source": [
    "x_train_dum_null = strat_train_set_dum_null.drop(\"avg_salary\",axis=1)\n",
    "y_train_dum_null = strat_train_set_dum_null['avg_salary'].copy()\n",
    "\n",
    "num_attribs_dum_null = list(num_cols.columns)\n",
    "cat_attribs_dum_null = list(x_train_dum_null.iloc[:,8:])"
   ]
  },
  {
   "cell_type": "code",
   "execution_count": 23,
   "id": "2b46b220-b7b4-4b8f-9ff4-3758295f4893",
   "metadata": {
    "tags": []
   },
   "outputs": [],
   "source": [
    "from sklearn.pipeline import Pipeline\n",
    "from sklearn.compose import ColumnTransformer\n",
    "from sklearn.preprocessing import OneHotEncoder, MinMaxScaler, StandardScaler, PolynomialFeatures\n",
    "from sklearn.impute import SimpleImputer, KNNImputer\n",
    "\n",
    "# for lasso, Forest and xgboost\n",
    "reg_pipeline = Pipeline([\n",
    "    ('imputer',SimpleImputer(strategy=\"median\")),\n",
    "    ('std_scaler', StandardScaler()),\n",
    "])\n",
    "\n",
    "\n",
    "# for svm_reg\n",
    "svm_pipeline = Pipeline([\n",
    "    ('imputer',SimpleImputer(strategy=\"median\")),\n",
    "    ('min_max_scaler', MinMaxScaler()),\n",
    "])\n",
    "\n",
    "\n",
    "# from sklearn.impute import KNNImputer\n",
    "# imputer = KNNImputer(n_neighbors = 3)\n",
    "\n",
    "# full_pipeline = ColumnTransformer([\n",
    "#     (\"num\", reg_pipeline , num_attribs),\n",
    "#     (\"cat\", OneHotEncoder(handle_unknown = \"ignore\"), cat_attribs),\n",
    "# ])\n",
    "\n",
    "x_train_prepared = reg_pipeline.fit_transform(x_train_dum_null)\n",
    "x_train_svm_prepared = svm_pipeline.fit_transform(x_train_dum_null)"
   ]
  },
  {
   "cell_type": "markdown",
   "id": "109e282b-878a-4308-9c63-5724ae1cad47",
   "metadata": {
    "tags": []
   },
   "source": [
    "## 6. Select and Train a model"
   ]
  },
  {
   "cell_type": "code",
   "execution_count": 24,
   "id": "a54b2d0a-15dd-4d6b-9088-a45a01697ac3",
   "metadata": {
    "tags": []
   },
   "outputs": [
    {
     "data": {
      "text/plain": [
       "0.020554984583761562"
      ]
     },
     "execution_count": 24,
     "metadata": {},
     "output_type": "execute_result"
    }
   ],
   "source": [
    "from sklearn.metrics import mean_absolute_percentage_error, mean_absolute_error\n",
    "from sklearn.tree import DecisionTreeRegressor\n",
    "\n",
    "tree_reg = DecisionTreeRegressor()\n",
    "tree_reg.fit(x_train_prepared, y_train_dum_null)\n",
    "tree_predictions = tree_reg.predict(x_train_prepared)\n",
    "tree_mae = mean_absolute_error(y_train_dum_null,tree_predictions)\n",
    "tree_mae"
   ]
  },
  {
   "cell_type": "code",
   "execution_count": 25,
   "id": "3125e41a-65e3-4267-815b-cd2ce276fa87",
   "metadata": {
    "tags": []
   },
   "outputs": [
    {
     "data": {
      "text/plain": [
       "5.436525711622593"
      ]
     },
     "execution_count": 25,
     "metadata": {},
     "output_type": "execute_result"
    }
   ],
   "source": [
    "from sklearn.linear_model import  Lasso\n",
    "\n",
    "lasso_reg = Lasso(alpha= 0.1,max_iter =2000)\n",
    "lasso_reg.fit(x_train_prepared, y_train_dum_null)\n",
    "lasso_predictions = lasso_reg.predict(x_train_prepared)\n",
    "lasso_mae = mean_absolute_error(y_train_dum_null,lasso_predictions)\n",
    "lasso_mae"
   ]
  },
  {
   "cell_type": "code",
   "execution_count": 26,
   "id": "977418c3-7027-44b2-834c-00990f754d6c",
   "metadata": {
    "tags": []
   },
   "outputs": [
    {
     "data": {
      "text/plain": [
       "1.8105531175684328"
      ]
     },
     "execution_count": 26,
     "metadata": {},
     "output_type": "execute_result"
    }
   ],
   "source": [
    "from sklearn.ensemble import RandomForestRegressor\n",
    "\n",
    "forest_reg = RandomForestRegressor(n_estimators= 800,min_samples_split= 2,min_samples_leaf= 1,max_features= 50,\n",
    "                     max_depth= 30,bootstrap= False)\n",
    "forest_reg.fit(x_train_prepared, y_train_dum_null)\n",
    "forest_predictions = forest_reg.predict(x_train_prepared)\n",
    "forest_mae = mean_absolute_error(y_train_dum_null,forest_predictions)\n",
    "forest_mae"
   ]
  },
  {
   "cell_type": "code",
   "execution_count": 27,
   "id": "8e61db76-b69a-4982-a80e-3b90b9c53071",
   "metadata": {
    "tags": []
   },
   "outputs": [
    {
     "data": {
      "text/plain": [
       "3.276556560660099"
      ]
     },
     "execution_count": 27,
     "metadata": {},
     "output_type": "execute_result"
    }
   ],
   "source": [
    "from sklearn.svm import SVR\n",
    "\n",
    "svm_reg = SVR(kernel= 'rbf', C= 120, gamma=0.1)\n",
    "svm_reg.fit(x_train_svm_prepared, y_train_dum_null)\n",
    "svm_predictions = svm_reg.predict(x_train_svm_prepared)\n",
    "svm_mae = mean_absolute_error(y_train_dum_null,svm_predictions)\n",
    "svm_mae"
   ]
  },
  {
   "cell_type": "code",
   "execution_count": 38,
   "id": "c54f1b33-767f-4f16-8bc8-9c5c8a890d50",
   "metadata": {
    "tags": []
   },
   "outputs": [
    {
     "name": "stdout",
     "output_type": "stream",
     "text": [
      "Decision_Tree scores:  [-22.9601227  -26.90740741 -24.17592593 -25.6882716  -26.86111111\n",
      " -24.75      ] mean -25.223806458128205\n"
     ]
    }
   ],
   "source": [
    "scores = cross_val_score(tree_reg, x_train_prepared, y_train_dum_null, scoring='neg_mean_absolute_error', cv = 6)\n",
    "print('Decision_Tree scores: ',scores, 'mean', np.mean(scores))"
   ]
  },
  {
   "cell_type": "code",
   "execution_count": 39,
   "id": "1055df4e-c888-4c27-8408-5b27825dde18",
   "metadata": {
    "tags": []
   },
   "outputs": [
    {
     "name": "stdout",
     "output_type": "stream",
     "text": [
      "Lasso_regression scores:  [-21.96016882 -18.07723081 -20.49183826 -17.47883715 -20.99048647\n",
      " -19.63878769] mean -19.77289153421683\n"
     ]
    }
   ],
   "source": [
    "scores = cross_val_score(lasso_reg, x_train_prepared, y_train_dum_null, scoring='neg_mean_absolute_error', cv = 6)\n",
    "print('Lasso_regression scores: ',scores, 'mean', np.mean(scores))"
   ]
  },
  {
   "cell_type": "code",
   "execution_count": 40,
   "id": "69e8d2ef-7de2-4217-b5c8-10a17f29be43",
   "metadata": {
    "tags": []
   },
   "outputs": [
    {
     "name": "stdout",
     "output_type": "stream",
     "text": [
      "SVM_reg scores:  [-19.45949034 -17.92392442 -19.11480251 -16.4948488  -20.44002751\n",
      " -17.95271752] mean -18.564301850477257\n"
     ]
    }
   ],
   "source": [
    "scores = cross_val_score(svm_reg, x_train_svm_prepared, y_train_dum_null, scoring='neg_mean_absolute_error', cv = 6)\n",
    "print('SVM_reg scores: ',scores, 'mean', np.mean(scores))"
   ]
  },
  {
   "cell_type": "code",
   "execution_count": 41,
   "id": "9a68ae89-c97f-44d8-913e-187d7e117e84",
   "metadata": {
    "tags": []
   },
   "outputs": [
    {
     "name": "stdout",
     "output_type": "stream",
     "text": [
      "Random_Forest scores:  [-20.49666038 -18.96813669 -20.45374961 -18.12591912 -21.40193284\n",
      " -19.22137501] mean -19.77796227639838\n"
     ]
    }
   ],
   "source": [
    "scores = cross_val_score(forest_reg, x_train_prepared, y_train_dum_null, scoring='neg_mean_absolute_error', cv = 6)\n",
    "print('Random_Forest scores: ',scores, 'mean', np.mean(scores))"
   ]
  },
  {
   "cell_type": "markdown",
   "id": "886420e7-e4c5-4ede-8f15-2548a9aceadc",
   "metadata": {
    "jp-MarkdownHeadingCollapsed": true,
    "tags": []
   },
   "source": [
    "## 6. Fine-Tuning"
   ]
  },
  {
   "cell_type": "code",
   "execution_count": 185,
   "id": "16a98969-4b5f-4b63-b3e8-f17a3c1d3e8d",
   "metadata": {
    "collapsed": true,
    "jupyter": {
     "outputs_hidden": true
    },
    "tags": []
   },
   "outputs": [
    {
     "name": "stdout",
     "output_type": "stream",
     "text": [
      "Fitting 6 folds for each of 16 candidates, totalling 96 fits\n",
      "[CV] END ..................max_features=15, n_estimators=100; total time=   0.9s\n",
      "[CV] END ..................max_features=15, n_estimators=100; total time=   0.9s\n",
      "[CV] END ..................max_features=15, n_estimators=100; total time=   1.0s\n",
      "[CV] END ..................max_features=15, n_estimators=100; total time=   0.9s\n",
      "[CV] END ..................max_features=15, n_estimators=100; total time=   0.9s\n",
      "[CV] END ..................max_features=15, n_estimators=100; total time=   0.9s\n",
      "[CV] END ..................max_features=15, n_estimators=110; total time=   1.0s\n",
      "[CV] END ..................max_features=15, n_estimators=110; total time=   1.0s\n",
      "[CV] END ..................max_features=15, n_estimators=110; total time=   1.0s\n",
      "[CV] END ..................max_features=15, n_estimators=110; total time=   1.0s\n",
      "[CV] END ..................max_features=15, n_estimators=110; total time=   1.0s\n",
      "[CV] END ..................max_features=15, n_estimators=110; total time=   1.0s\n",
      "[CV] END ..................max_features=15, n_estimators=120; total time=   1.1s\n",
      "[CV] END ..................max_features=15, n_estimators=120; total time=   1.2s\n",
      "[CV] END ..................max_features=15, n_estimators=120; total time=   1.2s\n",
      "[CV] END ..................max_features=15, n_estimators=120; total time=   1.2s\n",
      "[CV] END ..................max_features=15, n_estimators=120; total time=   1.1s\n",
      "[CV] END ..................max_features=15, n_estimators=120; total time=   1.2s\n",
      "[CV] END ..................max_features=15, n_estimators=130; total time=   1.2s\n",
      "[CV] END ..................max_features=15, n_estimators=130; total time=   1.2s\n",
      "[CV] END ..................max_features=15, n_estimators=130; total time=   1.3s\n",
      "[CV] END ..................max_features=15, n_estimators=130; total time=   1.2s\n",
      "[CV] END ..................max_features=15, n_estimators=130; total time=   1.2s\n",
      "[CV] END ..................max_features=15, n_estimators=130; total time=   1.2s\n",
      "[CV] END ..................max_features=17, n_estimators=100; total time=   0.9s\n",
      "[CV] END ..................max_features=17, n_estimators=100; total time=   1.0s\n",
      "[CV] END ..................max_features=17, n_estimators=100; total time=   1.0s\n",
      "[CV] END ..................max_features=17, n_estimators=100; total time=   1.0s\n",
      "[CV] END ..................max_features=17, n_estimators=100; total time=   0.9s\n",
      "[CV] END ..................max_features=17, n_estimators=100; total time=   0.9s\n",
      "[CV] END ..................max_features=17, n_estimators=110; total time=   1.0s\n",
      "[CV] END ..................max_features=17, n_estimators=110; total time=   1.0s\n",
      "[CV] END ..................max_features=17, n_estimators=110; total time=   1.1s\n",
      "[CV] END ..................max_features=17, n_estimators=110; total time=   1.1s\n",
      "[CV] END ..................max_features=17, n_estimators=110; total time=   1.1s\n",
      "[CV] END ..................max_features=17, n_estimators=110; total time=   1.0s\n",
      "[CV] END ..................max_features=17, n_estimators=120; total time=   1.1s\n",
      "[CV] END ..................max_features=17, n_estimators=120; total time=   1.1s\n",
      "[CV] END ..................max_features=17, n_estimators=120; total time=   1.2s\n",
      "[CV] END ..................max_features=17, n_estimators=120; total time=   1.2s\n",
      "[CV] END ..................max_features=17, n_estimators=120; total time=   1.1s\n",
      "[CV] END ..................max_features=17, n_estimators=120; total time=   1.2s\n",
      "[CV] END ..................max_features=17, n_estimators=130; total time=   1.3s\n",
      "[CV] END ..................max_features=17, n_estimators=130; total time=   1.3s\n",
      "[CV] END ..................max_features=17, n_estimators=130; total time=   1.2s\n",
      "[CV] END ..................max_features=17, n_estimators=130; total time=   1.2s\n",
      "[CV] END ..................max_features=17, n_estimators=130; total time=   1.2s\n",
      "[CV] END ..................max_features=17, n_estimators=130; total time=   1.2s\n",
      "[CV] END ..................max_features=18, n_estimators=100; total time=   0.9s\n",
      "[CV] END ..................max_features=18, n_estimators=100; total time=   1.0s\n",
      "[CV] END ..................max_features=18, n_estimators=100; total time=   1.1s\n",
      "[CV] END ..................max_features=18, n_estimators=100; total time=   1.1s\n",
      "[CV] END ..................max_features=18, n_estimators=100; total time=   0.9s\n",
      "[CV] END ..................max_features=18, n_estimators=100; total time=   0.9s\n",
      "[CV] END ..................max_features=18, n_estimators=110; total time=   1.0s\n",
      "[CV] END ..................max_features=18, n_estimators=110; total time=   1.0s\n",
      "[CV] END ..................max_features=18, n_estimators=110; total time=   1.0s\n",
      "[CV] END ..................max_features=18, n_estimators=110; total time=   1.0s\n",
      "[CV] END ..................max_features=18, n_estimators=110; total time=   1.1s\n",
      "[CV] END ..................max_features=18, n_estimators=110; total time=   1.0s\n",
      "[CV] END ..................max_features=18, n_estimators=120; total time=   1.1s\n",
      "[CV] END ..................max_features=18, n_estimators=120; total time=   1.1s\n",
      "[CV] END ..................max_features=18, n_estimators=120; total time=   1.1s\n",
      "[CV] END ..................max_features=18, n_estimators=120; total time=   1.1s\n",
      "[CV] END ..................max_features=18, n_estimators=120; total time=   1.2s\n",
      "[CV] END ..................max_features=18, n_estimators=120; total time=   1.1s\n",
      "[CV] END ..................max_features=18, n_estimators=130; total time=   1.3s\n",
      "[CV] END ..................max_features=18, n_estimators=130; total time=   1.3s\n",
      "[CV] END ..................max_features=18, n_estimators=130; total time=   1.3s\n",
      "[CV] END ..................max_features=18, n_estimators=130; total time=   1.2s\n",
      "[CV] END ..................max_features=18, n_estimators=130; total time=   1.3s\n",
      "[CV] END ..................max_features=18, n_estimators=130; total time=   1.3s\n",
      "[CV] END ..................max_features=19, n_estimators=100; total time=   1.0s\n",
      "[CV] END ..................max_features=19, n_estimators=100; total time=   1.0s\n",
      "[CV] END ..................max_features=19, n_estimators=100; total time=   0.9s\n",
      "[CV] END ..................max_features=19, n_estimators=100; total time=   1.0s\n",
      "[CV] END ..................max_features=19, n_estimators=100; total time=   0.9s\n",
      "[CV] END ..................max_features=19, n_estimators=100; total time=   0.9s\n",
      "[CV] END ..................max_features=19, n_estimators=110; total time=   1.0s\n",
      "[CV] END ..................max_features=19, n_estimators=110; total time=   1.0s\n",
      "[CV] END ..................max_features=19, n_estimators=110; total time=   1.0s\n",
      "[CV] END ..................max_features=19, n_estimators=110; total time=   1.0s\n",
      "[CV] END ..................max_features=19, n_estimators=110; total time=   1.0s\n",
      "[CV] END ..................max_features=19, n_estimators=110; total time=   1.0s\n",
      "[CV] END ..................max_features=19, n_estimators=120; total time=   1.1s\n",
      "[CV] END ..................max_features=19, n_estimators=120; total time=   1.1s\n",
      "[CV] END ..................max_features=19, n_estimators=120; total time=   1.1s\n",
      "[CV] END ..................max_features=19, n_estimators=120; total time=   1.1s\n",
      "[CV] END ..................max_features=19, n_estimators=120; total time=   1.2s\n",
      "[CV] END ..................max_features=19, n_estimators=120; total time=   1.1s\n",
      "[CV] END ..................max_features=19, n_estimators=130; total time=   1.2s\n",
      "[CV] END ..................max_features=19, n_estimators=130; total time=   1.2s\n",
      "[CV] END ..................max_features=19, n_estimators=130; total time=   1.4s\n",
      "[CV] END ..................max_features=19, n_estimators=130; total time=   1.2s\n",
      "[CV] END ..................max_features=19, n_estimators=130; total time=   1.2s\n",
      "[CV] END ..................max_features=19, n_estimators=130; total time=   1.2s\n"
     ]
    },
    {
     "data": {
      "text/html": [
       "<style>#sk-container-id-6 {color: black;}#sk-container-id-6 pre{padding: 0;}#sk-container-id-6 div.sk-toggleable {background-color: white;}#sk-container-id-6 label.sk-toggleable__label {cursor: pointer;display: block;width: 100%;margin-bottom: 0;padding: 0.3em;box-sizing: border-box;text-align: center;}#sk-container-id-6 label.sk-toggleable__label-arrow:before {content: \"▸\";float: left;margin-right: 0.25em;color: #696969;}#sk-container-id-6 label.sk-toggleable__label-arrow:hover:before {color: black;}#sk-container-id-6 div.sk-estimator:hover label.sk-toggleable__label-arrow:before {color: black;}#sk-container-id-6 div.sk-toggleable__content {max-height: 0;max-width: 0;overflow: hidden;text-align: left;background-color: #f0f8ff;}#sk-container-id-6 div.sk-toggleable__content pre {margin: 0.2em;color: black;border-radius: 0.25em;background-color: #f0f8ff;}#sk-container-id-6 input.sk-toggleable__control:checked~div.sk-toggleable__content {max-height: 200px;max-width: 100%;overflow: auto;}#sk-container-id-6 input.sk-toggleable__control:checked~label.sk-toggleable__label-arrow:before {content: \"▾\";}#sk-container-id-6 div.sk-estimator input.sk-toggleable__control:checked~label.sk-toggleable__label {background-color: #d4ebff;}#sk-container-id-6 div.sk-label input.sk-toggleable__control:checked~label.sk-toggleable__label {background-color: #d4ebff;}#sk-container-id-6 input.sk-hidden--visually {border: 0;clip: rect(1px 1px 1px 1px);clip: rect(1px, 1px, 1px, 1px);height: 1px;margin: -1px;overflow: hidden;padding: 0;position: absolute;width: 1px;}#sk-container-id-6 div.sk-estimator {font-family: monospace;background-color: #f0f8ff;border: 1px dotted black;border-radius: 0.25em;box-sizing: border-box;margin-bottom: 0.5em;}#sk-container-id-6 div.sk-estimator:hover {background-color: #d4ebff;}#sk-container-id-6 div.sk-parallel-item::after {content: \"\";width: 100%;border-bottom: 1px solid gray;flex-grow: 1;}#sk-container-id-6 div.sk-label:hover label.sk-toggleable__label {background-color: #d4ebff;}#sk-container-id-6 div.sk-serial::before {content: \"\";position: absolute;border-left: 1px solid gray;box-sizing: border-box;top: 0;bottom: 0;left: 50%;z-index: 0;}#sk-container-id-6 div.sk-serial {display: flex;flex-direction: column;align-items: center;background-color: white;padding-right: 0.2em;padding-left: 0.2em;position: relative;}#sk-container-id-6 div.sk-item {position: relative;z-index: 1;}#sk-container-id-6 div.sk-parallel {display: flex;align-items: stretch;justify-content: center;background-color: white;position: relative;}#sk-container-id-6 div.sk-item::before, #sk-container-id-6 div.sk-parallel-item::before {content: \"\";position: absolute;border-left: 1px solid gray;box-sizing: border-box;top: 0;bottom: 0;left: 50%;z-index: -1;}#sk-container-id-6 div.sk-parallel-item {display: flex;flex-direction: column;z-index: 1;position: relative;background-color: white;}#sk-container-id-6 div.sk-parallel-item:first-child::after {align-self: flex-end;width: 50%;}#sk-container-id-6 div.sk-parallel-item:last-child::after {align-self: flex-start;width: 50%;}#sk-container-id-6 div.sk-parallel-item:only-child::after {width: 0;}#sk-container-id-6 div.sk-dashed-wrapped {border: 1px dashed gray;margin: 0 0.4em 0.5em 0.4em;box-sizing: border-box;padding-bottom: 0.4em;background-color: white;}#sk-container-id-6 div.sk-label label {font-family: monospace;font-weight: bold;display: inline-block;line-height: 1.2em;}#sk-container-id-6 div.sk-label-container {text-align: center;}#sk-container-id-6 div.sk-container {/* jupyter's `normalize.less` sets `[hidden] { display: none; }` but bootstrap.min.css set `[hidden] { display: none !important; }` so we also need the `!important` here to be able to override the default hidden behavior on the sphinx rendered scikit-learn.org. See: https://github.com/scikit-learn/scikit-learn/issues/21755 */display: inline-block !important;position: relative;}#sk-container-id-6 div.sk-text-repr-fallback {display: none;}</style><div id=\"sk-container-id-6\" class=\"sk-top-container\"><div class=\"sk-text-repr-fallback\"><pre>GridSearchCV(cv=6, estimator=RandomForestRegressor(),\n",
       "             param_grid=[{&#x27;max_features&#x27;: [15, 17, 18, 19],\n",
       "                          &#x27;n_estimators&#x27;: [100, 110, 120, 130]}],\n",
       "             return_train_score=True, scoring=&#x27;neg_mean_absolute_error&#x27;,\n",
       "             verbose=2)</pre><b>In a Jupyter environment, please rerun this cell to show the HTML representation or trust the notebook. <br />On GitHub, the HTML representation is unable to render, please try loading this page with nbviewer.org.</b></div><div class=\"sk-container\" hidden><div class=\"sk-item sk-dashed-wrapped\"><div class=\"sk-label-container\"><div class=\"sk-label sk-toggleable\"><input class=\"sk-toggleable__control sk-hidden--visually\" id=\"sk-estimator-id-16\" type=\"checkbox\" ><label for=\"sk-estimator-id-16\" class=\"sk-toggleable__label sk-toggleable__label-arrow\">GridSearchCV</label><div class=\"sk-toggleable__content\"><pre>GridSearchCV(cv=6, estimator=RandomForestRegressor(),\n",
       "             param_grid=[{&#x27;max_features&#x27;: [15, 17, 18, 19],\n",
       "                          &#x27;n_estimators&#x27;: [100, 110, 120, 130]}],\n",
       "             return_train_score=True, scoring=&#x27;neg_mean_absolute_error&#x27;,\n",
       "             verbose=2)</pre></div></div></div><div class=\"sk-parallel\"><div class=\"sk-parallel-item\"><div class=\"sk-item\"><div class=\"sk-label-container\"><div class=\"sk-label sk-toggleable\"><input class=\"sk-toggleable__control sk-hidden--visually\" id=\"sk-estimator-id-17\" type=\"checkbox\" ><label for=\"sk-estimator-id-17\" class=\"sk-toggleable__label sk-toggleable__label-arrow\">estimator: RandomForestRegressor</label><div class=\"sk-toggleable__content\"><pre>RandomForestRegressor()</pre></div></div></div><div class=\"sk-serial\"><div class=\"sk-item\"><div class=\"sk-estimator sk-toggleable\"><input class=\"sk-toggleable__control sk-hidden--visually\" id=\"sk-estimator-id-18\" type=\"checkbox\" ><label for=\"sk-estimator-id-18\" class=\"sk-toggleable__label sk-toggleable__label-arrow\">RandomForestRegressor</label><div class=\"sk-toggleable__content\"><pre>RandomForestRegressor()</pre></div></div></div></div></div></div></div></div></div></div>"
      ],
      "text/plain": [
       "GridSearchCV(cv=6, estimator=RandomForestRegressor(),\n",
       "             param_grid=[{'max_features': [15, 17, 18, 19],\n",
       "                          'n_estimators': [100, 110, 120, 130]}],\n",
       "             return_train_score=True, scoring='neg_mean_absolute_error',\n",
       "             verbose=2)"
      ]
     },
     "execution_count": 185,
     "metadata": {},
     "output_type": "execute_result"
    }
   ],
   "source": [
    "# Random Forest finetuning\n",
    "\n",
    "forest_param_grid = [\n",
    "    {'n_estimators':[100,110,120,130], 'max_features': [15,17,18,19]}, #2,4,6,8,10,13,14, 3,10,30,50,70,80,90,\n",
    "    #{'bootstrap': [False], 'n_estimators': [3,10], 'max_features': [2,3,4]},\n",
    "]\n",
    "\n",
    "forest_grid_search = GridSearchCV(forest_reg, forest_param_grid, cv= 6, scoring='neg_mean_absolute_error', return_train_score=True,verbose=2)\n",
    "\n",
    "forest_grid_search.fit(x_train_svm_prepared, y_train_dum_null)"
   ]
  },
  {
   "cell_type": "code",
   "execution_count": 186,
   "id": "e0e812e0-ae3b-49d9-bcd0-f1b38bcf4a4c",
   "metadata": {
    "tags": []
   },
   "outputs": [
    {
     "data": {
      "text/plain": [
       "{'max_features': 19, 'n_estimators': 130}"
      ]
     },
     "execution_count": 186,
     "metadata": {},
     "output_type": "execute_result"
    }
   ],
   "source": [
    "forest_grid_search.best_params_   #15 ,100 , 17, 110"
   ]
  },
  {
   "cell_type": "code",
   "execution_count": 196,
   "id": "03cd9fc2-cf2f-49b5-9b89-784c79840dbb",
   "metadata": {
    "tags": []
   },
   "outputs": [
    {
     "name": "stdout",
     "output_type": "stream",
     "text": [
      "{'bootstrap': [True, False],\n",
      " 'max_depth': [10, 20, 30, 40, 50, 60, 70, 80, 90, 100, 110, None],\n",
      " 'max_features': [4, 9, 14, 19, 24, 29, 34, 39, 44, 50],\n",
      " 'min_samples_leaf': [1, 2, 4],\n",
      " 'min_samples_split': [2, 5, 10],\n",
      " 'n_estimators': [100, 200, 300, 400, 500, 600, 700, 800, 900, 1000]}\n"
     ]
    }
   ],
   "source": [
    "from sklearn.model_selection import RandomizedSearchCV\n",
    "from pprint import pprint \n",
    "# Number of trees in random forest\n",
    "n_estimators = [int(x) for x in np.linspace(start = 100, stop = 1000, num = 10)]\n",
    "# Number of features to consider at every split\n",
    "max_features = [int(x) for x in np.linspace(start = 4, stop = 50, num = 10)]\n",
    "# Maximum number of levels in tree\n",
    "max_depth = [int(x) for x in np.linspace(10, 110, num = 11)]\n",
    "max_depth.append(None)\n",
    "# Minimum number of samples required to split a node\n",
    "min_samples_split = [2, 5, 10]\n",
    "# Minimum number of samples required at each leaf node\n",
    "min_samples_leaf = [1, 2, 4]\n",
    "# Method of selecting samples for training each tree\n",
    "bootstrap = [True, False]\n",
    "# Create the random grid\n",
    "random_grid = {'n_estimators': n_estimators,\n",
    "               'max_features': max_features,\n",
    "               'max_depth': max_depth,\n",
    "               'min_samples_split': min_samples_split,\n",
    "               'min_samples_leaf': min_samples_leaf,\n",
    "               'bootstrap': bootstrap}\n",
    "pprint(random_grid)"
   ]
  },
  {
   "cell_type": "code",
   "execution_count": 199,
   "id": "10828de1-ad11-421c-9e39-355395e1da58",
   "metadata": {
    "tags": []
   },
   "outputs": [
    {
     "name": "stdout",
     "output_type": "stream",
     "text": [
      "Fitting 3 folds for each of 100 candidates, totalling 300 fits\n"
     ]
    },
    {
     "data": {
      "text/html": [
       "<style>#sk-container-id-9 {color: black;}#sk-container-id-9 pre{padding: 0;}#sk-container-id-9 div.sk-toggleable {background-color: white;}#sk-container-id-9 label.sk-toggleable__label {cursor: pointer;display: block;width: 100%;margin-bottom: 0;padding: 0.3em;box-sizing: border-box;text-align: center;}#sk-container-id-9 label.sk-toggleable__label-arrow:before {content: \"▸\";float: left;margin-right: 0.25em;color: #696969;}#sk-container-id-9 label.sk-toggleable__label-arrow:hover:before {color: black;}#sk-container-id-9 div.sk-estimator:hover label.sk-toggleable__label-arrow:before {color: black;}#sk-container-id-9 div.sk-toggleable__content {max-height: 0;max-width: 0;overflow: hidden;text-align: left;background-color: #f0f8ff;}#sk-container-id-9 div.sk-toggleable__content pre {margin: 0.2em;color: black;border-radius: 0.25em;background-color: #f0f8ff;}#sk-container-id-9 input.sk-toggleable__control:checked~div.sk-toggleable__content {max-height: 200px;max-width: 100%;overflow: auto;}#sk-container-id-9 input.sk-toggleable__control:checked~label.sk-toggleable__label-arrow:before {content: \"▾\";}#sk-container-id-9 div.sk-estimator input.sk-toggleable__control:checked~label.sk-toggleable__label {background-color: #d4ebff;}#sk-container-id-9 div.sk-label input.sk-toggleable__control:checked~label.sk-toggleable__label {background-color: #d4ebff;}#sk-container-id-9 input.sk-hidden--visually {border: 0;clip: rect(1px 1px 1px 1px);clip: rect(1px, 1px, 1px, 1px);height: 1px;margin: -1px;overflow: hidden;padding: 0;position: absolute;width: 1px;}#sk-container-id-9 div.sk-estimator {font-family: monospace;background-color: #f0f8ff;border: 1px dotted black;border-radius: 0.25em;box-sizing: border-box;margin-bottom: 0.5em;}#sk-container-id-9 div.sk-estimator:hover {background-color: #d4ebff;}#sk-container-id-9 div.sk-parallel-item::after {content: \"\";width: 100%;border-bottom: 1px solid gray;flex-grow: 1;}#sk-container-id-9 div.sk-label:hover label.sk-toggleable__label {background-color: #d4ebff;}#sk-container-id-9 div.sk-serial::before {content: \"\";position: absolute;border-left: 1px solid gray;box-sizing: border-box;top: 0;bottom: 0;left: 50%;z-index: 0;}#sk-container-id-9 div.sk-serial {display: flex;flex-direction: column;align-items: center;background-color: white;padding-right: 0.2em;padding-left: 0.2em;position: relative;}#sk-container-id-9 div.sk-item {position: relative;z-index: 1;}#sk-container-id-9 div.sk-parallel {display: flex;align-items: stretch;justify-content: center;background-color: white;position: relative;}#sk-container-id-9 div.sk-item::before, #sk-container-id-9 div.sk-parallel-item::before {content: \"\";position: absolute;border-left: 1px solid gray;box-sizing: border-box;top: 0;bottom: 0;left: 50%;z-index: -1;}#sk-container-id-9 div.sk-parallel-item {display: flex;flex-direction: column;z-index: 1;position: relative;background-color: white;}#sk-container-id-9 div.sk-parallel-item:first-child::after {align-self: flex-end;width: 50%;}#sk-container-id-9 div.sk-parallel-item:last-child::after {align-self: flex-start;width: 50%;}#sk-container-id-9 div.sk-parallel-item:only-child::after {width: 0;}#sk-container-id-9 div.sk-dashed-wrapped {border: 1px dashed gray;margin: 0 0.4em 0.5em 0.4em;box-sizing: border-box;padding-bottom: 0.4em;background-color: white;}#sk-container-id-9 div.sk-label label {font-family: monospace;font-weight: bold;display: inline-block;line-height: 1.2em;}#sk-container-id-9 div.sk-label-container {text-align: center;}#sk-container-id-9 div.sk-container {/* jupyter's `normalize.less` sets `[hidden] { display: none; }` but bootstrap.min.css set `[hidden] { display: none !important; }` so we also need the `!important` here to be able to override the default hidden behavior on the sphinx rendered scikit-learn.org. See: https://github.com/scikit-learn/scikit-learn/issues/21755 */display: inline-block !important;position: relative;}#sk-container-id-9 div.sk-text-repr-fallback {display: none;}</style><div id=\"sk-container-id-9\" class=\"sk-top-container\"><div class=\"sk-text-repr-fallback\"><pre>RandomizedSearchCV(cv=3, estimator=RandomForestRegressor(), n_iter=100,\n",
       "                   n_jobs=-1,\n",
       "                   param_distributions={&#x27;bootstrap&#x27;: [True, False],\n",
       "                                        &#x27;max_depth&#x27;: [10, 20, 30, 40, 50, 60,\n",
       "                                                      70, 80, 90, 100, 110,\n",
       "                                                      None],\n",
       "                                        &#x27;max_features&#x27;: [4, 9, 14, 19, 24, 29,\n",
       "                                                         34, 39, 44, 50],\n",
       "                                        &#x27;min_samples_leaf&#x27;: [1, 2, 4],\n",
       "                                        &#x27;min_samples_split&#x27;: [2, 5, 10],\n",
       "                                        &#x27;n_estimators&#x27;: [100, 200, 300, 400,\n",
       "                                                         500, 600, 700, 800,\n",
       "                                                         900, 1000]},\n",
       "                   random_state=42, verbose=3)</pre><b>In a Jupyter environment, please rerun this cell to show the HTML representation or trust the notebook. <br />On GitHub, the HTML representation is unable to render, please try loading this page with nbviewer.org.</b></div><div class=\"sk-container\" hidden><div class=\"sk-item sk-dashed-wrapped\"><div class=\"sk-label-container\"><div class=\"sk-label sk-toggleable\"><input class=\"sk-toggleable__control sk-hidden--visually\" id=\"sk-estimator-id-25\" type=\"checkbox\" ><label for=\"sk-estimator-id-25\" class=\"sk-toggleable__label sk-toggleable__label-arrow\">RandomizedSearchCV</label><div class=\"sk-toggleable__content\"><pre>RandomizedSearchCV(cv=3, estimator=RandomForestRegressor(), n_iter=100,\n",
       "                   n_jobs=-1,\n",
       "                   param_distributions={&#x27;bootstrap&#x27;: [True, False],\n",
       "                                        &#x27;max_depth&#x27;: [10, 20, 30, 40, 50, 60,\n",
       "                                                      70, 80, 90, 100, 110,\n",
       "                                                      None],\n",
       "                                        &#x27;max_features&#x27;: [4, 9, 14, 19, 24, 29,\n",
       "                                                         34, 39, 44, 50],\n",
       "                                        &#x27;min_samples_leaf&#x27;: [1, 2, 4],\n",
       "                                        &#x27;min_samples_split&#x27;: [2, 5, 10],\n",
       "                                        &#x27;n_estimators&#x27;: [100, 200, 300, 400,\n",
       "                                                         500, 600, 700, 800,\n",
       "                                                         900, 1000]},\n",
       "                   random_state=42, verbose=3)</pre></div></div></div><div class=\"sk-parallel\"><div class=\"sk-parallel-item\"><div class=\"sk-item\"><div class=\"sk-label-container\"><div class=\"sk-label sk-toggleable\"><input class=\"sk-toggleable__control sk-hidden--visually\" id=\"sk-estimator-id-26\" type=\"checkbox\" ><label for=\"sk-estimator-id-26\" class=\"sk-toggleable__label sk-toggleable__label-arrow\">estimator: RandomForestRegressor</label><div class=\"sk-toggleable__content\"><pre>RandomForestRegressor()</pre></div></div></div><div class=\"sk-serial\"><div class=\"sk-item\"><div class=\"sk-estimator sk-toggleable\"><input class=\"sk-toggleable__control sk-hidden--visually\" id=\"sk-estimator-id-27\" type=\"checkbox\" ><label for=\"sk-estimator-id-27\" class=\"sk-toggleable__label sk-toggleable__label-arrow\">RandomForestRegressor</label><div class=\"sk-toggleable__content\"><pre>RandomForestRegressor()</pre></div></div></div></div></div></div></div></div></div></div>"
      ],
      "text/plain": [
       "RandomizedSearchCV(cv=3, estimator=RandomForestRegressor(), n_iter=100,\n",
       "                   n_jobs=-1,\n",
       "                   param_distributions={'bootstrap': [True, False],\n",
       "                                        'max_depth': [10, 20, 30, 40, 50, 60,\n",
       "                                                      70, 80, 90, 100, 110,\n",
       "                                                      None],\n",
       "                                        'max_features': [4, 9, 14, 19, 24, 29,\n",
       "                                                         34, 39, 44, 50],\n",
       "                                        'min_samples_leaf': [1, 2, 4],\n",
       "                                        'min_samples_split': [2, 5, 10],\n",
       "                                        'n_estimators': [100, 200, 300, 400,\n",
       "                                                         500, 600, 700, 800,\n",
       "                                                         900, 1000]},\n",
       "                   random_state=42, verbose=3)"
      ]
     },
     "execution_count": 199,
     "metadata": {},
     "output_type": "execute_result"
    }
   ],
   "source": [
    "# Random search of parameters, using 3 fold cross validation, \n",
    "# search across 100 different combinations, and use all available cores\n",
    "forest_random_search = RandomizedSearchCV(estimator = forest_reg, param_distributions = random_grid, n_iter = 100, cv = 3, verbose=3, random_state=42, n_jobs = -1)\n",
    "# Fit the random search model\n",
    "forest_random_search.fit(x_train_prepared,y_train_dum_null)"
   ]
  },
  {
   "cell_type": "code",
   "execution_count": 200,
   "id": "d2450cd0-51ed-4496-acfc-9b5eac1a24cc",
   "metadata": {
    "tags": []
   },
   "outputs": [
    {
     "data": {
      "text/plain": [
       "{'n_estimators': 800,\n",
       " 'min_samples_split': 2,\n",
       " 'min_samples_leaf': 1,\n",
       " 'max_features': 50,\n",
       " 'max_depth': 30,\n",
       " 'bootstrap': False}"
      ]
     },
     "execution_count": 200,
     "metadata": {},
     "output_type": "execute_result"
    }
   ],
   "source": [
    "forest_random_search.best_params_"
   ]
  },
  {
   "cell_type": "code",
   "execution_count": 167,
   "id": "ab3ae2e5-8563-463a-8448-cf51d573a3cf",
   "metadata": {
    "tags": []
   },
   "outputs": [
    {
     "name": "stdout",
     "output_type": "stream",
     "text": [
      "Fitting 6 folds for each of 6 candidates, totalling 36 fits\n",
      "[CV] END .........................................alpha=0.01; total time=   0.1s\n",
      "[CV] END .........................................alpha=0.01; total time=   0.0s\n",
      "[CV] END .........................................alpha=0.01; total time=   0.1s\n",
      "[CV] END .........................................alpha=0.01; total time=   0.0s\n",
      "[CV] END .........................................alpha=0.01; total time=   0.1s\n",
      "[CV] END .........................................alpha=0.01; total time=   0.1s\n",
      "[CV] END .........................................alpha=0.02; total time=   0.0s\n",
      "[CV] END .........................................alpha=0.02; total time=   0.0s\n",
      "[CV] END .........................................alpha=0.02; total time=   0.0s\n",
      "[CV] END .........................................alpha=0.02; total time=   0.0s\n",
      "[CV] END .........................................alpha=0.02; total time=   0.0s\n",
      "[CV] END .........................................alpha=0.02; total time=   0.0s\n",
      "[CV] END ........................................alpha=0.024; total time=   0.0s\n",
      "[CV] END ........................................alpha=0.024; total time=   0.0s\n",
      "[CV] END ........................................alpha=0.024; total time=   0.0s\n",
      "[CV] END ........................................alpha=0.024; total time=   0.0s\n",
      "[CV] END ........................................alpha=0.024; total time=   0.0s\n",
      "[CV] END ........................................alpha=0.024; total time=   0.0s\n",
      "[CV] END ........................................alpha=0.025; total time=   0.0s\n",
      "[CV] END ........................................alpha=0.025; total time=   0.0s\n",
      "[CV] END ........................................alpha=0.025; total time=   0.0s\n",
      "[CV] END ........................................alpha=0.025; total time=   0.0s\n",
      "[CV] END ........................................alpha=0.025; total time=   0.0s\n",
      "[CV] END ........................................alpha=0.025; total time=   0.0s\n",
      "[CV] END ........................................alpha=0.026; total time=   0.0s\n",
      "[CV] END ........................................alpha=0.026; total time=   0.0s\n",
      "[CV] END ........................................alpha=0.026; total time=   0.0s\n",
      "[CV] END ........................................alpha=0.026; total time=   0.0s\n",
      "[CV] END ........................................alpha=0.026; total time=   0.0s\n",
      "[CV] END ........................................alpha=0.026; total time=   0.0s\n",
      "[CV] END .........................................alpha=0.03; total time=   0.0s\n",
      "[CV] END .........................................alpha=0.03; total time=   0.0s\n",
      "[CV] END .........................................alpha=0.03; total time=   0.0s\n",
      "[CV] END .........................................alpha=0.03; total time=   0.0s\n",
      "[CV] END .........................................alpha=0.03; total time=   0.0s\n",
      "[CV] END .........................................alpha=0.03; total time=   0.0s\n"
     ]
    },
    {
     "data": {
      "text/plain": [
       "[<matplotlib.lines.Line2D at 0x132d6c7c5d0>]"
      ]
     },
     "execution_count": 167,
     "metadata": {},
     "output_type": "execute_result"
    },
    {
     "data": {
      "image/png": "[encoded data removed]",
      "text/plain": [
       "<Figure size 640x480 with 1 Axes>"
      ]
     },
     "metadata": {},
     "output_type": "display_data"
    }
   ],
   "source": [
    "# lasso regression finetuning\n",
    "\n",
    "lasso_param_grid = {'alpha':[0.01,0.02, 0.024, 0.025, 0.026, 0.03]}\n",
    "\n",
    "lasso_grid_search = GridSearchCV(lasso_reg, lasso_param_grid, cv= 6, scoring='neg_mean_absolute_error', return_train_score=True, verbose=2)\n",
    "\n",
    "lasso_grid_search.fit(x_train_svm_prepared, y_train_dum_null)\n",
    "\n",
    "\n",
    "alpha = []\n",
    "error = []\n",
    "for i in range(1,100):\n",
    "    alpha.append(i/100)\n",
    "    llg = Lasso(alpha=(i/100))\n",
    "    error.append(np.mean(cross_val_score(llg,x_train_svm_prepared,y_train_dum_null, scoring = 'neg_mean_absolute_error', cv= 6)))\n",
    "    \n",
    "plt.plot(alpha,error)"
   ]
  },
  {
   "cell_type": "code",
   "execution_count": 168,
   "id": "7568ef9f-b344-4287-a329-85a307f08b7f",
   "metadata": {
    "tags": []
   },
   "outputs": [
    {
     "data": {
      "text/html": [
       "<div>\n",
       "<style scoped>\n",
       "    .dataframe tbody tr th:only-of-type {\n",
       "        vertical-align: middle;\n",
       "    }\n",
       "\n",
       "    .dataframe tbody tr th {\n",
       "        vertical-align: top;\n",
       "    }\n",
       "\n",
       "    .dataframe thead th {\n",
       "        text-align: right;\n",
       "    }\n",
       "</style>\n",
       "<table border=\"1\" class=\"dataframe\">\n",
       "  <thead>\n",
       "    <tr style=\"text-align: right;\">\n",
       "      <th></th>\n",
       "      <th>alpha</th>\n",
       "      <th>error</th>\n",
       "    </tr>\n",
       "  </thead>\n",
       "  <tbody>\n",
       "    <tr>\n",
       "      <th>0</th>\n",
       "      <td>0.01</td>\n",
       "      <td>-19.99456</td>\n",
       "    </tr>\n",
       "  </tbody>\n",
       "</table>\n",
       "</div>"
      ],
      "text/plain": [
       "   alpha     error\n",
       "0   0.01 -19.99456"
      ]
     },
     "execution_count": 168,
     "metadata": {},
     "output_type": "execute_result"
    }
   ],
   "source": [
    "err = tuple(zip(alpha,error))\n",
    "df_err = pd.DataFrame(err, columns = ['alpha','error'])\n",
    "df_err[df_err.error == max(df_err.error)]"
   ]
  },
  {
   "cell_type": "code",
   "execution_count": 169,
   "id": "9f6f1809-f268-49bc-b31c-fe3f1c671aa7",
   "metadata": {
    "tags": []
   },
   "outputs": [
    {
     "data": {
      "text/plain": [
       "{'alpha': 0.01}"
      ]
     },
     "execution_count": 169,
     "metadata": {},
     "output_type": "execute_result"
    }
   ],
   "source": [
    "lasso_grid_search.best_params_"
   ]
  },
  {
   "cell_type": "code",
   "execution_count": null,
   "id": "2f63ecdf-2820-4831-b1f3-e80911e83b76",
   "metadata": {
    "collapsed": true,
    "jupyter": {
     "outputs_hidden": true
    },
    "tags": []
   },
   "outputs": [
    {
     "name": "stdout",
     "output_type": "stream",
     "text": [
      "Fitting 6 folds for each of 39 candidates, totalling 234 fits\n",
      "[CV] END .........................C=115, gamma=1, kernel=rbf; total time=   0.3s\n",
      "[CV] END .........................C=115, gamma=1, kernel=rbf; total time=   0.3s\n",
      "[CV] END .........................C=115, gamma=1, kernel=rbf; total time=   0.3s\n",
      "[CV] END .........................C=115, gamma=1, kernel=rbf; total time=   0.3s\n",
      "[CV] END .........................C=115, gamma=1, kernel=rbf; total time=   0.3s\n",
      "[CV] END .........................C=115, gamma=1, kernel=rbf; total time=   0.3s\n",
      "[CV] END .......................C=115, gamma=0.1, kernel=rbf; total time=   0.3s\n",
      "[CV] END .......................C=115, gamma=0.1, kernel=rbf; total time=   0.3s\n",
      "[CV] END .......................C=115, gamma=0.1, kernel=rbf; total time=   0.3s\n",
      "[CV] END .......................C=115, gamma=0.1, kernel=rbf; total time=   0.3s\n",
      "[CV] END .......................C=115, gamma=0.1, kernel=rbf; total time=   0.3s\n",
      "[CV] END .......................C=115, gamma=0.1, kernel=rbf; total time=   0.4s\n",
      "[CV] END ......................C=115, gamma=0.01, kernel=rbf; total time=   0.3s\n",
      "[CV] END ......................C=115, gamma=0.01, kernel=rbf; total time=   0.3s\n",
      "[CV] END ......................C=115, gamma=0.01, kernel=rbf; total time=   0.3s\n",
      "[CV] END ......................C=115, gamma=0.01, kernel=rbf; total time=   0.3s\n",
      "[CV] END ......................C=115, gamma=0.01, kernel=rbf; total time=   0.3s\n",
      "[CV] END ......................C=115, gamma=0.01, kernel=rbf; total time=   0.3s\n",
      "[CV] END .........................C=120, gamma=1, kernel=rbf; total time=   0.3s\n",
      "[CV] END .........................C=120, gamma=1, kernel=rbf; total time=   0.3s\n",
      "[CV] END .........................C=120, gamma=1, kernel=rbf; total time=   0.4s\n",
      "[CV] END .........................C=120, gamma=1, kernel=rbf; total time=   0.4s\n",
      "[CV] END .........................C=120, gamma=1, kernel=rbf; total time=   0.4s\n",
      "[CV] END .........................C=120, gamma=1, kernel=rbf; total time=   0.4s\n",
      "[CV] END .......................C=120, gamma=0.1, kernel=rbf; total time=   0.3s\n",
      "[CV] END .......................C=120, gamma=0.1, kernel=rbf; total time=   0.3s\n",
      "[CV] END .......................C=120, gamma=0.1, kernel=rbf; total time=   0.3s\n",
      "[CV] END .......................C=120, gamma=0.1, kernel=rbf; total time=   0.3s\n",
      "[CV] END .......................C=120, gamma=0.1, kernel=rbf; total time=   0.3s\n",
      "[CV] END .......................C=120, gamma=0.1, kernel=rbf; total time=   0.3s\n",
      "[CV] END ......................C=120, gamma=0.01, kernel=rbf; total time=   0.3s\n",
      "[CV] END ......................C=120, gamma=0.01, kernel=rbf; total time=   0.3s\n",
      "[CV] END ......................C=120, gamma=0.01, kernel=rbf; total time=   0.3s\n",
      "[CV] END ......................C=120, gamma=0.01, kernel=rbf; total time=   0.3s\n",
      "[CV] END ......................C=120, gamma=0.01, kernel=rbf; total time=   0.3s\n",
      "[CV] END ......................C=120, gamma=0.01, kernel=rbf; total time=   0.3s\n",
      "[CV] END .........................C=125, gamma=1, kernel=rbf; total time=   0.3s\n",
      "[CV] END .........................C=125, gamma=1, kernel=rbf; total time=   0.3s\n",
      "[CV] END .........................C=125, gamma=1, kernel=rbf; total time=   0.3s\n",
      "[CV] END .........................C=125, gamma=1, kernel=rbf; total time=   0.3s\n",
      "[CV] END .........................C=125, gamma=1, kernel=rbf; total time=   0.3s\n",
      "[CV] END .........................C=125, gamma=1, kernel=rbf; total time=   0.3s\n",
      "[CV] END .......................C=125, gamma=0.1, kernel=rbf; total time=   0.3s\n",
      "[CV] END .......................C=125, gamma=0.1, kernel=rbf; total time=   0.3s\n",
      "[CV] END .......................C=125, gamma=0.1, kernel=rbf; total time=   0.3s\n",
      "[CV] END .......................C=125, gamma=0.1, kernel=rbf; total time=   0.3s\n",
      "[CV] END .......................C=125, gamma=0.1, kernel=rbf; total time=   0.3s\n",
      "[CV] END .......................C=125, gamma=0.1, kernel=rbf; total time=   0.3s\n",
      "[CV] END ......................C=125, gamma=0.01, kernel=rbf; total time=   0.3s\n",
      "[CV] END ......................C=125, gamma=0.01, kernel=rbf; total time=   0.3s\n",
      "[CV] END ......................C=125, gamma=0.01, kernel=rbf; total time=   0.3s\n",
      "[CV] END ......................C=125, gamma=0.01, kernel=rbf; total time=   0.3s\n",
      "[CV] END ......................C=125, gamma=0.01, kernel=rbf; total time=   0.3s\n",
      "[CV] END ......................C=125, gamma=0.01, kernel=rbf; total time=   0.2s\n",
      "[CV] END .........................C=135, gamma=1, kernel=rbf; total time=   0.3s\n",
      "[CV] END .........................C=135, gamma=1, kernel=rbf; total time=   0.3s\n",
      "[CV] END .........................C=135, gamma=1, kernel=rbf; total time=   0.3s\n",
      "[CV] END .........................C=135, gamma=1, kernel=rbf; total time=   0.3s\n",
      "[CV] END .........................C=135, gamma=1, kernel=rbf; total time=   0.3s\n",
      "[CV] END .........................C=135, gamma=1, kernel=rbf; total time=   0.3s\n",
      "[CV] END .......................C=135, gamma=0.1, kernel=rbf; total time=   0.4s\n",
      "[CV] END .......................C=135, gamma=0.1, kernel=rbf; total time=   0.3s\n",
      "[CV] END .......................C=135, gamma=0.1, kernel=rbf; total time=   0.5s\n",
      "[CV] END .......................C=135, gamma=0.1, kernel=rbf; total time=   0.5s\n",
      "[CV] END .......................C=135, gamma=0.1, kernel=rbf; total time=   0.4s\n",
      "[CV] END .......................C=135, gamma=0.1, kernel=rbf; total time=   0.3s\n",
      "[CV] END ......................C=135, gamma=0.01, kernel=rbf; total time=   0.3s\n",
      "[CV] END ......................C=135, gamma=0.01, kernel=rbf; total time=   0.3s\n",
      "[CV] END ......................C=135, gamma=0.01, kernel=rbf; total time=   0.2s\n",
      "[CV] END ......................C=135, gamma=0.01, kernel=rbf; total time=   0.3s\n",
      "[CV] END ......................C=135, gamma=0.01, kernel=rbf; total time=   0.3s\n",
      "[CV] END ......................C=135, gamma=0.01, kernel=rbf; total time=   0.3s\n",
      "[CV] END .........................C=145, gamma=1, kernel=rbf; total time=   0.3s\n",
      "[CV] END .........................C=145, gamma=1, kernel=rbf; total time=   0.3s\n",
      "[CV] END .........................C=145, gamma=1, kernel=rbf; total time=   0.2s\n",
      "[CV] END .........................C=145, gamma=1, kernel=rbf; total time=   0.3s\n",
      "[CV] END .........................C=145, gamma=1, kernel=rbf; total time=   0.3s\n",
      "[CV] END .........................C=145, gamma=1, kernel=rbf; total time=   0.3s\n",
      "[CV] END .......................C=145, gamma=0.1, kernel=rbf; total time=   0.3s\n",
      "[CV] END .......................C=145, gamma=0.1, kernel=rbf; total time=   0.3s\n",
      "[CV] END .......................C=145, gamma=0.1, kernel=rbf; total time=   0.3s\n",
      "[CV] END .......................C=145, gamma=0.1, kernel=rbf; total time=   0.5s\n",
      "[CV] END .......................C=145, gamma=0.1, kernel=rbf; total time=   0.3s\n",
      "[CV] END .......................C=145, gamma=0.1, kernel=rbf; total time=   0.3s\n",
      "[CV] END ......................C=145, gamma=0.01, kernel=rbf; total time=   0.3s\n",
      "[CV] END ......................C=145, gamma=0.01, kernel=rbf; total time=   0.3s\n",
      "[CV] END ......................C=145, gamma=0.01, kernel=rbf; total time=   0.4s\n",
      "[CV] END ......................C=145, gamma=0.01, kernel=rbf; total time=   0.3s\n",
      "[CV] END ......................C=145, gamma=0.01, kernel=rbf; total time=   0.3s\n",
      "[CV] END ......................C=145, gamma=0.01, kernel=rbf; total time=   0.4s\n",
      "[CV] END ..............C=115, degree=1, gamma=1, kernel=poly; total time=   1.5s\n",
      "[CV] END ..............C=115, degree=1, gamma=1, kernel=poly; total time=   0.9s\n",
      "[CV] END ..............C=115, degree=1, gamma=1, kernel=poly; total time=   0.5s\n",
      "[CV] END ..............C=115, degree=1, gamma=1, kernel=poly; total time=   0.6s\n",
      "[CV] END ..............C=115, degree=1, gamma=1, kernel=poly; total time=   0.9s\n",
      "[CV] END ..............C=115, degree=1, gamma=1, kernel=poly; total time=   1.0s\n",
      "[CV] END ............C=115, degree=1, gamma=0.1, kernel=poly; total time=   0.2s\n",
      "[CV] END ............C=115, degree=1, gamma=0.1, kernel=poly; total time=   0.3s\n",
      "[CV] END ............C=115, degree=1, gamma=0.1, kernel=poly; total time=   0.2s\n",
      "[CV] END ............C=115, degree=1, gamma=0.1, kernel=poly; total time=   0.3s\n",
      "[CV] END ............C=115, degree=1, gamma=0.1, kernel=poly; total time=   0.4s\n",
      "[CV] END ............C=115, degree=1, gamma=0.1, kernel=poly; total time=   0.3s\n",
      "[CV] END ...........C=115, degree=1, gamma=0.01, kernel=poly; total time=   0.3s\n",
      "[CV] END ...........C=115, degree=1, gamma=0.01, kernel=poly; total time=   0.3s\n",
      "[CV] END ...........C=115, degree=1, gamma=0.01, kernel=poly; total time=   0.4s\n",
      "[CV] END ...........C=115, degree=1, gamma=0.01, kernel=poly; total time=   0.2s\n",
      "[CV] END ...........C=115, degree=1, gamma=0.01, kernel=poly; total time=   0.2s\n",
      "[CV] END ...........C=115, degree=1, gamma=0.01, kernel=poly; total time=   0.2s\n",
      "[CV] END ..............C=115, degree=2, gamma=1, kernel=poly; total time=   0.4s\n",
      "[CV] END ..............C=115, degree=2, gamma=1, kernel=poly; total time=   0.3s\n",
      "[CV] END ..............C=115, degree=2, gamma=1, kernel=poly; total time=   0.3s\n",
      "[CV] END ..............C=115, degree=2, gamma=1, kernel=poly; total time=   0.3s\n",
      "[CV] END ..............C=115, degree=2, gamma=1, kernel=poly; total time=   0.3s\n",
      "[CV] END ..............C=115, degree=2, gamma=1, kernel=poly; total time=   0.3s\n",
      "[CV] END ............C=115, degree=2, gamma=0.1, kernel=poly; total time=   0.2s\n",
      "[CV] END ............C=115, degree=2, gamma=0.1, kernel=poly; total time=   0.3s\n",
      "[CV] END ............C=115, degree=2, gamma=0.1, kernel=poly; total time=   0.2s\n",
      "[CV] END ............C=115, degree=2, gamma=0.1, kernel=poly; total time=   0.3s\n",
      "[CV] END ............C=115, degree=2, gamma=0.1, kernel=poly; total time=   0.3s\n",
      "[CV] END ............C=115, degree=2, gamma=0.1, kernel=poly; total time=   0.2s\n",
      "[CV] END ...........C=115, degree=2, gamma=0.01, kernel=poly; total time=   0.2s\n",
      "[CV] END ...........C=115, degree=2, gamma=0.01, kernel=poly; total time=   0.2s\n",
      "[CV] END ...........C=115, degree=2, gamma=0.01, kernel=poly; total time=   0.2s\n",
      "[CV] END ...........C=115, degree=2, gamma=0.01, kernel=poly; total time=   0.2s\n",
      "[CV] END ...........C=115, degree=2, gamma=0.01, kernel=poly; total time=   0.2s\n",
      "[CV] END ...........C=115, degree=2, gamma=0.01, kernel=poly; total time=   0.2s\n",
      "[CV] END ..............C=125, degree=1, gamma=1, kernel=poly; total time=   1.3s\n",
      "[CV] END ..............C=125, degree=1, gamma=1, kernel=poly; total time=   0.7s\n",
      "[CV] END ..............C=125, degree=1, gamma=1, kernel=poly; total time=   1.0s\n",
      "[CV] END ..............C=125, degree=1, gamma=1, kernel=poly; total time=   1.0s\n"
     ]
    }
   ],
   "source": [
    "from sklearn.model_selection import GridSearchCV\n",
    "\n",
    "# svm_reg finetuning\n",
    "\n",
    "svm_param_grid = [# 1, 5, 10, 15, 20, 30, 40, 60, 80,  , 1000   , 0.001\n",
    "    {'C': [ 115,120,125,135,145], 'gamma': [1, 0.1, 0.01], 'kernel': ['rbf']},\n",
    "    {'C': [  115,125,135,145], 'gamma': [1, 0.1, 0.01], 'kernel': ['poly'], 'degree': [1,2]},\n",
    "    #{'C': [ 1, 5, 10, 15, 20, 30, 40, 60, 80, 100, 1000], 'gamma': [1, 0.1, 0.01, 0.001], 'kernel': ['linear']}\n",
    "]\n",
    "\n",
    "svm_grid_search = GridSearchCV(svm_reg, svm_param_grid, cv= 6, scoring='neg_mean_absolute_error', return_train_score=True, verbose=2)\n",
    "\n",
    "svm_grid_search.fit(x_train_svm_prepared, y_train_dum_null)"
   ]
  },
  {
   "cell_type": "code",
   "execution_count": 37,
   "id": "f8842894-0872-4753-a162-ca4fd70d48f1",
   "metadata": {
    "tags": []
   },
   "outputs": [
    {
     "data": {
      "text/plain": [
       "{'C': 120, 'gamma': 0.1, 'kernel': 'rbf'}"
      ]
     },
     "execution_count": 37,
     "metadata": {},
     "output_type": "execute_result"
    }
   ],
   "source": [
    "svm_grid_search.best_params_   #{'C': 100, 'gamma': 0.1, 'kernel': 'rbf'}"
   ]
  },
  {
   "cell_type": "code",
   "execution_count": 38,
   "id": "318103c5-d357-4e8a-b47d-f0c33fbf57da",
   "metadata": {
    "tags": []
   },
   "outputs": [
    {
     "data": {
      "text/html": [
       "<style>#sk-container-id-2 {color: black;}#sk-container-id-2 pre{padding: 0;}#sk-container-id-2 div.sk-toggleable {background-color: white;}#sk-container-id-2 label.sk-toggleable__label {cursor: pointer;display: block;width: 100%;margin-bottom: 0;padding: 0.3em;box-sizing: border-box;text-align: center;}#sk-container-id-2 label.sk-toggleable__label-arrow:before {content: \"▸\";float: left;margin-right: 0.25em;color: #696969;}#sk-container-id-2 label.sk-toggleable__label-arrow:hover:before {color: black;}#sk-container-id-2 div.sk-estimator:hover label.sk-toggleable__label-arrow:before {color: black;}#sk-container-id-2 div.sk-toggleable__content {max-height: 0;max-width: 0;overflow: hidden;text-align: left;background-color: #f0f8ff;}#sk-container-id-2 div.sk-toggleable__content pre {margin: 0.2em;color: black;border-radius: 0.25em;background-color: #f0f8ff;}#sk-container-id-2 input.sk-toggleable__control:checked~div.sk-toggleable__content {max-height: 200px;max-width: 100%;overflow: auto;}#sk-container-id-2 input.sk-toggleable__control:checked~label.sk-toggleable__label-arrow:before {content: \"▾\";}#sk-container-id-2 div.sk-estimator input.sk-toggleable__control:checked~label.sk-toggleable__label {background-color: #d4ebff;}#sk-container-id-2 div.sk-label input.sk-toggleable__control:checked~label.sk-toggleable__label {background-color: #d4ebff;}#sk-container-id-2 input.sk-hidden--visually {border: 0;clip: rect(1px 1px 1px 1px);clip: rect(1px, 1px, 1px, 1px);height: 1px;margin: -1px;overflow: hidden;padding: 0;position: absolute;width: 1px;}#sk-container-id-2 div.sk-estimator {font-family: monospace;background-color: #f0f8ff;border: 1px dotted black;border-radius: 0.25em;box-sizing: border-box;margin-bottom: 0.5em;}#sk-container-id-2 div.sk-estimator:hover {background-color: #d4ebff;}#sk-container-id-2 div.sk-parallel-item::after {content: \"\";width: 100%;border-bottom: 1px solid gray;flex-grow: 1;}#sk-container-id-2 div.sk-label:hover label.sk-toggleable__label {background-color: #d4ebff;}#sk-container-id-2 div.sk-serial::before {content: \"\";position: absolute;border-left: 1px solid gray;box-sizing: border-box;top: 0;bottom: 0;left: 50%;z-index: 0;}#sk-container-id-2 div.sk-serial {display: flex;flex-direction: column;align-items: center;background-color: white;padding-right: 0.2em;padding-left: 0.2em;position: relative;}#sk-container-id-2 div.sk-item {position: relative;z-index: 1;}#sk-container-id-2 div.sk-parallel {display: flex;align-items: stretch;justify-content: center;background-color: white;position: relative;}#sk-container-id-2 div.sk-item::before, #sk-container-id-2 div.sk-parallel-item::before {content: \"\";position: absolute;border-left: 1px solid gray;box-sizing: border-box;top: 0;bottom: 0;left: 50%;z-index: -1;}#sk-container-id-2 div.sk-parallel-item {display: flex;flex-direction: column;z-index: 1;position: relative;background-color: white;}#sk-container-id-2 div.sk-parallel-item:first-child::after {align-self: flex-end;width: 50%;}#sk-container-id-2 div.sk-parallel-item:last-child::after {align-self: flex-start;width: 50%;}#sk-container-id-2 div.sk-parallel-item:only-child::after {width: 0;}#sk-container-id-2 div.sk-dashed-wrapped {border: 1px dashed gray;margin: 0 0.4em 0.5em 0.4em;box-sizing: border-box;padding-bottom: 0.4em;background-color: white;}#sk-container-id-2 div.sk-label label {font-family: monospace;font-weight: bold;display: inline-block;line-height: 1.2em;}#sk-container-id-2 div.sk-label-container {text-align: center;}#sk-container-id-2 div.sk-container {/* jupyter's `normalize.less` sets `[hidden] { display: none; }` but bootstrap.min.css set `[hidden] { display: none !important; }` so we also need the `!important` here to be able to override the default hidden behavior on the sphinx rendered scikit-learn.org. See: https://github.com/scikit-learn/scikit-learn/issues/21755 */display: inline-block !important;position: relative;}#sk-container-id-2 div.sk-text-repr-fallback {display: none;}</style><div id=\"sk-container-id-2\" class=\"sk-top-container\"><div class=\"sk-text-repr-fallback\"><pre>SVR(C=120, gamma=0.1)</pre><b>In a Jupyter environment, please rerun this cell to show the HTML representation or trust the notebook. <br />On GitHub, the HTML representation is unable to render, please try loading this page with nbviewer.org.</b></div><div class=\"sk-container\" hidden><div class=\"sk-item\"><div class=\"sk-estimator sk-toggleable\"><input class=\"sk-toggleable__control sk-hidden--visually\" id=\"sk-estimator-id-4\" type=\"checkbox\" checked><label for=\"sk-estimator-id-4\" class=\"sk-toggleable__label sk-toggleable__label-arrow\">SVR</label><div class=\"sk-toggleable__content\"><pre>SVR(C=120, gamma=0.1)</pre></div></div></div></div></div>"
      ],
      "text/plain": [
       "SVR(C=120, gamma=0.1)"
      ]
     },
     "execution_count": 38,
     "metadata": {},
     "output_type": "execute_result"
    }
   ],
   "source": [
    "svm_grid_search.best_estimator_"
   ]
  },
  {
   "cell_type": "code",
   "execution_count": 60,
   "id": "01685b9c-8dd6-468c-9cff-625b9aa96888",
   "metadata": {
    "collapsed": true,
    "jupyter": {
     "outputs_hidden": true
    },
    "tags": []
   },
   "outputs": [
    {
     "name": "stderr",
     "output_type": "stream",
     "text": [
      "[I 2023-08-31 09:04:27,777] A new study created in memory with name: regression\n",
      "[I 2023-08-31 09:04:30,850] Trial 0 finished with value: 36.35048422266225 and parameters: {'max_depth': 2, 'learning_rate': 0.8142021659420903, 'n_estimators': 749, 'min_child_weight': 10, 'gamma': 0.4839153350053353, 'subsample': 0.44120162631611903, 'colsample_bytree': 0.8103371111036933, 'reg_alpha': 0.25052541688564994, 'reg_lambda': 0.8920540104271798, 'random_state': 398}. Best is trial 0 with value: 36.35048422266225.\n",
      "[I 2023-08-31 09:04:33,446] Trial 1 finished with value: 20.897860026750408 and parameters: {'max_depth': 9, 'learning_rate': 0.045312176293431324, 'n_estimators': 190, 'min_child_weight': 10, 'gamma': 0.3869550570628285, 'subsample': 0.8880201856843155, 'colsample_bytree': 0.9442296666598982, 'reg_alpha': 0.6880863716063975, 'reg_lambda': 0.16737076396721884, 'random_state': 629}. Best is trial 1 with value: 20.897860026750408.\n",
      "[I 2023-08-31 09:04:34,816] Trial 2 finished with value: 1650.0146832075275 and parameters: {'max_depth': 9, 'learning_rate': 0.9356102860186917, 'n_estimators': 766, 'min_child_weight': 4, 'gamma': 0.7600184579217978, 'subsample': 0.1802253593862552, 'colsample_bytree': 0.05212127573166281, 'reg_alpha': 0.6702845943494168, 'reg_lambda': 0.8609520643260758, 'random_state': 921}. Best is trial 1 with value: 20.897860026750408.\n",
      "[I 2023-08-31 09:04:36,051] Trial 3 finished with value: 21.63702895993092 and parameters: {'max_depth': 6, 'learning_rate': 0.0429406784659513, 'n_estimators': 231, 'min_child_weight': 9, 'gamma': 0.23501197599217769, 'subsample': 0.9211219327433805, 'colsample_bytree': 0.4436906569752155, 'reg_alpha': 0.9776056099377161, 'reg_lambda': 0.4643454558934794, 'random_state': 1}. Best is trial 1 with value: 20.897860026750408.\n",
      "[I 2023-08-31 09:04:39,216] Trial 4 finished with value: 23.668562123032867 and parameters: {'max_depth': 4, 'learning_rate': 0.21653543827044638, 'n_estimators': 851, 'min_child_weight': 10, 'gamma': 0.8753673981236664, 'subsample': 0.39385310714238786, 'colsample_bytree': 0.3667955359127786, 'reg_alpha': 0.7769509064852813, 'reg_lambda': 0.35865122244875586, 'random_state': 116}. Best is trial 1 with value: 20.897860026750408.\n",
      "[I 2023-08-31 09:04:45,213] Trial 5 finished with value: 114.87021562310515 and parameters: {'max_depth': 5, 'learning_rate': 0.6894575627428665, 'n_estimators': 708, 'min_child_weight': 9, 'gamma': 0.4444610871768854, 'subsample': 0.2451959318719621, 'colsample_bytree': 0.9308009837733094, 'reg_alpha': 0.2602063690191433, 'reg_lambda': 0.763773095579588, 'random_state': 888}. Best is trial 1 with value: 20.897860026750408.\n",
      "[I 2023-08-31 09:04:46,645] Trial 6 finished with value: 30.63003867180621 and parameters: {'max_depth': 2, 'learning_rate': 0.649170735857308, 'n_estimators': 396, 'min_child_weight': 10, 'gamma': 0.4060925767478958, 'subsample': 0.27985347168470687, 'colsample_bytree': 0.731907499290453, 'reg_alpha': 0.6524240068218106, 'reg_lambda': 0.9385863209374674, 'random_state': 65}. Best is trial 1 with value: 20.897860026750408.\n",
      "[I 2023-08-31 09:04:49,416] Trial 7 finished with value: 82.81825917470651 and parameters: {'max_depth': 3, 'learning_rate': 0.9374955311097453, 'n_estimators': 728, 'min_child_weight': 7, 'gamma': 0.6379507245644304, 'subsample': 0.3756553620042379, 'colsample_bytree': 0.5246791645898441, 'reg_alpha': 0.9022153701393644, 'reg_lambda': 0.46510522764586826, 'random_state': 71}. Best is trial 1 with value: 20.897860026750408.\n",
      "[I 2023-08-31 09:04:54,504] Trial 8 finished with value: 23.35960009840668 and parameters: {'max_depth': 4, 'learning_rate': 0.33573006733362737, 'n_estimators': 702, 'min_child_weight': 5, 'gamma': 0.3624306082936081, 'subsample': 0.7312828533812288, 'colsample_bytree': 0.9306809849457217, 'reg_alpha': 0.9965998275547822, 'reg_lambda': 0.6094122575966839, 'random_state': 258}. Best is trial 1 with value: 20.897860026750408.\n",
      "[I 2023-08-31 09:04:55,987] Trial 9 finished with value: 24.541212707269388 and parameters: {'max_depth': 2, 'learning_rate': 0.5648510149168099, 'n_estimators': 826, 'min_child_weight': 10, 'gamma': 0.6282359998819302, 'subsample': 0.8669676533994517, 'colsample_bytree': 0.1284779047074763, 'reg_alpha': 0.25020507713487244, 'reg_lambda': 0.9669100011241993, 'random_state': 814}. Best is trial 1 with value: 20.897860026750408.\n",
      "[I 2023-08-31 09:04:57,218] Trial 10 finished with value: 62.76077313501327 and parameters: {'max_depth': 10, 'learning_rate': 0.010984811755839374, 'n_estimators': 60, 'min_child_weight': 2, 'gamma': 0.10034965305812305, 'subsample': 0.6482855902016004, 'colsample_bytree': 0.9956379628986741, 'reg_alpha': 0.4682900519236771, 'reg_lambda': 0.06359766424320534, 'random_state': 647}. Best is trial 1 with value: 20.897860026750408.\n",
      "[I 2023-08-31 09:04:58,934] Trial 11 finished with value: 21.480728211950083 and parameters: {'max_depth': 7, 'learning_rate': 0.034980888828738115, 'n_estimators': 214, 'min_child_weight': 7, 'gamma': 0.1796299211043797, 'subsample': 0.9917261314185107, 'colsample_bytree': 0.5821039047067097, 'reg_alpha': 0.9886767076548288, 'reg_lambda': 0.225547758141319, 'random_state': 591}. Best is trial 1 with value: 20.897860026750408.\n",
      "[I 2023-08-31 09:05:02,391] Trial 12 finished with value: 22.104116924473498 and parameters: {'max_depth': 8, 'learning_rate': 0.1809377231412265, 'n_estimators': 363, 'min_child_weight': 7, 'gamma': 0.030261030857716087, 'subsample': 0.9953911573639148, 'colsample_bytree': 0.6618458967516466, 'reg_alpha': 0.8153987904385644, 'reg_lambda': 0.17156165983602545, 'random_state': 543}. Best is trial 1 with value: 20.897860026750408.\n",
      "[I 2023-08-31 09:05:03,046] Trial 13 finished with value: 23.529716007045057 and parameters: {'max_depth': 7, 'learning_rate': 0.4078586429052654, 'n_estimators': 65, 'min_child_weight': 7, 'gamma': 0.24918298905284111, 'subsample': 0.7945628075537257, 'colsample_bytree': 0.6250531263237907, 'reg_alpha': 0.5003471690783143, 'reg_lambda': 0.23484049985808159, 'random_state': 693}. Best is trial 1 with value: 20.897860026750408.\n",
      "[I 2023-08-31 09:05:05,526] Trial 14 finished with value: 21.625571407255578 and parameters: {'max_depth': 8, 'learning_rate': 0.1395873983999534, 'n_estimators': 226, 'min_child_weight': 8, 'gamma': 0.2252927413564919, 'subsample': 0.9790337005246473, 'colsample_bytree': 0.8083470158978245, 'reg_alpha': 0.8345139436401352, 'reg_lambda': 0.02515966859765667, 'random_state': 477}. Best is trial 1 with value: 20.897860026750408.\n",
      "[I 2023-08-31 09:05:09,277] Trial 15 finished with value: 23.83298207892746 and parameters: {'max_depth': 10, 'learning_rate': 0.2963267245521797, 'n_estimators': 538, 'min_child_weight': 3, 'gamma': 0.3262558204628129, 'subsample': 0.600371612227738, 'colsample_bytree': 0.30808296914746175, 'reg_alpha': 0.6757286393210457, 'reg_lambda': 0.27279668740801544, 'random_state': 714}. Best is trial 1 with value: 20.897860026750408.\n",
      "[I 2023-08-31 09:05:16,806] Trial 16 finished with value: 21.064863330028096 and parameters: {'max_depth': 7, 'learning_rate': 0.016153503910983857, 'n_estimators': 983, 'min_child_weight': 6, 'gamma': 0.10312615443669446, 'subsample': 0.8492752657876724, 'colsample_bytree': 0.574042088739219, 'reg_alpha': 0.9053211481025047, 'reg_lambda': 0.17885791209690877, 'random_state': 349}. Best is trial 1 with value: 20.897860026750408.\n",
      "[I 2023-08-31 09:05:26,950] Trial 17 finished with value: 21.061069222747303 and parameters: {'max_depth': 8, 'learning_rate': 0.4382431590416946, 'n_estimators': 987, 'min_child_weight': 1, 'gamma': 0.0628250574955912, 'subsample': 0.8211565236197956, 'colsample_bytree': 0.7325960890531843, 'reg_alpha': 0.05323339644868008, 'reg_lambda': 0.13561164562229897, 'random_state': 344}. Best is trial 1 with value: 20.897860026750408.\n",
      "[I 2023-08-31 09:05:33,611] Trial 18 finished with value: 20.987163668773213 and parameters: {'max_depth': 9, 'learning_rate': 0.454528114024912, 'n_estimators': 540, 'min_child_weight': 1, 'gamma': 0.5516582101387214, 'subsample': 0.7406792088365362, 'colsample_bytree': 0.8042304713561277, 'reg_alpha': 0.031353995634965826, 'reg_lambda': 0.0957403958778326, 'random_state': 258}. Best is trial 1 with value: 20.897860026750408.\n",
      "[I 2023-08-31 09:05:42,709] Trial 19 finished with value: 21.254706804869606 and parameters: {'max_depth': 10, 'learning_rate': 0.46472262693221866, 'n_estimators': 578, 'min_child_weight': 1, 'gamma': 0.5593819113213347, 'subsample': 0.6985846377326843, 'colsample_bytree': 0.8661092898813364, 'reg_alpha': 0.3986234237308269, 'reg_lambda': 0.04516571739157808, 'random_state': 229}. Best is trial 1 with value: 20.897860026750408.\n",
      "[I 2023-08-31 09:05:49,621] Trial 20 finished with value: 23.919472663128964 and parameters: {'max_depth': 9, 'learning_rate': 0.30573098077589056, 'n_estimators': 427, 'min_child_weight': 4, 'gamma': 0.4762054891601537, 'subsample': 0.5655685275442641, 'colsample_bytree': 0.9914638432130632, 'reg_alpha': 0.02098155949708477, 'reg_lambda': 0.3366091741586549, 'random_state': 462}. Best is trial 1 with value: 20.897860026750408.\n",
      "[I 2023-08-31 09:06:03,182] Trial 21 finished with value: 22.636912314618222 and parameters: {'max_depth': 9, 'learning_rate': 0.48892241865203645, 'n_estimators': 994, 'min_child_weight': 2, 'gamma': 0.33594768661094354, 'subsample': 0.7757196551251118, 'colsample_bytree': 0.7637015246235633, 'reg_alpha': 0.03699391351713749, 'reg_lambda': 0.12305688291445775, 'random_state': 276}. Best is trial 1 with value: 20.897860026750408.\n",
      "[I 2023-08-31 09:06:09,146] Trial 22 finished with value: 21.869564478514626 and parameters: {'max_depth': 8, 'learning_rate': 0.3904908232611028, 'n_estimators': 619, 'min_child_weight': 1, 'gamma': 0.5946203752563526, 'subsample': 0.8467313402888864, 'colsample_bytree': 0.7064059472709979, 'reg_alpha': 0.10254357682713365, 'reg_lambda': 0.14079636170551185, 'random_state': 163}. Best is trial 1 with value: 20.897860026750408.\n",
      "[I 2023-08-31 09:06:13,551] Trial 23 finished with value: 26.284955415569367 and parameters: {'max_depth': 9, 'learning_rate': 0.5325347290258383, 'n_estimators': 313, 'min_child_weight': 2, 'gamma': 0.5385875523808383, 'subsample': 0.69545208840168, 'colsample_bytree': 0.8519528905419825, 'reg_alpha': 0.16370990882645525, 'reg_lambda': 0.011519268911511837, 'random_state': 359}. Best is trial 1 with value: 20.897860026750408.\n",
      "[I 2023-08-31 09:06:20,319] Trial 24 finished with value: 21.941377514698466 and parameters: {'max_depth': 6, 'learning_rate': 0.25811236172207724, 'n_estimators': 886, 'min_child_weight': 3, 'gamma': 0.7034669334915056, 'subsample': 0.8889813823213072, 'colsample_bytree': 0.7281367135682428, 'reg_alpha': 0.13156944292543116, 'reg_lambda': 0.10141078932145337, 'random_state': 422}. Best is trial 1 with value: 20.897860026750408.\n",
      "[I 2023-08-31 09:06:26,159] Trial 25 finished with value: 19.87874714272921 and parameters: {'max_depth': 8, 'learning_rate': 0.14323540230492204, 'n_estimators': 498, 'min_child_weight': 1, 'gamma': 0.3893534197721449, 'subsample': 0.7820905372558669, 'colsample_bytree': 0.8844174281484801, 'reg_alpha': 0.3590129256828797, 'reg_lambda': 0.12467483245307052, 'random_state': 544}. Best is trial 25 with value: 19.87874714272921.\n",
      "[I 2023-08-31 09:06:33,589] Trial 26 finished with value: 20.91218297989642 and parameters: {'max_depth': 10, 'learning_rate': 0.10241872254101281, 'n_estimators': 482, 'min_child_weight': 5, 'gamma': 0.43073836856380043, 'subsample': 0.7597906919784563, 'colsample_bytree': 0.8843480430660821, 'reg_alpha': 0.3215578661266489, 'reg_lambda': 0.3012461891535369, 'random_state': 755}. Best is trial 25 with value: 19.87874714272921.\n",
      "[I 2023-08-31 09:06:35,775] Trial 27 finished with value: 21.308480622338468 and parameters: {'max_depth': 10, 'learning_rate': 0.1372351376998118, 'n_estimators': 138, 'min_child_weight': 5, 'gamma': 0.40907958155411, 'subsample': 0.7800429629564245, 'colsample_bytree': 0.8981274276619694, 'reg_alpha': 0.41627030362759937, 'reg_lambda': 0.31196663529644114, 'random_state': 784}. Best is trial 25 with value: 19.87874714272921.\n",
      "[I 2023-08-31 09:06:37,565] Trial 28 finished with value: 27.27133231866555 and parameters: {'max_depth': 10, 'learning_rate': 0.10854386897353555, 'n_estimators': 309, 'min_child_weight': 4, 'gamma': 0.30196435189125476, 'subsample': 0.035512783231969436, 'colsample_bytree': 0.9277160756921465, 'reg_alpha': 0.5758661649392784, 'reg_lambda': 0.3891760820756067, 'random_state': 585}. Best is trial 25 with value: 19.87874714272921.\n",
      "[I 2023-08-31 09:06:38,988] Trial 29 finished with value: 23.31823317731013 and parameters: {'max_depth': 1, 'learning_rate': 0.09468635200951525, 'n_estimators': 455, 'min_child_weight': 6, 'gamma': 0.45252622196908104, 'subsample': 0.5595790279490525, 'colsample_bytree': 0.7942654921751093, 'reg_alpha': 0.34746237954648296, 'reg_lambda': 0.2352951917873597, 'random_state': 970}. Best is trial 25 with value: 19.87874714272921.\n",
      "[I 2023-08-31 09:06:46,274] Trial 30 finished with value: 22.54047869072586 and parameters: {'max_depth': 7, 'learning_rate': 0.20329643825238558, 'n_estimators': 646, 'min_child_weight': 8, 'gamma': 0.5126409584202565, 'subsample': 0.6542896445227241, 'colsample_bytree': 0.8428992017662158, 'reg_alpha': 0.5330858185969897, 'reg_lambda': 0.2014636592554237, 'random_state': 781}. Best is trial 25 with value: 19.87874714272921.\n",
      "[I 2023-08-31 09:06:52,626] Trial 31 finished with value: 20.629090809431233 and parameters: {'max_depth': 9, 'learning_rate': 0.2175864803048533, 'n_estimators': 492, 'min_child_weight': 3, 'gamma': 0.4946979829664198, 'subsample': 0.7571365828792608, 'colsample_bytree': 0.8180247901616682, 'reg_alpha': 0.3142100756737349, 'reg_lambda': 0.11249235194647964, 'random_state': 638}. Best is trial 25 with value: 19.87874714272921.\n",
      "[I 2023-08-31 09:06:58,899] Trial 32 finished with value: 20.589985612963066 and parameters: {'max_depth': 9, 'learning_rate': 0.08694024535286735, 'n_estimators': 476, 'min_child_weight': 3, 'gamma': 0.3914684979362305, 'subsample': 0.9367142753440953, 'colsample_bytree': 0.8767704296488161, 'reg_alpha': 0.34003825723445996, 'reg_lambda': 0.2792376478331493, 'random_state': 632}. Best is trial 25 with value: 19.87874714272921.\n",
      "[I 2023-08-31 09:07:05,871] Trial 33 finished with value: 21.49098404118272 and parameters: {'max_depth': 9, 'learning_rate': 0.16832186861554654, 'n_estimators': 479, 'min_child_weight': 3, 'gamma': 0.3743940930361508, 'subsample': 0.9409700474876286, 'colsample_bytree': 0.9786752626944248, 'reg_alpha': 0.42742623588041306, 'reg_lambda': 0.17205193756532647, 'random_state': 628}. Best is trial 25 with value: 19.87874714272921.\n",
      "[I 2023-08-31 09:07:09,743] Trial 34 finished with value: 20.51408070423564 and parameters: {'max_depth': 8, 'learning_rate': 0.23790077286638506, 'n_estimators': 335, 'min_child_weight': 2, 'gamma': 0.29561284111948216, 'subsample': 0.8959778711004189, 'colsample_bytree': 0.8326662862660331, 'reg_alpha': 0.3507709958781221, 'reg_lambda': 0.09184276785334061, 'random_state': 530}. Best is trial 25 with value: 19.87874714272921.\n",
      "[I 2023-08-31 09:07:14,270] Trial 35 finished with value: 22.025405430402913 and parameters: {'max_depth': 8, 'learning_rate': 0.24005492876181939, 'n_estimators': 333, 'min_child_weight': 2, 'gamma': 0.29303616252597786, 'subsample': 0.8827303550453122, 'colsample_bytree': 0.8450724440291175, 'reg_alpha': 0.3406428976745564, 'reg_lambda': 0.08789151476580674, 'random_state': 537}. Best is trial 25 with value: 19.87874714272921.\n",
      "[I 2023-08-31 09:07:17,451] Trial 36 finished with value: 22.42392777614906 and parameters: {'max_depth': 6, 'learning_rate': 0.23284870154056586, 'n_estimators': 280, 'min_child_weight': 3, 'gamma': 0.3751435836400429, 'subsample': 0.9238329639684133, 'colsample_bytree': 0.7784012218280265, 'reg_alpha': 0.24491312384134806, 'reg_lambda': 0.07114599631865026, 'random_state': 673}. Best is trial 25 with value: 19.87874714272921.\n",
      "[I 2023-08-31 09:07:22,460] Trial 37 finished with value: 20.81690625675389 and parameters: {'max_depth': 5, 'learning_rate': 0.07781848533343227, 'n_estimators': 614, 'min_child_weight': 2, 'gamma': 0.48356510243012707, 'subsample': 0.827564757292538, 'colsample_bytree': 0.9142338273580489, 'reg_alpha': 0.18993883030629716, 'reg_lambda': 0.2681136614810812, 'random_state': 516}. Best is trial 25 with value: 19.87874714272921.\n",
      "[I 2023-08-31 09:07:26,188] Trial 38 finished with value: 21.957539777286716 and parameters: {'max_depth': 8, 'learning_rate': 0.18367947979571764, 'n_estimators': 398, 'min_child_weight': 4, 'gamma': 0.48633150500890776, 'subsample': 0.9216732081513508, 'colsample_bytree': 0.6779364895745853, 'reg_alpha': 0.32270972955546806, 'reg_lambda': 0.012586800735077064, 'random_state': 431}. Best is trial 25 with value: 19.87874714272921.\n",
      "[I 2023-08-31 09:07:32,022] Trial 39 finished with value: 20.822217300289967 and parameters: {'max_depth': 7, 'learning_rate': 0.07023788044166322, 'n_estimators': 531, 'min_child_weight': 3, 'gamma': 0.4206469122610077, 'subsample': 0.9405386637788734, 'colsample_bytree': 0.9480479186926325, 'reg_alpha': 0.2826522282774942, 'reg_lambda': 0.1498477673035595, 'random_state': 569}. Best is trial 25 with value: 19.87874714272921.\n",
      "[I 2023-08-31 09:07:36,770] Trial 40 finished with value: 21.60347804085153 and parameters: {'max_depth': 9, 'learning_rate': 0.2556712322877287, 'n_estimators': 377, 'min_child_weight': 1, 'gamma': 0.2802333704852512, 'subsample': 0.8114857255847074, 'colsample_bytree': 0.8453774636954521, 'reg_alpha': 0.3631253701919428, 'reg_lambda': 0.37653580781156676, 'random_state': 858}. Best is trial 25 with value: 19.87874714272921.\n",
      "[I 2023-08-31 09:07:41,733] Trial 41 finished with value: 21.72013770556841 and parameters: {'max_depth': 5, 'learning_rate': 0.08391918294527653, 'n_estimators': 599, 'min_child_weight': 2, 'gamma': 0.46472223686967423, 'subsample': 0.8377202611446435, 'colsample_bytree': 0.9020633717036445, 'reg_alpha': 0.20632324969019086, 'reg_lambda': 0.26638738485320995, 'random_state': 528}. Best is trial 25 with value: 19.87874714272921.\n",
      "[I 2023-08-31 09:07:46,159] Trial 42 finished with value: 22.27044798116215 and parameters: {'max_depth': 4, 'learning_rate': 0.1444042116315748, 'n_estimators': 662, 'min_child_weight': 2, 'gamma': 0.36930272926895186, 'subsample': 0.8967355029827886, 'colsample_bytree': 0.9375379383442912, 'reg_alpha': 0.20274640253726856, 'reg_lambda': 0.20030494078441347, 'random_state': 495}. Best is trial 25 with value: 19.87874714272921.\n",
      "[I 2023-08-31 09:07:49,721] Trial 43 finished with value: 20.995496015079684 and parameters: {'max_depth': 5, 'learning_rate': 0.06255021715694913, 'n_estimators': 491, 'min_child_weight': 2, 'gamma': 0.5090349070800029, 'subsample': 0.8062843945027015, 'colsample_bytree': 0.7646158222759515, 'reg_alpha': 0.291703885398925, 'reg_lambda': 0.10657715531689946, 'random_state': 631}. Best is trial 25 with value: 19.87874714272921.\n",
      "[I 2023-08-31 09:07:54,063] Trial 44 finished with value: 22.788692646339292 and parameters: {'max_depth': 6, 'learning_rate': 0.19996337905709807, 'n_estimators': 429, 'min_child_weight': 4, 'gamma': 0.41622541267390845, 'subsample': 0.718732411397052, 'colsample_bytree': 0.8947629594212894, 'reg_alpha': 0.38373400970544763, 'reg_lambda': 0.24899761300655915, 'random_state': 723}. Best is trial 25 with value: 19.87874714272921.\n",
      "[I 2023-08-31 09:07:59,293] Trial 45 finished with value: 21.39450185807025 and parameters: {'max_depth': 4, 'learning_rate': 0.053404617052312864, 'n_estimators': 786, 'min_child_weight': 3, 'gamma': 0.3339736984387283, 'subsample': 0.8462484775676413, 'colsample_bytree': 0.8456481731771615, 'reg_alpha': 0.44585442702528233, 'reg_lambda': 0.19299487495649648, 'random_state': 611}. Best is trial 25 with value: 19.87874714272921.\n",
      "[I 2023-08-31 09:08:02,912] Trial 46 finished with value: 20.677621341142498 and parameters: {'max_depth': 3, 'learning_rate': 0.12476347209970844, 'n_estimators': 568, 'min_child_weight': 1, 'gamma': 0.4630886579844696, 'subsample': 0.954520753025806, 'colsample_bytree': 0.9567468901207405, 'reg_alpha': 0.2999723765063209, 'reg_lambda': 0.051758463871411885, 'random_state': 507}. Best is trial 25 with value: 19.87874714272921.\n",
      "[I 2023-08-31 09:08:06,490] Trial 47 finished with value: 20.721166501279736 and parameters: {'max_depth': 3, 'learning_rate': 0.13418190168455585, 'n_estimators': 568, 'min_child_weight': 1, 'gamma': 0.2080034326725428, 'subsample': 0.954136704303091, 'colsample_bytree': 0.9985034720894111, 'reg_alpha': 0.37743861063937195, 'reg_lambda': 0.0687731589846658, 'random_state': 667}. Best is trial 25 with value: 19.87874714272921.\n",
      "[I 2023-08-31 09:08:08,107] Trial 48 finished with value: 21.564787880319063 and parameters: {'max_depth': 1, 'learning_rate': 0.3326558594142256, 'n_estimators': 510, 'min_child_weight': 1, 'gamma': 0.38741633976779116, 'subsample': 0.889164246796944, 'colsample_bytree': 0.9495735707387919, 'reg_alpha': 0.2859823196158895, 'reg_lambda': 0.05488536848703654, 'random_state': 407}. Best is trial 25 with value: 19.87874714272921.\n",
      "[I 2023-08-31 09:08:09,873] Trial 49 finished with value: 22.385481568633534 and parameters: {'max_depth': 3, 'learning_rate': 0.1660542208404397, 'n_estimators': 268, 'min_child_weight': 3, 'gamma': 0.34356119278256114, 'subsample': 0.984063329387797, 'colsample_bytree': 0.8124343035506807, 'reg_alpha': 0.4719773275421635, 'reg_lambda': 0.14532761596763133, 'random_state': 574}. Best is trial 25 with value: 19.87874714272921.\n",
      "[I 2023-08-31 09:08:19,062] Trial 50 finished with value: 19.479167437944255 and parameters: {'max_depth': 8, 'learning_rate': 0.03126611473026489, 'n_estimators': 680, 'min_child_weight': 1, 'gamma': 0.25819992357430155, 'subsample': 0.9553636607263346, 'colsample_bytree': 0.9583562700693491, 'reg_alpha': 0.23899386471389664, 'reg_lambda': 0.05314804037504706, 'random_state': 457}. Best is trial 50 with value: 19.479167437944255.\n",
      "[I 2023-08-31 09:08:29,100] Trial 51 finished with value: 19.828959433758847 and parameters: {'max_depth': 8, 'learning_rate': 0.013534174510613534, 'n_estimators': 746, 'min_child_weight': 1, 'gamma': 0.25433398518477396, 'subsample': 0.9591459375784793, 'colsample_bytree': 0.9632505044053619, 'reg_alpha': 0.24144988769321438, 'reg_lambda': 0.04689767489747799, 'random_state': 455}. Best is trial 50 with value: 19.479167437944255.\n",
      "[I 2023-08-31 09:08:37,854] Trial 52 finished with value: 20.09603763017498 and parameters: {'max_depth': 8, 'learning_rate': 0.013397618037018336, 'n_estimators': 679, 'min_child_weight': 2, 'gamma': 0.2599111507843552, 'subsample': 0.9990972453795068, 'colsample_bytree': 0.8840554821045392, 'reg_alpha': 0.23770396176117992, 'reg_lambda': 0.11245727594001878, 'random_state': 436}. Best is trial 50 with value: 19.479167437944255.\n",
      "[I 2023-08-31 09:08:45,796] Trial 53 finished with value: 20.20188789680356 and parameters: {'max_depth': 8, 'learning_rate': 0.01499687106081182, 'n_estimators': 691, 'min_child_weight': 2, 'gamma': 0.25398987015635144, 'subsample': 0.9983022681915668, 'colsample_bytree': 0.899591061239685, 'reg_alpha': 0.22433801294673877, 'reg_lambda': 0.03914222962528274, 'random_state': 454}. Best is trial 50 with value: 19.479167437944255.\n",
      "[I 2023-08-31 09:08:54,857] Trial 54 finished with value: 20.171926232635 and parameters: {'max_depth': 8, 'learning_rate': 0.024729535507043446, 'n_estimators': 760, 'min_child_weight': 2, 'gamma': 0.1850050559491117, 'subsample': 0.9948537420074779, 'colsample_bytree': 0.9581509713564001, 'reg_alpha': 0.24204409912053174, 'reg_lambda': 0.01130448228148323, 'random_state': 463}. Best is trial 50 with value: 19.479167437944255.\n",
      "[I 2023-08-31 09:09:03,224] Trial 55 finished with value: 20.060805430177783 and parameters: {'max_depth': 7, 'learning_rate': 0.01542085167150449, 'n_estimators': 742, 'min_child_weight': 1, 'gamma': 0.16924471120052043, 'subsample': 0.9865204266006619, 'colsample_bytree': 0.9720194325874769, 'reg_alpha': 0.24276824035916, 'reg_lambda': 0.034564119370177414, 'random_state': 456}. Best is trial 50 with value: 19.479167437944255.\n",
      "[I 2023-08-31 09:09:11,424] Trial 56 finished with value: 19.65335602056785 and parameters: {'max_depth': 7, 'learning_rate': 0.03908881701859234, 'n_estimators': 761, 'min_child_weight': 1, 'gamma': 0.1668393323316082, 'subsample': 0.9698159643245438, 'colsample_bytree': 0.9640832484756569, 'reg_alpha': 0.24016008876509945, 'reg_lambda': 0.01499680274995386, 'random_state': 382}. Best is trial 50 with value: 19.479167437944255.\n",
      "[I 2023-08-31 09:09:21,066] Trial 57 finished with value: 19.682409896225227 and parameters: {'max_depth': 7, 'learning_rate': 0.03659083896820556, 'n_estimators': 878, 'min_child_weight': 1, 'gamma': 0.16116143226420665, 'subsample': 0.9673014342163471, 'colsample_bytree': 0.9594848377139049, 'reg_alpha': 0.2600458140771765, 'reg_lambda': 0.05704385733501715, 'random_state': 307}. Best is trial 50 with value: 19.479167437944255.\n",
      "[I 2023-08-31 09:09:31,865] Trial 58 finished with value: 19.82391435591901 and parameters: {'max_depth': 7, 'learning_rate': 0.0510308278898068, 'n_estimators': 890, 'min_child_weight': 1, 'gamma': 0.16206516766396306, 'subsample': 0.9617806538244542, 'colsample_bytree': 0.9920397332143068, 'reg_alpha': 0.16278884095292318, 'reg_lambda': 0.050780360447340404, 'random_state': 306}. Best is trial 50 with value: 19.479167437944255.\n",
      "[I 2023-08-31 09:09:42,664] Trial 59 finished with value: 20.227534966390643 and parameters: {'max_depth': 7, 'learning_rate': 0.05540473133731191, 'n_estimators': 914, 'min_child_weight': 1, 'gamma': 0.09640341294132489, 'subsample': 0.875435131756858, 'colsample_bytree': 0.9957040665949739, 'reg_alpha': 0.14741369658098413, 'reg_lambda': 0.06337066475906052, 'random_state': 314}. Best is trial 50 with value: 19.479167437944255.\n",
      "[I 2023-08-31 09:09:51,708] Trial 60 finished with value: 19.992943685562885 and parameters: {'max_depth': 6, 'learning_rate': 0.0449208465070506, 'n_estimators': 816, 'min_child_weight': 1, 'gamma': 0.14584595527500216, 'subsample': 0.918601773102641, 'colsample_bytree': 0.9243483212528234, 'reg_alpha': 0.17245910190802563, 'reg_lambda': 0.14313114748661815, 'random_state': 194}. Best is trial 50 with value: 19.479167437944255.\n",
      "[I 2023-08-31 09:09:59,082] Trial 61 finished with value: 19.968128892241932 and parameters: {'max_depth': 6, 'learning_rate': 0.04890918618135346, 'n_estimators': 803, 'min_child_weight': 1, 'gamma': 0.14314397732441567, 'subsample': 0.9584849116946226, 'colsample_bytree': 0.9273560631071368, 'reg_alpha': 0.0987762447468758, 'reg_lambda': 0.14664589626683072, 'random_state': 194}. Best is trial 50 with value: 19.479167437944255.\n",
      "[I 2023-08-31 09:10:08,660] Trial 62 finished with value: 19.93396311900655 and parameters: {'max_depth': 7, 'learning_rate': 0.10718380753802016, 'n_estimators': 876, 'min_child_weight': 1, 'gamma': 0.2204809958872563, 'subsample': 0.9572698912439662, 'colsample_bytree': 0.9992659891946996, 'reg_alpha': 0.1752671148247753, 'reg_lambda': 0.07479277628618534, 'random_state': 313}. Best is trial 50 with value: 19.479167437944255.\n",
      "[I 2023-08-31 09:10:18,039] Trial 63 finished with value: 19.67935247890285 and parameters: {'max_depth': 7, 'learning_rate': 0.1121329230754338, 'n_estimators': 856, 'min_child_weight': 1, 'gamma': 0.23238083206459412, 'subsample': 0.9579818624555251, 'colsample_bytree': 0.9688100299039494, 'reg_alpha': 0.2697513048926602, 'reg_lambda': 0.07884266564288837, 'random_state': 378}. Best is trial 50 with value: 19.479167437944255.\n",
      "[I 2023-08-31 09:10:28,506] Trial 64 finished with value: 20.00999933774354 and parameters: {'max_depth': 7, 'learning_rate': 0.11166111191119235, 'n_estimators': 924, 'min_child_weight': 1, 'gamma': 0.23917526523651308, 'subsample': 0.8700808572176629, 'colsample_bytree': 0.9769999190085408, 'reg_alpha': 0.27959027608345816, 'reg_lambda': 0.012255278114588555, 'random_state': 386}. Best is trial 50 with value: 19.479167437944255.\n",
      "[I 2023-08-31 09:10:37,666] Trial 65 finished with value: 20.136488726881684 and parameters: {'max_depth': 7, 'learning_rate': 0.06451672649762735, 'n_estimators': 845, 'min_child_weight': 1, 'gamma': 0.19959967274196075, 'subsample': 0.9125122277638267, 'colsample_bytree': 0.9541129820872487, 'reg_alpha': 0.26725119815139375, 'reg_lambda': 0.04720933330374637, 'random_state': 384}. Best is trial 50 with value: 19.479167437944255.\n",
      "[I 2023-08-31 09:10:46,224] Trial 66 finished with value: 19.496225200715614 and parameters: {'max_depth': 8, 'learning_rate': 0.16608935408091993, 'n_estimators': 716, 'min_child_weight': 1, 'gamma': 0.22908750220773597, 'subsample': 0.862853723841589, 'colsample_bytree': 0.8674813862909252, 'reg_alpha': 0.20326262971014164, 'reg_lambda': 0.09271727279590063, 'random_state': 307}. Best is trial 50 with value: 19.479167437944255.\n",
      "[I 2023-08-31 09:10:53,477] Trial 67 finished with value: 19.92567889416804 and parameters: {'max_depth': 6, 'learning_rate': 0.0370727113311365, 'n_estimators': 721, 'min_child_weight': 1, 'gamma': 0.015958066450520197, 'subsample': 0.8589498573924139, 'colsample_bytree': 0.9227189027653957, 'reg_alpha': 0.12836357418514682, 'reg_lambda': 0.10162985988706569, 'random_state': 308}. Best is trial 50 with value: 19.479167437944255.\n",
      "[I 2023-08-31 09:11:04,107] Trial 68 finished with value: 20.42410292390917 and parameters: {'max_depth': 7, 'learning_rate': 0.07751031528479124, 'n_estimators': 955, 'min_child_weight': 2, 'gamma': 0.15340403696612204, 'subsample': 0.9710096337667417, 'colsample_bytree': 0.8678332152124398, 'reg_alpha': 0.21399269178327845, 'reg_lambda': 0.17317151426233246, 'random_state': 277}. Best is trial 50 with value: 19.479167437944255.\n",
      "[I 2023-08-31 09:11:13,483] Trial 69 finished with value: 19.706817517515088 and parameters: {'max_depth': 7, 'learning_rate': 0.15670924757991456, 'n_estimators': 779, 'min_child_weight': 1, 'gamma': 0.12187662542001026, 'subsample': 0.9184819421035669, 'colsample_bytree': 0.9679291570966287, 'reg_alpha': 0.20050101294482633, 'reg_lambda': 0.085971520120168, 'random_state': 354}. Best is trial 50 with value: 19.479167437944255.\n",
      "[I 2023-08-31 09:11:21,626] Trial 70 finished with value: 21.342226513096545 and parameters: {'max_depth': 6, 'learning_rate': 0.16032093476109782, 'n_estimators': 868, 'min_child_weight': 2, 'gamma': 0.058820851688504955, 'subsample': 0.9060340198491184, 'colsample_bytree': 0.9189912813358521, 'reg_alpha': 0.08069030766874591, 'reg_lambda': 0.21042158817228535, 'random_state': 363}. Best is trial 50 with value: 19.479167437944255.\n",
      "[I 2023-08-31 09:11:30,231] Trial 71 finished with value: 20.264285071951445 and parameters: {'max_depth': 7, 'learning_rate': 0.11373289178392121, 'n_estimators': 787, 'min_child_weight': 1, 'gamma': 0.11928766661337621, 'subsample': 0.9299334627525271, 'colsample_bytree': 0.9628052651475805, 'reg_alpha': 0.17001308977228968, 'reg_lambda': 0.0831309239196903, 'random_state': 244}. Best is trial 50 with value: 19.479167437944255.\n",
      "[I 2023-08-31 09:11:41,840] Trial 72 finished with value: 19.669853460593302 and parameters: {'max_depth': 8, 'learning_rate': 0.010666732248747923, 'n_estimators': 842, 'min_child_weight': 1, 'gamma': 0.1835275841722307, 'subsample': 0.9634843524640603, 'colsample_bytree': 0.9701688223650523, 'reg_alpha': 0.20560435437998392, 'reg_lambda': 0.04083221377528161, 'random_state': 338}. Best is trial 50 with value: 19.479167437944255.\n",
      "[I 2023-08-31 09:11:53,883] Trial 73 finished with value: 19.88319342253638 and parameters: {'max_depth': 7, 'learning_rate': 0.09766860433992003, 'n_estimators': 910, 'min_child_weight': 1, 'gamma': 0.19726500055822543, 'subsample': 0.8662301328302158, 'colsample_bytree': 0.9796686172385322, 'reg_alpha': 0.13662923440268143, 'reg_lambda': 0.12554872236670164, 'random_state': 333}. Best is trial 50 with value: 19.479167437944255.\n",
      "[I 2023-08-31 09:12:03,585] Trial 74 finished with value: 19.60309461687432 and parameters: {'max_depth': 8, 'learning_rate': 0.043095169907139325, 'n_estimators': 839, 'min_child_weight': 1, 'gamma': 0.170907942395907, 'subsample': 0.9724763596609336, 'colsample_bytree': 0.8673908062172766, 'reg_alpha': 0.19598149468352843, 'reg_lambda': 0.03407083440241809, 'random_state': 286}. Best is trial 50 with value: 19.479167437944255.\n",
      "[I 2023-08-31 09:12:13,542] Trial 75 finished with value: 20.750565466333608 and parameters: {'max_depth': 8, 'learning_rate': 0.18725639772721428, 'n_estimators': 832, 'min_child_weight': 2, 'gamma': 0.13087949140836516, 'subsample': 0.9193351222231192, 'colsample_bytree': 0.8686138158655401, 'reg_alpha': 0.2012155984320536, 'reg_lambda': 0.08871557462421797, 'random_state': 133}. Best is trial 50 with value: 19.479167437944255.\n",
      "[I 2023-08-31 09:12:25,039] Trial 76 finished with value: 19.99134720348921 and parameters: {'max_depth': 9, 'learning_rate': 0.13164854141356408, 'n_estimators': 770, 'min_child_weight': 1, 'gamma': 0.2135271976842181, 'subsample': 0.9716728349729568, 'colsample_bytree': 0.904563576009472, 'reg_alpha': 0.19582241257054922, 'reg_lambda': 0.03165625703784583, 'random_state': 370}. Best is trial 50 with value: 19.479167437944255.\n",
      "[I 2023-08-31 09:12:37,386] Trial 77 finished with value: 20.833718456205773 and parameters: {'max_depth': 8, 'learning_rate': 0.082588873133997, 'n_estimators': 948, 'min_child_weight': 2, 'gamma': 0.09178478756261471, 'subsample': 0.9384786741867658, 'colsample_bytree': 0.9377877401090666, 'reg_alpha': 0.2630856040848756, 'reg_lambda': 0.011772143641286715, 'random_state': 275}. Best is trial 50 with value: 19.479167437944255.\n",
      "[I 2023-08-31 09:12:48,694] Trial 78 finished with value: 21.893895180498966 and parameters: {'max_depth': 8, 'learning_rate': 0.155948321766, 'n_estimators': 854, 'min_child_weight': 8, 'gamma': 0.1820583770029165, 'subsample': 0.8979404270747817, 'colsample_bytree': 0.8564684467717112, 'reg_alpha': 0.2144345361098191, 'reg_lambda': 0.12014882425052714, 'random_state': 207}. Best is trial 50 with value: 19.479167437944255.\n",
      "[I 2023-08-31 09:12:59,344] Trial 79 finished with value: 19.401356712716524 and parameters: {'max_depth': 9, 'learning_rate': 0.04785919350781656, 'n_estimators': 807, 'min_child_weight': 1, 'gamma': 0.11967225721520586, 'subsample': 0.8278589344835189, 'colsample_bytree': 0.8170027624291141, 'reg_alpha': 0.25897483399279386, 'reg_lambda': 0.16445044062235667, 'random_state': 339}. Best is trial 79 with value: 19.401356712716524.\n",
      "[I 2023-08-31 09:13:10,398] Trial 80 finished with value: 20.016567793048797 and parameters: {'max_depth': 9, 'learning_rate': 0.03721298120638507, 'n_estimators': 825, 'min_child_weight': 2, 'gamma': 0.22422628086015461, 'subsample': 0.8303948891106041, 'colsample_bytree': 0.8252337250692343, 'reg_alpha': 0.3144974655137416, 'reg_lambda': 0.1588144153487284, 'random_state': 408}. Best is trial 79 with value: 19.401356712716524.\n",
      "[I 2023-08-31 09:13:19,916] Trial 81 finished with value: 20.025574856117125 and parameters: {'max_depth': 8, 'learning_rate': 0.08783492742430662, 'n_estimators': 791, 'min_child_weight': 1, 'gamma': 0.12606871799892974, 'subsample': 0.866122871907465, 'colsample_bytree': 0.8890835840376233, 'reg_alpha': 0.26950687630730963, 'reg_lambda': 0.09317446223522764, 'random_state': 284}. Best is trial 79 with value: 19.401356712716524.\n",
      "[I 2023-08-31 09:13:30,266] Trial 82 finished with value: 19.635921384467455 and parameters: {'max_depth': 9, 'learning_rate': 0.04036115207205391, 'n_estimators': 767, 'min_child_weight': 1, 'gamma': 0.17009618546624086, 'subsample': 0.9348642349673125, 'colsample_bytree': 0.9338060114163088, 'reg_alpha': 0.2291874933299799, 'reg_lambda': 0.07216122702882222, 'random_state': 344}. Best is trial 79 with value: 19.401356712716524.\n",
      "[I 2023-08-31 09:13:41,322] Trial 83 finished with value: 19.246840242479667 and parameters: {'max_depth': 9, 'learning_rate': 0.03764234987808425, 'n_estimators': 715, 'min_child_weight': 1, 'gamma': 0.16649306864440108, 'subsample': 0.97499514250235, 'colsample_bytree': 0.9365927802490076, 'reg_alpha': 0.2291206375618084, 'reg_lambda': 0.06647350170916537, 'random_state': 342}. Best is trial 83 with value: 19.246840242479667.\n",
      "[I 2023-08-31 09:13:51,246] Trial 84 finished with value: 19.627899466967975 and parameters: {'max_depth': 9, 'learning_rate': 0.06513032812967823, 'n_estimators': 725, 'min_child_weight': 1, 'gamma': 0.18181823188527058, 'subsample': 0.9366220785147349, 'colsample_bytree': 0.9103036630185336, 'reg_alpha': 0.3043893985402465, 'reg_lambda': 0.029665345630922914, 'random_state': 235}. Best is trial 83 with value: 19.246840242479667.\n",
      "[I 2023-08-31 09:14:00,868] Trial 85 finished with value: 19.449183073200164 and parameters: {'max_depth': 10, 'learning_rate': 0.06918667333838038, 'n_estimators': 717, 'min_child_weight': 1, 'gamma': 0.1827448166068807, 'subsample': 0.8036019525993465, 'colsample_bytree': 0.7839156510959415, 'reg_alpha': 0.22621427438287442, 'reg_lambda': 0.03451888090965517, 'random_state': 228}. Best is trial 83 with value: 19.246840242479667.\n",
      "[I 2023-08-31 09:14:10,633] Trial 86 finished with value: 19.9381019091997 and parameters: {'max_depth': 10, 'learning_rate': 0.06940952323546822, 'n_estimators': 717, 'min_child_weight': 2, 'gamma': 0.07471861389447182, 'subsample': 0.795587098944175, 'colsample_bytree': 0.7883794036669715, 'reg_alpha': 0.3107555858427993, 'reg_lambda': 0.12725228784511705, 'random_state': 226}. Best is trial 83 with value: 19.246840242479667.\n",
      "[I 2023-08-31 09:14:20,017] Trial 87 finished with value: 19.88809385456023 and parameters: {'max_depth': 10, 'learning_rate': 0.0665555957867513, 'n_estimators': 661, 'min_child_weight': 1, 'gamma': 0.2740540948600748, 'subsample': 0.8146823998678105, 'colsample_bytree': 0.8168626870233071, 'reg_alpha': 0.2277975525490637, 'reg_lambda': 0.02655338949700145, 'random_state': 163}. Best is trial 83 with value: 19.246840242479667.\n",
      "[I 2023-08-31 09:14:28,386] Trial 88 finished with value: 21.574854069068785 and parameters: {'max_depth': 9, 'learning_rate': 0.035812739196583517, 'n_estimators': 632, 'min_child_weight': 9, 'gamma': 0.10394084859725855, 'subsample': 0.8407691095002487, 'colsample_bytree': 0.8654827437763545, 'reg_alpha': 0.2950607683501568, 'reg_lambda': 0.1704512479874337, 'random_state': 247}. Best is trial 83 with value: 19.246840242479667.\n",
      "[I 2023-08-31 09:14:37,689] Trial 89 finished with value: 20.80031732653008 and parameters: {'max_depth': 10, 'learning_rate': 0.11682354744018214, 'n_estimators': 699, 'min_child_weight': 2, 'gamma': 0.16202957834075052, 'subsample': 0.8887187243820212, 'colsample_bytree': 0.7851793715692753, 'reg_alpha': 0.22822588074156536, 'reg_lambda': 0.10919710549148369, 'random_state': 95}. Best is trial 83 with value: 19.246840242479667.\n",
      "[I 2023-08-31 09:14:46,236] Trial 90 finished with value: 19.2997712307289 and parameters: {'max_depth': 9, 'learning_rate': 0.09874120020723007, 'n_estimators': 736, 'min_child_weight': 1, 'gamma': 0.1972140845856245, 'subsample': 0.9333166107701, 'colsample_bytree': 0.7544002337321031, 'reg_alpha': 0.1521256751706998, 'reg_lambda': 0.03597188891444182, 'random_state': 217}. Best is trial 83 with value: 19.246840242479667.\n",
      "[I 2023-08-31 09:14:56,309] Trial 91 finished with value: 19.530831039928998 and parameters: {'max_depth': 9, 'learning_rate': 0.09219783467659631, 'n_estimators': 739, 'min_child_weight': 1, 'gamma': 0.2002965400083466, 'subsample': 0.9372642368094278, 'colsample_bytree': 0.7616892527514671, 'reg_alpha': 0.18015881117108595, 'reg_lambda': 0.06525737783387088, 'random_state': 231}. Best is trial 83 with value: 19.246840242479667.\n",
      "[I 2023-08-31 09:15:04,561] Trial 92 finished with value: 19.426932006585794 and parameters: {'max_depth': 9, 'learning_rate': 0.0905723573526018, 'n_estimators': 732, 'min_child_weight': 1, 'gamma': 0.19124971995085355, 'subsample': 0.9309891489844729, 'colsample_bytree': 0.7505802336201071, 'reg_alpha': 0.1497227626158189, 'reg_lambda': 0.0675585359481825, 'random_state': 31}. Best is trial 83 with value: 19.246840242479667.\n",
      "[I 2023-08-31 09:15:12,981] Trial 93 finished with value: 19.350365779438956 and parameters: {'max_depth': 9, 'learning_rate': 0.08927906833630547, 'n_estimators': 729, 'min_child_weight': 1, 'gamma': 0.2036753220020591, 'subsample': 0.9052482471792961, 'colsample_bytree': 0.7636331154906791, 'reg_alpha': 0.12071048915572334, 'reg_lambda': 0.06477734809951617, 'random_state': 12}. Best is trial 83 with value: 19.246840242479667.\n",
      "[I 2023-08-31 09:15:20,578] Trial 94 finished with value: 19.766917041090668 and parameters: {'max_depth': 9, 'learning_rate': 0.0931179628899278, 'n_estimators': 677, 'min_child_weight': 1, 'gamma': 0.20753930911532514, 'subsample': 0.8513093554298471, 'colsample_bytree': 0.7342293430448511, 'reg_alpha': 0.151078356739427, 'reg_lambda': 0.065493824437241, 'random_state': 48}. Best is trial 83 with value: 19.246840242479667.\n",
      "[I 2023-08-31 09:15:29,887] Trial 95 finished with value: 21.23645522946217 and parameters: {'max_depth': 10, 'learning_rate': 0.13607632663502067, 'n_estimators': 737, 'min_child_weight': 2, 'gamma': 0.24119260596184, 'subsample': 0.9008685269863608, 'colsample_bytree': 0.7595579198816516, 'reg_alpha': 0.10959519550507149, 'reg_lambda': 0.12880582487412287, 'random_state': 35}. Best is trial 83 with value: 19.246840242479667.\n",
      "[I 2023-08-31 09:15:38,156] Trial 96 finished with value: 19.78318386390561 and parameters: {'max_depth': 9, 'learning_rate': 0.09012081184518819, 'n_estimators': 698, 'min_child_weight': 1, 'gamma': 0.30270708379896577, 'subsample': 0.7937808765601153, 'colsample_bytree': 0.749720707457825, 'reg_alpha': 0.17895830698271978, 'reg_lambda': 0.09932163804721185, 'random_state': 3}. Best is trial 83 with value: 19.246840242479667.\n",
      "[I 2023-08-31 09:15:46,035] Trial 97 finished with value: 21.609482249275583 and parameters: {'max_depth': 10, 'learning_rate': 0.17342432345672254, 'n_estimators': 636, 'min_child_weight': 6, 'gamma': 0.27098199866739525, 'subsample': 0.8743845368526364, 'colsample_bytree': 0.709131319363923, 'reg_alpha': 0.12121588829028847, 'reg_lambda': 0.054517546854807156, 'random_state': 157}. Best is trial 83 with value: 19.246840242479667.\n",
      "[I 2023-08-31 09:15:53,944] Trial 98 finished with value: 20.182918095197834 and parameters: {'max_depth': 9, 'learning_rate': 0.12167019271282414, 'n_estimators': 661, 'min_child_weight': 2, 'gamma': 0.13975347521305395, 'subsample': 0.8248007124081902, 'colsample_bytree': 0.7979703077768651, 'reg_alpha': 0.06416508806221272, 'reg_lambda': 0.18734239826241927, 'random_state': 105}. Best is trial 83 with value: 19.246840242479667.\n",
      "[I 2023-08-31 09:16:04,613] Trial 99 finished with value: 20.365531702510648 and parameters: {'max_depth': 9, 'learning_rate': 0.13856300331935673, 'n_estimators': 813, 'min_child_weight': 1, 'gamma': 0.23282129290235815, 'subsample': 0.7639528872673699, 'colsample_bytree': 0.8284702668344568, 'reg_alpha': 0.14702567320911303, 'reg_lambda': 0.037876418230357964, 'random_state': 66}. Best is trial 83 with value: 19.246840242479667.\n"
     ]
    },
    {
     "name": "stdout",
     "output_type": "stream",
     "text": [
      "Best parameters {'max_depth': 9, 'learning_rate': 0.03764234987808425, 'n_estimators': 715, 'min_child_weight': 1, 'gamma': 0.16649306864440108, 'subsample': 0.97499514250235, 'colsample_bytree': 0.9365927802490076, 'reg_alpha': 0.2291206375618084, 'reg_lambda': 0.06647350170916537, 'random_state': 342}\n",
      "Best value 19.246840242479667\n",
      "Best trial FrozenTrial(number=83, state=1, values=[19.246840242479667], datetime_start=datetime.datetime(2023, 8, 31, 9, 13, 30, 268619), datetime_complete=datetime.datetime(2023, 8, 31, 9, 13, 41, 321494), params={'max_depth': 9, 'learning_rate': 0.03764234987808425, 'n_estimators': 715, 'min_child_weight': 1, 'gamma': 0.16649306864440108, 'subsample': 0.97499514250235, 'colsample_bytree': 0.9365927802490076, 'reg_alpha': 0.2291206375618084, 'reg_lambda': 0.06647350170916537, 'random_state': 342}, user_attrs={}, system_attrs={}, intermediate_values={}, distributions={'max_depth': IntDistribution(high=10, log=False, low=1, step=1), 'learning_rate': FloatDistribution(high=1.0, log=False, low=0.01, step=None), 'n_estimators': IntDistribution(high=1000, log=False, low=50, step=1), 'min_child_weight': IntDistribution(high=10, log=False, low=1, step=1), 'gamma': FloatDistribution(high=1.0, log=False, low=0.01, step=None), 'subsample': FloatDistribution(high=1.0, log=False, low=0.01, step=None), 'colsample_bytree': FloatDistribution(high=1.0, log=False, low=0.01, step=None), 'reg_alpha': FloatDistribution(high=1.0, log=False, low=0.01, step=None), 'reg_lambda': FloatDistribution(high=1.0, log=False, low=0.01, step=None), 'random_state': IntDistribution(high=1000, log=False, low=1, step=1)}, trial_id=83, value=None)\n"
     ]
    }
   ],
   "source": [
    "from sklearn.model_selection import GridSearchCV\n",
    "import optuna\n",
    "\n",
    "def objective(trial):\n",
    "    param = {\n",
    "        'max_depth': trial.suggest_int('max_depth', 1, 10),\n",
    "        'learning_rate': trial.suggest_float('learning_rate', 0.01, 1.0),\n",
    "        'n_estimators': trial.suggest_int('n_estimators', 50, 1000),\n",
    "        'min_child_weight': trial.suggest_int('min_child_weight', 1, 10),\n",
    "        'gamma': trial.suggest_float('gamma', 0.01, 1.0),\n",
    "        'subsample': trial.suggest_float('subsample', 0.01, 1.0),\n",
    "        'colsample_bytree': trial.suggest_float('colsample_bytree', 0.01, 1.0),\n",
    "        'reg_alpha': trial.suggest_float('reg_alpha', 0.01, 1.0),\n",
    "        'reg_lambda': trial.suggest_float('reg_lambda', 0.01, 1.0),\n",
    "        'random_state': trial.suggest_int('random_state', 1, 1000)\n",
    "    }\n",
    "    model = xgb.XGBRegressor(**param)\n",
    "    model.fit(x_train_prepared, y_train_dum_null)\n",
    "    y_pred = model.predict(x_test_prepared)\n",
    "    return mean_absolute_error(y_test_dum, y_pred)\n",
    "\n",
    "\n",
    "study = optuna.create_study(direction='minimize', study_name='regression')\n",
    "study.optimize(objective, n_trials=100)\n",
    "\n",
    "\n",
    "print('Best parameters', study.best_params)\n",
    "print('Best value', study.best_value)\n",
    "print('Best trial', study.best_trial)"
   ]
  },
  {
   "cell_type": "markdown",
   "id": "5e9b5fd9-b495-451f-a04f-ba930fa0ab88",
   "metadata": {
    "tags": []
   },
   "source": [
    "## 7. Ensemble methods"
   ]
  },
  {
   "cell_type": "markdown",
   "id": "5085f3ee-b19c-4922-a5c1-c04d1cfca6e0",
   "metadata": {},
   "source": [
    "### a. Trying Gradient Boosting using xgboost"
   ]
  },
  {
   "cell_type": "code",
   "execution_count": 28,
   "id": "38d1d94e-1a0a-4c00-8c14-3e2deee5f881",
   "metadata": {
    "tags": []
   },
   "outputs": [
    {
     "data": {
      "text/html": [
       "<style>#sk-container-id-1 {color: black;}#sk-container-id-1 pre{padding: 0;}#sk-container-id-1 div.sk-toggleable {background-color: white;}#sk-container-id-1 label.sk-toggleable__label {cursor: pointer;display: block;width: 100%;margin-bottom: 0;padding: 0.3em;box-sizing: border-box;text-align: center;}#sk-container-id-1 label.sk-toggleable__label-arrow:before {content: \"▸\";float: left;margin-right: 0.25em;color: #696969;}#sk-container-id-1 label.sk-toggleable__label-arrow:hover:before {color: black;}#sk-container-id-1 div.sk-estimator:hover label.sk-toggleable__label-arrow:before {color: black;}#sk-container-id-1 div.sk-toggleable__content {max-height: 0;max-width: 0;overflow: hidden;text-align: left;background-color: #f0f8ff;}#sk-container-id-1 div.sk-toggleable__content pre {margin: 0.2em;color: black;border-radius: 0.25em;background-color: #f0f8ff;}#sk-container-id-1 input.sk-toggleable__control:checked~div.sk-toggleable__content {max-height: 200px;max-width: 100%;overflow: auto;}#sk-container-id-1 input.sk-toggleable__control:checked~label.sk-toggleable__label-arrow:before {content: \"▾\";}#sk-container-id-1 div.sk-estimator input.sk-toggleable__control:checked~label.sk-toggleable__label {background-color: #d4ebff;}#sk-container-id-1 div.sk-label input.sk-toggleable__control:checked~label.sk-toggleable__label {background-color: #d4ebff;}#sk-container-id-1 input.sk-hidden--visually {border: 0;clip: rect(1px 1px 1px 1px);clip: rect(1px, 1px, 1px, 1px);height: 1px;margin: -1px;overflow: hidden;padding: 0;position: absolute;width: 1px;}#sk-container-id-1 div.sk-estimator {font-family: monospace;background-color: #f0f8ff;border: 1px dotted black;border-radius: 0.25em;box-sizing: border-box;margin-bottom: 0.5em;}#sk-container-id-1 div.sk-estimator:hover {background-color: #d4ebff;}#sk-container-id-1 div.sk-parallel-item::after {content: \"\";width: 100%;border-bottom: 1px solid gray;flex-grow: 1;}#sk-container-id-1 div.sk-label:hover label.sk-toggleable__label {background-color: #d4ebff;}#sk-container-id-1 div.sk-serial::before {content: \"\";position: absolute;border-left: 1px solid gray;box-sizing: border-box;top: 0;bottom: 0;left: 50%;z-index: 0;}#sk-container-id-1 div.sk-serial {display: flex;flex-direction: column;align-items: center;background-color: white;padding-right: 0.2em;padding-left: 0.2em;position: relative;}#sk-container-id-1 div.sk-item {position: relative;z-index: 1;}#sk-container-id-1 div.sk-parallel {display: flex;align-items: stretch;justify-content: center;background-color: white;position: relative;}#sk-container-id-1 div.sk-item::before, #sk-container-id-1 div.sk-parallel-item::before {content: \"\";position: absolute;border-left: 1px solid gray;box-sizing: border-box;top: 0;bottom: 0;left: 50%;z-index: -1;}#sk-container-id-1 div.sk-parallel-item {display: flex;flex-direction: column;z-index: 1;position: relative;background-color: white;}#sk-container-id-1 div.sk-parallel-item:first-child::after {align-self: flex-end;width: 50%;}#sk-container-id-1 div.sk-parallel-item:last-child::after {align-self: flex-start;width: 50%;}#sk-container-id-1 div.sk-parallel-item:only-child::after {width: 0;}#sk-container-id-1 div.sk-dashed-wrapped {border: 1px dashed gray;margin: 0 0.4em 0.5em 0.4em;box-sizing: border-box;padding-bottom: 0.4em;background-color: white;}#sk-container-id-1 div.sk-label label {font-family: monospace;font-weight: bold;display: inline-block;line-height: 1.2em;}#sk-container-id-1 div.sk-label-container {text-align: center;}#sk-container-id-1 div.sk-container {/* jupyter's `normalize.less` sets `[hidden] { display: none; }` but bootstrap.min.css set `[hidden] { display: none !important; }` so we also need the `!important` here to be able to override the default hidden behavior on the sphinx rendered scikit-learn.org. See: https://github.com/scikit-learn/scikit-learn/issues/21755 */display: inline-block !important;position: relative;}#sk-container-id-1 div.sk-text-repr-fallback {display: none;}</style><div id=\"sk-container-id-1\" class=\"sk-top-container\"><div class=\"sk-text-repr-fallback\"><pre>XGBRegressor(base_score=None, booster=None, callbacks=None,\n",
       "             colsample_bylevel=None, colsample_bynode=None,\n",
       "             colsample_bytree=0.9365927802490076, early_stopping_rounds=None,\n",
       "             enable_categorical=False, eval_metric=None, feature_types=None,\n",
       "             gamma=0.16649306864440108, gpu_id=None, grow_policy=None,\n",
       "             importance_type=None, interaction_constraints=None,\n",
       "             learning_rate=0.03764234987808425, max_bin=None,\n",
       "             max_cat_threshold=None, max_cat_to_onehot=None,\n",
       "             max_delta_step=None, max_depth=9, max_leaves=None,\n",
       "             min_child_weight=1, missing=nan, monotone_constraints=None,\n",
       "             n_estimators=715, n_jobs=None, num_parallel_tree=None,\n",
       "             predictor=None, random_state=342, ...)</pre><b>In a Jupyter environment, please rerun this cell to show the HTML representation or trust the notebook. <br />On GitHub, the HTML representation is unable to render, please try loading this page with nbviewer.org.</b></div><div class=\"sk-container\" hidden><div class=\"sk-item\"><div class=\"sk-estimator sk-toggleable\"><input class=\"sk-toggleable__control sk-hidden--visually\" id=\"sk-estimator-id-1\" type=\"checkbox\" checked><label for=\"sk-estimator-id-1\" class=\"sk-toggleable__label sk-toggleable__label-arrow\">XGBRegressor</label><div class=\"sk-toggleable__content\"><pre>XGBRegressor(base_score=None, booster=None, callbacks=None,\n",
       "             colsample_bylevel=None, colsample_bynode=None,\n",
       "             colsample_bytree=0.9365927802490076, early_stopping_rounds=None,\n",
       "             enable_categorical=False, eval_metric=None, feature_types=None,\n",
       "             gamma=0.16649306864440108, gpu_id=None, grow_policy=None,\n",
       "             importance_type=None, interaction_constraints=None,\n",
       "             learning_rate=0.03764234987808425, max_bin=None,\n",
       "             max_cat_threshold=None, max_cat_to_onehot=None,\n",
       "             max_delta_step=None, max_depth=9, max_leaves=None,\n",
       "             min_child_weight=1, missing=nan, monotone_constraints=None,\n",
       "             n_estimators=715, n_jobs=None, num_parallel_tree=None,\n",
       "             predictor=None, random_state=342, ...)</pre></div></div></div></div></div>"
      ],
      "text/plain": [
       "XGBRegressor(base_score=None, booster=None, callbacks=None,\n",
       "             colsample_bylevel=None, colsample_bynode=None,\n",
       "             colsample_bytree=0.9365927802490076, early_stopping_rounds=None,\n",
       "             enable_categorical=False, eval_metric=None, feature_types=None,\n",
       "             gamma=0.16649306864440108, gpu_id=None, grow_policy=None,\n",
       "             importance_type=None, interaction_constraints=None,\n",
       "             learning_rate=0.03764234987808425, max_bin=None,\n",
       "             max_cat_threshold=None, max_cat_to_onehot=None,\n",
       "             max_delta_step=None, max_depth=9, max_leaves=None,\n",
       "             min_child_weight=1, missing=nan, monotone_constraints=None,\n",
       "             n_estimators=715, n_jobs=None, num_parallel_tree=None,\n",
       "             predictor=None, random_state=342, ...)"
      ]
     },
     "execution_count": 28,
     "metadata": {},
     "output_type": "execute_result"
    }
   ],
   "source": [
    "import xgboost as xgb\n",
    "xgb_params = {'tree_method': 'gpu_hist','objective': 'reg:squarederror',\n",
    "              'max_depth': 9, 'learning_rate': 0.03764234987808425, 'n_estimators': 715, 'min_child_weight': 1,\n",
    "              'gamma': 0.16649306864440108,'subsample': 0.97499514250235, 'colsample_bytree': 0.9365927802490076,\n",
    "              'reg_alpha': 0.2291206375618084, 'reg_lambda': 0.06647350170916537, 'random_state': 342}\n",
    "xgb_reg = xgb.XGBRegressor(**xgb_params)\n",
    "xgb_reg.fit(x_train_prepared,y_train_dum_null)"
   ]
  },
  {
   "cell_type": "code",
   "execution_count": 31,
   "id": "dfc46d13-e0b0-4d2d-892c-a2642ad1ceda",
   "metadata": {
    "tags": []
   },
   "outputs": [
    {
     "name": "stdout",
     "output_type": "stream",
     "text": [
      "xgboost scores:  [-20.28038549 -19.55722159 -19.26213493 -18.67232363 -22.45961952\n",
      " -19.08958108] mean -19.88687770602445\n"
     ]
    }
   ],
   "source": [
    "from sklearn.model_selection import cross_val_score\n",
    "scores = cross_val_score(xgb_reg, x_train_prepared, y_train_dum_null, scoring='neg_mean_absolute_error', cv = 6)\n",
    "print('xgboost scores: ',scores, 'mean', np.mean(scores))"
   ]
  },
  {
   "cell_type": "markdown",
   "id": "b7e043e6-01e3-4b7f-b72f-7a27742f758d",
   "metadata": {},
   "source": [
    "### b. Trying Voting Classifier"
   ]
  },
  {
   "cell_type": "code",
   "execution_count": 41,
   "id": "8bd31833-a148-4580-939f-42c609c07008",
   "metadata": {},
   "outputs": [
    {
     "data": {
      "text/html": [
       "<style>#sk-container-id-4 {color: black;}#sk-container-id-4 pre{padding: 0;}#sk-container-id-4 div.sk-toggleable {background-color: white;}#sk-container-id-4 label.sk-toggleable__label {cursor: pointer;display: block;width: 100%;margin-bottom: 0;padding: 0.3em;box-sizing: border-box;text-align: center;}#sk-container-id-4 label.sk-toggleable__label-arrow:before {content: \"▸\";float: left;margin-right: 0.25em;color: #696969;}#sk-container-id-4 label.sk-toggleable__label-arrow:hover:before {color: black;}#sk-container-id-4 div.sk-estimator:hover label.sk-toggleable__label-arrow:before {color: black;}#sk-container-id-4 div.sk-toggleable__content {max-height: 0;max-width: 0;overflow: hidden;text-align: left;background-color: #f0f8ff;}#sk-container-id-4 div.sk-toggleable__content pre {margin: 0.2em;color: black;border-radius: 0.25em;background-color: #f0f8ff;}#sk-container-id-4 input.sk-toggleable__control:checked~div.sk-toggleable__content {max-height: 200px;max-width: 100%;overflow: auto;}#sk-container-id-4 input.sk-toggleable__control:checked~label.sk-toggleable__label-arrow:before {content: \"▾\";}#sk-container-id-4 div.sk-estimator input.sk-toggleable__control:checked~label.sk-toggleable__label {background-color: #d4ebff;}#sk-container-id-4 div.sk-label input.sk-toggleable__control:checked~label.sk-toggleable__label {background-color: #d4ebff;}#sk-container-id-4 input.sk-hidden--visually {border: 0;clip: rect(1px 1px 1px 1px);clip: rect(1px, 1px, 1px, 1px);height: 1px;margin: -1px;overflow: hidden;padding: 0;position: absolute;width: 1px;}#sk-container-id-4 div.sk-estimator {font-family: monospace;background-color: #f0f8ff;border: 1px dotted black;border-radius: 0.25em;box-sizing: border-box;margin-bottom: 0.5em;}#sk-container-id-4 div.sk-estimator:hover {background-color: #d4ebff;}#sk-container-id-4 div.sk-parallel-item::after {content: \"\";width: 100%;border-bottom: 1px solid gray;flex-grow: 1;}#sk-container-id-4 div.sk-label:hover label.sk-toggleable__label {background-color: #d4ebff;}#sk-container-id-4 div.sk-serial::before {content: \"\";position: absolute;border-left: 1px solid gray;box-sizing: border-box;top: 0;bottom: 0;left: 50%;z-index: 0;}#sk-container-id-4 div.sk-serial {display: flex;flex-direction: column;align-items: center;background-color: white;padding-right: 0.2em;padding-left: 0.2em;position: relative;}#sk-container-id-4 div.sk-item {position: relative;z-index: 1;}#sk-container-id-4 div.sk-parallel {display: flex;align-items: stretch;justify-content: center;background-color: white;position: relative;}#sk-container-id-4 div.sk-item::before, #sk-container-id-4 div.sk-parallel-item::before {content: \"\";position: absolute;border-left: 1px solid gray;box-sizing: border-box;top: 0;bottom: 0;left: 50%;z-index: -1;}#sk-container-id-4 div.sk-parallel-item {display: flex;flex-direction: column;z-index: 1;position: relative;background-color: white;}#sk-container-id-4 div.sk-parallel-item:first-child::after {align-self: flex-end;width: 50%;}#sk-container-id-4 div.sk-parallel-item:last-child::after {align-self: flex-start;width: 50%;}#sk-container-id-4 div.sk-parallel-item:only-child::after {width: 0;}#sk-container-id-4 div.sk-dashed-wrapped {border: 1px dashed gray;margin: 0 0.4em 0.5em 0.4em;box-sizing: border-box;padding-bottom: 0.4em;background-color: white;}#sk-container-id-4 div.sk-label label {font-family: monospace;font-weight: bold;display: inline-block;line-height: 1.2em;}#sk-container-id-4 div.sk-label-container {text-align: center;}#sk-container-id-4 div.sk-container {/* jupyter's `normalize.less` sets `[hidden] { display: none; }` but bootstrap.min.css set `[hidden] { display: none !important; }` so we also need the `!important` here to be able to override the default hidden behavior on the sphinx rendered scikit-learn.org. See: https://github.com/scikit-learn/scikit-learn/issues/21755 */display: inline-block !important;position: relative;}#sk-container-id-4 div.sk-text-repr-fallback {display: none;}</style><div id=\"sk-container-id-4\" class=\"sk-top-container\"><div class=\"sk-text-repr-fallback\"><pre>VotingRegressor(estimators=[(&#x27;SVR&#x27;,\n",
       "                             Pipeline(steps=[(&#x27;transform&#x27;,\n",
       "                                              Pipeline(steps=[(&#x27;imputer&#x27;,\n",
       "                                                               SimpleImputer(strategy=&#x27;median&#x27;)),\n",
       "                                                              (&#x27;min_max_scaler&#x27;,\n",
       "                                                               MinMaxScaler())])),\n",
       "                                             (&#x27;model&#x27;,\n",
       "                                              SVR(C=120, gamma=0.1))])),\n",
       "                            (&#x27;xgb&#x27;,\n",
       "                             Pipeline(steps=[(&#x27;transform&#x27;,\n",
       "                                              Pipeline(steps=[(&#x27;imputer&#x27;,\n",
       "                                                               SimpleImputer(strategy=&#x27;median&#x27;)),\n",
       "                                                              (&#x27;std_scaler&#x27;,\n",
       "                                                               StandardScaler())])),\n",
       "                                             (&#x27;model&#x27;,\n",
       "                                              XGBRegressor(...\n",
       "                                                           grow_policy=None,\n",
       "                                                           importance_type=None,\n",
       "                                                           interaction_constraints=None,\n",
       "                                                           learning_rate=0.03764234987808425,\n",
       "                                                           max_bin=None,\n",
       "                                                           max_cat_threshold=None,\n",
       "                                                           max_cat_to_onehot=None,\n",
       "                                                           max_delta_step=None,\n",
       "                                                           max_depth=9,\n",
       "                                                           max_leaves=None,\n",
       "                                                           min_child_weight=1,\n",
       "                                                           missing=nan,\n",
       "                                                           monotone_constraints=None,\n",
       "                                                           n_estimators=715,\n",
       "                                                           n_jobs=None,\n",
       "                                                           num_parallel_tree=None,\n",
       "                                                           predictor=None,\n",
       "                                                           random_state=342, ...))]))])</pre><b>In a Jupyter environment, please rerun this cell to show the HTML representation or trust the notebook. <br />On GitHub, the HTML representation is unable to render, please try loading this page with nbviewer.org.</b></div><div class=\"sk-container\" hidden><div class=\"sk-item sk-dashed-wrapped\"><div class=\"sk-label-container\"><div class=\"sk-label sk-toggleable\"><input class=\"sk-toggleable__control sk-hidden--visually\" id=\"sk-estimator-id-28\" type=\"checkbox\" ><label for=\"sk-estimator-id-28\" class=\"sk-toggleable__label sk-toggleable__label-arrow\">VotingRegressor</label><div class=\"sk-toggleable__content\"><pre>VotingRegressor(estimators=[(&#x27;SVR&#x27;,\n",
       "                             Pipeline(steps=[(&#x27;transform&#x27;,\n",
       "                                              Pipeline(steps=[(&#x27;imputer&#x27;,\n",
       "                                                               SimpleImputer(strategy=&#x27;median&#x27;)),\n",
       "                                                              (&#x27;min_max_scaler&#x27;,\n",
       "                                                               MinMaxScaler())])),\n",
       "                                             (&#x27;model&#x27;,\n",
       "                                              SVR(C=120, gamma=0.1))])),\n",
       "                            (&#x27;xgb&#x27;,\n",
       "                             Pipeline(steps=[(&#x27;transform&#x27;,\n",
       "                                              Pipeline(steps=[(&#x27;imputer&#x27;,\n",
       "                                                               SimpleImputer(strategy=&#x27;median&#x27;)),\n",
       "                                                              (&#x27;std_scaler&#x27;,\n",
       "                                                               StandardScaler())])),\n",
       "                                             (&#x27;model&#x27;,\n",
       "                                              XGBRegressor(...\n",
       "                                                           grow_policy=None,\n",
       "                                                           importance_type=None,\n",
       "                                                           interaction_constraints=None,\n",
       "                                                           learning_rate=0.03764234987808425,\n",
       "                                                           max_bin=None,\n",
       "                                                           max_cat_threshold=None,\n",
       "                                                           max_cat_to_onehot=None,\n",
       "                                                           max_delta_step=None,\n",
       "                                                           max_depth=9,\n",
       "                                                           max_leaves=None,\n",
       "                                                           min_child_weight=1,\n",
       "                                                           missing=nan,\n",
       "                                                           monotone_constraints=None,\n",
       "                                                           n_estimators=715,\n",
       "                                                           n_jobs=None,\n",
       "                                                           num_parallel_tree=None,\n",
       "                                                           predictor=None,\n",
       "                                                           random_state=342, ...))]))])</pre></div></div></div><div class=\"sk-parallel\"><div class=\"sk-parallel-item\"><div class=\"sk-item\"><div class=\"sk-label-container\"><div class=\"sk-label sk-toggleable\"><label>SVR</label></div></div><div class=\"sk-serial\"><div class=\"sk-item\"><div class=\"sk-serial\"><div class=\"sk-item\"><div class=\"sk-label-container\"><div class=\"sk-label sk-toggleable\"><input class=\"sk-toggleable__control sk-hidden--visually\" id=\"sk-estimator-id-29\" type=\"checkbox\" ><label for=\"sk-estimator-id-29\" class=\"sk-toggleable__label sk-toggleable__label-arrow\">transform: Pipeline</label><div class=\"sk-toggleable__content\"><pre>Pipeline(steps=[(&#x27;imputer&#x27;, SimpleImputer(strategy=&#x27;median&#x27;)),\n",
       "                (&#x27;min_max_scaler&#x27;, MinMaxScaler())])</pre></div></div></div><div class=\"sk-serial\"><div class=\"sk-item\"><div class=\"sk-estimator sk-toggleable\"><input class=\"sk-toggleable__control sk-hidden--visually\" id=\"sk-estimator-id-30\" type=\"checkbox\" ><label for=\"sk-estimator-id-30\" class=\"sk-toggleable__label sk-toggleable__label-arrow\">SimpleImputer</label><div class=\"sk-toggleable__content\"><pre>SimpleImputer(strategy=&#x27;median&#x27;)</pre></div></div></div><div class=\"sk-item\"><div class=\"sk-estimator sk-toggleable\"><input class=\"sk-toggleable__control sk-hidden--visually\" id=\"sk-estimator-id-31\" type=\"checkbox\" ><label for=\"sk-estimator-id-31\" class=\"sk-toggleable__label sk-toggleable__label-arrow\">MinMaxScaler</label><div class=\"sk-toggleable__content\"><pre>MinMaxScaler()</pre></div></div></div></div></div><div class=\"sk-item\"><div class=\"sk-estimator sk-toggleable\"><input class=\"sk-toggleable__control sk-hidden--visually\" id=\"sk-estimator-id-32\" type=\"checkbox\" ><label for=\"sk-estimator-id-32\" class=\"sk-toggleable__label sk-toggleable__label-arrow\">SVR</label><div class=\"sk-toggleable__content\"><pre>SVR(C=120, gamma=0.1)</pre></div></div></div></div></div></div></div></div><div class=\"sk-parallel-item\"><div class=\"sk-item\"><div class=\"sk-label-container\"><div class=\"sk-label sk-toggleable\"><label>xgb</label></div></div><div class=\"sk-serial\"><div class=\"sk-item\"><div class=\"sk-serial\"><div class=\"sk-item\"><div class=\"sk-label-container\"><div class=\"sk-label sk-toggleable\"><input class=\"sk-toggleable__control sk-hidden--visually\" id=\"sk-estimator-id-33\" type=\"checkbox\" ><label for=\"sk-estimator-id-33\" class=\"sk-toggleable__label sk-toggleable__label-arrow\">transform: Pipeline</label><div class=\"sk-toggleable__content\"><pre>Pipeline(steps=[(&#x27;imputer&#x27;, SimpleImputer(strategy=&#x27;median&#x27;)),\n",
       "                (&#x27;std_scaler&#x27;, StandardScaler())])</pre></div></div></div><div class=\"sk-serial\"><div class=\"sk-item\"><div class=\"sk-estimator sk-toggleable\"><input class=\"sk-toggleable__control sk-hidden--visually\" id=\"sk-estimator-id-34\" type=\"checkbox\" ><label for=\"sk-estimator-id-34\" class=\"sk-toggleable__label sk-toggleable__label-arrow\">SimpleImputer</label><div class=\"sk-toggleable__content\"><pre>SimpleImputer(strategy=&#x27;median&#x27;)</pre></div></div></div><div class=\"sk-item\"><div class=\"sk-estimator sk-toggleable\"><input class=\"sk-toggleable__control sk-hidden--visually\" id=\"sk-estimator-id-35\" type=\"checkbox\" ><label for=\"sk-estimator-id-35\" class=\"sk-toggleable__label sk-toggleable__label-arrow\">StandardScaler</label><div class=\"sk-toggleable__content\"><pre>StandardScaler()</pre></div></div></div></div></div><div class=\"sk-item\"><div class=\"sk-estimator sk-toggleable\"><input class=\"sk-toggleable__control sk-hidden--visually\" id=\"sk-estimator-id-36\" type=\"checkbox\" ><label for=\"sk-estimator-id-36\" class=\"sk-toggleable__label sk-toggleable__label-arrow\">XGBRegressor</label><div class=\"sk-toggleable__content\"><pre>XGBRegressor(base_score=None, booster=None, callbacks=None,\n",
       "             colsample_bylevel=None, colsample_bynode=None,\n",
       "             colsample_bytree=0.9365927802490076, early_stopping_rounds=None,\n",
       "             enable_categorical=False, eval_metric=None, feature_types=None,\n",
       "             gamma=0.16649306864440108, gpu_id=None, grow_policy=None,\n",
       "             importance_type=None, interaction_constraints=None,\n",
       "             learning_rate=0.03764234987808425, max_bin=None,\n",
       "             max_cat_threshold=None, max_cat_to_onehot=None,\n",
       "             max_delta_step=None, max_depth=9, max_leaves=None,\n",
       "             min_child_weight=1, missing=nan, monotone_constraints=None,\n",
       "             n_estimators=715, n_jobs=None, num_parallel_tree=None,\n",
       "             predictor=None, random_state=342, ...)</pre></div></div></div></div></div></div></div></div></div></div></div></div>"
      ],
      "text/plain": [
       "VotingRegressor(estimators=[('SVR',\n",
       "                             Pipeline(steps=[('transform',\n",
       "                                              Pipeline(steps=[('imputer',\n",
       "                                                               SimpleImputer(strategy='median')),\n",
       "                                                              ('min_max_scaler',\n",
       "                                                               MinMaxScaler())])),\n",
       "                                             ('model',\n",
       "                                              SVR(C=120, gamma=0.1))])),\n",
       "                            ('xgb',\n",
       "                             Pipeline(steps=[('transform',\n",
       "                                              Pipeline(steps=[('imputer',\n",
       "                                                               SimpleImputer(strategy='median')),\n",
       "                                                              ('std_scaler',\n",
       "                                                               StandardScaler())])),\n",
       "                                             ('model',\n",
       "                                              XGBRegressor(...\n",
       "                                                           grow_policy=None,\n",
       "                                                           importance_type=None,\n",
       "                                                           interaction_constraints=None,\n",
       "                                                           learning_rate=0.03764234987808425,\n",
       "                                                           max_bin=None,\n",
       "                                                           max_cat_threshold=None,\n",
       "                                                           max_cat_to_onehot=None,\n",
       "                                                           max_delta_step=None,\n",
       "                                                           max_depth=9,\n",
       "                                                           max_leaves=None,\n",
       "                                                           min_child_weight=1,\n",
       "                                                           missing=nan,\n",
       "                                                           monotone_constraints=None,\n",
       "                                                           n_estimators=715,\n",
       "                                                           n_jobs=None,\n",
       "                                                           num_parallel_tree=None,\n",
       "                                                           predictor=None,\n",
       "                                                           random_state=342, ...))]))])"
      ]
     },
     "execution_count": 41,
     "metadata": {},
     "output_type": "execute_result"
    }
   ],
   "source": [
    "from sklearn.ensemble import VotingRegressor\n",
    "\n",
    "svr_pipeline = Pipeline([(\"transform\", svm_pipeline), (\"model\", svm_reg)])\n",
    "rf_pipeline = Pipeline([(\"transform\", reg_pipeline), (\"model\", forest_reg)])\n",
    "lasso_pipeline = Pipeline([(\"transform\", reg_pipeline), (\"model\", lasso_reg)])\n",
    "xgb_pipeline = Pipeline([(\"transform\", reg_pipeline), (\"model\", xgb_reg)])\n",
    "\n",
    "def median_voting(estimators, X):\n",
    "    # Get the predicted probabilities or scores from each estimator\n",
    "    predictions = np.asarray([est.predict_proba(X) for est in estimators])\n",
    "    # Return the median along axis 1\n",
    "    return np.median(predictions, axis=0)\n",
    "\n",
    "voting_reg = VotingRegressor(\n",
    "    estimators=[\n",
    "        # ('lasso', lasso_pipeline),\n",
    "        ('SVR', svr_pipeline),\n",
    "        # ('RF', rf_pipeline),\n",
    "        ('xgb', xgb_pipeline)\n",
    "    ])\n",
    "\n",
    "# voting_reg.voting = \"soft\"\n",
    "voting_reg.voting = median_voting\n",
    "voting_reg.named_estimators[\"SVR\"].probability = True\n",
    "voting_reg.fit(x_train_dum_null,y_train_dum_null)"
   ]
  },
  {
   "cell_type": "code",
   "execution_count": 31,
   "id": "17c28789-ccf5-4ee9-9290-29799aaf52a8",
   "metadata": {
    "tags": []
   },
   "outputs": [
    {
     "name": "stdout",
     "output_type": "stream",
     "text": [
      "voting_reg scores:  [-19.55200822 -17.62318805 -18.70024823 -16.1127627  -20.23876947\n",
      " -18.23102448] mean -18.409666857697694\n"
     ]
    }
   ],
   "source": [
    "from sklearn.model_selection import cross_val_score\n",
    "scores = cross_val_score(voting_reg, x_train_dum_null, y_train_dum_null, scoring='neg_mean_absolute_error', cv = 6)\n",
    "print('voting_reg scores: ',scores, 'mean', np.mean(scores))"
   ]
  },
  {
   "cell_type": "code",
   "execution_count": 42,
   "id": "a9a2b5da-89ad-415c-9071-1cc74f8bd2e0",
   "metadata": {
    "tags": []
   },
   "outputs": [
    {
     "name": "stdout",
     "output_type": "stream",
     "text": [
      "voting_reg scores:  [-19.05319858 -18.18076667 -18.62879389 -16.94490517 -21.00690735\n",
      " -18.14808168] mean -18.660442223186788\n"
     ]
    }
   ],
   "source": [
    "from sklearn.model_selection import cross_val_score\n",
    "scores = cross_val_score(voting_reg, x_train_dum_null, y_train_dum_null, scoring='neg_mean_absolute_error', cv = 6)\n",
    "print('voting_reg scores: ',scores, 'mean', np.mean(scores))"
   ]
  },
  {
   "cell_type": "markdown",
   "id": "ee3c4605-3669-4f7e-ac5b-0a7cc3ca5a8e",
   "metadata": {
    "tags": []
   },
   "source": [
    "## 9. Evaluate the System on the test set"
   ]
  },
  {
   "cell_type": "code",
   "execution_count": 32,
   "id": "d1300fa4-fe16-45e2-87ed-1517517e8aa7",
   "metadata": {
    "tags": []
   },
   "outputs": [],
   "source": [
    "x_test_dum = strat_test_set_dum_null.drop(\"avg_salary\",axis=1)\n",
    "y_test_dum = strat_test_set_dum_null['avg_salary'].copy()"
   ]
  },
  {
   "cell_type": "code",
   "execution_count": 33,
   "id": "cfe1dbd6-8c53-4c6a-ba84-1bf70cd8043d",
   "metadata": {
    "tags": []
   },
   "outputs": [],
   "source": [
    "x_test_prepared = reg_pipeline.transform(x_test_dum)\n",
    "x_test_svm_prepared = svm_pipeline.transform(x_test_dum)"
   ]
  },
  {
   "cell_type": "code",
   "execution_count": 45,
   "id": "ba87e7c4-712d-4226-ac74-7c253276a9ea",
   "metadata": {
    "tags": []
   },
   "outputs": [],
   "source": [
    "pred_lasso_reg = lasso_reg.predict(x_test_prepared)\n",
    "pred_tree_reg = tree_reg.predict(x_test_prepared)\n",
    "pred_forest_reg = forest_reg.predict(x_test_prepared)\n",
    "pred_svm_reg = svm_reg.predict(x_test_svm_prepared)\n",
    "pred_xgboost_reg= xgb_reg.predict(x_test_prepared)\n",
    "pred_voting_reg = voting_reg.predict(x_test_dum)"
   ]
  },
  {
   "cell_type": "code",
   "execution_count": 46,
   "id": "7c6505a2-88b5-45ce-bc1f-9bdcf1fe7380",
   "metadata": {
    "tags": []
   },
   "outputs": [
    {
     "name": "stdout",
     "output_type": "stream",
     "text": [
      "tree :  21.903688524590162\n",
      "lasso:  20.05954023950747\n",
      "forest:  19.98323497355038\n",
      "svm :  18.0470239399755\n",
      "xgboost : 19.282901466869916\n",
      "voting : 18.295586045440814\n"
     ]
    }
   ],
   "source": [
    "from sklearn.metrics import mean_absolute_error\n",
    "print('tree : ', mean_absolute_error(y_test_dum,pred_tree_reg))\n",
    "print('lasso: ', mean_absolute_error(y_test_dum,pred_lasso_reg))\n",
    "print('forest: ', mean_absolute_error(y_test_dum,pred_forest_reg))\n",
    "print('svm : ', mean_absolute_error(y_test_dum,pred_svm_reg))\n",
    "print('xgboost :', mean_absolute_error(y_test_dum, pred_xgboost_reg))\n",
    "print('voting :', mean_absolute_error(y_test_dum,pred_voting_reg))"
   ]
  },
  {
   "cell_type": "markdown",
   "id": "988b92ec-07a9-47b5-8603-658533bcc241",
   "metadata": {},
   "source": [
    "### The voting classifier with svm and xgboost is better than all 4 models but still svm is the best model"
   ]
  },
  {
   "cell_type": "markdown",
   "id": "9bbd509d-6c7d-4f23-ba66-fc2465dc41dc",
   "metadata": {
    "tags": []
   },
   "source": [
    "## Looks Like SVM is the best model followed by the voting classifier, xgboost, RandomForest and Lasso Regression"
   ]
  },
  {
   "cell_type": "markdown",
   "id": "22ac40f1-2405-408d-b062-594234f9d8dd",
   "metadata": {
    "tags": []
   },
   "source": [
    "## 10. import the model"
   ]
  },
  {
   "cell_type": "code",
   "execution_count": 77,
   "id": "1f6b4cc8-b616-4ecf-875b-c4995e50ad26",
   "metadata": {},
   "outputs": [],
   "source": [
    "import pickle\n",
    "pickl = {'svm_model': svm_reg}\n",
    "with open(os.path.join(LOG_PATH, LOG_MODEL_PKL), \"wb\") as output_file:\n",
    "    pickle.dump(pickl, output_file)\n"
   ]
  },
  {
   "cell_type": "code",
   "execution_count": 85,
   "id": "5d3794b5-362a-44ab-9f44-20f16fbf601c",
   "metadata": {},
   "outputs": [],
   "source": [
    "with open(os.path.join(LOG_PATH, LOG_MODEL_PKL), 'rb') as pickled:\n",
    "    data = pickle.load(pickled)\n",
    "    model = data['svm_model']"
   ]
  },
  {
   "cell_type": "code",
   "execution_count": 92,
   "id": "678d54ec-05ba-4785-8378-313e54a4d81a",
   "metadata": {
    "tags": []
   },
   "outputs": [
    {
     "data": {
      "text/plain": [
       "1068"
      ]
     },
     "execution_count": 92,
     "metadata": {},
     "output_type": "execute_result"
    }
   ],
   "source": [
    "len(x_test_svm_prepared[0])"
   ]
  },
  {
   "cell_type": "code",
   "execution_count": 96,
   "id": "1291fb0b-e950-4e8e-bfaf-020c72b4f2ce",
   "metadata": {
    "tags": []
   },
   "outputs": [
    {
     "data": {
      "text/plain": [
       "array([128.60479243,  92.72400118,  69.06440987])"
      ]
     },
     "execution_count": 96,
     "metadata": {},
     "output_type": "execute_result"
    }
   ],
   "source": [
    "model.predict(x_test_svm_prepared[0:3])"
   ]
  },
  {
   "cell_type": "code",
   "execution_count": null,
   "id": "d2019744-f30f-4f85-8309-bdfd56b15f67",
   "metadata": {},
   "outputs": [],
   "source": []
  }
 ],
 "metadata": {
  "kernelspec": {
   "display_name": "Python 3 (ipykernel)",
   "language": "python",
   "name": "python3"
  },
  "language_info": {
   "codemirror_mode": {
    "name": "ipython",
    "version": 3
   },
   "file_extension": ".py",
   "mimetype": "text/x-python",
   "name": "python",
   "nbconvert_exporter": "python",
   "pygments_lexer": "ipython3",
   "version": "3.11.4"
  }
 },
 "nbformat": 4,
 "nbformat_minor": 5
}
